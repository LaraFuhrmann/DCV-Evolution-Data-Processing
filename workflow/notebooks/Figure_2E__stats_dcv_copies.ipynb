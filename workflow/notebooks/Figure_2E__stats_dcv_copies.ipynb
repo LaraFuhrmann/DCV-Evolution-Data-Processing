{
 "cells": [
  {
   "cell_type": "code",
<<<<<<< HEAD
   "execution_count": 53,
=======
   "execution_count": 55,
>>>>>>> main
   "id": "e006fff4",
   "metadata": {},
   "outputs": [],
   "source": [
    "import pandas as pd\n",
    "import numpy as np\n",
    "from scipy.stats import normaltest\n",
    "import scipy.stats as stats"
   ]
  },
  {
   "cell_type": "code",
<<<<<<< HEAD
   "execution_count": 7,
=======
   "execution_count": 56,
>>>>>>> main
   "id": "a62b36be",
   "metadata": {},
   "outputs": [],
   "source": [
    "df = pd.read_csv(\"../../resources/measurements/20220922-RNAcopies_12hpi_alldata.csv\", sep=\";\")"
   ]
  },
  {
   "cell_type": "code",
<<<<<<< HEAD
   "execution_count": 8,
=======
   "execution_count": 57,
>>>>>>> main
   "id": "886d5741",
   "metadata": {},
   "outputs": [
    {
     "data": {
      "text/html": [
       "<div>\n",
       "<style scoped>\n",
       "    .dataframe tbody tr th:only-of-type {\n",
       "        vertical-align: middle;\n",
       "    }\n",
       "\n",
       "    .dataframe tbody tr th {\n",
       "        vertical-align: top;\n",
       "    }\n",
       "\n",
       "    .dataframe thead th {\n",
       "        text-align: right;\n",
       "    }\n",
       "</style>\n",
       "<table border=\"1\" class=\"dataframe\">\n",
       "  <thead>\n",
       "    <tr style=\"text-align: right;\">\n",
       "      <th></th>\n",
       "      <th>Genotype</th>\n",
       "      <th>Technical replicate</th>\n",
       "      <th>RNA copies,</th>\n",
       "    </tr>\n",
       "  </thead>\n",
       "  <tbody>\n",
       "    <tr>\n",
       "      <th>0</th>\n",
       "      <td>P0</td>\n",
       "      <td>1</td>\n",
       "      <td>181542,5123</td>\n",
       "    </tr>\n",
       "    <tr>\n",
       "      <th>1</th>\n",
       "      <td>P0</td>\n",
       "      <td>2</td>\n",
       "      <td>680996,6917</td>\n",
       "    </tr>\n",
       "    <tr>\n",
       "      <th>2</th>\n",
       "      <td>P0</td>\n",
       "      <td>3</td>\n",
       "      <td>145159,3061</td>\n",
       "    </tr>\n",
       "    <tr>\n",
       "      <th>3</th>\n",
       "      <td>KOa1</td>\n",
       "      <td>1</td>\n",
       "      <td>101997,5811</td>\n",
       "    </tr>\n",
       "    <tr>\n",
       "      <th>4</th>\n",
       "      <td>KOa1</td>\n",
       "      <td>2</td>\n",
       "      <td>22399,6319</td>\n",
       "    </tr>\n",
       "    <tr>\n",
       "      <th>...</th>\n",
       "      <td>...</td>\n",
       "      <td>...</td>\n",
       "      <td>...</td>\n",
       "    </tr>\n",
       "    <tr>\n",
       "      <th>88</th>\n",
       "      <td>OEd10</td>\n",
       "      <td>2</td>\n",
       "      <td>24760299,23</td>\n",
       "    </tr>\n",
       "    <tr>\n",
       "      <th>89</th>\n",
       "      <td>OEd10</td>\n",
       "      <td>3</td>\n",
       "      <td>18651775,34</td>\n",
       "    </tr>\n",
       "    <tr>\n",
       "      <th>90</th>\n",
       "      <td>OEe10</td>\n",
       "      <td>1</td>\n",
       "      <td>20095461,99</td>\n",
       "    </tr>\n",
       "    <tr>\n",
       "      <th>91</th>\n",
       "      <td>OEe10</td>\n",
       "      <td>2</td>\n",
       "      <td>17571867,53</td>\n",
       "    </tr>\n",
       "    <tr>\n",
       "      <th>92</th>\n",
       "      <td>OEe10</td>\n",
       "      <td>3</td>\n",
       "      <td>16228619,58</td>\n",
       "    </tr>\n",
       "  </tbody>\n",
       "</table>\n",
       "<p>93 rows × 3 columns</p>\n",
       "</div>"
      ],
      "text/plain": [
       "   Genotype  Technical replicate  RNA copies,\n",
       "0        P0                    1  181542,5123\n",
       "1        P0                    2  680996,6917\n",
       "2        P0                    3  145159,3061\n",
       "3      KOa1                    1  101997,5811\n",
       "4      KOa1                    2   22399,6319\n",
       "..      ...                  ...          ...\n",
       "88    OEd10                    2  24760299,23\n",
       "89    OEd10                    3  18651775,34\n",
       "90    OEe10                    1  20095461,99\n",
       "91    OEe10                    2  17571867,53\n",
       "92    OEe10                    3  16228619,58\n",
       "\n",
       "[93 rows x 3 columns]"
      ]
     },
<<<<<<< HEAD
     "execution_count": 8,
=======
     "execution_count": 57,
>>>>>>> main
     "metadata": {},
     "output_type": "execute_result"
    }
   ],
   "source": [
    "df"
   ]
  },
  {
   "cell_type": "code",
<<<<<<< HEAD
   "execution_count": 43,
=======
   "execution_count": 58,
>>>>>>> main
   "id": "4dadc8d4",
   "metadata": {},
   "outputs": [],
   "source": [
    "def f_passage(row):\n",
    "    if row[\"Genotype\"]==\"P0\":\n",
    "        return 0\n",
    "    if row[\"Genotype\"][-1]==\"1\":\n",
    "        return 1\n",
    "    if (row[\"Genotype\"][-1]==\"0\") & (row[\"Genotype\"][-2]==\"1\"):\n",
    "        return 10\n",
    "\n",
    "def f_genotype(row):\n",
    "    if row[\"Genotype\"]==\"P0\":\n",
    "        return \"P0\"\n",
    "    if row[\"Genotype\"][0]==\"O\":\n",
    "        return \"OE\"\n",
    "    if row[\"Genotype\"][0]==\"K\":\n",
    "        return \"KO\"  \n",
    "    if row[\"Genotype\"][0]==\"W\":\n",
    "        return \"WT\" \n",
    "    \n",
    "def f_rna_copies(x):\n",
    "    if x == \",\":\n",
    "        return np.nan\n",
    "    else:\n",
    "        return float(x.replace(\",\", \".\"))\n",
    "    \n",
    "def f_replicate(row):\n",
    "    if row[\"Genotype\"]==\"P0\":\n",
    "        return \"a\"\n",
    "    else:\n",
<<<<<<< HEAD
    "        return row[\"Genotype\"][2]\n",
=======
    "        if row['genotype'] ==\"WT\":  \n",
    "            return row[\"Genotype\"][1]\n",
    "        else:\n",
    "            return row[\"Genotype\"][2]\n",
>>>>>>> main
    "    \n",
    "df[\"passage\"] = df.apply(f_passage, axis=1)\n",
    "df[\"genotype\"] = df.apply(f_genotype, axis=1)\n",
    "df[\"RNA_copies\"] = df[\"RNA copies,\"].apply(f_rna_copies)\n",
    "df[\"biological_replicate\"] = df.apply(f_replicate, axis=1)"
   ]
  },
  {
   "cell_type": "code",
<<<<<<< HEAD
   "execution_count": 44,
   "id": "115a7477",
   "metadata": {},
   "outputs": [
    {
     "data": {
      "text/html": [
       "<div>\n",
       "<style scoped>\n",
       "    .dataframe tbody tr th:only-of-type {\n",
       "        vertical-align: middle;\n",
       "    }\n",
       "\n",
       "    .dataframe tbody tr th {\n",
       "        vertical-align: top;\n",
       "    }\n",
       "\n",
       "    .dataframe thead th {\n",
       "        text-align: right;\n",
       "    }\n",
       "</style>\n",
       "<table border=\"1\" class=\"dataframe\">\n",
       "  <thead>\n",
       "    <tr style=\"text-align: right;\">\n",
       "      <th></th>\n",
       "      <th>Genotype</th>\n",
       "      <th>Technical replicate</th>\n",
       "      <th>RNA copies,</th>\n",
       "      <th>passage</th>\n",
       "      <th>genotype</th>\n",
       "      <th>RNA_copies</th>\n",
       "      <th>biological_replicate</th>\n",
       "    </tr>\n",
       "  </thead>\n",
       "  <tbody>\n",
       "    <tr>\n",
       "      <th>0</th>\n",
       "      <td>P0</td>\n",
       "      <td>1</td>\n",
       "      <td>181542,5123</td>\n",
       "      <td>0</td>\n",
       "      <td>P0</td>\n",
       "      <td>1.815425e+05</td>\n",
       "      <td>a</td>\n",
       "    </tr>\n",
       "    <tr>\n",
       "      <th>1</th>\n",
       "      <td>P0</td>\n",
       "      <td>2</td>\n",
       "      <td>680996,6917</td>\n",
       "      <td>0</td>\n",
       "      <td>P0</td>\n",
       "      <td>6.809967e+05</td>\n",
       "      <td>a</td>\n",
       "    </tr>\n",
       "    <tr>\n",
       "      <th>2</th>\n",
       "      <td>P0</td>\n",
       "      <td>3</td>\n",
       "      <td>145159,3061</td>\n",
       "      <td>0</td>\n",
       "      <td>P0</td>\n",
       "      <td>1.451593e+05</td>\n",
       "      <td>a</td>\n",
       "    </tr>\n",
       "    <tr>\n",
       "      <th>3</th>\n",
       "      <td>KOa1</td>\n",
       "      <td>1</td>\n",
       "      <td>101997,5811</td>\n",
       "      <td>1</td>\n",
       "      <td>KO</td>\n",
       "      <td>1.019976e+05</td>\n",
       "      <td>a</td>\n",
       "    </tr>\n",
       "    <tr>\n",
       "      <th>4</th>\n",
       "      <td>KOa1</td>\n",
       "      <td>2</td>\n",
       "      <td>22399,6319</td>\n",
       "      <td>1</td>\n",
       "      <td>KO</td>\n",
       "      <td>2.239963e+04</td>\n",
       "      <td>a</td>\n",
       "    </tr>\n",
       "    <tr>\n",
       "      <th>...</th>\n",
       "      <td>...</td>\n",
       "      <td>...</td>\n",
       "      <td>...</td>\n",
       "      <td>...</td>\n",
       "      <td>...</td>\n",
       "      <td>...</td>\n",
       "      <td>...</td>\n",
       "    </tr>\n",
       "    <tr>\n",
       "      <th>88</th>\n",
       "      <td>OEd10</td>\n",
       "      <td>2</td>\n",
       "      <td>24760299,23</td>\n",
       "      <td>10</td>\n",
       "      <td>OE</td>\n",
       "      <td>2.476030e+07</td>\n",
       "      <td>d</td>\n",
       "    </tr>\n",
       "    <tr>\n",
       "      <th>89</th>\n",
       "      <td>OEd10</td>\n",
       "      <td>3</td>\n",
       "      <td>18651775,34</td>\n",
       "      <td>10</td>\n",
       "      <td>OE</td>\n",
       "      <td>1.865178e+07</td>\n",
       "      <td>d</td>\n",
       "    </tr>\n",
       "    <tr>\n",
       "      <th>90</th>\n",
       "      <td>OEe10</td>\n",
       "      <td>1</td>\n",
       "      <td>20095461,99</td>\n",
       "      <td>10</td>\n",
       "      <td>OE</td>\n",
       "      <td>2.009546e+07</td>\n",
       "      <td>e</td>\n",
       "    </tr>\n",
       "    <tr>\n",
       "      <th>91</th>\n",
       "      <td>OEe10</td>\n",
       "      <td>2</td>\n",
       "      <td>17571867,53</td>\n",
       "      <td>10</td>\n",
       "      <td>OE</td>\n",
       "      <td>1.757187e+07</td>\n",
       "      <td>e</td>\n",
       "    </tr>\n",
       "    <tr>\n",
       "      <th>92</th>\n",
       "      <td>OEe10</td>\n",
       "      <td>3</td>\n",
       "      <td>16228619,58</td>\n",
       "      <td>10</td>\n",
       "      <td>OE</td>\n",
       "      <td>1.622862e+07</td>\n",
       "      <td>e</td>\n",
       "    </tr>\n",
       "  </tbody>\n",
       "</table>\n",
       "<p>93 rows × 7 columns</p>\n",
       "</div>"
      ],
      "text/plain": [
       "   Genotype  Technical replicate  RNA copies,  passage genotype    RNA_copies  \\\n",
       "0        P0                    1  181542,5123        0       P0  1.815425e+05   \n",
       "1        P0                    2  680996,6917        0       P0  6.809967e+05   \n",
       "2        P0                    3  145159,3061        0       P0  1.451593e+05   \n",
       "3      KOa1                    1  101997,5811        1       KO  1.019976e+05   \n",
       "4      KOa1                    2   22399,6319        1       KO  2.239963e+04   \n",
       "..      ...                  ...          ...      ...      ...           ...   \n",
       "88    OEd10                    2  24760299,23       10       OE  2.476030e+07   \n",
       "89    OEd10                    3  18651775,34       10       OE  1.865178e+07   \n",
       "90    OEe10                    1  20095461,99       10       OE  2.009546e+07   \n",
       "91    OEe10                    2  17571867,53       10       OE  1.757187e+07   \n",
       "92    OEe10                    3  16228619,58       10       OE  1.622862e+07   \n",
       "\n",
       "   biological_replicate  \n",
       "0                     a  \n",
       "1                     a  \n",
       "2                     a  \n",
       "3                     a  \n",
       "4                     a  \n",
       "..                  ...  \n",
       "88                    d  \n",
       "89                    d  \n",
       "90                    e  \n",
       "91                    e  \n",
       "92                    e  \n",
       "\n",
       "[93 rows x 7 columns]"
      ]
     },
     "execution_count": 44,
     "metadata": {},
     "output_type": "execute_result"
    }
   ],
   "source": [
    "df"
   ]
  },
  {
   "cell_type": "code",
   "execution_count": 46,
=======
   "execution_count": 39,
>>>>>>> main
   "id": "fc59185f",
   "metadata": {},
   "outputs": [
    {
     "data": {
      "text/html": [
       "<div>\n",
       "<style scoped>\n",
       "    .dataframe tbody tr th:only-of-type {\n",
       "        vertical-align: middle;\n",
       "    }\n",
       "\n",
       "    .dataframe tbody tr th {\n",
       "        vertical-align: top;\n",
       "    }\n",
       "\n",
       "    .dataframe thead th {\n",
       "        text-align: right;\n",
       "    }\n",
       "</style>\n",
       "<table border=\"1\" class=\"dataframe\">\n",
       "  <thead>\n",
       "    <tr style=\"text-align: right;\">\n",
       "      <th></th>\n",
       "      <th>passage</th>\n",
       "      <th>genotype</th>\n",
       "      <th>Technical replicate</th>\n",
       "      <th>RNA_copies</th>\n",
       "    </tr>\n",
       "  </thead>\n",
       "  <tbody>\n",
       "    <tr>\n",
       "      <th>0</th>\n",
       "      <td>0</td>\n",
       "      <td>P0</td>\n",
       "      <td>1</td>\n",
       "      <td>1.815425e+05</td>\n",
       "    </tr>\n",
       "    <tr>\n",
       "      <th>1</th>\n",
       "      <td>0</td>\n",
       "      <td>P0</td>\n",
       "      <td>2</td>\n",
       "      <td>6.809967e+05</td>\n",
       "    </tr>\n",
       "    <tr>\n",
       "      <th>2</th>\n",
       "      <td>0</td>\n",
       "      <td>P0</td>\n",
       "      <td>3</td>\n",
       "      <td>1.451593e+05</td>\n",
       "    </tr>\n",
       "    <tr>\n",
       "      <th>3</th>\n",
       "      <td>1</td>\n",
       "      <td>KO</td>\n",
       "      <td>1</td>\n",
       "      <td>7.814090e+06</td>\n",
       "    </tr>\n",
       "    <tr>\n",
       "      <th>4</th>\n",
       "      <td>1</td>\n",
       "      <td>KO</td>\n",
       "      <td>2</td>\n",
       "      <td>5.531892e+06</td>\n",
       "    </tr>\n",
       "  </tbody>\n",
       "</table>\n",
       "</div>"
      ],
      "text/plain": [
       "   passage genotype  Technical replicate    RNA_copies\n",
       "0        0       P0                    1  1.815425e+05\n",
       "1        0       P0                    2  6.809967e+05\n",
       "2        0       P0                    3  1.451593e+05\n",
       "3        1       KO                    1  7.814090e+06\n",
       "4        1       KO                    2  5.531892e+06"
      ]
     },
<<<<<<< HEAD
     "execution_count": 46,
=======
     "execution_count": 39,
>>>>>>> main
     "metadata": {},
     "output_type": "execute_result"
    }
   ],
   "source": [
    "df_pivot = pd.pivot_table(data=df, \n",
    "               values=\"RNA_copies\",\n",
    "               index=[\"passage\", \"genotype\", \"Technical replicate\"],\n",
    "               aggfunc='mean')\n",
    "\n",
    "df_pivot = df_pivot.reset_index()\n",
    "df_pivot.head(5)"
   ]
  },
  {
   "cell_type": "markdown",
   "id": "f8b14615",
   "metadata": {},
   "source": [
    "## compare parental stock to passage 10"
   ]
  },
  {
   "cell_type": "code",
<<<<<<< HEAD
   "execution_count": 54,
=======
   "execution_count": 40,
>>>>>>> main
   "id": "fe6b1087",
   "metadata": {},
   "outputs": [
    {
     "data": {
      "text/html": [
       "<div>\n",
       "<style scoped>\n",
       "    .dataframe tbody tr th:only-of-type {\n",
       "        vertical-align: middle;\n",
       "    }\n",
       "\n",
       "    .dataframe tbody tr th {\n",
       "        vertical-align: top;\n",
       "    }\n",
       "\n",
       "    .dataframe thead th {\n",
       "        text-align: right;\n",
       "    }\n",
       "</style>\n",
       "<table border=\"1\" class=\"dataframe\">\n",
       "  <thead>\n",
       "    <tr style=\"text-align: right;\">\n",
       "      <th></th>\n",
       "      <th>passage</th>\n",
       "      <th>genotype</th>\n",
       "      <th>Technical replicate</th>\n",
       "      <th>RNA_copies</th>\n",
       "    </tr>\n",
       "  </thead>\n",
       "  <tbody>\n",
       "    <tr>\n",
       "      <th>0</th>\n",
       "      <td>0</td>\n",
       "      <td>P0</td>\n",
       "      <td>1</td>\n",
       "      <td>1.815425e+05</td>\n",
       "    </tr>\n",
       "    <tr>\n",
       "      <th>1</th>\n",
       "      <td>0</td>\n",
       "      <td>P0</td>\n",
       "      <td>2</td>\n",
       "      <td>6.809967e+05</td>\n",
       "    </tr>\n",
       "    <tr>\n",
       "      <th>2</th>\n",
       "      <td>0</td>\n",
       "      <td>P0</td>\n",
       "      <td>3</td>\n",
       "      <td>1.451593e+05</td>\n",
       "    </tr>\n",
       "    <tr>\n",
       "      <th>12</th>\n",
       "      <td>10</td>\n",
       "      <td>KO</td>\n",
       "      <td>1</td>\n",
       "      <td>9.982468e+07</td>\n",
       "    </tr>\n",
       "    <tr>\n",
       "      <th>13</th>\n",
       "      <td>10</td>\n",
       "      <td>KO</td>\n",
       "      <td>2</td>\n",
       "      <td>8.069700e+07</td>\n",
       "    </tr>\n",
       "    <tr>\n",
       "      <th>14</th>\n",
       "      <td>10</td>\n",
       "      <td>KO</td>\n",
       "      <td>3</td>\n",
       "      <td>6.613233e+07</td>\n",
       "    </tr>\n",
       "    <tr>\n",
       "      <th>15</th>\n",
       "      <td>10</td>\n",
       "      <td>OE</td>\n",
       "      <td>1</td>\n",
       "      <td>2.321718e+07</td>\n",
       "    </tr>\n",
       "    <tr>\n",
       "      <th>16</th>\n",
       "      <td>10</td>\n",
       "      <td>OE</td>\n",
       "      <td>2</td>\n",
       "      <td>2.573808e+07</td>\n",
       "    </tr>\n",
       "    <tr>\n",
       "      <th>17</th>\n",
       "      <td>10</td>\n",
       "      <td>OE</td>\n",
       "      <td>3</td>\n",
       "      <td>2.277874e+07</td>\n",
       "    </tr>\n",
       "    <tr>\n",
       "      <th>18</th>\n",
       "      <td>10</td>\n",
       "      <td>WT</td>\n",
       "      <td>1</td>\n",
       "      <td>1.272939e+07</td>\n",
       "    </tr>\n",
       "    <tr>\n",
       "      <th>19</th>\n",
       "      <td>10</td>\n",
       "      <td>WT</td>\n",
       "      <td>2</td>\n",
       "      <td>9.424604e+06</td>\n",
       "    </tr>\n",
       "    <tr>\n",
       "      <th>20</th>\n",
       "      <td>10</td>\n",
       "      <td>WT</td>\n",
       "      <td>3</td>\n",
       "      <td>8.622602e+06</td>\n",
       "    </tr>\n",
       "  </tbody>\n",
       "</table>\n",
       "</div>"
      ],
      "text/plain": [
       "    passage genotype  Technical replicate    RNA_copies\n",
       "0         0       P0                    1  1.815425e+05\n",
       "1         0       P0                    2  6.809967e+05\n",
       "2         0       P0                    3  1.451593e+05\n",
       "12       10       KO                    1  9.982468e+07\n",
       "13       10       KO                    2  8.069700e+07\n",
       "14       10       KO                    3  6.613233e+07\n",
       "15       10       OE                    1  2.321718e+07\n",
       "16       10       OE                    2  2.573808e+07\n",
       "17       10       OE                    3  2.277874e+07\n",
       "18       10       WT                    1  1.272939e+07\n",
       "19       10       WT                    2  9.424604e+06\n",
       "20       10       WT                    3  8.622602e+06"
      ]
     },
<<<<<<< HEAD
     "execution_count": 54,
=======
     "execution_count": 40,
>>>>>>> main
     "metadata": {},
     "output_type": "execute_result"
    }
   ],
   "source": [
    "df_t = df_pivot[df_pivot[\"passage\"].isin([0,10])]\n",
    "df_t"
   ]
  },
  {
   "cell_type": "code",
<<<<<<< HEAD
   "execution_count": 51,
=======
   "execution_count": 41,
>>>>>>> main
   "id": "b29f1739",
   "metadata": {},
   "outputs": [
    {
     "name": "stdout",
     "output_type": "stream",
     "text": [
      "0.1401126293926721\n"
     ]
<<<<<<< HEAD
=======
    },
    {
     "name": "stderr",
     "output_type": "stream",
     "text": [
      "/Users/lfuhrmann/Library/Python/3.9/lib/python/site-packages/scipy/stats/stats.py:1541: UserWarning: kurtosistest only valid for n>=20 ... continuing anyway, n=12\n",
      "  warnings.warn(\"kurtosistest only valid for n>=20 ... continuing \"\n"
     ]
>>>>>>> main
    }
   ],
   "source": [
    "# test normalitiy --> H0: samples comes from normal distribution\n",
    "print(normaltest(df_t['RNA_copies']).pvalue)"
   ]
  },
  {
   "cell_type": "code",
<<<<<<< HEAD
   "execution_count": 57,
=======
   "execution_count": 42,
>>>>>>> main
   "id": "091663d1",
   "metadata": {},
   "outputs": [
    {
     "data": {
      "text/plain": [
       "0.008552188948606711"
      ]
     },
<<<<<<< HEAD
     "execution_count": 57,
=======
     "execution_count": 42,
>>>>>>> main
     "metadata": {},
     "output_type": "execute_result"
    }
   ],
   "source": [
    "# paired t-test between P0 and WT-P10\n",
    "\n",
    "stats.ttest_rel(df_t[df_t[\"genotype\"]==\"P0\"][\"RNA_copies\"],\n",
    "                df_t[df_t[\"genotype\"]==\"WT\"][\"RNA_copies\"],\n",
    "                alternative=\"less\").pvalue"
   ]
  },
  {
   "cell_type": "code",
<<<<<<< HEAD
   "execution_count": 58,
=======
   "execution_count": 43,
>>>>>>> main
   "id": "3bfdad0c",
   "metadata": {},
   "outputs": [
    {
     "data": {
      "text/plain": [
       "0.0005050718896247445"
      ]
     },
<<<<<<< HEAD
     "execution_count": 58,
=======
     "execution_count": 43,
>>>>>>> main
     "metadata": {},
     "output_type": "execute_result"
    }
   ],
   "source": [
    "# paired t-test between P0 and OE-P10\n",
    "\n",
    "stats.ttest_rel(df_t[df_t[\"genotype\"]==\"P0\"][\"RNA_copies\"],\n",
    "                df_t[df_t[\"genotype\"]==\"OE\"][\"RNA_copies\"],\n",
    "                alternative=\"less\").pvalue"
   ]
  },
  {
   "cell_type": "code",
<<<<<<< HEAD
   "execution_count": 59,
=======
   "execution_count": 44,
>>>>>>> main
   "id": "a6e1d212",
   "metadata": {},
   "outputs": [
    {
     "data": {
      "text/plain": [
       "0.0069563964818532015"
      ]
     },
<<<<<<< HEAD
     "execution_count": 59,
=======
     "execution_count": 44,
>>>>>>> main
     "metadata": {},
     "output_type": "execute_result"
    }
   ],
   "source": [
    "# paired t-test between P0 and KO-P10\n",
    "\n",
    "stats.ttest_rel(df_t[df_t[\"genotype\"]==\"P0\"][\"RNA_copies\"],\n",
    "                df_t[df_t[\"genotype\"]==\"KO\"][\"RNA_copies\"],\n",
    "                alternative=\"less\").pvalue"
   ]
  },
  {
   "cell_type": "markdown",
   "id": "035b7a05",
   "metadata": {},
   "source": [
    "## at passage 10, compare host genotypes"
   ]
  },
  {
   "cell_type": "code",
<<<<<<< HEAD
   "execution_count": 66,
   "id": "a6f91b1d",
   "metadata": {},
   "outputs": [],
   "source": [
    "df_t = df[df[\"passage\"].isin([10])]\n",
    "df_t = df_t.dropna()"
=======
   "execution_count": 59,
   "id": "b037b4a2",
   "metadata": {},
   "outputs": [
    {
     "data": {
      "text/html": [
       "<div>\n",
       "<style scoped>\n",
       "    .dataframe tbody tr th:only-of-type {\n",
       "        vertical-align: middle;\n",
       "    }\n",
       "\n",
       "    .dataframe tbody tr th {\n",
       "        vertical-align: top;\n",
       "    }\n",
       "\n",
       "    .dataframe thead th {\n",
       "        text-align: right;\n",
       "    }\n",
       "</style>\n",
       "<table border=\"1\" class=\"dataframe\">\n",
       "  <thead>\n",
       "    <tr style=\"text-align: right;\">\n",
       "      <th></th>\n",
       "      <th>passage</th>\n",
       "      <th>genotype</th>\n",
       "      <th>biological_replicate</th>\n",
       "      <th>RNA_copies</th>\n",
       "    </tr>\n",
       "  </thead>\n",
       "  <tbody>\n",
       "    <tr>\n",
       "      <th>16</th>\n",
       "      <td>10</td>\n",
       "      <td>KO</td>\n",
       "      <td>a</td>\n",
       "      <td>2.192085e+08</td>\n",
       "    </tr>\n",
       "    <tr>\n",
       "      <th>17</th>\n",
       "      <td>10</td>\n",
       "      <td>KO</td>\n",
       "      <td>b</td>\n",
       "      <td>3.271991e+07</td>\n",
       "    </tr>\n",
       "    <tr>\n",
       "      <th>18</th>\n",
       "      <td>10</td>\n",
       "      <td>KO</td>\n",
       "      <td>c</td>\n",
       "      <td>7.087998e+07</td>\n",
       "    </tr>\n",
       "    <tr>\n",
       "      <th>19</th>\n",
       "      <td>10</td>\n",
       "      <td>KO</td>\n",
       "      <td>d</td>\n",
       "      <td>7.193124e+07</td>\n",
       "    </tr>\n",
       "    <tr>\n",
       "      <th>20</th>\n",
       "      <td>10</td>\n",
       "      <td>KO</td>\n",
       "      <td>e</td>\n",
       "      <td>5.623833e+07</td>\n",
       "    </tr>\n",
       "    <tr>\n",
       "      <th>21</th>\n",
       "      <td>10</td>\n",
       "      <td>OE</td>\n",
       "      <td>a</td>\n",
       "      <td>1.533971e+07</td>\n",
       "    </tr>\n",
       "    <tr>\n",
       "      <th>22</th>\n",
       "      <td>10</td>\n",
       "      <td>OE</td>\n",
       "      <td>b</td>\n",
       "      <td>2.882287e+07</td>\n",
       "    </tr>\n",
       "    <tr>\n",
       "      <th>23</th>\n",
       "      <td>10</td>\n",
       "      <td>OE</td>\n",
       "      <td>c</td>\n",
       "      <td>3.661597e+07</td>\n",
       "    </tr>\n",
       "    <tr>\n",
       "      <th>24</th>\n",
       "      <td>10</td>\n",
       "      <td>OE</td>\n",
       "      <td>d</td>\n",
       "      <td>2.081279e+07</td>\n",
       "    </tr>\n",
       "    <tr>\n",
       "      <th>25</th>\n",
       "      <td>10</td>\n",
       "      <td>OE</td>\n",
       "      <td>e</td>\n",
       "      <td>1.796532e+07</td>\n",
       "    </tr>\n",
       "    <tr>\n",
       "      <th>26</th>\n",
       "      <td>10</td>\n",
       "      <td>WT</td>\n",
       "      <td>a</td>\n",
       "      <td>2.761081e+06</td>\n",
       "    </tr>\n",
       "    <tr>\n",
       "      <th>27</th>\n",
       "      <td>10</td>\n",
       "      <td>WT</td>\n",
       "      <td>b</td>\n",
       "      <td>6.342117e+06</td>\n",
       "    </tr>\n",
       "    <tr>\n",
       "      <th>28</th>\n",
       "      <td>10</td>\n",
       "      <td>WT</td>\n",
       "      <td>c</td>\n",
       "      <td>1.684631e+07</td>\n",
       "    </tr>\n",
       "    <tr>\n",
       "      <th>29</th>\n",
       "      <td>10</td>\n",
       "      <td>WT</td>\n",
       "      <td>d</td>\n",
       "      <td>7.765216e+06</td>\n",
       "    </tr>\n",
       "    <tr>\n",
       "      <th>30</th>\n",
       "      <td>10</td>\n",
       "      <td>WT</td>\n",
       "      <td>e</td>\n",
       "      <td>1.757960e+07</td>\n",
       "    </tr>\n",
       "  </tbody>\n",
       "</table>\n",
       "</div>"
      ],
      "text/plain": [
       "    passage genotype biological_replicate    RNA_copies\n",
       "16       10       KO                    a  2.192085e+08\n",
       "17       10       KO                    b  3.271991e+07\n",
       "18       10       KO                    c  7.087998e+07\n",
       "19       10       KO                    d  7.193124e+07\n",
       "20       10       KO                    e  5.623833e+07\n",
       "21       10       OE                    a  1.533971e+07\n",
       "22       10       OE                    b  2.882287e+07\n",
       "23       10       OE                    c  3.661597e+07\n",
       "24       10       OE                    d  2.081279e+07\n",
       "25       10       OE                    e  1.796532e+07\n",
       "26       10       WT                    a  2.761081e+06\n",
       "27       10       WT                    b  6.342117e+06\n",
       "28       10       WT                    c  1.684631e+07\n",
       "29       10       WT                    d  7.765216e+06\n",
       "30       10       WT                    e  1.757960e+07"
      ]
     },
     "execution_count": 59,
     "metadata": {},
     "output_type": "execute_result"
    }
   ],
   "source": [
    "df_mean_bio = pd.pivot_table(data=df, \n",
    "               values=\"RNA_copies\",\n",
    "               index=[\"passage\", \"genotype\", \"biological_replicate\"],\n",
    "               aggfunc='mean')\n",
    "\n",
    "df_mean_bio = df_mean_bio.reset_index()\n",
    "df_mean_bio = df_mean_bio[df_mean_bio[\"passage\"].isin([10])]\n",
    "df_mean_bio"
   ]
  },
  {
   "cell_type": "code",
   "execution_count": 60,
   "id": "9349af74",
   "metadata": {},
   "outputs": [
    {
     "name": "stdout",
     "output_type": "stream",
     "text": [
      "0.8114936953623694\n"
     ]
    },
    {
     "name": "stderr",
     "output_type": "stream",
     "text": [
      "/Users/lfuhrmann/Library/Python/3.9/lib/python/site-packages/scipy/stats/stats.py:1541: UserWarning: kurtosistest only valid for n>=20 ... continuing anyway, n=15\n",
      "  warnings.warn(\"kurtosistest only valid for n>=20 ... continuing \"\n"
     ]
    }
   ],
   "source": [
    "# test normalitiy --> H0: samples comes from normal distribution\n",
    "print(normaltest(np.log10(df_mean_bio['RNA_copies'])).pvalue)"
   ]
  },
  {
   "cell_type": "code",
   "execution_count": 65,
   "id": "c2c24aeb",
   "metadata": {},
   "outputs": [
    {
     "data": {
      "text/plain": [
       "(array([1., 1., 1., 1., 4., 3., 1., 2., 0., 1.]),\n",
       " array([6.44107919, 6.631057  , 6.82103481, 7.01101263, 7.20099044,\n",
       "        7.39096825, 7.58094607, 7.77092388, 7.9609017 , 8.15087951,\n",
       "        8.34085732]),\n",
       " <BarContainer object of 10 artists>)"
      ]
     },
     "execution_count": 65,
     "metadata": {},
     "output_type": "execute_result"
    },
    {
     "data": {
      "image/png": "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\n",
      "text/plain": [
       "<Figure size 432x288 with 1 Axes>"
      ]
     },
     "metadata": {
      "needs_background": "light"
     },
     "output_type": "display_data"
    }
   ],
   "source": [
    "import matplotlib.pyplot as plt\n",
    "plt.hist(np.log10(df_mean_bio['RNA_copies']), bins=10)"
>>>>>>> main
   ]
  },
  {
   "cell_type": "code",
<<<<<<< HEAD
   "execution_count": 73,
=======
   "execution_count": 66,
>>>>>>> main
   "id": "e91586b2",
   "metadata": {},
   "outputs": [],
   "source": [
    "from statsmodels.stats.multicomp import pairwise_tukeyhsd\n",
    "\n",
<<<<<<< HEAD
    "tukey =  pairwise_tukeyhsd(endog=df_t[\"RNA_copies\"],\n",
    "                          groups=df_t['genotype'],\n",
=======
    "tukey =  pairwise_tukeyhsd(endog=np.log10(df_mean_bio[\"RNA_copies\"]),\n",
    "                          groups=df_mean_bio['genotype'],\n",
>>>>>>> main
    "                          alpha=0.05)\n",
    "   "
   ]
  },
  {
   "cell_type": "code",
<<<<<<< HEAD
   "execution_count": 74,
=======
   "execution_count": 67,
>>>>>>> main
   "id": "136e39ec",
   "metadata": {},
   "outputs": [
    {
     "name": "stdout",
     "output_type": "stream",
     "text": [
<<<<<<< HEAD
      "           Multiple Comparison of Means - Tukey HSD, FWER=0.05           \n",
      "=========================================================================\n",
      "group1 group2    meandiff    p-adj       lower          upper      reject\n",
      "-------------------------------------------------------------------------\n",
      "    KO     OE -60781392.6416  0.001  -94894032.4369 -26668752.8463   True\n",
      "    KO     WT -74433858.3552  0.001 -108546498.1505 -40321218.5599   True\n",
      "    OE     WT -13652465.7136 0.5706  -46524227.9328  19219296.5055  False\n",
      "-------------------------------------------------------------------------\n"
=======
      "Multiple Comparison of Means - Tukey HSD, FWER=0.05 \n",
      "====================================================\n",
      "group1 group2 meandiff p-adj   lower   upper  reject\n",
      "----------------------------------------------------\n",
      "    KO     OE  -0.5062 0.0319 -0.9685 -0.0439   True\n",
      "    KO     WT  -0.9416 0.0004 -1.4039 -0.4793   True\n",
      "    OE     WT  -0.4354 0.0656 -0.8977  0.0269  False\n",
      "----------------------------------------------------\n"
>>>>>>> main
     ]
    }
   ],
   "source": [
    "print(tukey)"
   ]
  },
  {
   "cell_type": "code",
   "execution_count": null,
   "id": "b4067010",
   "metadata": {},
   "outputs": [],
   "source": []
  }
 ],
 "metadata": {
  "kernelspec": {
   "display_name": "Python 3 (ipykernel)",
   "language": "python",
   "name": "python3"
  },
  "language_info": {
   "codemirror_mode": {
    "name": "ipython",
    "version": 3
   },
   "file_extension": ".py",
   "mimetype": "text/x-python",
   "name": "python",
   "nbconvert_exporter": "python",
   "pygments_lexer": "ipython3",
   "version": "3.9.0"
  }
 },
 "nbformat": 4,
 "nbformat_minor": 5
}

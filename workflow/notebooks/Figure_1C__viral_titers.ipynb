{
 "cells": [
  {
   "cell_type": "markdown",
   "id": "2ad8e51a",
   "metadata": {},
   "source": [
    "# Assess the impact of fly genotype, replicate and passage on DCV titers. \n",
    "Note that, in every passage we infect with the same amount of virus. "
   ]
  },
  {
   "cell_type": "code",
   "execution_count": 8,
   "id": "041d5cf2",
   "metadata": {},
   "outputs": [],
   "source": [
    "import pandas as pd\n",
    "import numpy as np\n",
    "import matplotlib.pyplot as plt\n",
    "import seaborn as sns\n",
    "from scipy.stats import normaltest\n",
    "import statsmodels.api as sm\n",
    "from bioinfokit.analys import stat\n",
    "import scipy.stats as stats\n",
    "from statannotations.Annotator import Annotator"
   ]
  },
  {
   "cell_type": "code",
   "execution_count": 9,
   "id": "7a374aef",
   "metadata": {},
   "outputs": [],
   "source": [
    "our_color_palette ={\"WT\": \"#F2C14E\", \"KO\": \"#F15BB5\", \"OE\": \"#368F8B\"}\n",
    "genotype_order = [\"WT\", \"KO\", \"OE\"]\n",
    "passage_order = ['P1', 'P2', 'P3', 'P4', 'P5', 'P6', 'P7', 'P8', 'P9', 'P10']"
   ]
  },
  {
   "cell_type": "code",
   "execution_count": 10,
   "id": "1518d405",
   "metadata": {},
   "outputs": [
    {
     "data": {
      "text/html": [
       "<div>\n",
       "<style scoped>\n",
       "    .dataframe tbody tr th:only-of-type {\n",
       "        vertical-align: middle;\n",
       "    }\n",
       "\n",
       "    .dataframe tbody tr th {\n",
       "        vertical-align: top;\n",
       "    }\n",
       "\n",
       "    .dataframe thead th {\n",
       "        text-align: right;\n",
       "    }\n",
       "</style>\n",
       "<table border=\"1\" class=\"dataframe\">\n",
       "  <thead>\n",
       "    <tr style=\"text-align: right;\">\n",
       "      <th></th>\n",
       "      <th>passage</th>\n",
       "      <th>genotype</th>\n",
       "      <th>replicate</th>\n",
       "      <th>DCV_titer</th>\n",
       "    </tr>\n",
       "  </thead>\n",
       "  <tbody>\n",
       "    <tr>\n",
       "      <th>0</th>\n",
       "      <td>P1</td>\n",
       "      <td>WT</td>\n",
       "      <td>a</td>\n",
       "      <td>1.700000e+09</td>\n",
       "    </tr>\n",
       "    <tr>\n",
       "      <th>1</th>\n",
       "      <td>P2</td>\n",
       "      <td>WT</td>\n",
       "      <td>a</td>\n",
       "      <td>3.160000e+09</td>\n",
       "    </tr>\n",
       "    <tr>\n",
       "      <th>2</th>\n",
       "      <td>P3</td>\n",
       "      <td>WT</td>\n",
       "      <td>a</td>\n",
       "      <td>1.000000e+10</td>\n",
       "    </tr>\n",
       "    <tr>\n",
       "      <th>3</th>\n",
       "      <td>P4</td>\n",
       "      <td>WT</td>\n",
       "      <td>a</td>\n",
       "      <td>4.640000e+09</td>\n",
       "    </tr>\n",
       "    <tr>\n",
       "      <th>4</th>\n",
       "      <td>P5</td>\n",
       "      <td>WT</td>\n",
       "      <td>a</td>\n",
       "      <td>2.150000e+09</td>\n",
       "    </tr>\n",
       "  </tbody>\n",
       "</table>\n",
       "</div>"
      ],
      "text/plain": [
       "  passage genotype replicate     DCV_titer\n",
       "0      P1       WT         a  1.700000e+09\n",
       "1      P2       WT         a  3.160000e+09\n",
       "2      P3       WT         a  1.000000e+10\n",
       "3      P4       WT         a  4.640000e+09\n",
       "4      P5       WT         a  2.150000e+09"
      ]
     },
     "execution_count": 10,
     "metadata": {},
     "output_type": "execute_result"
    }
   ],
   "source": [
    "# import the values\n",
    " \n",
    "df = pd.read_csv('../../resources/measurements/20220926-RNAi_evolution_Titers_overview_formatted.csv')\n",
    "df.head(5)"
   ]
  },
  {
   "cell_type": "code",
   "execution_count": 4,
   "id": "d505a99c",
   "metadata": {},
   "outputs": [],
   "source": [
    "# log-transform titer values to \"normalize\" data distribution \n",
    "df[\"log_DCV_titer\"] = np.log10(df['DCV_titer'])"
   ]
  },
  {
   "cell_type": "markdown",
   "id": "33b50208",
   "metadata": {},
   "source": [
    "## Compare titers between genotype for each passage"
   ]
  },
  {
   "cell_type": "code",
   "execution_count": 5,
   "id": "0f96af82",
   "metadata": {},
   "outputs": [
    {
     "name": "stdout",
     "output_type": "stream",
     "text": [
      "0.40239803723143225\n",
      "0.7239254330641363\n",
      "0.6609943411204602\n",
      "0.6032959064952662\n"
     ]
    }
   ],
   "source": [
    "# test normalitiy --> H0: samples comes from normal distribution\n",
    "print(normaltest(df[df['genotype']==\"WT\"]['log_DCV_titer']).pvalue)\n",
    "print(normaltest(df[df['genotype']==\"OE\"]['log_DCV_titer']).pvalue)\n",
    "print(normaltest(df[df['genotype']==\"KO\"]['log_DCV_titer']).pvalue)\n",
    "print(normaltest(df['log_DCV_titer']).pvalue)"
   ]
  },
  {
   "cell_type": "code",
   "execution_count": 6,
   "id": "a93d1d97",
   "metadata": {},
   "outputs": [
    {
     "name": "stdout",
     "output_type": "stream",
     "text": [
      "p-value annotation legend:\n",
      "      ns: p <= 1.00e+00\n",
      "       *: 1.00e-02 < p <= 5.00e-02\n",
      "      **: 1.00e-03 < p <= 1.00e-02\n",
      "     ***: 1.00e-04 < p <= 1.00e-03\n",
      "    ****: p <= 1.00e-04\n",
      "\n",
      "P2_KO vs. P2_OE: t-test independent samples, P_val:1.359e-01 t=1.658e+00\n",
      "P3_WT vs. P3_KO: t-test independent samples, P_val:1.228e-01 t=-1.725e+00\n",
      "P3_KO vs. P3_OE: t-test independent samples, P_val:4.883e-01 t=7.264e-01\n",
      "P4_WT vs. P4_KO: t-test independent samples, P_val:9.066e-01 t=-1.212e-01\n",
      "P4_KO vs. P4_OE: t-test independent samples, P_val:4.730e-01 t=-7.530e-01\n",
      "P5_WT vs. P5_KO: t-test independent samples, P_val:1.341e-02 t=-3.159e+00\n",
      "P5_KO vs. P5_OE: t-test independent samples, P_val:6.500e-02 t=2.138e+00\n",
      "P6_WT vs. P6_KO: t-test independent samples, P_val:1.459e-01 t=-1.611e+00\n",
      "P6_KO vs. P6_OE: t-test independent samples, P_val:8.749e-01 t=1.626e-01\n",
      "P7_WT vs. P7_KO: t-test independent samples, P_val:5.685e-01 t=-5.947e-01\n",
      "P7_KO vs. P7_OE: t-test independent samples, P_val:1.127e-01 t=1.781e+00\n",
      "P8_WT vs. P8_KO: t-test independent samples, P_val:4.421e-01 t=8.087e-01\n",
      "P8_KO vs. P8_OE: t-test independent samples, P_val:9.005e-01 t=-1.291e-01\n",
      "P9_WT vs. P9_KO: t-test independent samples, P_val:4.345e-01 t=-8.226e-01\n",
      "P1_WT vs. P1_KO: t-test independent samples, P_val:5.742e-01 t=-5.858e-01\n",
      "P1_KO vs. P1_OE: t-test independent samples, P_val:5.975e-01 t=5.498e-01\n",
      "P2_WT vs. P2_KO: t-test independent samples, P_val:1.360e-02 t=-3.150e+00\n",
      "P9_KO vs. P9_OE: t-test independent samples, P_val:6.919e-01 t=4.110e-01\n",
      "P10_WT vs. P10_KO: t-test independent samples, P_val:2.414e-01 t=-1.265e+00\n",
      "P10_KO vs. P10_OE: t-test independent samples, P_val:3.833e-01 t=9.224e-01\n",
      "P3_WT vs. P3_OE: t-test independent samples, P_val:9.996e-01 t=5.646e-04\n",
      "P4_WT vs. P4_OE: t-test independent samples, P_val:4.232e-01 t=-8.439e-01\n",
      "P5_WT vs. P5_OE: t-test independent samples, P_val:4.645e-01 t=-7.680e-01\n",
      "P6_WT vs. P6_OE: t-test independent samples, P_val:2.078e-01 t=-1.370e+00\n",
      "P7_WT vs. P7_OE: t-test independent samples, P_val:4.687e-01 t=7.606e-01\n",
      "P8_WT vs. P8_OE: t-test independent samples, P_val:5.301e-01 t=6.561e-01\n",
      "P2_WT vs. P2_OE: t-test independent samples, P_val:2.138e-01 t=-1.351e+00\n",
      "P1_WT vs. P1_OE: t-test independent samples, P_val:8.473e-01 t=-1.989e-01\n",
      "P9_WT vs. P9_OE: t-test independent samples, P_val:7.372e-01 t=-3.474e-01\n",
      "P10_WT vs. P10_OE: t-test independent samples, P_val:4.862e-01 t=-7.301e-01\n"
     ]
    },
    {
     "data": {
      "text/plain": [
       "(<AxesSubplot: xlabel='passage', ylabel='DCV_titer'>,\n",
       " [<statannotations.Annotation.Annotation at 0x7f7bde15f670>,\n",
       "  <statannotations.Annotation.Annotation at 0x7f7bde2ebaf0>,\n",
       "  <statannotations.Annotation.Annotation at 0x7f7bde2eb9d0>,\n",
       "  <statannotations.Annotation.Annotation at 0x7f7bde2ebc40>,\n",
       "  <statannotations.Annotation.Annotation at 0x7f7bde2ebd30>,\n",
       "  <statannotations.Annotation.Annotation at 0x7f7bde2ebdf0>,\n",
       "  <statannotations.Annotation.Annotation at 0x7f7bde2ebeb0>,\n",
       "  <statannotations.Annotation.Annotation at 0x7f7bde2ebf70>,\n",
       "  <statannotations.Annotation.Annotation at 0x7f7bde2fc070>,\n",
       "  <statannotations.Annotation.Annotation at 0x7f7bde2fc130>,\n",
       "  <statannotations.Annotation.Annotation at 0x7f7bde2fc1f0>,\n",
       "  <statannotations.Annotation.Annotation at 0x7f7bde2fc2b0>,\n",
       "  <statannotations.Annotation.Annotation at 0x7f7bde2fc370>,\n",
       "  <statannotations.Annotation.Annotation at 0x7f7bde2fc430>,\n",
       "  <statannotations.Annotation.Annotation at 0x7f7bde2fc4f0>,\n",
       "  <statannotations.Annotation.Annotation at 0x7f7bde2fc5b0>,\n",
       "  <statannotations.Annotation.Annotation at 0x7f7bde2fc670>,\n",
       "  <statannotations.Annotation.Annotation at 0x7f7bde2fc730>,\n",
       "  <statannotations.Annotation.Annotation at 0x7f7bde2fc7f0>,\n",
       "  <statannotations.Annotation.Annotation at 0x7f7bde2fc8b0>,\n",
       "  <statannotations.Annotation.Annotation at 0x7f7bde2fc970>,\n",
       "  <statannotations.Annotation.Annotation at 0x7f7bde2fca30>,\n",
       "  <statannotations.Annotation.Annotation at 0x7f7bde2fcaf0>,\n",
       "  <statannotations.Annotation.Annotation at 0x7f7bde2fcbb0>,\n",
       "  <statannotations.Annotation.Annotation at 0x7f7bde2fcc70>,\n",
       "  <statannotations.Annotation.Annotation at 0x7f7bde2fcd30>,\n",
       "  <statannotations.Annotation.Annotation at 0x7f7bde2fcdf0>,\n",
       "  <statannotations.Annotation.Annotation at 0x7f7bde2fceb0>,\n",
       "  <statannotations.Annotation.Annotation at 0x7f7bde2fcf70>,\n",
       "  <statannotations.Annotation.Annotation at 0x7f7bde2fe070>])"
      ]
     },
     "execution_count": 6,
     "metadata": {},
     "output_type": "execute_result"
    },
    {
     "data": {
      "image/png": "[encoded data removed]",
      "text/plain": [
       "<Figure size 1152x576 with 1 Axes>"
      ]
     },
     "metadata": {
      "needs_background": "light"
     },
     "output_type": "display_data"
    }
   ],
   "source": [
    "fig, ax = plt.subplots(1,1,  sharey=True, figsize=(16,8))\n",
    "\n",
    "\n",
    "sns.barplot(\n",
    "            ax=ax,\n",
    "            data=df,\n",
    "            x=\"passage\", \n",
    "            y=\"DCV_titer\",\n",
    "            hue=\"genotype\", \n",
    "            hue_order=genotype_order,\n",
    "            order=passage_order, \n",
    "            palette=our_color_palette,\n",
    "            errwidth=1.1, \n",
    "            capsize=0.1,\n",
    "            )\n",
    "plt.yscale('log')\n",
    "plt.ylim((10**7, 10**11))\n",
    "\n",
    "\n",
    "pairs = [((\"P1\", \"WT\"), (\"P1\", \"KO\")),\n",
    "         ((\"P1\", \"WT\"), (\"P1\", \"OE\")),\n",
    "         ((\"P1\", \"OE\"), (\"P1\", \"KO\")),\n",
    "         \n",
    "         ((\"P2\", \"WT\"), (\"P2\", \"KO\")),\n",
    "         ((\"P2\", \"WT\"), (\"P2\", \"OE\")),\n",
    "         ((\"P2\", \"OE\"), (\"P2\", \"KO\")),\n",
    "         \n",
    "         ((\"P3\", \"WT\"), (\"P3\", \"KO\")),\n",
    "         ((\"P3\", \"WT\"), (\"P3\", \"OE\")),\n",
    "         ((\"P3\", \"OE\"), (\"P3\", \"KO\")),\n",
    "         \n",
    "         ((\"P4\", \"WT\"), (\"P4\", \"KO\")),\n",
    "         ((\"P4\", \"WT\"), (\"P4\", \"OE\")),\n",
    "         ((\"P4\", \"OE\"), (\"P4\", \"KO\")),\n",
    "         \n",
    "         ((\"P5\", \"WT\"), (\"P5\", \"KO\")),\n",
    "         ((\"P5\", \"WT\"), (\"P5\", \"OE\")),\n",
    "         ((\"P5\", \"OE\"), (\"P5\", \"KO\")),\n",
    "         \n",
    "         ((\"P6\", \"WT\"), (\"P6\", \"KO\")),\n",
    "         ((\"P6\", \"WT\"), (\"P6\", \"OE\")),\n",
    "         ((\"P6\", \"OE\"), (\"P6\", \"KO\")),\n",
    "         \n",
    "         ((\"P7\", \"WT\"), (\"P7\", \"KO\")),\n",
    "         ((\"P7\", \"WT\"), (\"P7\", \"OE\")),\n",
    "         ((\"P7\", \"OE\"), (\"P7\", \"KO\")),\n",
    "         \n",
    "         ((\"P8\", \"WT\"), (\"P8\", \"KO\")),\n",
    "         ((\"P8\", \"WT\"), (\"P8\", \"OE\")),\n",
    "         ((\"P8\", \"OE\"), (\"P8\", \"KO\")),\n",
    "         \n",
    "         ((\"P9\", \"WT\"), (\"P9\", \"KO\")),\n",
    "         ((\"P9\", \"WT\"), (\"P9\", \"OE\")),\n",
    "         ((\"P9\", \"OE\"), (\"P9\", \"KO\")),\n",
    "         \n",
    "         ((\"P10\", \"WT\"), (\"P10\", \"KO\")),\n",
    "         ((\"P10\", \"WT\"), (\"P10\", \"OE\")),\n",
    "         ((\"P10\", \"OE\"), (\"P10\", \"KO\")),\n",
    "         \n",
    "        ]\n",
    "\n",
    "\n",
    "# subset the table otherwise the stats were calculated on the whole dataset\n",
    "annot = Annotator(ax,\n",
    "                  pairs, \n",
    "                  data=df, \n",
    "                  x=\"passage\", \n",
    "                  y=\"log_DCV_titer\",\n",
    "                  hue=\"genotype\", \n",
    "                  hue_order=genotype_order,\n",
    "                  order=passage_order, \n",
    "                  palette=our_color_palette,\n",
    "                  ) \n",
    "annot.configure(test='t-test_ind',loc='inside', verbose=2)\n",
    "annot.apply_test().annotate()"
   ]
  },
  {
   "cell_type": "code",
   "execution_count": 8,
   "id": "3b65c03b",
   "metadata": {},
   "outputs": [],
   "source": [
    "fig.savefig(\"./000__Manuscript_figures/Figure_1C__viral_titers.pdf\")\n",
    "fig.savefig(\"./000__Manuscript_figures/Figure_1C__viral_titers.svg\")"
   ]
  },
  {
   "cell_type": "markdown",
   "id": "8962fe95",
   "metadata": {},
   "source": [
    "## mixed ANOVA "
   ]
  },
  {
   "cell_type": "code",
   "execution_count": 25,
   "id": "ec12667d",
   "metadata": {},
   "outputs": [],
   "source": [
    "import statsmodels.api as sm\n",
    "from statsmodels.formula.api import ols\n",
    "from bioinfokit.analys import stat\n",
    "import matplotlib.pyplot as plt\n",
    "import numpy as np\n",
    "import pingouin as pg"
   ]
  },
  {
   "cell_type": "code",
   "execution_count": 36,
   "id": "641a20e8",
   "metadata": {},
   "outputs": [
    {
     "data": {
      "text/html": [
       "<div>\n",
       "<style scoped>\n",
       "    .dataframe tbody tr th:only-of-type {\n",
       "        vertical-align: middle;\n",
       "    }\n",
       "\n",
       "    .dataframe tbody tr th {\n",
       "        vertical-align: top;\n",
       "    }\n",
       "\n",
       "    .dataframe thead th {\n",
       "        text-align: right;\n",
       "    }\n",
       "</style>\n",
       "<table border=\"1\" class=\"dataframe\">\n",
       "  <thead>\n",
       "    <tr style=\"text-align: right;\">\n",
       "      <th></th>\n",
       "      <th>passage</th>\n",
       "      <th>genotype</th>\n",
       "      <th>replicate</th>\n",
       "      <th>DCV_titer</th>\n",
       "      <th>DCV_titer_log</th>\n",
       "      <th>id</th>\n",
       "    </tr>\n",
       "  </thead>\n",
       "  <tbody>\n",
       "    <tr>\n",
       "      <th>0</th>\n",
       "      <td>P1</td>\n",
       "      <td>WT</td>\n",
       "      <td>a</td>\n",
       "      <td>1.700000e+09</td>\n",
       "      <td>21.253894</td>\n",
       "      <td>P1WT</td>\n",
       "    </tr>\n",
       "    <tr>\n",
       "      <th>1</th>\n",
       "      <td>P2</td>\n",
       "      <td>WT</td>\n",
       "      <td>a</td>\n",
       "      <td>3.160000e+09</td>\n",
       "      <td>21.873838</td>\n",
       "      <td>P2WT</td>\n",
       "    </tr>\n",
       "    <tr>\n",
       "      <th>2</th>\n",
       "      <td>P3</td>\n",
       "      <td>WT</td>\n",
       "      <td>a</td>\n",
       "      <td>1.000000e+10</td>\n",
       "      <td>23.025851</td>\n",
       "      <td>P3WT</td>\n",
       "    </tr>\n",
       "    <tr>\n",
       "      <th>3</th>\n",
       "      <td>P4</td>\n",
       "      <td>WT</td>\n",
       "      <td>a</td>\n",
       "      <td>4.640000e+09</td>\n",
       "      <td>22.257980</td>\n",
       "      <td>P4WT</td>\n",
       "    </tr>\n",
       "    <tr>\n",
       "      <th>4</th>\n",
       "      <td>P5</td>\n",
       "      <td>WT</td>\n",
       "      <td>a</td>\n",
       "      <td>2.150000e+09</td>\n",
       "      <td>21.488734</td>\n",
       "      <td>P5WT</td>\n",
       "    </tr>\n",
       "    <tr>\n",
       "      <th>...</th>\n",
       "      <td>...</td>\n",
       "      <td>...</td>\n",
       "      <td>...</td>\n",
       "      <td>...</td>\n",
       "      <td>...</td>\n",
       "      <td>...</td>\n",
       "    </tr>\n",
       "    <tr>\n",
       "      <th>145</th>\n",
       "      <td>P6</td>\n",
       "      <td>OE</td>\n",
       "      <td>e</td>\n",
       "      <td>4.640000e+09</td>\n",
       "      <td>22.257980</td>\n",
       "      <td>P6OE</td>\n",
       "    </tr>\n",
       "    <tr>\n",
       "      <th>146</th>\n",
       "      <td>P7</td>\n",
       "      <td>OE</td>\n",
       "      <td>e</td>\n",
       "      <td>4.640000e+09</td>\n",
       "      <td>22.257980</td>\n",
       "      <td>P7OE</td>\n",
       "    </tr>\n",
       "    <tr>\n",
       "      <th>147</th>\n",
       "      <td>P8</td>\n",
       "      <td>OE</td>\n",
       "      <td>e</td>\n",
       "      <td>1.000000e+09</td>\n",
       "      <td>20.723266</td>\n",
       "      <td>P8OE</td>\n",
       "    </tr>\n",
       "    <tr>\n",
       "      <th>148</th>\n",
       "      <td>P9</td>\n",
       "      <td>OE</td>\n",
       "      <td>e</td>\n",
       "      <td>2.150000e+09</td>\n",
       "      <td>21.488734</td>\n",
       "      <td>P9OE</td>\n",
       "    </tr>\n",
       "    <tr>\n",
       "      <th>149</th>\n",
       "      <td>P10</td>\n",
       "      <td>OE</td>\n",
       "      <td>e</td>\n",
       "      <td>3.160000e+09</td>\n",
       "      <td>21.873838</td>\n",
       "      <td>P10OE</td>\n",
       "    </tr>\n",
       "  </tbody>\n",
       "</table>\n",
       "<p>150 rows × 6 columns</p>\n",
       "</div>"
      ],
      "text/plain": [
       "    passage genotype replicate     DCV_titer  DCV_titer_log     id\n",
       "0        P1       WT         a  1.700000e+09      21.253894   P1WT\n",
       "1        P2       WT         a  3.160000e+09      21.873838   P2WT\n",
       "2        P3       WT         a  1.000000e+10      23.025851   P3WT\n",
       "3        P4       WT         a  4.640000e+09      22.257980   P4WT\n",
       "4        P5       WT         a  2.150000e+09      21.488734   P5WT\n",
       "..      ...      ...       ...           ...            ...    ...\n",
       "145      P6       OE         e  4.640000e+09      22.257980   P6OE\n",
       "146      P7       OE         e  4.640000e+09      22.257980   P7OE\n",
       "147      P8       OE         e  1.000000e+09      20.723266   P8OE\n",
       "148      P9       OE         e  2.150000e+09      21.488734   P9OE\n",
       "149     P10       OE         e  3.160000e+09      21.873838  P10OE\n",
       "\n",
       "[150 rows x 6 columns]"
      ]
     },
     "execution_count": 36,
     "metadata": {},
     "output_type": "execute_result"
    }
   ],
   "source": [
    "df[\"DCV_titer_log\"] = np.log(df[\"DCV_titer\"])\n",
    "\n",
    "df"
   ]
  },
  {
   "cell_type": "code",
   "execution_count": 39,
   "id": "2843f81a",
   "metadata": {},
   "outputs": [
    {
     "data": {
      "text/plain": [
       "array(['P1', 'P2', 'P3', 'P4', 'P5', 'P6', 'P7', 'P8', 'P9', 'P10'],\n",
       "      dtype=object)"
      ]
     },
     "execution_count": 39,
     "metadata": {},
     "output_type": "execute_result"
    }
   ],
   "source": [
    "df[\"passage\"].unique()"
   ]
  },
  {
   "cell_type": "code",
   "execution_count": 35,
   "id": "14ac50fe",
   "metadata": {},
   "outputs": [
    {
     "ename": "ValueError",
     "evalue": "cannot convert float NaN to integer",
     "output_type": "error",
     "traceback": [
      "\u001b[0;31m---------------------------------------------------------------------------\u001b[0m",
      "\u001b[0;31mValueError\u001b[0m                                Traceback (most recent call last)",
      "\u001b[0;32m/var/folders/dw/8dl4p6h53cgcmk6cf_09v5f40000gr/T/ipykernel_19698/3777517512.py\u001b[0m in \u001b[0;36m<module>\u001b[0;34m\u001b[0m\n\u001b[1;32m      1\u001b[0m \u001b[0mdf\u001b[0m\u001b[0;34m[\u001b[0m\u001b[0;34m'id'\u001b[0m\u001b[0;34m]\u001b[0m \u001b[0;34m=\u001b[0m \u001b[0mdf\u001b[0m\u001b[0;34m[\u001b[0m\u001b[0;34m'passage'\u001b[0m\u001b[0;34m]\u001b[0m \u001b[0;34m+\u001b[0m \u001b[0mdf\u001b[0m\u001b[0;34m[\u001b[0m\u001b[0;34m'genotype'\u001b[0m\u001b[0;34m]\u001b[0m\u001b[0;34m\u001b[0m\u001b[0;34m\u001b[0m\u001b[0m\n\u001b[1;32m      2\u001b[0m \u001b[0;34m\u001b[0m\u001b[0m\n\u001b[0;32m----> 3\u001b[0;31m res = pg.mixed_anova(dv='DCV_titer_log', \n\u001b[0m\u001b[1;32m      4\u001b[0m                       \u001b[0mwithin\u001b[0m\u001b[0;34m=\u001b[0m\u001b[0;34m'passage'\u001b[0m\u001b[0;34m,\u001b[0m\u001b[0;34m\u001b[0m\u001b[0;34m\u001b[0m\u001b[0m\n\u001b[1;32m      5\u001b[0m                       \u001b[0mbetween\u001b[0m\u001b[0;34m=\u001b[0m\u001b[0;34m'genotype'\u001b[0m\u001b[0;34m,\u001b[0m\u001b[0;34m\u001b[0m\u001b[0;34m\u001b[0m\u001b[0m\n",
      "\u001b[0;32m~/Library/Python/3.9/lib/python/site-packages/pingouin/parametric.py\u001b[0m in \u001b[0;36mmixed_anova\u001b[0;34m(data, dv, within, subject, between, correction, effsize)\u001b[0m\n\u001b[1;32m   1506\u001b[0m     \u001b[0mss_total\u001b[0m \u001b[0;34m=\u001b[0m \u001b[0;34m(\u001b[0m\u001b[0;34m(\u001b[0m\u001b[0mdata\u001b[0m\u001b[0;34m[\u001b[0m\u001b[0mdv\u001b[0m\u001b[0;34m]\u001b[0m \u001b[0;34m-\u001b[0m \u001b[0mgrandmean\u001b[0m\u001b[0;34m)\u001b[0m \u001b[0;34m**\u001b[0m \u001b[0;36m2\u001b[0m\u001b[0;34m)\u001b[0m\u001b[0;34m.\u001b[0m\u001b[0msum\u001b[0m\u001b[0;34m(\u001b[0m\u001b[0;34m)\u001b[0m\u001b[0;34m\u001b[0m\u001b[0;34m\u001b[0m\u001b[0m\n\u001b[1;32m   1507\u001b[0m     \u001b[0;31m# Extract main effects of within and between factors\u001b[0m\u001b[0;34m\u001b[0m\u001b[0;34m\u001b[0m\u001b[0;34m\u001b[0m\u001b[0m\n\u001b[0;32m-> 1508\u001b[0;31m     aov_with = rm_anova(\n\u001b[0m\u001b[1;32m   1509\u001b[0m         \u001b[0mdv\u001b[0m\u001b[0;34m=\u001b[0m\u001b[0mdv\u001b[0m\u001b[0;34m,\u001b[0m \u001b[0mwithin\u001b[0m\u001b[0;34m=\u001b[0m\u001b[0mwithin\u001b[0m\u001b[0;34m,\u001b[0m \u001b[0msubject\u001b[0m\u001b[0;34m=\u001b[0m\u001b[0msubject\u001b[0m\u001b[0;34m,\u001b[0m \u001b[0mdata\u001b[0m\u001b[0;34m=\u001b[0m\u001b[0mdata\u001b[0m\u001b[0;34m,\u001b[0m \u001b[0mcorrection\u001b[0m\u001b[0;34m=\u001b[0m\u001b[0mcorrection\u001b[0m\u001b[0;34m,\u001b[0m \u001b[0mdetailed\u001b[0m\u001b[0;34m=\u001b[0m\u001b[0;32mTrue\u001b[0m\u001b[0;34m\u001b[0m\u001b[0;34m\u001b[0m\u001b[0m\n\u001b[1;32m   1510\u001b[0m     )\n",
      "\u001b[0;32m~/Library/Python/3.9/lib/python/site-packages/pingouin/parametric.py\u001b[0m in \u001b[0;36mrm_anova\u001b[0;34m(data, dv, within, subject, correction, detailed, effsize)\u001b[0m\n\u001b[1;32m    549\u001b[0m     \u001b[0mrm\u001b[0m \u001b[0;34m=\u001b[0m \u001b[0mlist\u001b[0m\u001b[0;34m(\u001b[0m\u001b[0mdata\u001b[0m\u001b[0;34m[\u001b[0m\u001b[0mwithin\u001b[0m\u001b[0;34m]\u001b[0m\u001b[0;34m.\u001b[0m\u001b[0munique\u001b[0m\u001b[0;34m(\u001b[0m\u001b[0;34m)\u001b[0m\u001b[0;34m)\u001b[0m\u001b[0;34m\u001b[0m\u001b[0;34m\u001b[0m\u001b[0m\n\u001b[1;32m    550\u001b[0m     \u001b[0mn_rm\u001b[0m \u001b[0;34m=\u001b[0m \u001b[0mlen\u001b[0m\u001b[0;34m(\u001b[0m\u001b[0mrm\u001b[0m\u001b[0;34m)\u001b[0m\u001b[0;34m\u001b[0m\u001b[0;34m\u001b[0m\u001b[0m\n\u001b[0;32m--> 551\u001b[0;31m     \u001b[0mn_obs\u001b[0m \u001b[0;34m=\u001b[0m \u001b[0mint\u001b[0m\u001b[0;34m(\u001b[0m\u001b[0mgrp_with\u001b[0m\u001b[0;34m.\u001b[0m\u001b[0mcount\u001b[0m\u001b[0;34m(\u001b[0m\u001b[0;34m)\u001b[0m\u001b[0;34m.\u001b[0m\u001b[0mmax\u001b[0m\u001b[0;34m(\u001b[0m\u001b[0;34m)\u001b[0m\u001b[0;34m)\u001b[0m\u001b[0;34m\u001b[0m\u001b[0;34m\u001b[0m\u001b[0m\n\u001b[0m\u001b[1;32m    552\u001b[0m     \u001b[0mgrandmean\u001b[0m \u001b[0;34m=\u001b[0m \u001b[0mdata\u001b[0m\u001b[0;34m[\u001b[0m\u001b[0mdv\u001b[0m\u001b[0;34m]\u001b[0m\u001b[0;34m.\u001b[0m\u001b[0mmean\u001b[0m\u001b[0;34m(\u001b[0m\u001b[0;34m)\u001b[0m\u001b[0;34m\u001b[0m\u001b[0;34m\u001b[0m\u001b[0m\n\u001b[1;32m    553\u001b[0m \u001b[0;34m\u001b[0m\u001b[0m\n",
      "\u001b[0;31mValueError\u001b[0m: cannot convert float NaN to integer"
     ]
    }
   ],
   "source": [
    "df['id'] = df['passage'] + df['genotype']\n",
    "\n",
    "res = pg.mixed_anova(dv='DCV_titer_log', \n",
    "                      within='passage', \n",
    "                      between='genotype',\n",
    "                      subject='id', \n",
    "                      data=df[['DCV_titer_log', 'passage', 'genotype', 'id']], \n",
    "                     )\n",
    "\n",
    "res"
   ]
  },
  {
   "cell_type": "code",
   "execution_count": null,
   "id": "6ed7ab66",
   "metadata": {},
   "outputs": [],
   "source": []
  },
  {
   "cell_type": "markdown",
   "id": "637f0579",
   "metadata": {},
   "source": [
    "## this is normal two-way anova"
   ]
  },
  {
   "cell_type": "code",
   "execution_count": 21,
   "id": "c9971eb8",
   "metadata": {},
   "outputs": [
    {
     "data": {
      "text/html": [
       "<div>\n",
       "<style scoped>\n",
       "    .dataframe tbody tr th:only-of-type {\n",
       "        vertical-align: middle;\n",
       "    }\n",
       "\n",
       "    .dataframe tbody tr th {\n",
       "        vertical-align: top;\n",
       "    }\n",
       "\n",
       "    .dataframe thead th {\n",
       "        text-align: right;\n",
       "    }\n",
       "</style>\n",
       "<table border=\"1\" class=\"dataframe\">\n",
       "  <thead>\n",
       "    <tr style=\"text-align: right;\">\n",
       "      <th></th>\n",
       "      <th>df</th>\n",
       "      <th>sum_sq</th>\n",
       "      <th>mean_sq</th>\n",
       "      <th>F</th>\n",
       "      <th>PR(&gt;F)</th>\n",
       "    </tr>\n",
       "  </thead>\n",
       "  <tbody>\n",
       "    <tr>\n",
       "      <th>genotype</th>\n",
       "      <td>2.0</td>\n",
       "      <td>11.970029</td>\n",
       "      <td>5.985014</td>\n",
       "      <td>6.221015</td>\n",
       "      <td>2.687354e-03</td>\n",
       "    </tr>\n",
       "    <tr>\n",
       "      <th>passage</th>\n",
       "      <td>9.0</td>\n",
       "      <td>57.851611</td>\n",
       "      <td>6.427957</td>\n",
       "      <td>6.681424</td>\n",
       "      <td>1.028270e-07</td>\n",
       "    </tr>\n",
       "    <tr>\n",
       "      <th>genotype:passage</th>\n",
       "      <td>18.0</td>\n",
       "      <td>14.980432</td>\n",
       "      <td>0.832246</td>\n",
       "      <td>0.865063</td>\n",
       "      <td>6.208611e-01</td>\n",
       "    </tr>\n",
       "    <tr>\n",
       "      <th>Residual</th>\n",
       "      <td>120.0</td>\n",
       "      <td>115.447669</td>\n",
       "      <td>0.962064</td>\n",
       "      <td>NaN</td>\n",
       "      <td>NaN</td>\n",
       "    </tr>\n",
       "  </tbody>\n",
       "</table>\n",
       "</div>"
      ],
      "text/plain": [
       "                     df      sum_sq   mean_sq         F        PR(>F)\n",
       "genotype            2.0   11.970029  5.985014  6.221015  2.687354e-03\n",
       "passage             9.0   57.851611  6.427957  6.681424  1.028270e-07\n",
       "genotype:passage   18.0   14.980432  0.832246  0.865063  6.208611e-01\n",
       "Residual          120.0  115.447669  0.962064       NaN           NaN"
      ]
     },
     "execution_count": 21,
     "metadata": {},
     "output_type": "execute_result"
    }
   ],
   "source": [
    "# ANOVA table using bioinfokit v1.0.3 or later (it uses wrapper script for anova_lm)\n",
    "res = stat()\n",
    "res.anova_stat(df=df, res_var='DCV_titer_log', anova_model='DCV_titer_log ~ genotype * passage')\n",
    "res.anova_summary"
   ]
  },
  {
   "cell_type": "code",
   "execution_count": 22,
   "id": "63899eb3",
   "metadata": {},
   "outputs": [
    {
     "data": {
      "image/png": "[encoded data removed]",
      "text/plain": [
       "<Figure size 432x288 with 1 Axes>"
      ]
     },
     "metadata": {
      "needs_background": "light"
     },
     "output_type": "display_data"
    },
    {
     "data": {
      "image/png": "[encoded data removed]",
      "text/plain": [
       "<Figure size 432x288 with 1 Axes>"
      ]
     },
     "metadata": {
      "needs_background": "light"
     },
     "output_type": "display_data"
    }
   ],
   "source": [
    "# test ANOVA assumptions\n",
    "\n",
    "# QQ-plot\n",
    "# res.anova_std_residuals are standardized residuals obtained from ANOVA (check above)\n",
    "sm.qqplot(res.anova_std_residuals, line='45')\n",
    "plt.xlabel(\"Theoretical Quantiles\")\n",
    "plt.ylabel(\"Standardized Residuals\")\n",
    "plt.show()\n",
    "\n",
    "# histogram\n",
    "plt.hist(res.anova_model_out.resid, bins='auto', histtype='bar', ec='k') \n",
    "plt.xlabel(\"Residuals\")\n",
    "plt.ylabel('Frequency')\n",
    "plt.show()"
   ]
  },
  {
   "cell_type": "code",
   "execution_count": 24,
   "id": "53bd583a",
   "metadata": {},
   "outputs": [
    {
     "name": "stdout",
     "output_type": "stream",
     "text": [
      "0.9883164167404175 0.24316149950027466\n"
     ]
    }
   ],
   "source": [
    "# Shapiro-Wilk test can be used to check the normal distribution of residuals. \n",
    "# Null hypothesis: data is drawn from normal distribution.\n",
    "\n",
    "# get ANOVA table as R like output\n",
    "import statsmodels.api as sm\n",
    "from statsmodels.formula.api import ols\n",
    "\n",
    "# Ordinary Least Squares (OLS) model\n",
    "model = ols('DCV_titer_log ~ C(genotype) * C(passage)', data=df).fit()\n",
    "anova_table = sm.stats.anova_lm(model, typ=2)\n",
    "anova_table\n",
    "\n",
    "\n",
    "import scipy.stats as stats\n",
    "w, pvalue = stats.shapiro(model.resid)\n",
    "print(w, pvalue)\n"
   ]
  },
  {
   "cell_type": "code",
   "execution_count": 17,
   "id": "d38df74e",
   "metadata": {},
   "outputs": [
    {
     "ename": "NameError",
     "evalue": "name 'df_formatted' is not defined",
     "output_type": "error",
     "traceback": [
      "\u001b[0;31m---------------------------------------------------------------------------\u001b[0m",
      "\u001b[0;31mNameError\u001b[0m                                 Traceback (most recent call last)",
      "\u001b[0;32m/var/folders/dw/8dl4p6h53cgcmk6cf_09v5f40000gr/T/ipykernel_19698/2541065081.py\u001b[0m in \u001b[0;36m<module>\u001b[0;34m\u001b[0m\n\u001b[0;32m----> 1\u001b[0;31m \u001b[0mmodel\u001b[0m \u001b[0;34m=\u001b[0m \u001b[0mols\u001b[0m\u001b[0;34m(\u001b[0m\u001b[0;34m'DCV_titer ~ genotype * passage'\u001b[0m\u001b[0;34m,\u001b[0m \u001b[0mdata\u001b[0m\u001b[0;34m=\u001b[0m\u001b[0mdf_formatted\u001b[0m\u001b[0;34m)\u001b[0m\u001b[0;34m.\u001b[0m\u001b[0mfit\u001b[0m\u001b[0;34m(\u001b[0m\u001b[0;34m)\u001b[0m\u001b[0;34m\u001b[0m\u001b[0;34m\u001b[0m\u001b[0m\n\u001b[0m\u001b[1;32m      2\u001b[0m \u001b[0manova_table\u001b[0m \u001b[0;34m=\u001b[0m \u001b[0msm\u001b[0m\u001b[0;34m.\u001b[0m\u001b[0mstats\u001b[0m\u001b[0;34m.\u001b[0m\u001b[0manova_lm\u001b[0m\u001b[0;34m(\u001b[0m\u001b[0mmodel\u001b[0m\u001b[0;34m,\u001b[0m \u001b[0mtyp\u001b[0m\u001b[0;34m=\u001b[0m\u001b[0;36m2\u001b[0m\u001b[0;34m)\u001b[0m\u001b[0;34m\u001b[0m\u001b[0;34m\u001b[0m\u001b[0m\n\u001b[1;32m      3\u001b[0m \u001b[0manova_table\u001b[0m\u001b[0;34m\u001b[0m\u001b[0;34m\u001b[0m\u001b[0m\n",
      "\u001b[0;31mNameError\u001b[0m: name 'df_formatted' is not defined"
     ]
    }
   ],
   "source": [
    "model = ols('DCV_titer ~ genotype * passage', data=df_formatted).fit()\n",
    "anova_table = sm.stats.anova_lm(model, typ=2)\n",
    "anova_table"
   ]
  },
  {
   "cell_type": "code",
   "execution_count": null,
   "id": "f6a3032a",
   "metadata": {},
   "outputs": [],
   "source": []
  }
 ],
 "metadata": {
  "kernelspec": {
   "display_name": "Python 3 (ipykernel)",
   "language": "python",
   "name": "python3"
  },
  "language_info": {
   "codemirror_mode": {
    "name": "ipython",
    "version": 3
   },
   "file_extension": ".py",
   "mimetype": "text/x-python",
   "name": "python",
   "nbconvert_exporter": "python",
   "pygments_lexer": "ipython3",
   "version": "3.9.0"
  }
 },
 "nbformat": 4,
 "nbformat_minor": 5
}

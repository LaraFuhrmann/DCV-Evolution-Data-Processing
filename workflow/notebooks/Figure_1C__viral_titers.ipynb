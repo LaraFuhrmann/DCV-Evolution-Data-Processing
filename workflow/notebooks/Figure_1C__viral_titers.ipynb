{
 "cells": [
  {
   "cell_type": "markdown",
   "id": "2ad8e51a",
   "metadata": {},
   "source": [
    "# Assess the impact of fly genotype, replicate and passage on DCV titers. \n",
    "Note that, in every passage we infect with the same amount of virus. "
   ]
  },
  {
   "cell_type": "code",
   "execution_count": 1,
   "id": "041d5cf2",
   "metadata": {},
   "outputs": [],
   "source": [
    "import pandas as pd\n",
    "import numpy as np\n",
    "import matplotlib.pyplot as plt\n",
    "import seaborn as sns\n",
    "from scipy.stats import normaltest\n",
    "import statsmodels.api as sm\n",
    "from bioinfokit.analys import stat\n",
    "import scipy.stats as stats\n",
    "from statannotations.Annotator import Annotator"
   ]
  },
  {
   "cell_type": "code",
   "execution_count": 2,
   "id": "7a374aef",
   "metadata": {},
   "outputs": [],
   "source": [
    "our_color_palette ={\"WT\": \"#F2C14E\", \"KO\": \"#F15BB5\", \"OE\": \"#368F8B\"}\n",
    "genotype_order = [\"WT\", \"KO\", \"OE\"]\n",
    "passage_order = ['P1', 'P2', 'P3', 'P4', 'P5', 'P6', 'P7', 'P8', 'P9', 'P10']"
   ]
  },
  {
   "cell_type": "code",
   "execution_count": 3,
   "id": "1518d405",
   "metadata": {},
   "outputs": [
    {
     "data": {
      "text/html": [
       "<div>\n",
       "<style scoped>\n",
       "    .dataframe tbody tr th:only-of-type {\n",
       "        vertical-align: middle;\n",
       "    }\n",
       "\n",
       "    .dataframe tbody tr th {\n",
       "        vertical-align: top;\n",
       "    }\n",
       "\n",
       "    .dataframe thead th {\n",
       "        text-align: right;\n",
       "    }\n",
       "</style>\n",
       "<table border=\"1\" class=\"dataframe\">\n",
       "  <thead>\n",
       "    <tr style=\"text-align: right;\">\n",
       "      <th></th>\n",
       "      <th>passage</th>\n",
       "      <th>genotype</th>\n",
       "      <th>replicate</th>\n",
       "      <th>DCV_titer</th>\n",
       "    </tr>\n",
       "  </thead>\n",
       "  <tbody>\n",
       "    <tr>\n",
       "      <th>0</th>\n",
       "      <td>P1</td>\n",
       "      <td>WT</td>\n",
       "      <td>a</td>\n",
       "      <td>1.700000e+09</td>\n",
       "    </tr>\n",
       "    <tr>\n",
       "      <th>1</th>\n",
       "      <td>P2</td>\n",
       "      <td>WT</td>\n",
       "      <td>a</td>\n",
       "      <td>3.160000e+09</td>\n",
       "    </tr>\n",
       "    <tr>\n",
       "      <th>2</th>\n",
       "      <td>P3</td>\n",
       "      <td>WT</td>\n",
       "      <td>a</td>\n",
       "      <td>1.000000e+10</td>\n",
       "    </tr>\n",
       "    <tr>\n",
       "      <th>3</th>\n",
       "      <td>P4</td>\n",
       "      <td>WT</td>\n",
       "      <td>a</td>\n",
       "      <td>4.640000e+09</td>\n",
       "    </tr>\n",
       "    <tr>\n",
       "      <th>4</th>\n",
       "      <td>P5</td>\n",
       "      <td>WT</td>\n",
       "      <td>a</td>\n",
       "      <td>2.150000e+09</td>\n",
       "    </tr>\n",
       "  </tbody>\n",
       "</table>\n",
       "</div>"
      ],
      "text/plain": [
       "  passage genotype replicate     DCV_titer\n",
       "0      P1       WT         a  1.700000e+09\n",
       "1      P2       WT         a  3.160000e+09\n",
       "2      P3       WT         a  1.000000e+10\n",
       "3      P4       WT         a  4.640000e+09\n",
       "4      P5       WT         a  2.150000e+09"
      ]
     },
     "execution_count": 3,
     "metadata": {},
     "output_type": "execute_result"
    }
   ],
   "source": [
    "# import the values\n",
    " \n",
    "df = pd.read_csv('../../resources/measurements/20220926-RNAi_evolution_Titers_overview_formatted.csv')\n",
    "df.head(5)"
   ]
  },
  {
   "cell_type": "code",
   "execution_count": 4,
   "id": "d505a99c",
   "metadata": {},
   "outputs": [],
   "source": [
    "# log-transform titer values to \"normalize\" data distribution \n",
    "df[\"log_DCV_titer\"] = np.log10(df['DCV_titer'])"
   ]
  },
  {
   "cell_type": "markdown",
   "id": "33b50208",
   "metadata": {},
   "source": [
    "## Compare titers between genotype for each passage"
   ]
  },
  {
   "cell_type": "code",
   "execution_count": 5,
   "id": "0f96af82",
   "metadata": {},
   "outputs": [
    {
     "name": "stdout",
     "output_type": "stream",
     "text": [
      "0.40239803723143225\n",
      "0.7239254330641363\n",
      "0.6609943411204602\n",
      "0.6032959064952662\n"
     ]
    }
   ],
   "source": [
    "# test normalitiy --> H0: samples comes from normal distribution\n",
    "print(normaltest(df[df['genotype']==\"WT\"]['log_DCV_titer']).pvalue)\n",
    "print(normaltest(df[df['genotype']==\"OE\"]['log_DCV_titer']).pvalue)\n",
    "print(normaltest(df[df['genotype']==\"KO\"]['log_DCV_titer']).pvalue)\n",
    "print(normaltest(df['log_DCV_titer']).pvalue)"
   ]
  },
  {
   "cell_type": "code",
   "execution_count": 6,
   "id": "a93d1d97",
   "metadata": {},
   "outputs": [
    {
     "name": "stdout",
     "output_type": "stream",
     "text": [
      "p-value annotation legend:\n",
      "      ns: p <= 1.00e+00\n",
      "       *: 1.00e-02 < p <= 5.00e-02\n",
      "      **: 1.00e-03 < p <= 1.00e-02\n",
      "     ***: 1.00e-04 < p <= 1.00e-03\n",
      "    ****: p <= 1.00e-04\n",
      "\n",
      "P2_KO vs. P2_OE: t-test independent samples, P_val:1.359e-01 t=1.658e+00\n",
      "P3_WT vs. P3_KO: t-test independent samples, P_val:1.228e-01 t=-1.725e+00\n",
      "P3_KO vs. P3_OE: t-test independent samples, P_val:4.883e-01 t=7.264e-01\n",
      "P4_WT vs. P4_KO: t-test independent samples, P_val:9.066e-01 t=-1.212e-01\n",
      "P4_KO vs. P4_OE: t-test independent samples, P_val:4.730e-01 t=-7.530e-01\n",
      "P5_WT vs. P5_KO: t-test independent samples, P_val:1.341e-02 t=-3.159e+00\n",
      "P5_KO vs. P5_OE: t-test independent samples, P_val:6.500e-02 t=2.138e+00\n",
      "P6_WT vs. P6_KO: t-test independent samples, P_val:1.459e-01 t=-1.611e+00\n",
      "P6_KO vs. P6_OE: t-test independent samples, P_val:8.749e-01 t=1.626e-01\n",
      "P7_WT vs. P7_KO: t-test independent samples, P_val:5.685e-01 t=-5.947e-01\n",
      "P7_KO vs. P7_OE: t-test independent samples, P_val:1.127e-01 t=1.781e+00\n",
      "P8_WT vs. P8_KO: t-test independent samples, P_val:4.421e-01 t=8.087e-01\n",
      "P8_KO vs. P8_OE: t-test independent samples, P_val:9.005e-01 t=-1.291e-01\n",
      "P9_WT vs. P9_KO: t-test independent samples, P_val:4.345e-01 t=-8.226e-01\n",
      "P1_WT vs. P1_KO: t-test independent samples, P_val:5.742e-01 t=-5.858e-01\n",
      "P1_KO vs. P1_OE: t-test independent samples, P_val:5.975e-01 t=5.498e-01\n",
      "P2_WT vs. P2_KO: t-test independent samples, P_val:1.360e-02 t=-3.150e+00\n",
      "P9_KO vs. P9_OE: t-test independent samples, P_val:6.919e-01 t=4.110e-01\n",
      "P10_WT vs. P10_KO: t-test independent samples, P_val:2.414e-01 t=-1.265e+00\n",
      "P10_KO vs. P10_OE: t-test independent samples, P_val:3.833e-01 t=9.224e-01\n",
      "P3_WT vs. P3_OE: t-test independent samples, P_val:9.996e-01 t=5.646e-04\n",
      "P4_WT vs. P4_OE: t-test independent samples, P_val:4.232e-01 t=-8.439e-01\n",
      "P5_WT vs. P5_OE: t-test independent samples, P_val:4.645e-01 t=-7.680e-01\n",
      "P6_WT vs. P6_OE: t-test independent samples, P_val:2.078e-01 t=-1.370e+00\n",
      "P7_WT vs. P7_OE: t-test independent samples, P_val:4.687e-01 t=7.606e-01\n",
      "P8_WT vs. P8_OE: t-test independent samples, P_val:5.301e-01 t=6.561e-01\n",
      "P2_WT vs. P2_OE: t-test independent samples, P_val:2.138e-01 t=-1.351e+00\n",
      "P1_WT vs. P1_OE: t-test independent samples, P_val:8.473e-01 t=-1.989e-01\n",
      "P9_WT vs. P9_OE: t-test independent samples, P_val:7.372e-01 t=-3.474e-01\n",
      "P10_WT vs. P10_OE: t-test independent samples, P_val:4.862e-01 t=-7.301e-01\n"
     ]
    },
    {
     "data": {
      "text/plain": [
       "(<AxesSubplot: xlabel='passage', ylabel='DCV_titer'>,\n",
       " [<statannotations.Annotation.Annotation at 0x7f7bde15f670>,\n",
       "  <statannotations.Annotation.Annotation at 0x7f7bde2ebaf0>,\n",
       "  <statannotations.Annotation.Annotation at 0x7f7bde2eb9d0>,\n",
       "  <statannotations.Annotation.Annotation at 0x7f7bde2ebc40>,\n",
       "  <statannotations.Annotation.Annotation at 0x7f7bde2ebd30>,\n",
       "  <statannotations.Annotation.Annotation at 0x7f7bde2ebdf0>,\n",
       "  <statannotations.Annotation.Annotation at 0x7f7bde2ebeb0>,\n",
       "  <statannotations.Annotation.Annotation at 0x7f7bde2ebf70>,\n",
       "  <statannotations.Annotation.Annotation at 0x7f7bde2fc070>,\n",
       "  <statannotations.Annotation.Annotation at 0x7f7bde2fc130>,\n",
       "  <statannotations.Annotation.Annotation at 0x7f7bde2fc1f0>,\n",
       "  <statannotations.Annotation.Annotation at 0x7f7bde2fc2b0>,\n",
       "  <statannotations.Annotation.Annotation at 0x7f7bde2fc370>,\n",
       "  <statannotations.Annotation.Annotation at 0x7f7bde2fc430>,\n",
       "  <statannotations.Annotation.Annotation at 0x7f7bde2fc4f0>,\n",
       "  <statannotations.Annotation.Annotation at 0x7f7bde2fc5b0>,\n",
       "  <statannotations.Annotation.Annotation at 0x7f7bde2fc670>,\n",
       "  <statannotations.Annotation.Annotation at 0x7f7bde2fc730>,\n",
       "  <statannotations.Annotation.Annotation at 0x7f7bde2fc7f0>,\n",
       "  <statannotations.Annotation.Annotation at 0x7f7bde2fc8b0>,\n",
       "  <statannotations.Annotation.Annotation at 0x7f7bde2fc970>,\n",
       "  <statannotations.Annotation.Annotation at 0x7f7bde2fca30>,\n",
       "  <statannotations.Annotation.Annotation at 0x7f7bde2fcaf0>,\n",
       "  <statannotations.Annotation.Annotation at 0x7f7bde2fcbb0>,\n",
       "  <statannotations.Annotation.Annotation at 0x7f7bde2fcc70>,\n",
       "  <statannotations.Annotation.Annotation at 0x7f7bde2fcd30>,\n",
       "  <statannotations.Annotation.Annotation at 0x7f7bde2fcdf0>,\n",
       "  <statannotations.Annotation.Annotation at 0x7f7bde2fceb0>,\n",
       "  <statannotations.Annotation.Annotation at 0x7f7bde2fcf70>,\n",
       "  <statannotations.Annotation.Annotation at 0x7f7bde2fe070>])"
      ]
     },
     "execution_count": 6,
     "metadata": {},
     "output_type": "execute_result"
    },
    {
     "data": {
      "image/png": "[encoded data removed]",
      "text/plain": [
       "<Figure size 1152x576 with 1 Axes>"
      ]
     },
     "metadata": {
      "needs_background": "light"
     },
     "output_type": "display_data"
    }
   ],
   "source": [
    "fig, ax = plt.subplots(1,1,  sharey=True, figsize=(16,8))\n",
    "\n",
    "\n",
    "sns.barplot(\n",
    "            ax=ax,\n",
    "            data=df,\n",
    "            x=\"passage\", \n",
    "            y=\"DCV_titer\",\n",
    "            hue=\"genotype\", \n",
    "            hue_order=genotype_order,\n",
    "            order=passage_order, \n",
    "            palette=our_color_palette,\n",
    "            errwidth=1.1, \n",
    "            capsize=0.1,\n",
    "            )\n",
    "plt.yscale('log')\n",
    "plt.ylim((10**7, 10**11))\n",
    "\n",
    "\n",
    "pairs = [((\"P1\", \"WT\"), (\"P1\", \"KO\")),\n",
    "         ((\"P1\", \"WT\"), (\"P1\", \"OE\")),\n",
    "         ((\"P1\", \"OE\"), (\"P1\", \"KO\")),\n",
    "         \n",
    "         ((\"P2\", \"WT\"), (\"P2\", \"KO\")),\n",
    "         ((\"P2\", \"WT\"), (\"P2\", \"OE\")),\n",
    "         ((\"P2\", \"OE\"), (\"P2\", \"KO\")),\n",
    "         \n",
    "         ((\"P3\", \"WT\"), (\"P3\", \"KO\")),\n",
    "         ((\"P3\", \"WT\"), (\"P3\", \"OE\")),\n",
    "         ((\"P3\", \"OE\"), (\"P3\", \"KO\")),\n",
    "         \n",
    "         ((\"P4\", \"WT\"), (\"P4\", \"KO\")),\n",
    "         ((\"P4\", \"WT\"), (\"P4\", \"OE\")),\n",
    "         ((\"P4\", \"OE\"), (\"P4\", \"KO\")),\n",
    "         \n",
    "         ((\"P5\", \"WT\"), (\"P5\", \"KO\")),\n",
    "         ((\"P5\", \"WT\"), (\"P5\", \"OE\")),\n",
    "         ((\"P5\", \"OE\"), (\"P5\", \"KO\")),\n",
    "         \n",
    "         ((\"P6\", \"WT\"), (\"P6\", \"KO\")),\n",
    "         ((\"P6\", \"WT\"), (\"P6\", \"OE\")),\n",
    "         ((\"P6\", \"OE\"), (\"P6\", \"KO\")),\n",
    "         \n",
    "         ((\"P7\", \"WT\"), (\"P7\", \"KO\")),\n",
    "         ((\"P7\", \"WT\"), (\"P7\", \"OE\")),\n",
    "         ((\"P7\", \"OE\"), (\"P7\", \"KO\")),\n",
    "         \n",
    "         ((\"P8\", \"WT\"), (\"P8\", \"KO\")),\n",
    "         ((\"P8\", \"WT\"), (\"P8\", \"OE\")),\n",
    "         ((\"P8\", \"OE\"), (\"P8\", \"KO\")),\n",
    "         \n",
    "         ((\"P9\", \"WT\"), (\"P9\", \"KO\")),\n",
    "         ((\"P9\", \"WT\"), (\"P9\", \"OE\")),\n",
    "         ((\"P9\", \"OE\"), (\"P9\", \"KO\")),\n",
    "         \n",
    "         ((\"P10\", \"WT\"), (\"P10\", \"KO\")),\n",
    "         ((\"P10\", \"WT\"), (\"P10\", \"OE\")),\n",
    "         ((\"P10\", \"OE\"), (\"P10\", \"KO\")),\n",
    "         \n",
    "        ]\n",
    "\n",
    "\n",
    "# subset the table otherwise the stats were calculated on the whole dataset\n",
    "annot = Annotator(ax,\n",
    "                  pairs, \n",
    "                  data=df, \n",
    "                  x=\"passage\", \n",
    "                  y=\"log_DCV_titer\",\n",
    "                  hue=\"genotype\", \n",
    "                  hue_order=genotype_order,\n",
    "                  order=passage_order, \n",
    "                  palette=our_color_palette,\n",
    "                  ) \n",
    "annot.configure(test='t-test_ind',loc='inside', verbose=2)\n",
    "annot.apply_test().annotate()"
   ]
  },
  {
   "cell_type": "code",
   "execution_count": 8,
   "id": "3b65c03b",
   "metadata": {},
   "outputs": [],
   "source": [
    "fig.savefig(\"./000__Manuscript_figures/Figure_1C__viral_titers.pdf\")\n",
    "fig.savefig(\"./000__Manuscript_figures/Figure_1C__viral_titers.svg\")"
   ]
  },
  {
   "cell_type": "code",
   "execution_count": null,
   "id": "63899eb3",
   "metadata": {},
   "outputs": [],
   "source": []
  }
 ],
 "metadata": {
  "kernelspec": {
   "display_name": "Python 3 (ipykernel)",
   "language": "python",
   "name": "python3"
  },
  "language_info": {
   "codemirror_mode": {
    "name": "ipython",
    "version": 3
   },
   "file_extension": ".py",
   "mimetype": "text/x-python",
   "name": "python",
   "nbconvert_exporter": "python",
   "pygments_lexer": "ipython3",
   "version": "3.9.0"
  }
 },
 "nbformat": 4,
 "nbformat_minor": 5
}

{
 "cells": [
  {
   "cell_type": "code",
   "execution_count": 1,
   "id": "2fad8a82",
   "metadata": {},
   "outputs": [],
   "source": [
    "import pandas as pd\n",
    "from scipy import stats\n",
    "import numpy as np\n",
    "import seaborn as sns\n",
    "from matplotlib import pyplot as plt\n",
    "from scipy.stats import normaltest\n",
    "from statannotations.Annotator import Annotator"
   ]
  },
  {
   "cell_type": "markdown",
   "id": "9d8232ca",
   "metadata": {},
   "source": [
    "### Import SNPGenie results\n",
    "\n",
    "piN and piS were computed with SNPGenie. "
   ]
  },
  {
   "cell_type": "code",
   "execution_count": 2,
   "id": "11af12f3",
   "metadata": {},
   "outputs": [],
   "source": [
    "df_WT= pd.read_csv('../../resources/run_workflow/results_cluster/wild_type/snpgenie_codon_results.csv')\n",
    "df_KO = pd.read_csv('../../resources/run_workflow/results_cluster/dicer_KO/snpgenie_codon_results.csv')\n",
    "df_OE = pd.read_csv('../../resources/run_workflow/results_cluster/dicer_overexpression/snpgenie_codon_results.csv')\n",
    "\n",
    "df_codon = pd.concat([df_WT, df_KO, df_OE])"
   ]
  },
  {
   "cell_type": "markdown",
   "id": "0dca4717",
   "metadata": {},
   "source": [
    "### Compute pi_S and pi_N per protein "
   ]
  },
  {
   "cell_type": "code",
   "execution_count": 3,
   "id": "f6b4280a",
   "metadata": {},
   "outputs": [],
   "source": [
    "# per codon measurement\n",
    "\n",
    "# piS: The mean number of pairwise synonymous differences per synonymous site in this product.\n",
    "df_codon['piS'] = df_codon['S_diffs']/df_codon['S_sites']\n",
    "\n",
    "# piN: The mean number of pairwise nonsynonymous differences per nonsynonymous site in this product.\n",
    "df_codon['piN'] = df_codon['N_diffs']/df_codon['N_sites']\n",
    "\n",
    "#df_codon['piN/piS'] = df_codon['piN']/df_codon['piS']"
   ]
  },
  {
   "cell_type": "code",
   "execution_count": 4,
   "id": "1b08badc",
   "metadata": {},
   "outputs": [],
   "source": [
    "df_codon = df_codon[['site', 'codon', 'genotype', 'replicate', 'passage', 'piS', 'piN']]"
   ]
  },
  {
   "cell_type": "markdown",
   "id": "f624b206",
   "metadata": {},
   "source": [
    "### Define proteins"
   ]
  },
  {
   "cell_type": "code",
   "execution_count": 5,
   "id": "db01cdf3",
   "metadata": {},
   "outputs": [],
   "source": [
    "# Define proteins and full genome\n",
    "proteins = {\n",
    "    \"Full_genome\": (1, 9228),\n",
    "    \"1A\": (799, 1089),\n",
    "    \"2A\": (1092, 1161),\n",
    "    \"2B\": (1164, 1587),\n",
    "    \"2C\": (1590, 2901),\n",
    "    \"3A\": (2904, 3501),\n",
    "    \"3C\": (3504, 4422),\n",
    "    \"RdRp\": (4425, 6072),\n",
    "    \"VP2\": (6267, 7110),\n",
    "    \"VP4\": (7113, 7281),\n",
    "    \"VP3\": (7284, 8175),\n",
    "    \"VP1\": (8175, 8970),\n",
    "}\n",
    "\n",
    "protein_order = list(proteins.keys())"
   ]
  },
  {
   "cell_type": "code",
   "execution_count": 6,
   "id": "fdd10b39",
   "metadata": {},
   "outputs": [],
   "source": [
    "df_pis_protein = pd.DataFrame() \n",
    "\n",
    "for genotype in ['wild_type', 'dicer_KO', 'dicer_over_expressing']:\n",
    "    for passage in [\"passage_1\", \"passage_5\", \"passage_10\"]:\n",
    "        for replicate in ['replicate_d', 'replicate_b', 'replicate_a', 'replicate_e','replicate_c']:\n",
    "            for protein in proteins.items():\n",
    "                protein_id = protein[0]\n",
    "                protein_start = protein[1][0]\n",
    "                protein_end = protein[1][1]\n",
    "                protein_length = protein_end - protein_start\n",
    "\n",
    "                df_temp = df_codon[df_codon['genotype']== genotype]\n",
    "                df_temp = df_temp[df_temp['passage']==passage]\n",
    "                df_temp = df_temp[df_temp['replicate']==replicate]\n",
    "                df_temp = df_temp[df_temp['site'].isin(list(range(protein_start,protein_end+1 )))]\n",
    "\n",
    "                mean_pis = {\n",
    "                            'genotype': [genotype], \n",
    "                            'passage': passage, \n",
    "                            'replicate': replicate,\n",
    "                            'protein': protein_id,\n",
    "                            'piN': df_temp['piN'].sum()/protein_length/3, \n",
    "                            'piS': df_temp['piS'].sum()/protein_length/3, \n",
    "                            'piN-piS': df_temp['piN'].sum()/protein_length - df_temp['piS'].sum()/protein_length/3,\n",
    "                        }\n",
    "                df_pis_protein = pd.concat([df_pis_protein, pd.DataFrame(data=mean_pis)])\n",
    "                "
   ]
  },
  {
   "cell_type": "markdown",
   "id": "f0e37925",
   "metadata": {},
   "source": [
    "### Per protein, use paired t-test to test the null-hypothesis of neutral selection (pi_S = pi_N) "
   ]
  },
  {
   "cell_type": "code",
   "execution_count": 8,
   "id": "22180bdb",
   "metadata": {},
   "outputs": [
    {
     "name": "stdout",
     "output_type": "stream",
     "text": [
      "Full_genome :  0.4575954356967997\n",
      "1A :  nan\n",
      "2A :  nan\n",
      "2B :  nan\n",
      "2C :  0.4114194357258223\n",
      "3A :  0.3299368422013513\n",
      "3C :  0.001677260888398869\n",
      "RdRp :  0.2944454259305425\n",
      "VP2 :  0.3911327235622831\n",
      "VP4 :  nan\n",
      "VP3 :  nan\n",
      "VP1 :  2.990279660414878e-05\n"
     ]
    },
    {
     "name": "stderr",
     "output_type": "stream",
     "text": [
      "/Users/lfuhrmann/Library/Python/3.9/lib/python/site-packages/pandas/core/arraylike.py:402: RuntimeWarning: divide by zero encountered in log10\n",
      "  result = getattr(ufunc, method)(*inputs, **kwargs)\n",
      "/Users/lfuhrmann/Library/Python/3.9/lib/python/site-packages/scipy/stats/stats.py:951: RuntimeWarning: invalid value encountered in subtract\n",
      "  a_zero_mean = a - mean\n",
      "/Users/lfuhrmann/Library/Python/3.9/lib/python/site-packages/scipy/stats/stats.py:1448: RuntimeWarning: invalid value encountered in log\n",
      "  Z = delta * np.log(y / alpha + np.sqrt((y / alpha)**2 + 1))\n",
      "/Users/lfuhrmann/Library/Python/3.9/lib/python/site-packages/numpy/core/_methods.py:179: RuntimeWarning: invalid value encountered in reduce\n",
      "  ret = umr_sum(arr, axis, dtype, out, keepdims, where=where)\n"
     ]
    }
   ],
   "source": [
    "# test normalitiy --> H0: samples comes from normal distribution\n",
    "\n",
    "for protein in protein_order: \n",
    "    df_t2 = df_pis_protein[df_pis_protein[\"protein\"]==protein]\n",
    "    print(protein, \": \", normaltest(np.log10(df_t2['piN']) - np.log10(df_t2['piS'])).pvalue)"
   ]
  },
  {
   "cell_type": "code",
   "execution_count": 9,
   "id": "ac235a02",
   "metadata": {},
   "outputs": [],
   "source": [
    "def f_ttest(pi_N, pi_S):\n",
    "    return stats.ttest_rel(pi_N, pi_S)[1] # only return p-value"
   ]
  },
  {
   "cell_type": "code",
   "execution_count": 10,
   "id": "00bc4665",
   "metadata": {},
   "outputs": [],
   "source": [
    "df_p_value = pd.DataFrame() \n",
    "\n",
    "for genotype in ['wild_type', 'dicer_KO', 'dicer_over_expressing']:\n",
    "    for passage in [\"passage_1\", \"passage_5\", \"passage_10\"]:\n",
    "        for protein in list(proteins.keys()) + [\"Full_genome\"]:\n",
    "            \n",
    "            # query relevant rows\n",
    "            df_temp = df_pis_protein[df_pis_protein['genotype']== genotype]\n",
    "            df_temp = df_temp[df_temp['passage']==passage]\n",
    "            df_temp = df_temp[df_temp['protein']==protein]\n",
    "            \n",
    "            pi_N = df_temp[\"piN\"].values\n",
    "            pi_S = df_temp[\"piS\"].values\n",
    "            \n",
    "            tmp_dict = {\n",
    "                \"genotype\": [genotype], \n",
    "                'passage': passage, \n",
    "                'protein': protein,\n",
    "                'mean_piN': np.mean(pi_N), \n",
    "                'mean_piS': np.mean(pi_S), \n",
    "                'mean_piN-mean_piS': np.mean(pi_N) - np.mean(pi_S), \n",
    "                'piN/piS': np.mean(pi_N)/np.mean(pi_S), \n",
    "                'sem_piN': stats.sem(pi_N),\n",
    "                'sem_piS': stats.sem(pi_S),\n",
    "                'p-value': f_ttest(pi_N, pi_S),\n",
    "            }\n",
    "            df_p_value = pd.concat([df_p_value, pd.DataFrame(data=tmp_dict)])"
   ]
  },
  {
   "cell_type": "code",
   "execution_count": 11,
   "id": "03e05772",
   "metadata": {},
   "outputs": [],
   "source": [
    "df_sns = pd.DataFrame() \n",
    "\n",
    "for genotype in ['wild_type', 'dicer_KO', 'dicer_over_expressing']:\n",
    "    for passage in [\"passage_1\", \"passage_5\", \"passage_10\"]:\n",
    "        for protein in list(proteins.keys()) + [\"Full_genome\"]:\n",
    "            \n",
    "            # query relevant rows\n",
    "            df_temp = df_pis_protein[df_pis_protein['genotype']== genotype]\n",
    "            df_temp = df_temp[df_temp['passage']==passage]\n",
    "            df_temp = df_temp[df_temp['protein']==protein]\n",
    "            \n",
    "            pi_N = df_temp[\"piN\"].values\n",
    "            pi_S = df_temp[\"piS\"].values\n",
    "            p_val = f_ttest(pi_N, pi_S)\n",
    "            \n",
    "            for replicate in ['replicate_d', 'replicate_b', 'replicate_a', 'replicate_e','replicate_c']:\n",
    "                tmp_dict = {\n",
    "                    \"genotype\": [genotype], \n",
    "                    'passage': passage, \n",
    "                    'protein': protein,\n",
    "                    'replicate': replicate, \n",
    "                    'value': df_temp[df_temp['replicate']==replicate][\"piN\"].values, \n",
    "                    'measure': \"piN\", \n",
    "                    'p-value': p_val,\n",
    "                }\n",
    "                df_sns = pd.concat([df_sns, pd.DataFrame(data=tmp_dict)])\n",
    "                \n",
    "                tmp_dict = {\n",
    "                    \"genotype\": [genotype], \n",
    "                    'passage': passage, \n",
    "                    'protein': protein,\n",
    "                    'replicate': replicate, \n",
    "                    'measure': \"piS\", \n",
    "                    'value': df_temp[df_temp['replicate']==replicate][\"piS\"].values, \n",
    "                    'p-value': p_val,\n",
    "                }\n",
    "                df_sns = pd.concat([df_sns, pd.DataFrame(data=tmp_dict)])"
   ]
  },
  {
   "cell_type": "code",
   "execution_count": 12,
   "id": "3a1e8c46",
   "metadata": {},
   "outputs": [],
   "source": [
    "df_sns = df_sns.reset_index()"
   ]
  },
  {
   "cell_type": "code",
   "execution_count": 13,
   "id": "acfc2586",
   "metadata": {},
   "outputs": [],
   "source": [
    "pairs_subplots = [\n",
    "    (( \"Full_genome\", \"piN\"), (\"Full_genome\", \"piS\")),\n",
    "    ((\"1A\", \"piN\"), (\"1A\", \"piS\")),\n",
    "    ((\"2A\", \"piN\"), (\"2A\", \"piS\")),\n",
    "    ((\"2B\", \"piN\"), (\"2B\", \"piS\")),\n",
    "    ((\"2C\", \"piN\"), (\"2C\", \"piS\")),\n",
    "    ((\"3A\", \"piN\"), (\"3A\", \"piS\")),\n",
    "    ((\"3C\", \"piN\"), (\"3C\", \"piS\")),\n",
    "    ((\"RdRp\", \"piN\"), (\"RdRp\", \"piS\")),\n",
    "    ((\"VP2\", \"piN\"), (\"VP2\", \"piS\")),\n",
    "    ((\"VP4\", \"piN\"), (\"VP4\", \"piS\")),\n",
    "    ((\"VP3\", \"piN\"), (\"VP3\", \"piS\")),\n",
    "    ((\"VP1\", \"piN\"), (\"VP1\", \"piS\")),\n",
    "]"
   ]
  },
  {
   "cell_type": "code",
   "execution_count": 14,
   "id": "7fef3807",
   "metadata": {
    "scrolled": false
   },
   "outputs": [
    {
     "name": "stderr",
     "output_type": "stream",
     "text": [
      "/Users/lfuhrmann/Library/Python/3.9/lib/python/site-packages/statannotations/_Plotter.py:337: UserWarning: Invalid x-position found. Are the same parameters passed to seaborn and statannotations calls? or are there few data points?\n",
      "  warnings.warn(\n",
      "/Users/lfuhrmann/Library/Python/3.9/lib/python/site-packages/statannotations/_Plotter.py:337: UserWarning: Invalid x-position found. Are the same parameters passed to seaborn and statannotations calls? or are there few data points?\n",
      "  warnings.warn(\n"
     ]
    },
    {
     "name": "stdout",
     "output_type": "stream",
     "text": [
      "p-value annotation legend:\n",
      "      ns: p <= 1.00e+00\n",
      "       *: 1.00e-02 < p <= 5.00e-02\n",
      "      **: 1.00e-03 < p <= 1.00e-02\n",
      "     ***: 1.00e-04 < p <= 1.00e-03\n",
      "    ****: p <= 1.00e-04\n",
      "\n",
      "VP4_piN vs. VP4_piS: t-test paired samples, P_val:6.564e-01 t=4.798e-01\n",
      "VP3_piN vs. VP3_piS: t-test paired samples, P_val:4.326e-02 t=2.920e+00\n",
      "VP1_piN vs. VP1_piS: t-test paired samples, P_val:1.501e-02 t=4.087e+00\n",
      "VP2_piN vs. VP2_piS: t-test paired samples, P_val:1.459e-01 t=1.802e+00\n",
      "1A_piN vs. 1A_piS: t-test paired samples, P_val:4.286e-01 t=-8.799e-01\n",
      "Full_genome_piN vs. Full_genome_piS: t-test paired samples, P_val:1.585e-01 t=-1.538e+00\n",
      "2A_piN vs. 2A_piS: t-test paired samples, P_val:2.818e-01 t=-1.243e+00\n",
      "2B_piN vs. 2B_piS: t-test paired samples, P_val:5.694e-01 t=-6.190e-01\n",
      "2C_piN vs. 2C_piS: t-test paired samples, P_val:1.324e-01 t=-1.886e+00\n",
      "3A_piN vs. 3A_piS: t-test paired samples, P_val:3.355e-01 t=-1.094e+00\n",
      "3C_piN vs. 3C_piS: t-test paired samples, P_val:9.257e-01 t=9.931e-02\n",
      "RdRp_piN vs. RdRp_piS: t-test paired samples, P_val:3.207e-01 t=-1.133e+00\n"
     ]
    },
    {
     "name": "stderr",
     "output_type": "stream",
     "text": [
      "/Users/lfuhrmann/Library/Python/3.9/lib/python/site-packages/statannotations/_Plotter.py:337: UserWarning: Invalid x-position found. Are the same parameters passed to seaborn and statannotations calls? or are there few data points?\n",
      "  warnings.warn(\n",
      "/Users/lfuhrmann/Library/Python/3.9/lib/python/site-packages/statannotations/_Plotter.py:337: UserWarning: Invalid x-position found. Are the same parameters passed to seaborn and statannotations calls? or are there few data points?\n",
      "  warnings.warn(\n"
     ]
    },
    {
     "name": "stdout",
     "output_type": "stream",
     "text": [
      "p-value annotation legend:\n",
      "      ns: p <= 1.00e+00\n",
      "       *: 1.00e-02 < p <= 5.00e-02\n",
      "      **: 1.00e-03 < p <= 1.00e-02\n",
      "     ***: 1.00e-04 < p <= 1.00e-03\n",
      "    ****: p <= 1.00e-04\n",
      "\n",
      "VP4_piN vs. VP4_piS: t-test paired samples, P_val:3.771e-01 t=-9.927e-01\n",
      "VP3_piN vs. VP3_piS: t-test paired samples, P_val:7.731e-03 t=4.956e+00\n",
      "VP1_piN vs. VP1_piS: t-test paired samples, P_val:1.383e-02 t=4.188e+00\n",
      "VP2_piN vs. VP2_piS: t-test paired samples, P_val:6.950e-01 t=4.216e-01\n",
      "1A_piN vs. 1A_piS: t-test paired samples, P_val:1.088e-01 t=2.057e+00\n",
      "Full_genome_piN vs. Full_genome_piS: t-test paired samples, P_val:7.728e-03 t=-3.412e+00\n",
      "2A_piN vs. 2A_piS: t-test paired samples, P_val:3.716e-01 t=-1.005e+00\n",
      "2B_piN vs. 2B_piS: t-test paired samples, P_val:3.515e-01 t=1.053e+00\n",
      "2C_piN vs. 2C_piS: t-test paired samples, P_val:7.466e-02 t=-2.396e+00\n",
      "3A_piN vs. 3A_piS: t-test paired samples, P_val:3.219e-01 t=-1.129e+00\n",
      "3C_piN vs. 3C_piS: t-test paired samples, P_val:4.823e-01 t=-7.736e-01\n",
      "RdRp_piN vs. RdRp_piS: t-test paired samples, P_val:2.331e-02 t=-3.573e+00\n"
     ]
    },
    {
     "name": "stderr",
     "output_type": "stream",
     "text": [
      "/Users/lfuhrmann/Library/Python/3.9/lib/python/site-packages/statannotations/_Plotter.py:337: UserWarning: Invalid x-position found. Are the same parameters passed to seaborn and statannotations calls? or are there few data points?\n",
      "  warnings.warn(\n",
      "/Users/lfuhrmann/Library/Python/3.9/lib/python/site-packages/statannotations/_Plotter.py:337: UserWarning: Invalid x-position found. Are the same parameters passed to seaborn and statannotations calls? or are there few data points?\n",
      "  warnings.warn(\n"
     ]
    },
    {
     "name": "stdout",
     "output_type": "stream",
     "text": [
      "p-value annotation legend:\n",
      "      ns: p <= 1.00e+00\n",
      "       *: 1.00e-02 < p <= 5.00e-02\n",
      "      **: 1.00e-03 < p <= 1.00e-02\n",
      "     ***: 1.00e-04 < p <= 1.00e-03\n",
      "    ****: p <= 1.00e-04\n",
      "\n",
      "VP4_piN vs. VP4_piS: t-test paired samples, P_val:3.834e-01 t=-9.781e-01\n",
      "VP3_piN vs. VP3_piS: t-test paired samples, P_val:8.668e-02 t=2.260e+00\n",
      "VP1_piN vs. VP1_piS: t-test paired samples, P_val:8.854e-02 t=2.241e+00\n",
      "VP2_piN vs. VP2_piS: t-test paired samples, P_val:1.920e-01 t=1.568e+00\n",
      "1A_piN vs. 1A_piS: t-test paired samples, P_val:2.188e-01 t=-1.457e+00\n",
      "Full_genome_piN vs. Full_genome_piS: t-test paired samples, P_val:4.493e-01 t=-7.909e-01\n",
      "2A_piN vs. 2A_piS: t-test paired samples, P_val:3.588e-01 t=1.036e+00\n",
      "2B_piN vs. 2B_piS: t-test paired samples, P_val:3.359e-02 t=3.178e+00\n",
      "2C_piN vs. 2C_piS: t-test paired samples, P_val:3.032e-01 t=-1.181e+00\n",
      "3A_piN vs. 3A_piS: t-test paired samples, P_val:4.608e-01 t=-8.150e-01\n",
      "3C_piN vs. 3C_piS: t-test paired samples, P_val:8.804e-01 t=-1.603e-01\n",
      "RdRp_piN vs. RdRp_piS: t-test paired samples, P_val:3.257e-01 t=-1.119e+00\n"
     ]
    },
    {
     "name": "stderr",
     "output_type": "stream",
     "text": [
      "/Users/lfuhrmann/Library/Python/3.9/lib/python/site-packages/statannotations/_Plotter.py:337: UserWarning: Invalid x-position found. Are the same parameters passed to seaborn and statannotations calls? or are there few data points?\n",
      "  warnings.warn(\n",
      "/Users/lfuhrmann/Library/Python/3.9/lib/python/site-packages/statannotations/_Plotter.py:337: UserWarning: Invalid x-position found. Are the same parameters passed to seaborn and statannotations calls? or are there few data points?\n",
      "  warnings.warn(\n"
     ]
    },
    {
     "name": "stdout",
     "output_type": "stream",
     "text": [
      "p-value annotation legend:\n",
      "      ns: p <= 1.00e+00\n",
      "       *: 1.00e-02 < p <= 5.00e-02\n",
      "      **: 1.00e-03 < p <= 1.00e-02\n",
      "     ***: 1.00e-04 < p <= 1.00e-03\n",
      "    ****: p <= 1.00e-04\n",
      "\n",
      "VP4_piN vs. VP4_piS: t-test paired samples, P_val:3.775e-01 t=-9.918e-01\n",
      "VP3_piN vs. VP3_piS: t-test paired samples, P_val:8.362e-02 t=2.293e+00\n",
      "VP1_piN vs. VP1_piS: t-test paired samples, P_val:1.221e-01 t=1.956e+00\n",
      "VP2_piN vs. VP2_piS: t-test paired samples, P_val:6.857e-01 t=4.354e-01\n",
      "1A_piN vs. 1A_piS: t-test paired samples, P_val:7.160e-01 t=-3.906e-01\n",
      "Full_genome_piN vs. Full_genome_piS: t-test paired samples, P_val:4.086e-01 t=-8.667e-01\n",
      "2A_piN vs. 2A_piS: t-test paired samples, P_val:2.274e-01 t=1.425e+00\n",
      "2B_piN vs. 2B_piS: t-test paired samples, P_val:2.860e-02 t=-3.349e+00\n",
      "2C_piN vs. 2C_piS: t-test paired samples, P_val:6.399e-03 t=-5.226e+00\n",
      "3A_piN vs. 3A_piS: t-test paired samples, P_val:1.449e-01 t=-1.808e+00\n",
      "3C_piN vs. 3C_piS: t-test paired samples, P_val:3.721e-02 t=-3.072e+00\n",
      "RdRp_piN vs. RdRp_piS: t-test paired samples, P_val:3.069e-01 t=-1.170e+00\n"
     ]
    },
    {
     "name": "stderr",
     "output_type": "stream",
     "text": [
      "/Users/lfuhrmann/Library/Python/3.9/lib/python/site-packages/statannotations/_Plotter.py:337: UserWarning: Invalid x-position found. Are the same parameters passed to seaborn and statannotations calls? or are there few data points?\n",
      "  warnings.warn(\n",
      "/Users/lfuhrmann/Library/Python/3.9/lib/python/site-packages/statannotations/_Plotter.py:337: UserWarning: Invalid x-position found. Are the same parameters passed to seaborn and statannotations calls? or are there few data points?\n",
      "  warnings.warn(\n"
     ]
    },
    {
     "name": "stdout",
     "output_type": "stream",
     "text": [
      "p-value annotation legend:\n",
      "      ns: p <= 1.00e+00\n",
      "       *: 1.00e-02 < p <= 5.00e-02\n",
      "      **: 1.00e-03 < p <= 1.00e-02\n",
      "     ***: 1.00e-04 < p <= 1.00e-03\n",
      "    ****: p <= 1.00e-04\n",
      "\n",
      "VP4_piN vs. VP4_piS: t-test paired samples, P_val:2.257e-01 t=-1.431e+00\n",
      "VP3_piN vs. VP3_piS: t-test paired samples, P_val:3.398e-02 t=3.166e+00\n",
      "VP1_piN vs. VP1_piS: t-test paired samples, P_val:2.233e-01 t=1.440e+00\n",
      "VP2_piN vs. VP2_piS: t-test paired samples, P_val:4.584e-01 t=8.197e-01\n",
      "1A_piN vs. 1A_piS: t-test paired samples, P_val:4.448e-01 t=8.467e-01\n",
      "Full_genome_piN vs. Full_genome_piS: t-test paired samples, P_val:8.246e-01 t=2.281e-01\n",
      "2A_piN vs. 2A_piS: t-test paired samples, P_val:8.748e-01 t=1.679e-01\n",
      "2B_piN vs. 2B_piS: t-test paired samples, P_val:1.304e-01 t=-1.899e+00\n",
      "2C_piN vs. 2C_piS: t-test paired samples, P_val:2.988e-01 t=-1.193e+00\n",
      "3A_piN vs. 3A_piS: t-test paired samples, P_val:1.852e-01 t=-1.598e+00\n",
      "3C_piN vs. 3C_piS: t-test paired samples, P_val:3.203e-02 t=-3.228e+00\n",
      "RdRp_piN vs. RdRp_piS: t-test paired samples, P_val:5.399e-02 t=-2.702e+00\n"
     ]
    },
    {
     "name": "stderr",
     "output_type": "stream",
     "text": [
      "/Users/lfuhrmann/Library/Python/3.9/lib/python/site-packages/statannotations/_Plotter.py:337: UserWarning: Invalid x-position found. Are the same parameters passed to seaborn and statannotations calls? or are there few data points?\n",
      "  warnings.warn(\n",
      "/Users/lfuhrmann/Library/Python/3.9/lib/python/site-packages/statannotations/_Plotter.py:337: UserWarning: Invalid x-position found. Are the same parameters passed to seaborn and statannotations calls? or are there few data points?\n",
      "  warnings.warn(\n"
     ]
    },
    {
     "name": "stdout",
     "output_type": "stream",
     "text": [
      "p-value annotation legend:\n",
      "      ns: p <= 1.00e+00\n",
      "       *: 1.00e-02 < p <= 5.00e-02\n",
      "      **: 1.00e-03 < p <= 1.00e-02\n",
      "     ***: 1.00e-04 < p <= 1.00e-03\n",
      "    ****: p <= 1.00e-04\n",
      "\n",
      "VP4_piN vs. VP4_piS: t-test paired samples, P_val:4.816e-01 t=-7.750e-01\n",
      "VP3_piN vs. VP3_piS: t-test paired samples, P_val:2.109e-01 t=1.488e+00\n",
      "VP1_piN vs. VP1_piS: t-test paired samples, P_val:6.655e-01 t=4.660e-01\n",
      "VP2_piN vs. VP2_piS: t-test paired samples, P_val:4.098e-01 t=-9.197e-01\n",
      "1A_piN vs. 1A_piS: t-test paired samples, P_val:8.055e-01 t=2.631e-01\n",
      "Full_genome_piN vs. Full_genome_piS: t-test paired samples, P_val:2.625e-02 t=-2.655e+00\n",
      "2A_piN vs. 2A_piS: t-test paired samples, P_val:4.340e-01 t=8.688e-01\n",
      "2B_piN vs. 2B_piS: t-test paired samples, P_val:3.764e-01 t=-9.942e-01\n",
      "2C_piN vs. 2C_piS: t-test paired samples, P_val:2.742e-02 t=-3.394e+00\n",
      "3A_piN vs. 3A_piS: t-test paired samples, P_val:8.929e-01 t=-1.434e-01\n",
      "3C_piN vs. 3C_piS: t-test paired samples, P_val:1.135e-02 t=-4.438e+00\n",
      "RdRp_piN vs. RdRp_piS: t-test paired samples, P_val:2.322e-02 t=-3.577e+00\n"
     ]
    },
    {
     "name": "stderr",
     "output_type": "stream",
     "text": [
      "/Users/lfuhrmann/Library/Python/3.9/lib/python/site-packages/statannotations/_Plotter.py:337: UserWarning: Invalid x-position found. Are the same parameters passed to seaborn and statannotations calls? or are there few data points?\n",
      "  warnings.warn(\n",
      "/Users/lfuhrmann/Library/Python/3.9/lib/python/site-packages/statannotations/_Plotter.py:337: UserWarning: Invalid x-position found. Are the same parameters passed to seaborn and statannotations calls? or are there few data points?\n",
      "  warnings.warn(\n"
     ]
    },
    {
     "name": "stdout",
     "output_type": "stream",
     "text": [
      "p-value annotation legend:\n",
      "      ns: p <= 1.00e+00\n",
      "       *: 1.00e-02 < p <= 5.00e-02\n",
      "      **: 1.00e-03 < p <= 1.00e-02\n",
      "     ***: 1.00e-04 < p <= 1.00e-03\n",
      "    ****: p <= 1.00e-04\n",
      "\n",
      "VP4_piN vs. VP4_piS: t-test paired samples, P_val:2.151e-01 t=-1.472e+00\n",
      "VP3_piN vs. VP3_piS: t-test paired samples, P_val:8.628e-02 t=2.264e+00\n",
      "VP1_piN vs. VP1_piS: t-test paired samples, P_val:1.143e-01 t=2.013e+00\n",
      "VP2_piN vs. VP2_piS: t-test paired samples, P_val:9.598e-01 t=5.369e-02\n",
      "1A_piN vs. 1A_piS: t-test paired samples, P_val:2.585e-02 t=-3.458e+00\n",
      "Full_genome_piN vs. Full_genome_piS: t-test paired samples, P_val:4.854e-04 t=-5.313e+00\n",
      "2A_piN vs. 2A_piS: t-test paired samples, P_val:8.548e-01 t=-1.951e-01\n",
      "2B_piN vs. 2B_piS: t-test paired samples, P_val:8.348e-02 t=-2.294e+00\n",
      "2C_piN vs. 2C_piS: t-test paired samples, P_val:4.969e-03 t=-5.607e+00\n",
      "3A_piN vs. 3A_piS: t-test paired samples, P_val:7.831e-02 t=-2.352e+00\n",
      "3C_piN vs. 3C_piS: t-test paired samples, P_val:9.019e-03 t=-4.743e+00\n",
      "RdRp_piN vs. RdRp_piS: t-test paired samples, P_val:2.374e-01 t=-1.388e+00\n"
     ]
    },
    {
     "name": "stderr",
     "output_type": "stream",
     "text": [
      "/Users/lfuhrmann/Library/Python/3.9/lib/python/site-packages/statannotations/_Plotter.py:337: UserWarning: Invalid x-position found. Are the same parameters passed to seaborn and statannotations calls? or are there few data points?\n",
      "  warnings.warn(\n",
      "/Users/lfuhrmann/Library/Python/3.9/lib/python/site-packages/statannotations/_Plotter.py:337: UserWarning: Invalid x-position found. Are the same parameters passed to seaborn and statannotations calls? or are there few data points?\n",
      "  warnings.warn(\n"
     ]
    },
    {
     "name": "stdout",
     "output_type": "stream",
     "text": [
      "p-value annotation legend:\n",
      "      ns: p <= 1.00e+00\n",
      "       *: 1.00e-02 < p <= 5.00e-02\n",
      "      **: 1.00e-03 < p <= 1.00e-02\n",
      "     ***: 1.00e-04 < p <= 1.00e-03\n",
      "    ****: p <= 1.00e-04\n",
      "\n",
      "VP4_piN vs. VP4_piS: t-test paired samples, P_val:1.071e-01 t=-2.071e+00\n",
      "VP3_piN vs. VP3_piS: t-test paired samples, P_val:4.008e-02 t=2.997e+00\n",
      "VP1_piN vs. VP1_piS: t-test paired samples, P_val:6.586e-01 t=4.765e-01\n",
      "VP2_piN vs. VP2_piS: t-test paired samples, P_val:7.430e-01 t=3.514e-01\n",
      "1A_piN vs. 1A_piS: t-test paired samples, P_val:4.322e-02 t=-2.921e+00\n",
      "Full_genome_piN vs. Full_genome_piS: t-test paired samples, P_val:1.099e-03 t=-4.714e+00\n",
      "2A_piN vs. 2A_piS: t-test paired samples, P_val:2.957e-01 t=1.202e+00\n",
      "2B_piN vs. 2B_piS: t-test paired samples, P_val:2.256e-02 t=-3.610e+00\n",
      "2C_piN vs. 2C_piS: t-test paired samples, P_val:1.089e-01 t=-2.057e+00\n",
      "3A_piN vs. 3A_piS: t-test paired samples, P_val:1.038e-02 t=-4.555e+00\n",
      "3C_piN vs. 3C_piS: t-test paired samples, P_val:4.862e-02 t=-2.804e+00\n",
      "RdRp_piN vs. RdRp_piS: t-test paired samples, P_val:1.910e-02 t=-3.800e+00\n"
     ]
    },
    {
     "name": "stderr",
     "output_type": "stream",
     "text": [
      "/Users/lfuhrmann/Library/Python/3.9/lib/python/site-packages/statannotations/_Plotter.py:337: UserWarning: Invalid x-position found. Are the same parameters passed to seaborn and statannotations calls? or are there few data points?\n",
      "  warnings.warn(\n",
      "/Users/lfuhrmann/Library/Python/3.9/lib/python/site-packages/statannotations/_Plotter.py:337: UserWarning: Invalid x-position found. Are the same parameters passed to seaborn and statannotations calls? or are there few data points?\n",
      "  warnings.warn(\n"
     ]
    },
    {
     "name": "stdout",
     "output_type": "stream",
     "text": [
      "p-value annotation legend:\n",
      "      ns: p <= 1.00e+00\n",
      "       *: 1.00e-02 < p <= 5.00e-02\n",
      "      **: 1.00e-03 < p <= 1.00e-02\n",
      "     ***: 1.00e-04 < p <= 1.00e-03\n",
      "    ****: p <= 1.00e-04\n",
      "\n",
      "VP4_piN vs. VP4_piS: t-test paired samples, P_val:6.183e-02 t=-2.572e+00\n",
      "VP3_piN vs. VP3_piS: t-test paired samples, P_val:2.446e-01 t=1.363e+00\n",
      "VP1_piN vs. VP1_piS: t-test paired samples, P_val:9.440e-01 t=7.471e-02\n",
      "VP2_piN vs. VP2_piS: t-test paired samples, P_val:5.447e-01 t=-6.611e-01\n",
      "1A_piN vs. 1A_piS: t-test paired samples, P_val:1.946e-01 t=-1.556e+00\n",
      "Full_genome_piN vs. Full_genome_piS: t-test paired samples, P_val:4.154e-03 t=-3.810e+00\n",
      "2A_piN vs. 2A_piS: t-test paired samples, P_val:4.116e-01 t=9.157e-01\n",
      "2B_piN vs. 2B_piS: t-test paired samples, P_val:2.462e-01 t=-1.357e+00\n",
      "2C_piN vs. 2C_piS: t-test paired samples, P_val:1.872e-02 t=-3.823e+00\n",
      "3A_piN vs. 3A_piS: t-test paired samples, P_val:3.084e-01 t=-1.166e+00\n",
      "3C_piN vs. 3C_piS: t-test paired samples, P_val:7.618e-03 t=-4.976e+00\n",
      "RdRp_piN vs. RdRp_piS: t-test paired samples, P_val:4.491e-03 t=-5.766e+00\n"
     ]
    },
    {
     "name": "stderr",
     "output_type": "stream",
     "text": [
      "/var/folders/dw/8dl4p6h53cgcmk6cf_09v5f40000gr/T/ipykernel_35737/3728659946.py:73: UserWarning: Matplotlib is currently using module://matplotlib_inline.backend_inline, which is a non-GUI backend, so cannot show the figure.\n",
      "  fig.show()\n"
     ]
    },
    {
     "data": {
      "image/png": "[encoded data removed]",
      "text/plain": [
       "<Figure size 1152x1152 with 9 Axes>"
      ]
     },
     "metadata": {
      "needs_background": "light"
     },
     "output_type": "display_data"
    }
   ],
   "source": [
    "fig, ax = plt.subplots(3,3, sharex=True, sharey=True, figsize=(16,16))\n",
    "sns.set(rc={'axes.facecolor':'white', 'figure.facecolor':'white'})\n",
    "\n",
    "for idx_passage, passage in enumerate([\"passage_1\", \"passage_5\", \"passage_10\"]):\n",
    "    df_temp = df_sns[df_sns[\"passage\"]==passage]\n",
    "    for idx_genotype, genotype in enumerate(['wild_type', 'dicer_KO', 'dicer_over_expressing']):\n",
    "        \n",
    "        data = df_temp[df_temp[\"genotype\"]==genotype]\n",
    "        sns.pointplot(\n",
    "            ax=ax[idx_genotype][idx_passage],\n",
    "            data=data, \n",
    "            markers='o', \n",
    "            linestyles='',\n",
    "            x=\"protein\", \n",
    "            y='value', \n",
    "            hue ='measure', \n",
    "            errorbar=\"se\",\n",
    "            hue_order=[\"piN\", \"piS\"], \n",
    "            errwidth=1.1, \n",
    "            capsize=0.1,\n",
    "            order=protein_order, \n",
    "            palette=['#d62828', '#03045e'],\n",
    "            dodge=0.4, \n",
    "        )\n",
    "        ax[idx_genotype][idx_passage].set_xlabel(\"\")\n",
    "        ax[idx_genotype][idx_passage].set_ylabel(\"\")\n",
    "        \n",
    "        # shade background to show positive or negative selection\n",
    "        df_direction_selection = df_p_value[df_p_value[\"passage\"]==passage]\n",
    "        df_direction_selection = df_direction_selection[df_direction_selection[\"genotype\"]==genotype]\n",
    "        \n",
    "        for idx_protein, protein in enumerate(protein_order):  \n",
    "            piN_minus_piS = df_direction_selection[df_direction_selection[\"protein\"]==protein][\"mean_piN-mean_piS\"].values[0]\n",
    "            if piN_minus_piS > 0: # positive selection \n",
    "                color = 'red'\n",
    "                alpha = np.abs(piN_minus_piS)*300\n",
    "            elif piN_minus_piS < 0: # negative selection \n",
    "                color='blue'\n",
    "                alpha = np.abs(piN_minus_piS)*300\n",
    "            \n",
    "            ax[idx_genotype][idx_passage].axvspan(xmin=idx_protein-0.4, xmax=idx_protein+0.4, color=color, alpha=alpha)\n",
    "\n",
    "        \n",
    "        # subset the table otherwise the stats were calculated on the whole dataset\n",
    "        annot = Annotator(ax[idx_genotype][idx_passage],\n",
    "                          pairs_subplots, \n",
    "                          data=data, \n",
    "                          x=\"protein\", \n",
    "                          y='value', \n",
    "                          order=protein_order,\n",
    "                          hue='measure', \n",
    "                          hue_order=[\"piN\", \"piS\"]) \n",
    "        annot.configure(test='t-test_paired',loc='inside', verbose=2)\n",
    "        annot.apply_test().annotate()\n",
    "        \n",
    "        \n",
    "ax[2][0].tick_params(axis='x', rotation=90, labelsize = 20)\n",
    "ax[2][1].tick_params(axis='x', rotation=90, labelsize = 20)\n",
    "ax[2][2].tick_params(axis='x', rotation=90, labelsize = 20)\n",
    "\n",
    "ax[0][0].set_title(\"Passage 1\", fontsize=20)\n",
    "ax[0][1].set_title(\"Passage 5\", fontsize=20)\n",
    "ax[0][2].set_title(\"Passage 10\", fontsize=20)\n",
    "\n",
    "ax[0][2].set_ylabel(\"WT\", fontsize=30)\n",
    "ax[0][2].yaxis.set_label_position(\"right\")\n",
    "ax[1][2].set_ylabel(\"KO\", fontsize=30)\n",
    "ax[1][2].yaxis.set_label_position(\"right\")\n",
    "ax[2][2].set_ylabel(\"OE\", fontsize=30)\n",
    "ax[2][2].yaxis.set_label_position(\"right\")\n",
    "\n",
    "fig.tight_layout()\n",
    "fig.show()"
   ]
  },
  {
   "cell_type": "code",
   "execution_count": 15,
   "id": "ae1cb7c7",
   "metadata": {},
   "outputs": [],
   "source": [
    "fig.savefig('./000__Manuscript_figures/Supplement_Figure_6__selection_analysis.pdf')\n",
    "fig.savefig('./000__Manuscript_figures/Supplement_Figure_6__selection_analysis.svg')"
   ]
  },
  {
   "cell_type": "code",
   "execution_count": 16,
   "id": "8c1ea271",
   "metadata": {},
   "outputs": [
    {
     "data": {
      "text/plain": [
       "'\\np-value annotation legend:  \\n      ns: p <= 1.00e+00  \\n       *: 1.00e-02 < p <= 5.00e-02  \\n      **: 1.00e-03 < p <= 1.00e-02  \\n     ***: 1.00e-04 < p <= 1.00e-03  \\n    ****: p <= 1.00e-04  \\n'"
      ]
     },
     "execution_count": 16,
     "metadata": {},
     "output_type": "execute_result"
    }
   ],
   "source": [
    "\"\"\"\n",
    "p-value annotation legend:  \n",
    "      ns: p <= 1.00e+00  \n",
    "       *: 1.00e-02 < p <= 5.00e-02  \n",
    "      **: 1.00e-03 < p <= 1.00e-02  \n",
    "     ***: 1.00e-04 < p <= 1.00e-03  \n",
    "    ****: p <= 1.00e-04  \n",
    "\"\"\""
   ]
  },
  {
   "cell_type": "code",
   "execution_count": null,
   "id": "ab604c3e",
   "metadata": {},
   "outputs": [],
   "source": []
  }
 ],
 "metadata": {
  "kernelspec": {
   "display_name": "Python 3 (ipykernel)",
   "language": "python",
   "name": "python3"
  },
  "language_info": {
   "codemirror_mode": {
    "name": "ipython",
    "version": 3
   },
   "file_extension": ".py",
   "mimetype": "text/x-python",
   "name": "python",
   "nbconvert_exporter": "python",
   "pygments_lexer": "ipython3",
   "version": "3.9.0"
  }
 },
 "nbformat": 4,
 "nbformat_minor": 5
}

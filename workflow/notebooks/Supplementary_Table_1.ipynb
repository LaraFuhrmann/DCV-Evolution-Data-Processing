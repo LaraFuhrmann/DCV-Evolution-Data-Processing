{
 "cells": [
  {
   "cell_type": "code",
   "execution_count": 1,
   "id": "146b0777",
   "metadata": {},
   "outputs": [],
   "source": [
    "import pandas as pd\n",
    "import numpy as np\n",
    "import seaborn as sns\n",
    "import numpy as np \n",
    "import matplotlib.pylab as plt"
   ]
  },
  {
   "cell_type": "code",
   "execution_count": 2,
   "id": "f8e539a8",
   "metadata": {},
   "outputs": [],
   "source": [
    "genotype_dict = {\"dicer_ko\": \"KO\", \"dicer_overexpressed\": \"OE\", \"wild_type\": \"WT\"}"
   ]
  },
  {
   "cell_type": "code",
   "execution_count": 6,
   "id": "6aaaeb4a",
   "metadata": {},
   "outputs": [],
   "source": [
    "# import filtered mutations\n",
    "\n",
    "fname_mutations_all_samples = 'mutations_of_all_samples_after_filtering.csv'\n",
    "\n",
    "df = pd.read_csv(fname_mutations_all_samples)\n",
    "df = df.drop(['Unnamed: 0'], axis=1)\n",
    "\n",
    "df = df[df['genotype']!='aaa_parental_stock']\n",
    "df[\"genotype\"] = df[\"genotype\"].apply(lambda x: genotype_dict[x])\n",
    "df[\"replicate\"] = df[\"replicate\"].apply(lambda x: x.split('_')[1])"
   ]
  },
  {
   "cell_type": "markdown",
   "id": "c287a881",
   "metadata": {},
   "source": [
    "### Filter mutations"
   ]
  },
  {
   "cell_type": "code",
   "execution_count": 7,
   "id": "ecde356e",
   "metadata": {},
   "outputs": [],
   "source": [
    "# minimum mutation frequency\n",
    "minimum_frequency_threshold = 0.0001 \n",
    "df = df[df['frequency']>=minimum_frequency_threshold]"
   ]
  },
  {
   "cell_type": "markdown",
   "id": "70de4f9d",
   "metadata": {},
   "source": [
    "### Define mutations"
   ]
  },
  {
   "cell_type": "code",
   "execution_count": 9,
   "id": "461350ba",
   "metadata": {},
   "outputs": [],
   "source": [
    "df['mutation'] = df['Ref'] + df['Pos'].astype(str) + df['Var']"
   ]
  },
  {
   "cell_type": "code",
   "execution_count": 13,
   "id": "e524c64d",
   "metadata": {},
   "outputs": [],
   "source": [
    "df_pivot = df.pivot_table(values='frequency',\n",
    "                          columns='mutation',\n",
    "                          index=['genotype', 'passage', 'replicate'],\n",
    "                          fill_value=0)"
   ]
  },
  {
   "cell_type": "code",
   "execution_count": 15,
   "id": "a3cf0bcd",
   "metadata": {},
   "outputs": [],
   "source": [
    "df_pivot.to_csv('./000__Manuscript_figures/Supplementary_Table_1.csv')"
   ]
  },
  {
   "cell_type": "code",
   "execution_count": null,
   "id": "09f74d04",
   "metadata": {},
   "outputs": [],
   "source": []
  }
 ],
 "metadata": {
  "kernelspec": {
   "display_name": "Python 3 (ipykernel)",
   "language": "python",
   "name": "python3"
  },
  "language_info": {
   "codemirror_mode": {
    "name": "ipython",
    "version": 3
   },
   "file_extension": ".py",
   "mimetype": "text/x-python",
   "name": "python",
   "nbconvert_exporter": "python",
   "pygments_lexer": "ipython3",
   "version": "3.9.0"
  }
 },
 "nbformat": 4,
 "nbformat_minor": 5
}

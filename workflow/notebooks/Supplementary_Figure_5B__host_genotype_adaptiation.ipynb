{
 "cells": [
  {
   "cell_type": "code",
   "execution_count": 1,
   "id": "999ed180",
   "metadata": {},
   "outputs": [],
   "source": [
    "import pandas as pd\n",
    "from matplotlib import pyplot as plt\n",
    "import numpy as np\n",
    "from tqdm import tqdm # for progress bar"
   ]
  },
  {
   "cell_type": "markdown",
   "id": "7ba2b065",
   "metadata": {},
   "source": [
    "Randomization test is adapted from: https://journals.plos.org/plosbiology/article?id=10.1371/journal.pbio.3001010\n",
    "\n",
    "The randomizations work as follows:\n",
    "1. Create table with one row per mutation that happened in the experiment and a columns per line (genotype-replicate combination). Entry is `True` if the mutation reached the frequency threshold in this line. \n",
    "2. Then the table is \"randomized\":\n",
    "-  Every row needs to keep the same amount of `True`s (meaning the number of lines a mutation occurs in is kept constant) \n",
    "- The number of `True`s per line is kept approximately constant by weighted probabilities: a line that accumulated more mutations will be more likely to be chosen when picking lines for a mutation\n"
   ]
  },
  {
   "cell_type": "code",
   "execution_count": 2,
   "id": "275e8c17",
   "metadata": {},
   "outputs": [],
   "source": [
    "# import mutations\n",
    "\n",
    "fname_mutations_all_samples = 'mutations_of_all_samples_after_filtering.csv'\n",
    "\n",
    "df = pd.read_csv(fname_mutations_all_samples)\n",
    "\n",
    "df = df.drop(['Unnamed: 0'], axis=1)\n",
    "df = df[df['genotype']!='aaa_parental_stock']\n",
    "\n",
    "df['mutation_id'] = df['Pos'].astype('str')+df['Var']\n",
    "df['line_id'] = df['genotype']+'_'+df['replicate']"
   ]
  },
  {
   "cell_type": "markdown",
   "id": "f7384045",
   "metadata": {},
   "source": [
    "# Prepare data"
   ]
  },
  {
   "cell_type": "code",
   "execution_count": 3,
   "id": "527c288d",
   "metadata": {},
   "outputs": [],
   "source": [
    "threshold = 0.0001 # majority mutations frequency threshold\n",
    "n_samples = 1000 #number of randomizations to perform\n",
    "\n",
    "np.random.seed(111111) #makes results reproducable, seed was randomly generated before first run"
   ]
  },
  {
   "cell_type": "code",
   "execution_count": 4,
   "id": "3e8bc150",
   "metadata": {},
   "outputs": [],
   "source": [
    "# Prepare dataframe \n",
    "\n",
    "# filter for majority mutations\n",
    "# majority = with observed mutation frequency >= threshold\n",
    "df = df[df['frequency']>=threshold]\n",
    "\n",
    "df['mutation_id+line_id'] = df['mutation_id'] + df['line_id']\n",
    "\n",
    "df_pivot = df.pivot_table(values='frequency', \n",
    "                          index = 'mutation_id',\n",
    "                          columns='line_id',\n",
    "                          aggfunc={'frequency': lambda x : True},\n",
    "                          fill_value=False \n",
    "                         )\n",
    "\n",
    "df_pivot = df_pivot.reset_index()\n",
    "df_pivot = df_pivot.set_index('mutation_id')"
   ]
  },
  {
   "cell_type": "markdown",
   "id": "ef97c447",
   "metadata": {},
   "source": [
    "# Randomization test"
   ]
  },
  {
   "cell_type": "code",
   "execution_count": 5,
   "id": "c774ef11",
   "metadata": {},
   "outputs": [],
   "source": [
    "def randomize(dataframe):\n",
    "    '''randomize a dataframe with rows of true/falses, to keep the number of true/falses per row, \n",
    "    but change the exact positions'''\n",
    "    \n",
    "    # Compute probability of choosing experimental line\n",
    "    n_mutations_per_line = dataframe.sum()\n",
    "    weight_of_line = n_mutations_per_line/n_mutations_per_line.sum() \n",
    "    \n",
    "    n_lines_mut_occurs_in = dataframe.sum(1).astype(int)\n",
    "    \n",
    "    randomized = [\n",
    "        np.random.choice(dataframe.columns,p=weight_of_line,size=i,replace=False) \n",
    "        for i in n_lines_mut_occurs_in\n",
    "    ]\n",
    "    \n",
    "    return pd.DataFrame(\n",
    "        [dataframe.columns.isin(i) for i in randomized],columns=dataframe.columns,index=dataframe.index\n",
    "    )"
   ]
  },
  {
   "cell_type": "code",
   "execution_count": 6,
   "id": "f979b2a7",
   "metadata": {},
   "outputs": [
    {
     "name": "stderr",
     "output_type": "stream",
     "text": [
      "                                                                                                                                                                                                                                                                                   \r"
     ]
    }
   ],
   "source": [
    "# list of n_samples random realization of the mutation dataframe\n",
    "random = [randomize(df_pivot) for i in tqdm(range(n_samples),leave=False, desc='randomizing')]"
   ]
  },
  {
   "cell_type": "code",
   "execution_count": 7,
   "id": "a3b49fe6",
   "metadata": {},
   "outputs": [],
   "source": [
    "lines_WT = ['wild_type_replicate_a', 'wild_type_replicate_b', 'wild_type_replicate_c', 'wild_type_replicate_d',\n",
    "            'wild_type_replicate_e']\n",
    "\n",
    "lines_OE = ['dicer_overexpressed_replicate_a', 'dicer_overexpressed_replicate_b','dicer_overexpressed_replicate_c',\n",
    "            'dicer_overexpressed_replicate_d', 'dicer_overexpressed_replicate_e']\n",
    "\n",
    "lines_KO = ['dicer_ko_replicate_a', 'dicer_ko_replicate_b', 'dicer_ko_replicate_c', 'dicer_ko_replicate_d', \n",
    "            'dicer_ko_replicate_e']"
   ]
  },
  {
   "cell_type": "markdown",
   "id": "01bd2d6a",
   "metadata": {},
   "source": [
    "# Prepare results for plotting"
   ]
  },
  {
   "cell_type": "code",
   "execution_count": 8,
   "id": "db8dec08",
   "metadata": {},
   "outputs": [
    {
     "data": {
      "text/html": [
       "<div>\n",
       "<style scoped>\n",
       "    .dataframe tbody tr th:only-of-type {\n",
       "        vertical-align: middle;\n",
       "    }\n",
       "\n",
       "    .dataframe tbody tr th {\n",
       "        vertical-align: top;\n",
       "    }\n",
       "\n",
       "    .dataframe thead th {\n",
       "        text-align: right;\n",
       "    }\n",
       "</style>\n",
       "<table border=\"1\" class=\"dataframe\">\n",
       "  <thead>\n",
       "    <tr style=\"text-align: right;\">\n",
       "      <th>line_id</th>\n",
       "      <th>wild_type_replicate_a</th>\n",
       "      <th>wild_type_replicate_b</th>\n",
       "      <th>wild_type_replicate_c</th>\n",
       "      <th>wild_type_replicate_d</th>\n",
       "      <th>wild_type_replicate_e</th>\n",
       "    </tr>\n",
       "    <tr>\n",
       "      <th>mutation_id</th>\n",
       "      <th></th>\n",
       "      <th></th>\n",
       "      <th></th>\n",
       "      <th></th>\n",
       "      <th></th>\n",
       "    </tr>\n",
       "  </thead>\n",
       "  <tbody>\n",
       "    <tr>\n",
       "      <th>1001T</th>\n",
       "      <td>False</td>\n",
       "      <td>False</td>\n",
       "      <td>True</td>\n",
       "      <td>False</td>\n",
       "      <td>False</td>\n",
       "    </tr>\n",
       "    <tr>\n",
       "      <th>1002G</th>\n",
       "      <td>False</td>\n",
       "      <td>False</td>\n",
       "      <td>False</td>\n",
       "      <td>False</td>\n",
       "      <td>False</td>\n",
       "    </tr>\n",
       "    <tr>\n",
       "      <th>1004G</th>\n",
       "      <td>False</td>\n",
       "      <td>False</td>\n",
       "      <td>False</td>\n",
       "      <td>False</td>\n",
       "      <td>False</td>\n",
       "    </tr>\n",
       "    <tr>\n",
       "      <th>1005G</th>\n",
       "      <td>False</td>\n",
       "      <td>False</td>\n",
       "      <td>True</td>\n",
       "      <td>False</td>\n",
       "      <td>False</td>\n",
       "    </tr>\n",
       "    <tr>\n",
       "      <th>1008T</th>\n",
       "      <td>True</td>\n",
       "      <td>False</td>\n",
       "      <td>True</td>\n",
       "      <td>False</td>\n",
       "      <td>False</td>\n",
       "    </tr>\n",
       "    <tr>\n",
       "      <th>...</th>\n",
       "      <td>...</td>\n",
       "      <td>...</td>\n",
       "      <td>...</td>\n",
       "      <td>...</td>\n",
       "      <td>...</td>\n",
       "    </tr>\n",
       "    <tr>\n",
       "      <th>990C</th>\n",
       "      <td>False</td>\n",
       "      <td>False</td>\n",
       "      <td>False</td>\n",
       "      <td>False</td>\n",
       "      <td>False</td>\n",
       "    </tr>\n",
       "    <tr>\n",
       "      <th>993T</th>\n",
       "      <td>True</td>\n",
       "      <td>False</td>\n",
       "      <td>False</td>\n",
       "      <td>False</td>\n",
       "      <td>False</td>\n",
       "    </tr>\n",
       "    <tr>\n",
       "      <th>994G</th>\n",
       "      <td>True</td>\n",
       "      <td>False</td>\n",
       "      <td>False</td>\n",
       "      <td>False</td>\n",
       "      <td>False</td>\n",
       "    </tr>\n",
       "    <tr>\n",
       "      <th>998C</th>\n",
       "      <td>True</td>\n",
       "      <td>False</td>\n",
       "      <td>True</td>\n",
       "      <td>False</td>\n",
       "      <td>False</td>\n",
       "    </tr>\n",
       "    <tr>\n",
       "      <th>99T</th>\n",
       "      <td>False</td>\n",
       "      <td>False</td>\n",
       "      <td>False</td>\n",
       "      <td>False</td>\n",
       "      <td>False</td>\n",
       "    </tr>\n",
       "  </tbody>\n",
       "</table>\n",
       "<p>4380 rows × 5 columns</p>\n",
       "</div>"
      ],
      "text/plain": [
       "line_id      wild_type_replicate_a  wild_type_replicate_b  \\\n",
       "mutation_id                                                 \n",
       "1001T                        False                  False   \n",
       "1002G                        False                  False   \n",
       "1004G                        False                  False   \n",
       "1005G                        False                  False   \n",
       "1008T                         True                  False   \n",
       "...                            ...                    ...   \n",
       "990C                         False                  False   \n",
       "993T                          True                  False   \n",
       "994G                          True                  False   \n",
       "998C                          True                  False   \n",
       "99T                          False                  False   \n",
       "\n",
       "line_id      wild_type_replicate_c  wild_type_replicate_d  \\\n",
       "mutation_id                                                 \n",
       "1001T                         True                  False   \n",
       "1002G                        False                  False   \n",
       "1004G                        False                  False   \n",
       "1005G                         True                  False   \n",
       "1008T                         True                  False   \n",
       "...                            ...                    ...   \n",
       "990C                         False                  False   \n",
       "993T                         False                  False   \n",
       "994G                         False                  False   \n",
       "998C                          True                  False   \n",
       "99T                          False                  False   \n",
       "\n",
       "line_id      wild_type_replicate_e  \n",
       "mutation_id                         \n",
       "1001T                        False  \n",
       "1002G                        False  \n",
       "1004G                        False  \n",
       "1005G                        False  \n",
       "1008T                        False  \n",
       "...                            ...  \n",
       "990C                         False  \n",
       "993T                         False  \n",
       "994G                         False  \n",
       "998C                         False  \n",
       "99T                          False  \n",
       "\n",
       "[4380 rows x 5 columns]"
      ]
     },
     "execution_count": 8,
     "metadata": {},
     "output_type": "execute_result"
    }
   ],
   "source": [
    "df_pivot[lines_WT]"
   ]
  },
  {
   "cell_type": "code",
   "execution_count": 9,
   "id": "0f15fcef",
   "metadata": {},
   "outputs": [],
   "source": [
    "# Prepare results for plotting\n",
    "to_plot = {}"
   ]
  },
  {
   "cell_type": "code",
   "execution_count": 10,
   "id": "fe460008",
   "metadata": {},
   "outputs": [],
   "source": [
    "# mutations that are shared only in one GT \n",
    "\n",
    "for shared_in_GT, lines_GT in zip(['WT only', 'KO only', 'OE only'], [lines_WT, lines_KO, lines_OE]):\n",
    "\n",
    "    # select mutations that only occur in one GT\n",
    "    same = df_pivot[lines_GT].sum(1) == df_pivot.sum(1)\n",
    "    mut_table_here = df_pivot[same] \n",
    "    \n",
    "    # add observation \n",
    "    to_plot[shared_in_GT] = [(mut_table_here.sum(1)>1).sum()]\n",
    "    \n",
    "    # add what is expected from the randomization test\n",
    "    rands = []\n",
    "    for r in random:\n",
    "        same = r[lines_GT].sum(1) == r.sum(1)\n",
    "        mut_table_here = r[same]\n",
    "        rands.append((mut_table_here.sum(1)>1).sum())\n",
    "        \n",
    "    to_plot[shared_in_GT].append(rands)"
   ]
  },
  {
   "cell_type": "code",
   "execution_count": 11,
   "id": "30fcdb48",
   "metadata": {},
   "outputs": [],
   "source": [
    "# mutations that are shared in two genotypes \n",
    "\n",
    "# add observations \n",
    "set_of_mutations_WT = set(df_pivot[(df_pivot[lines_WT].sum(1)>0)].index)\n",
    "set_of_mutations_KO = set(df_pivot[(df_pivot[lines_KO].sum(1)>0)].index)\n",
    "set_of_mutations_OE = set(df_pivot[(df_pivot[lines_OE].sum(1)>0)].index)\n",
    "\n",
    "shared_mutation_WT_OE = set_of_mutations_WT.intersection(set_of_mutations_OE) - set_of_mutations_KO\n",
    "shared_mutation_WT_KO = set_of_mutations_WT.intersection(set_of_mutations_KO) - set_of_mutations_OE\n",
    "shared_mutation_OE_KO = set_of_mutations_OE.intersection(set_of_mutations_KO) - set_of_mutations_WT\n",
    "\n",
    "to_plot['shared OE and WT'] = [(df_pivot.loc[list(shared_mutation_WT_OE)].sum(1)>1).sum()]\n",
    "to_plot['shared KO and WT'] = [(df_pivot.loc[list(shared_mutation_WT_KO)].sum(1)>1).sum()]\n",
    "to_plot['shared OE and KO'] = [(df_pivot.loc[list(shared_mutation_OE_KO)].sum(1)>1).sum()]\n",
    "\n",
    "# add from randomization tests  \n",
    "\n",
    "# shared OE and WT\n",
    "rands = []\n",
    "for r in random:\n",
    "    set_of_mutations_WT = set(r[(r[lines_WT].sum(1)>0)].index)\n",
    "    set_of_mutations_OE = set(r[(r[lines_OE].sum(1)>0)].index)\n",
    "    set_of_mutations_KO = set(r[(r[lines_KO].sum(1)>0)].index)\n",
    "    shared_mutation_WT_OE = set_of_mutations_WT.intersection(set_of_mutations_OE) - set_of_mutations_KO\n",
    "    \n",
    "    rands.append((r.loc[list(shared_mutation_WT_OE)].sum(1)>1).sum())\n",
    "to_plot['shared OE and WT'].append(rands)\n",
    "\n",
    "# shared KO and WT\n",
    "rands = []\n",
    "for r in random:\n",
    "    set_of_mutations_WT = set(r[(r[lines_WT].sum(1)>0)].index)\n",
    "    set_of_mutations_KO = set(r[(r[lines_KO].sum(1)>0)].index)\n",
    "    set_of_mutations_OE = set(r[(r[lines_OE].sum(1)>0)].index) \n",
    "    shared_mutation_WT_KO = set_of_mutations_WT.intersection(set_of_mutations_KO) - set_of_mutations_OE\n",
    "    \n",
    "    rands.append((r.loc[list(shared_mutation_WT_KO)].sum(1)>1).sum())\n",
    "to_plot['shared KO and WT'].append(rands)\n",
    "\n",
    "# shared OE and KO\n",
    "rands = []\n",
    "for r in random:\n",
    "    set_of_mutations_WT = set(r[(r[lines_WT].sum(1)>0)].index)\n",
    "    set_of_mutations_OE = set(r[(r[lines_OE].sum(1)>0)].index)\n",
    "    set_of_mutations_KO = set(r[(r[lines_KO].sum(1)>0)].index)\n",
    "    shared_mutation_OE_KO = set_of_mutations_OE.intersection(set_of_mutations_KO) - set_of_mutations_WT\n",
    "    \n",
    "    rands.append((r.loc[list(shared_mutation_OE_KO)].sum(1)>1).sum())\n",
    "to_plot['shared OE and KO'].append(rands)\n"
   ]
  },
  {
   "cell_type": "code",
   "execution_count": 12,
   "id": "3a77a447",
   "metadata": {},
   "outputs": [],
   "source": [
    "# mutations that are shared between all three genotypes\n",
    "# add observations \n",
    "set_of_mutations_WT = set(df_pivot[(df_pivot[lines_WT].sum(1)>0)].index)\n",
    "set_of_mutations_KO = set(df_pivot[(df_pivot[lines_KO].sum(1)>0)].index)\n",
    "set_of_mutations_OE = set(df_pivot[(df_pivot[lines_OE].sum(1)>0)].index)\n",
    "shared_mutations_WT_OE_KO = set_of_mutations_WT.intersection(set_of_mutations_OE, set_of_mutations_KO)\n",
    "\n",
    "# add observations \n",
    "to_plot['shared KO, OE and WT'] = [(df_pivot.loc[list(shared_mutations_WT_OE_KO)].sum(1)>=3).sum()]\n",
    "\n",
    "# add from randomization tests  \n",
    "rands = []\n",
    "for r in random:\n",
    "    set_of_mutations_WT = set(r[(r[lines_WT].sum(1)>0)].index)\n",
    "    set_of_mutations_KO = set(r[(r[lines_KO].sum(1)>0)].index)\n",
    "    set_of_mutations_OE = set(r[(r[lines_OE].sum(1)>0)].index)\n",
    "    shared_mutations_WT_OE_KO = set_of_mutations_WT.intersection(set_of_mutations_OE, set_of_mutations_KO)\n",
    "\n",
    "    rands.append((r.loc[list(shared_mutations_WT_OE_KO)].sum(1)>1).sum())\n",
    "to_plot['shared KO, OE and WT'].append(rands)"
   ]
  },
  {
   "cell_type": "markdown",
   "id": "3bf60d41",
   "metadata": {},
   "source": [
    "# Show some statistics on sharing"
   ]
  },
  {
   "cell_type": "code",
   "execution_count": 13,
   "id": "f9434090",
   "metadata": {},
   "outputs": [
    {
     "name": "stdout",
     "output_type": "stream",
     "text": [
      "total number of mutations:  1715\n",
      "shared mutations: 1468, 85.59766763848397%\n",
      "shared mutations, all genotypes: 689, 40.17492711370262%\n"
     ]
    }
   ],
   "source": [
    "total = sum([to_plot[i][0] for i in to_plot])\n",
    "shared = sum([to_plot[i][0] for i in to_plot if 'shared' in i])\n",
    "print('total number of mutations: ',total)\n",
    "print('shared mutations: {}, {}%'.format(shared, 100*shared/total) )\n",
    "print('shared mutations, all genotypes: {}, {}%'.format(to_plot['shared KO, OE and WT'][0],                                                    100*to_plot['shared KO, OE and WT'][0]/total) )"
   ]
  },
  {
   "cell_type": "markdown",
   "id": "7a6e7c89",
   "metadata": {},
   "source": [
    "# Plotting"
   ]
  },
  {
   "cell_type": "code",
   "execution_count": 14,
   "id": "12837a89",
   "metadata": {},
   "outputs": [],
   "source": [
    "def p_code(p):\n",
    "    if p<0.001:\n",
    "        return '***'\n",
    "    if p< 0.01:\n",
    "        return '**'\n",
    "    if p < 0.05:\n",
    "        return '*'\n",
    "    if p < 0.1:\n",
    "        return '.'\n",
    "    return ''"
   ]
  },
  {
   "cell_type": "code",
   "execution_count": 15,
   "id": "ce12d2aa",
   "metadata": {},
   "outputs": [
    {
     "name": "stdout",
     "output_type": "stream",
     "text": [
      "WT only  :  55\n",
      "WT only  :  63.295\n",
      "KO only  :  131\n",
      "KO only  :  89.29\n",
      "OE only  :  61\n",
      "OE only  :  70.452\n",
      "shared OE and WT  :  231\n",
      "shared OE and WT  :  235.546\n",
      "shared KO and WT  :  258\n",
      "shared KO and WT  :  273.518\n",
      "shared OE and KO  :  290\n",
      "shared OE and KO  :  292.446\n",
      "shared KO, OE and WT  :  689\n",
      "shared KO, OE and WT  :  690.453\n"
     ]
    },
    {
     "data": {
      "image/png": "[encoded data removed]",
      "text/plain": [
       "<Figure size 1008x504 with 1 Axes>"
      ]
     },
     "metadata": {
      "needs_background": "light"
     },
     "output_type": "display_data"
    }
   ],
   "source": [
    "fig = plt.figure(figsize=[14,7])\n",
    "pos = 0\n",
    "xpos = []\n",
    "xlabel = []\n",
    "for category in to_plot.keys():\n",
    "        plt.bar(pos,to_plot[category][0],color='#38369A',width=0.5)\n",
    "        print(category, \" : \", to_plot[category][0])\n",
    "        xpos.append(pos+0.25)\n",
    "        pos+=0.5\n",
    "        xlabel.append(category)\n",
    "        mean = np.mean(to_plot[category][1])\n",
    "        print(category, \" : \", mean)\n",
    "        plt.bar(pos, mean,color='grey',width=0.5)\n",
    "        ci = [sorted(to_plot[category][1])[int(n_samples*0.025)],\n",
    "              sorted(to_plot[category][1])[-int(n_samples*0.025)]]\n",
    "\n",
    "        plt.plot([pos,pos],ci,color='black')\n",
    "\n",
    "        p = 1-2*abs((1.0*sum(np.array(to_plot[category][1])>to_plot[category][0])/n_samples)-0.5)\n",
    "\n",
    "        plt.text(pos-0.25,max(to_plot[category][0],mean)+0.25,p_code(p),\n",
    "                 va='bottom',ha='center')\n",
    "        pos+=1\n",
    "\n",
    "plt.xticks(xpos,xlabel,fontsize=15, rotation=90)\n",
    "plt.ylabel('Number of mutations',fontsize=20)\n",
    "\n",
    "import matplotlib.patches as mpatches\n",
    "from matplotlib.lines import Line2D\n",
    "\n",
    "data = mpatches.Patch(color='#38369A', label='data')\n",
    "random = mpatches.Patch(color='grey', label='randomization')\n",
    "hpd = Line2D([0],[0],label='95% HPD interval',color='black')\n",
    "\n",
    "plt.legend(handles=[data,random,hpd],fontsize=15)\n",
    "plt.tight_layout()\n",
    "plt.show()\n"
   ]
  },
  {
   "cell_type": "code",
   "execution_count": 17,
   "id": "516a14c2",
   "metadata": {},
   "outputs": [],
   "source": [
    "\n",
    "fig.savefig(\"./000__Manuscript_figures/Supplement_Figure_5B_host_genotype_adaptation_freqthres0.0001.pdf\")\n",
    "fig.savefig(\"./000__Manuscript_figures/Supplement_Figure_5B_host_genotype_adaptation_freqthres0.0001.svg\")"
   ]
  },
  {
   "cell_type": "code",
   "execution_count": null,
   "id": "dd3e35e2",
   "metadata": {},
   "outputs": [],
   "source": []
  }
 ],
 "metadata": {
  "kernelspec": {
   "display_name": "Python 3 (ipykernel)",
   "language": "python",
   "name": "python3"
  },
  "language_info": {
   "codemirror_mode": {
    "name": "ipython",
    "version": 3
   },
   "file_extension": ".py",
   "mimetype": "text/x-python",
   "name": "python",
   "nbconvert_exporter": "python",
   "pygments_lexer": "ipython3",
   "version": "3.9.0"
  }
 },
 "nbformat": 4,
 "nbformat_minor": 5
}

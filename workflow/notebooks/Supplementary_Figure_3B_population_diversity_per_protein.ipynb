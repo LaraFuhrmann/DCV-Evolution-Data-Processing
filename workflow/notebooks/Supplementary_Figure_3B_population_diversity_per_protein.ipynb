{
 "cells": [
  {
   "cell_type": "code",
   "execution_count": 1,
   "id": "146b0777",
   "metadata": {},
   "outputs": [],
   "source": [
    "import pandas as pd\n",
    "import seaborn as sns\n",
    "import numpy as np\n",
    "from scipy.stats import normaltest\n",
    "from statannotations.Annotator import Annotator\n",
    "import matplotlib.pyplot as plt\n",
    "import scipy.stats as stats\n",
    "\n",
    "\n",
    "sns.set(rc={'figure.figsize':(25,10)})"
   ]
  },
  {
   "cell_type": "code",
   "execution_count": 2,
   "id": "a26ceaac",
   "metadata": {},
   "outputs": [],
   "source": [
    "our_color_palette ={\"WT\": \"#F2C14E\", \"KO\": \"#F15BB5\", \"OE\": \"#368F8B\"}\n",
    "genotype_dict = {\"dicer_KO\": \"KO\", \"dicer_overexpressed\": \"OE\", \"wild_type\": \"WT\", \"dicer_ko\": \"KO\", \"dicer_over_expressing\": \"OE\"}\n",
    "passage_dict = {\"passage_1\": \"P1\", \"passage_5\": \"P5\", \"passage_10\": \"P10\"}\n",
    "our_color_palette ={\"WT\": \"#F2C14E\", \"KO\": \"#F15BB5\", \"OE\": \"#368F8B\"}\n",
    "\n",
    "genotype_order = [\"WT\", \"KO\", \"OE\"]\n",
    "passage_order = ['P1','P5','P10']"
   ]
  },
  {
   "cell_type": "markdown",
   "id": "a03bd920",
   "metadata": {},
   "source": [
    "### plot nucleotide diversity per protein\n",
    "\n",
    "Values were computed with SNPGenie (https://github.com/chasewnelson/SNPGenie). "
   ]
  },
  {
   "cell_type": "code",
   "execution_count": 3,
   "id": "872a6c55",
   "metadata": {},
   "outputs": [],
   "source": [
    "df_WT= pd.read_csv('../../resources/run_workflow/results_cluster/wild_type/snpgenie_site_results.csv')\n",
    "df_KO = pd.read_csv('../../resources/run_workflow/results_cluster/dicer_KO/snpgenie_site_results.csv')\n",
    "df_OE = pd.read_csv('../../resources/run_workflow/results_cluster/dicer_overexpression/snpgenie_site_results.csv')\n",
    "\n",
    "df_pi = pd.concat([df_WT, df_KO, df_OE])[['site', 'pi', 'genotype', 'replicate', 'passage']]\n",
    "\n",
    "df_pi[\"genotype\"] = df_pi[\"genotype\"].apply(lambda x: genotype_dict[x])\n",
    "df_pi[\"passage\"] = df_pi[\"passage\"].apply(lambda x: passage_dict[x])\n"
   ]
  },
  {
   "cell_type": "code",
   "execution_count": 4,
   "id": "7a769cec",
   "metadata": {},
   "outputs": [],
   "source": [
    "proteins = {\n",
    "    \"1A\": (799, 1089),\n",
    "    \"2A\": (1092, 1161),\n",
    "    \"2B\": (1164, 1587),\n",
    "    \"2C\": (1590, 2901),\n",
    "    \"3A\": (2904, 3501),\n",
    "    \"3C\": (3504, 4422),\n",
    "    \"RdRp\": (4425, 6072),\n",
    "    \"VP2\": (6267, 7110),\n",
    "    \"VP4\": (7113, 7281),\n",
    "    \"VP3\": (7284, 8175),\n",
    "    \"VP1\": (8175, 8970),\n",
    "}\n",
    "\n",
    "protein_order = list(proteins.keys())"
   ]
  },
  {
   "cell_type": "code",
   "execution_count": 5,
   "id": "607d2668",
   "metadata": {},
   "outputs": [],
   "source": [
    "df_pis_protein = pd.DataFrame() \n",
    "\n",
    "for genotype in genotype_order:\n",
    "    for passage in passage_order:\n",
    "        for replicate in ['replicate_d', 'replicate_b', 'replicate_a', 'replicate_e','replicate_c']:\n",
    "            for protein in proteins.items():\n",
    "                protein_id = protein[0]\n",
    "                protein_start = protein[1][0]\n",
    "                protein_end = protein[1][1]\n",
    "                protein_length = protein_end - protein_start\n",
    "\n",
    "                df_temp = df_pi[df_pi['genotype']== genotype]\n",
    "                df_temp = df_temp[df_temp['passage']==passage]\n",
    "                df_temp = df_temp[df_temp['replicate']==replicate]\n",
    "                df_temp = df_temp[df_temp['site'].isin(list(range(protein_start,protein_end+1 )))]\n",
    "                avg_pi = df_temp['pi'].sum()/protein_length\n",
    "\n",
    "                mean_pis = {\n",
    "                            'genotype': [genotype], \n",
    "                            'passage': passage, \n",
    "                            'replicate': replicate,\n",
    "                            'protein': protein_id,\n",
    "                            'avg_pi': avg_pi, \n",
    "                        }\n",
    "\n",
    "                df_pis_protein = pd.concat([pd.DataFrame(mean_pis),df_pis_protein], ignore_index=True)\n"
   ]
  },
  {
   "cell_type": "code",
   "execution_count": 6,
   "id": "47bf1f67",
   "metadata": {},
   "outputs": [
    {
     "name": "stdout",
     "output_type": "stream",
     "text": [
      "1A : p =  0.0742961733380507\n",
      "2A : p =  0.06345354521359337\n",
      "2B : p =  0.044843757819555456\n",
      "2C : p =  0.5562845053818082\n",
      "3A : p =  0.48200342315409395\n",
      "3C : p =  0.6251844915555427\n",
      "RdRp : p =  0.830185806382693\n",
      "VP2 : p =  0.9677060887512499\n",
      "VP4 : p =  0.24323373183863978\n",
      "VP3 : p =  0.5799039043622394\n",
      "VP1 : p =  0.43648289488253955\n"
     ]
    },
    {
     "name": "stderr",
     "output_type": "stream",
     "text": [
      "/Users/lfuhrmann/Library/Python/3.9/lib/python/site-packages/scipy/stats/stats.py:1541: UserWarning: kurtosistest only valid for n>=20 ... continuing anyway, n=9\n",
      "  warnings.warn(\"kurtosistest only valid for n>=20 ... continuing \"\n",
      "/Users/lfuhrmann/Library/Python/3.9/lib/python/site-packages/scipy/stats/stats.py:1541: UserWarning: kurtosistest only valid for n>=20 ... continuing anyway, n=9\n",
      "  warnings.warn(\"kurtosistest only valid for n>=20 ... continuing \"\n",
      "/Users/lfuhrmann/Library/Python/3.9/lib/python/site-packages/scipy/stats/stats.py:1541: UserWarning: kurtosistest only valid for n>=20 ... continuing anyway, n=9\n",
      "  warnings.warn(\"kurtosistest only valid for n>=20 ... continuing \"\n",
      "/Users/lfuhrmann/Library/Python/3.9/lib/python/site-packages/scipy/stats/stats.py:1541: UserWarning: kurtosistest only valid for n>=20 ... continuing anyway, n=9\n",
      "  warnings.warn(\"kurtosistest only valid for n>=20 ... continuing \"\n",
      "/Users/lfuhrmann/Library/Python/3.9/lib/python/site-packages/scipy/stats/stats.py:1541: UserWarning: kurtosistest only valid for n>=20 ... continuing anyway, n=9\n",
      "  warnings.warn(\"kurtosistest only valid for n>=20 ... continuing \"\n",
      "/Users/lfuhrmann/Library/Python/3.9/lib/python/site-packages/scipy/stats/stats.py:1541: UserWarning: kurtosistest only valid for n>=20 ... continuing anyway, n=9\n",
      "  warnings.warn(\"kurtosistest only valid for n>=20 ... continuing \"\n",
      "/Users/lfuhrmann/Library/Python/3.9/lib/python/site-packages/scipy/stats/stats.py:1541: UserWarning: kurtosistest only valid for n>=20 ... continuing anyway, n=9\n",
      "  warnings.warn(\"kurtosistest only valid for n>=20 ... continuing \"\n",
      "/Users/lfuhrmann/Library/Python/3.9/lib/python/site-packages/scipy/stats/stats.py:1541: UserWarning: kurtosistest only valid for n>=20 ... continuing anyway, n=9\n",
      "  warnings.warn(\"kurtosistest only valid for n>=20 ... continuing \"\n",
      "/Users/lfuhrmann/Library/Python/3.9/lib/python/site-packages/scipy/stats/stats.py:1541: UserWarning: kurtosistest only valid for n>=20 ... continuing anyway, n=9\n",
      "  warnings.warn(\"kurtosistest only valid for n>=20 ... continuing \"\n",
      "/Users/lfuhrmann/Library/Python/3.9/lib/python/site-packages/scipy/stats/stats.py:1541: UserWarning: kurtosistest only valid for n>=20 ... continuing anyway, n=9\n",
      "  warnings.warn(\"kurtosistest only valid for n>=20 ... continuing \"\n",
      "/Users/lfuhrmann/Library/Python/3.9/lib/python/site-packages/scipy/stats/stats.py:1541: UserWarning: kurtosistest only valid for n>=20 ... continuing anyway, n=9\n",
      "  warnings.warn(\"kurtosistest only valid for n>=20 ... continuing \"\n"
     ]
    }
   ],
   "source": [
    "# test normalitiy for each group --> H0: samples comes from normal distribution\n",
    "\n",
    "for protein in protein_order:\n",
    "    avg_pi = df_pis_protein[(df_pis_protein['protein']==protein)].pivot_table(values ='avg_pi',\n",
    "                                                                                           index=['genotype', 'passage'], \n",
    "                                                                                           aggfunc='mean').reset_index()['avg_pi']\n",
    "    \n",
    " \n",
    "    print(protein, \": p = \", normaltest(np.log10(avg_pi)).pvalue)"
   ]
  },
  {
   "cell_type": "code",
   "execution_count": 7,
   "id": "de47445e",
   "metadata": {},
   "outputs": [],
   "source": [
    "# compare the baseline diveristy full genome (or coding) diversity to show that one protein is quite diverese\n",
    "\n",
    "# import data\n",
    "\n",
    "df_WT = pd.read_csv('../../resources/run_workflow/results_cluster/wild_type/snpgenie_population_summary.csv')\n",
    "df_KO = pd.read_csv('../../resources/run_workflow/results_cluster/dicer_KO/snpgenie_population_summary.csv')\n",
    "df_OE = pd.read_csv('../../resources/run_workflow/results_cluster/dicer_overexpression/snpgenie_population_summary.csv')\n",
    "\n",
    "\n",
    "df_pop = pd.concat([df_WT, df_KO, df_OE])\n",
    "\n",
    "df_pop[\"genotype\"] = df_pop[\"genotype\"].apply(lambda x: genotype_dict[x])\n",
    "df_pop[\"passage\"] = df_pop[\"passage\"].apply(lambda x: passage_dict[x])\n",
    "df_pop = df_pop[['pi','pi_coding', 'pi_noncoding', 'genotype', 'replicate', 'passage']]\n",
    "\n",
    "df_pop_mean = df_pop.pivot_table(values ='pi_coding',\n",
    "                                 index=['genotype', 'passage'], \n",
    "                                 aggfunc='mean')\n",
    "\n",
    "df_pop_mean = df_pop_mean.reset_index()"
   ]
  },
  {
   "cell_type": "code",
<<<<<<< HEAD
   "execution_count": 8,
=======
   "execution_count": 13,
>>>>>>> main
   "id": "fa11d952",
   "metadata": {
    "scrolled": false
   },
   "outputs": [
    {
     "name": "stderr",
     "output_type": "stream",
     "text": [
      "/Users/lfuhrmann/Library/Python/3.9/lib/python/site-packages/seaborn/categorical.py:1781: UserWarning: You passed a edgecolor/edgecolors ((0.9490196078431372, 0.7568627450980392, 0.3058823529411765)) for an unfilled marker ('x').  Matplotlib is ignoring the edgecolor in favor of the facecolor.  This behavior may change in the future.\n",
      "  ax.scatter(x, y, label=hue_level,\n",
      "/Users/lfuhrmann/Library/Python/3.9/lib/python/site-packages/seaborn/categorical.py:1781: UserWarning: You passed a edgecolor/edgecolors ((0.9450980392156862, 0.3568627450980392, 0.7098039215686275)) for an unfilled marker ('x').  Matplotlib is ignoring the edgecolor in favor of the facecolor.  This behavior may change in the future.\n",
      "  ax.scatter(x, y, label=hue_level,\n",
      "/Users/lfuhrmann/Library/Python/3.9/lib/python/site-packages/seaborn/categorical.py:1781: UserWarning: You passed a edgecolor/edgecolors ((0.21176470588235294, 0.5607843137254902, 0.5450980392156862)) for an unfilled marker ('x').  Matplotlib is ignoring the edgecolor in favor of the facecolor.  This behavior may change in the future.\n",
      "  ax.scatter(x, y, label=hue_level,\n",
      "/Users/lfuhrmann/Library/Python/3.9/lib/python/site-packages/statannotations/_Plotter.py:337: UserWarning: Invalid x-position found. Are the same parameters passed to seaborn and statannotations calls? or are there few data points?\n",
      "  warnings.warn(\n",
      "/Users/lfuhrmann/Library/Python/3.9/lib/python/site-packages/statannotations/_Plotter.py:337: UserWarning: Invalid x-position found. Are the same parameters passed to seaborn and statannotations calls? or are there few data points?\n",
      "  warnings.warn(\n",
      "/Users/lfuhrmann/Library/Python/3.9/lib/python/site-packages/statannotations/_Plotter.py:337: UserWarning: Invalid x-position found. Are the same parameters passed to seaborn and statannotations calls? or are there few data points?\n",
      "  warnings.warn(\n",
      "/Users/lfuhrmann/Library/Python/3.9/lib/python/site-packages/statannotations/_Plotter.py:337: UserWarning: Invalid x-position found. Are the same parameters passed to seaborn and statannotations calls? or are there few data points?\n",
      "  warnings.warn(\n"
     ]
    },
    {
     "name": "stdout",
     "output_type": "stream",
     "text": [
      "p-value annotation legend:\n",
      "      ns: p <= 1.00e+00\n",
      "       *: 1.00e-02 < p <= 5.00e-02\n",
      "      **: 1.00e-03 < p <= 1.00e-02\n",
      "     ***: 1.00e-04 < p <= 1.00e-03\n",
      "    ****: p <= 1.00e-04\n",
      "\n",
      "P10_WT vs. P10_OE: Custom statistical test, P_val:5.588e-02\n",
      "P5_WT vs. P5_OE: Custom statistical test, P_val:2.430e-02\n",
      "P1_WT vs. P1_OE: Custom statistical test, P_val:7.899e-01\n"
     ]
    },
    {
     "name": "stderr",
     "output_type": "stream",
     "text": [
      "/Users/lfuhrmann/Library/Python/3.9/lib/python/site-packages/seaborn/categorical.py:1781: UserWarning: You passed a edgecolor/edgecolors ((0.9490196078431372, 0.7568627450980392, 0.3058823529411765)) for an unfilled marker ('x').  Matplotlib is ignoring the edgecolor in favor of the facecolor.  This behavior may change in the future.\n",
      "  ax.scatter(x, y, label=hue_level,\n",
      "/Users/lfuhrmann/Library/Python/3.9/lib/python/site-packages/seaborn/categorical.py:1781: UserWarning: You passed a edgecolor/edgecolors ((0.9450980392156862, 0.3568627450980392, 0.7098039215686275)) for an unfilled marker ('x').  Matplotlib is ignoring the edgecolor in favor of the facecolor.  This behavior may change in the future.\n",
      "  ax.scatter(x, y, label=hue_level,\n",
      "/Users/lfuhrmann/Library/Python/3.9/lib/python/site-packages/seaborn/categorical.py:1781: UserWarning: You passed a edgecolor/edgecolors ((0.21176470588235294, 0.5607843137254902, 0.5450980392156862)) for an unfilled marker ('x').  Matplotlib is ignoring the edgecolor in favor of the facecolor.  This behavior may change in the future.\n",
      "  ax.scatter(x, y, label=hue_level,\n",
      "/Users/lfuhrmann/Library/Python/3.9/lib/python/site-packages/statannotations/_Plotter.py:337: UserWarning: Invalid x-position found. Are the same parameters passed to seaborn and statannotations calls? or are there few data points?\n",
      "  warnings.warn(\n",
      "/Users/lfuhrmann/Library/Python/3.9/lib/python/site-packages/statannotations/_Plotter.py:337: UserWarning: Invalid x-position found. Are the same parameters passed to seaborn and statannotations calls? or are there few data points?\n",
      "  warnings.warn(\n",
      "/Users/lfuhrmann/Library/Python/3.9/lib/python/site-packages/statannotations/_Plotter.py:337: UserWarning: Invalid x-position found. Are the same parameters passed to seaborn and statannotations calls? or are there few data points?\n",
      "  warnings.warn(\n",
      "/Users/lfuhrmann/Library/Python/3.9/lib/python/site-packages/statannotations/_Plotter.py:337: UserWarning: Invalid x-position found. Are the same parameters passed to seaborn and statannotations calls? or are there few data points?\n",
      "  warnings.warn(\n"
     ]
    },
    {
     "name": "stdout",
     "output_type": "stream",
     "text": [
      "p-value annotation legend:\n",
      "      ns: p <= 1.00e+00\n",
      "       *: 1.00e-02 < p <= 5.00e-02\n",
      "      **: 1.00e-03 < p <= 1.00e-02\n",
      "     ***: 1.00e-04 < p <= 1.00e-03\n",
      "    ****: p <= 1.00e-04\n",
      "\n",
      "P10_WT vs. P10_OE: Custom statistical test, P_val:1.735e-02\n",
      "P5_WT vs. P5_OE: Custom statistical test, P_val:9.328e-03\n",
      "P1_WT vs. P1_OE: Custom statistical test, P_val:8.949e-01\n"
     ]
    },
    {
     "name": "stderr",
     "output_type": "stream",
     "text": [
      "/Users/lfuhrmann/Library/Python/3.9/lib/python/site-packages/seaborn/categorical.py:1781: UserWarning: You passed a edgecolor/edgecolors ((0.9490196078431372, 0.7568627450980392, 0.3058823529411765)) for an unfilled marker ('x').  Matplotlib is ignoring the edgecolor in favor of the facecolor.  This behavior may change in the future.\n",
      "  ax.scatter(x, y, label=hue_level,\n",
      "/Users/lfuhrmann/Library/Python/3.9/lib/python/site-packages/seaborn/categorical.py:1781: UserWarning: You passed a edgecolor/edgecolors ((0.9450980392156862, 0.3568627450980392, 0.7098039215686275)) for an unfilled marker ('x').  Matplotlib is ignoring the edgecolor in favor of the facecolor.  This behavior may change in the future.\n",
      "  ax.scatter(x, y, label=hue_level,\n",
      "/Users/lfuhrmann/Library/Python/3.9/lib/python/site-packages/seaborn/categorical.py:1781: UserWarning: You passed a edgecolor/edgecolors ((0.21176470588235294, 0.5607843137254902, 0.5450980392156862)) for an unfilled marker ('x').  Matplotlib is ignoring the edgecolor in favor of the facecolor.  This behavior may change in the future.\n",
      "  ax.scatter(x, y, label=hue_level,\n",
      "/Users/lfuhrmann/Library/Python/3.9/lib/python/site-packages/statannotations/_Plotter.py:337: UserWarning: Invalid x-position found. Are the same parameters passed to seaborn and statannotations calls? or are there few data points?\n",
      "  warnings.warn(\n",
      "/Users/lfuhrmann/Library/Python/3.9/lib/python/site-packages/statannotations/_Plotter.py:337: UserWarning: Invalid x-position found. Are the same parameters passed to seaborn and statannotations calls? or are there few data points?\n",
      "  warnings.warn(\n",
      "/Users/lfuhrmann/Library/Python/3.9/lib/python/site-packages/statannotations/_Plotter.py:337: UserWarning: Invalid x-position found. Are the same parameters passed to seaborn and statannotations calls? or are there few data points?\n",
      "  warnings.warn(\n",
      "/Users/lfuhrmann/Library/Python/3.9/lib/python/site-packages/statannotations/_Plotter.py:337: UserWarning: Invalid x-position found. Are the same parameters passed to seaborn and statannotations calls? or are there few data points?\n",
      "  warnings.warn(\n"
     ]
    },
    {
     "name": "stdout",
     "output_type": "stream",
     "text": [
      "p-value annotation legend:\n",
      "      ns: p <= 1.00e+00\n",
      "       *: 1.00e-02 < p <= 5.00e-02\n",
      "      **: 1.00e-03 < p <= 1.00e-02\n",
      "     ***: 1.00e-04 < p <= 1.00e-03\n",
      "    ****: p <= 1.00e-04\n",
      "\n",
      "P10_WT vs. P10_OE: Custom statistical test, P_val:9.466e-02\n",
      "P5_WT vs. P5_OE: Custom statistical test, P_val:1.669e-02\n",
      "P1_WT vs. P1_OE: Custom statistical test, P_val:1.440e-01\n"
     ]
    },
    {
     "name": "stderr",
     "output_type": "stream",
     "text": [
      "/Users/lfuhrmann/Library/Python/3.9/lib/python/site-packages/seaborn/categorical.py:1781: UserWarning: You passed a edgecolor/edgecolors ((0.9490196078431372, 0.7568627450980392, 0.3058823529411765)) for an unfilled marker ('x').  Matplotlib is ignoring the edgecolor in favor of the facecolor.  This behavior may change in the future.\n",
      "  ax.scatter(x, y, label=hue_level,\n",
      "/Users/lfuhrmann/Library/Python/3.9/lib/python/site-packages/seaborn/categorical.py:1781: UserWarning: You passed a edgecolor/edgecolors ((0.9450980392156862, 0.3568627450980392, 0.7098039215686275)) for an unfilled marker ('x').  Matplotlib is ignoring the edgecolor in favor of the facecolor.  This behavior may change in the future.\n",
      "  ax.scatter(x, y, label=hue_level,\n",
      "/Users/lfuhrmann/Library/Python/3.9/lib/python/site-packages/seaborn/categorical.py:1781: UserWarning: You passed a edgecolor/edgecolors ((0.21176470588235294, 0.5607843137254902, 0.5450980392156862)) for an unfilled marker ('x').  Matplotlib is ignoring the edgecolor in favor of the facecolor.  This behavior may change in the future.\n",
      "  ax.scatter(x, y, label=hue_level,\n",
      "/Users/lfuhrmann/Library/Python/3.9/lib/python/site-packages/statannotations/_Plotter.py:337: UserWarning: Invalid x-position found. Are the same parameters passed to seaborn and statannotations calls? or are there few data points?\n",
      "  warnings.warn(\n",
      "/Users/lfuhrmann/Library/Python/3.9/lib/python/site-packages/statannotations/_Plotter.py:337: UserWarning: Invalid x-position found. Are the same parameters passed to seaborn and statannotations calls? or are there few data points?\n",
      "  warnings.warn(\n",
      "/Users/lfuhrmann/Library/Python/3.9/lib/python/site-packages/statannotations/_Plotter.py:337: UserWarning: Invalid x-position found. Are the same parameters passed to seaborn and statannotations calls? or are there few data points?\n",
      "  warnings.warn(\n",
      "/Users/lfuhrmann/Library/Python/3.9/lib/python/site-packages/statannotations/_Plotter.py:337: UserWarning: Invalid x-position found. Are the same parameters passed to seaborn and statannotations calls? or are there few data points?\n",
      "  warnings.warn(\n"
     ]
    },
    {
     "name": "stdout",
     "output_type": "stream",
     "text": [
      "p-value annotation legend:\n",
      "      ns: p <= 1.00e+00\n",
      "       *: 1.00e-02 < p <= 5.00e-02\n",
      "      **: 1.00e-03 < p <= 1.00e-02\n",
      "     ***: 1.00e-04 < p <= 1.00e-03\n",
      "    ****: p <= 1.00e-04\n",
      "\n",
      "P10_WT vs. P10_OE: Custom statistical test, P_val:1.104e-01\n",
      "P5_WT vs. P5_OE: Custom statistical test, P_val:4.473e-02\n",
      "P1_WT vs. P1_OE: Custom statistical test, P_val:3.788e-02\n"
     ]
    },
    {
     "name": "stderr",
     "output_type": "stream",
     "text": [
      "/Users/lfuhrmann/Library/Python/3.9/lib/python/site-packages/seaborn/categorical.py:1781: UserWarning: You passed a edgecolor/edgecolors ((0.9490196078431372, 0.7568627450980392, 0.3058823529411765)) for an unfilled marker ('x').  Matplotlib is ignoring the edgecolor in favor of the facecolor.  This behavior may change in the future.\n",
      "  ax.scatter(x, y, label=hue_level,\n",
      "/Users/lfuhrmann/Library/Python/3.9/lib/python/site-packages/seaborn/categorical.py:1781: UserWarning: You passed a edgecolor/edgecolors ((0.9450980392156862, 0.3568627450980392, 0.7098039215686275)) for an unfilled marker ('x').  Matplotlib is ignoring the edgecolor in favor of the facecolor.  This behavior may change in the future.\n",
      "  ax.scatter(x, y, label=hue_level,\n",
      "/Users/lfuhrmann/Library/Python/3.9/lib/python/site-packages/seaborn/categorical.py:1781: UserWarning: You passed a edgecolor/edgecolors ((0.21176470588235294, 0.5607843137254902, 0.5450980392156862)) for an unfilled marker ('x').  Matplotlib is ignoring the edgecolor in favor of the facecolor.  This behavior may change in the future.\n",
      "  ax.scatter(x, y, label=hue_level,\n",
      "/Users/lfuhrmann/Library/Python/3.9/lib/python/site-packages/statannotations/_Plotter.py:337: UserWarning: Invalid x-position found. Are the same parameters passed to seaborn and statannotations calls? or are there few data points?\n",
      "  warnings.warn(\n",
      "/Users/lfuhrmann/Library/Python/3.9/lib/python/site-packages/statannotations/_Plotter.py:337: UserWarning: Invalid x-position found. Are the same parameters passed to seaborn and statannotations calls? or are there few data points?\n",
      "  warnings.warn(\n",
      "/Users/lfuhrmann/Library/Python/3.9/lib/python/site-packages/statannotations/_Plotter.py:337: UserWarning: Invalid x-position found. Are the same parameters passed to seaborn and statannotations calls? or are there few data points?\n",
      "  warnings.warn(\n",
      "/Users/lfuhrmann/Library/Python/3.9/lib/python/site-packages/statannotations/_Plotter.py:337: UserWarning: Invalid x-position found. Are the same parameters passed to seaborn and statannotations calls? or are there few data points?\n",
      "  warnings.warn(\n"
     ]
    },
    {
     "name": "stdout",
     "output_type": "stream",
     "text": [
      "p-value annotation legend:\n",
      "      ns: p <= 1.00e+00\n",
      "       *: 1.00e-02 < p <= 5.00e-02\n",
      "      **: 1.00e-03 < p <= 1.00e-02\n",
      "     ***: 1.00e-04 < p <= 1.00e-03\n",
      "    ****: p <= 1.00e-04\n",
      "\n",
      "P10_WT vs. P10_OE: Custom statistical test, P_val:1.278e-02\n",
      "P5_WT vs. P5_OE: Custom statistical test, P_val:2.902e-02\n",
      "P1_WT vs. P1_OE: Custom statistical test, P_val:1.522e-02\n"
     ]
    },
    {
     "name": "stderr",
     "output_type": "stream",
     "text": [
      "/Users/lfuhrmann/Library/Python/3.9/lib/python/site-packages/seaborn/categorical.py:1781: UserWarning: You passed a edgecolor/edgecolors ((0.9490196078431372, 0.7568627450980392, 0.3058823529411765)) for an unfilled marker ('x').  Matplotlib is ignoring the edgecolor in favor of the facecolor.  This behavior may change in the future.\n",
      "  ax.scatter(x, y, label=hue_level,\n",
      "/Users/lfuhrmann/Library/Python/3.9/lib/python/site-packages/seaborn/categorical.py:1781: UserWarning: You passed a edgecolor/edgecolors ((0.9450980392156862, 0.3568627450980392, 0.7098039215686275)) for an unfilled marker ('x').  Matplotlib is ignoring the edgecolor in favor of the facecolor.  This behavior may change in the future.\n",
      "  ax.scatter(x, y, label=hue_level,\n",
      "/Users/lfuhrmann/Library/Python/3.9/lib/python/site-packages/seaborn/categorical.py:1781: UserWarning: You passed a edgecolor/edgecolors ((0.21176470588235294, 0.5607843137254902, 0.5450980392156862)) for an unfilled marker ('x').  Matplotlib is ignoring the edgecolor in favor of the facecolor.  This behavior may change in the future.\n",
      "  ax.scatter(x, y, label=hue_level,\n",
      "/Users/lfuhrmann/Library/Python/3.9/lib/python/site-packages/statannotations/_Plotter.py:337: UserWarning: Invalid x-position found. Are the same parameters passed to seaborn and statannotations calls? or are there few data points?\n",
      "  warnings.warn(\n",
      "/Users/lfuhrmann/Library/Python/3.9/lib/python/site-packages/statannotations/_Plotter.py:337: UserWarning: Invalid x-position found. Are the same parameters passed to seaborn and statannotations calls? or are there few data points?\n",
      "  warnings.warn(\n",
      "/Users/lfuhrmann/Library/Python/3.9/lib/python/site-packages/statannotations/_Plotter.py:337: UserWarning: Invalid x-position found. Are the same parameters passed to seaborn and statannotations calls? or are there few data points?\n",
      "  warnings.warn(\n",
      "/Users/lfuhrmann/Library/Python/3.9/lib/python/site-packages/statannotations/_Plotter.py:337: UserWarning: Invalid x-position found. Are the same parameters passed to seaborn and statannotations calls? or are there few data points?\n",
      "  warnings.warn(\n"
     ]
    },
    {
     "name": "stdout",
     "output_type": "stream",
     "text": [
      "p-value annotation legend:\n",
      "      ns: p <= 1.00e+00\n",
      "       *: 1.00e-02 < p <= 5.00e-02\n",
      "      **: 1.00e-03 < p <= 1.00e-02\n",
      "     ***: 1.00e-04 < p <= 1.00e-03\n",
      "    ****: p <= 1.00e-04\n",
      "\n",
      "P10_WT vs. P10_OE: Custom statistical test, P_val:3.746e-02\n",
      "P5_WT vs. P5_OE: Custom statistical test, P_val:1.180e-02\n",
      "P1_WT vs. P1_OE: Custom statistical test, P_val:4.390e-02\n"
     ]
    },
    {
     "name": "stderr",
     "output_type": "stream",
     "text": [
      "/Users/lfuhrmann/Library/Python/3.9/lib/python/site-packages/seaborn/categorical.py:1781: UserWarning: You passed a edgecolor/edgecolors ((0.9490196078431372, 0.7568627450980392, 0.3058823529411765)) for an unfilled marker ('x').  Matplotlib is ignoring the edgecolor in favor of the facecolor.  This behavior may change in the future.\n",
      "  ax.scatter(x, y, label=hue_level,\n",
      "/Users/lfuhrmann/Library/Python/3.9/lib/python/site-packages/seaborn/categorical.py:1781: UserWarning: You passed a edgecolor/edgecolors ((0.9450980392156862, 0.3568627450980392, 0.7098039215686275)) for an unfilled marker ('x').  Matplotlib is ignoring the edgecolor in favor of the facecolor.  This behavior may change in the future.\n",
      "  ax.scatter(x, y, label=hue_level,\n",
      "/Users/lfuhrmann/Library/Python/3.9/lib/python/site-packages/seaborn/categorical.py:1781: UserWarning: You passed a edgecolor/edgecolors ((0.21176470588235294, 0.5607843137254902, 0.5450980392156862)) for an unfilled marker ('x').  Matplotlib is ignoring the edgecolor in favor of the facecolor.  This behavior may change in the future.\n",
      "  ax.scatter(x, y, label=hue_level,\n",
      "/Users/lfuhrmann/Library/Python/3.9/lib/python/site-packages/statannotations/_Plotter.py:337: UserWarning: Invalid x-position found. Are the same parameters passed to seaborn and statannotations calls? or are there few data points?\n",
      "  warnings.warn(\n",
      "/Users/lfuhrmann/Library/Python/3.9/lib/python/site-packages/statannotations/_Plotter.py:337: UserWarning: Invalid x-position found. Are the same parameters passed to seaborn and statannotations calls? or are there few data points?\n",
      "  warnings.warn(\n",
      "/Users/lfuhrmann/Library/Python/3.9/lib/python/site-packages/statannotations/_Plotter.py:337: UserWarning: Invalid x-position found. Are the same parameters passed to seaborn and statannotations calls? or are there few data points?\n",
      "  warnings.warn(\n",
      "/Users/lfuhrmann/Library/Python/3.9/lib/python/site-packages/statannotations/_Plotter.py:337: UserWarning: Invalid x-position found. Are the same parameters passed to seaborn and statannotations calls? or are there few data points?\n",
      "  warnings.warn(\n"
     ]
    },
    {
     "name": "stdout",
     "output_type": "stream",
     "text": [
      "p-value annotation legend:\n",
      "      ns: p <= 1.00e+00\n",
      "       *: 1.00e-02 < p <= 5.00e-02\n",
      "      **: 1.00e-03 < p <= 1.00e-02\n",
      "     ***: 1.00e-04 < p <= 1.00e-03\n",
      "    ****: p <= 1.00e-04\n",
      "\n",
      "P10_WT vs. P10_OE: Custom statistical test, P_val:5.222e-03\n",
      "P5_WT vs. P5_OE: Custom statistical test, P_val:1.965e-02\n",
      "P1_WT vs. P1_OE: Custom statistical test, P_val:3.084e-02\n"
     ]
    },
    {
     "name": "stderr",
     "output_type": "stream",
     "text": [
      "/Users/lfuhrmann/Library/Python/3.9/lib/python/site-packages/seaborn/categorical.py:1781: UserWarning: You passed a edgecolor/edgecolors ((0.9490196078431372, 0.7568627450980392, 0.3058823529411765)) for an unfilled marker ('x').  Matplotlib is ignoring the edgecolor in favor of the facecolor.  This behavior may change in the future.\n",
      "  ax.scatter(x, y, label=hue_level,\n",
      "/Users/lfuhrmann/Library/Python/3.9/lib/python/site-packages/seaborn/categorical.py:1781: UserWarning: You passed a edgecolor/edgecolors ((0.9450980392156862, 0.3568627450980392, 0.7098039215686275)) for an unfilled marker ('x').  Matplotlib is ignoring the edgecolor in favor of the facecolor.  This behavior may change in the future.\n",
      "  ax.scatter(x, y, label=hue_level,\n",
      "/Users/lfuhrmann/Library/Python/3.9/lib/python/site-packages/seaborn/categorical.py:1781: UserWarning: You passed a edgecolor/edgecolors ((0.21176470588235294, 0.5607843137254902, 0.5450980392156862)) for an unfilled marker ('x').  Matplotlib is ignoring the edgecolor in favor of the facecolor.  This behavior may change in the future.\n",
      "  ax.scatter(x, y, label=hue_level,\n",
      "/Users/lfuhrmann/Library/Python/3.9/lib/python/site-packages/statannotations/_Plotter.py:337: UserWarning: Invalid x-position found. Are the same parameters passed to seaborn and statannotations calls? or are there few data points?\n",
      "  warnings.warn(\n",
      "/Users/lfuhrmann/Library/Python/3.9/lib/python/site-packages/statannotations/_Plotter.py:337: UserWarning: Invalid x-position found. Are the same parameters passed to seaborn and statannotations calls? or are there few data points?\n",
      "  warnings.warn(\n",
      "/Users/lfuhrmann/Library/Python/3.9/lib/python/site-packages/statannotations/_Plotter.py:337: UserWarning: Invalid x-position found. Are the same parameters passed to seaborn and statannotations calls? or are there few data points?\n",
      "  warnings.warn(\n",
      "/Users/lfuhrmann/Library/Python/3.9/lib/python/site-packages/statannotations/_Plotter.py:337: UserWarning: Invalid x-position found. Are the same parameters passed to seaborn and statannotations calls? or are there few data points?\n",
      "  warnings.warn(\n"
     ]
    },
    {
     "name": "stdout",
     "output_type": "stream",
     "text": [
      "p-value annotation legend:\n",
      "      ns: p <= 1.00e+00\n",
      "       *: 1.00e-02 < p <= 5.00e-02\n",
      "      **: 1.00e-03 < p <= 1.00e-02\n",
      "     ***: 1.00e-04 < p <= 1.00e-03\n",
      "    ****: p <= 1.00e-04\n",
      "\n",
      "P10_WT vs. P10_OE: Custom statistical test, P_val:8.054e-01\n",
      "P5_WT vs. P5_OE: Custom statistical test, P_val:5.235e-01\n",
      "P1_WT vs. P1_OE: Custom statistical test, P_val:1.577e-01\n"
     ]
    },
    {
     "name": "stderr",
     "output_type": "stream",
     "text": [
      "/Users/lfuhrmann/Library/Python/3.9/lib/python/site-packages/seaborn/categorical.py:1781: UserWarning: You passed a edgecolor/edgecolors ((0.9490196078431372, 0.7568627450980392, 0.3058823529411765)) for an unfilled marker ('x').  Matplotlib is ignoring the edgecolor in favor of the facecolor.  This behavior may change in the future.\n",
      "  ax.scatter(x, y, label=hue_level,\n",
      "/Users/lfuhrmann/Library/Python/3.9/lib/python/site-packages/seaborn/categorical.py:1781: UserWarning: You passed a edgecolor/edgecolors ((0.9450980392156862, 0.3568627450980392, 0.7098039215686275)) for an unfilled marker ('x').  Matplotlib is ignoring the edgecolor in favor of the facecolor.  This behavior may change in the future.\n",
      "  ax.scatter(x, y, label=hue_level,\n",
      "/Users/lfuhrmann/Library/Python/3.9/lib/python/site-packages/seaborn/categorical.py:1781: UserWarning: You passed a edgecolor/edgecolors ((0.21176470588235294, 0.5607843137254902, 0.5450980392156862)) for an unfilled marker ('x').  Matplotlib is ignoring the edgecolor in favor of the facecolor.  This behavior may change in the future.\n",
      "  ax.scatter(x, y, label=hue_level,\n",
      "/Users/lfuhrmann/Library/Python/3.9/lib/python/site-packages/statannotations/_Plotter.py:337: UserWarning: Invalid x-position found. Are the same parameters passed to seaborn and statannotations calls? or are there few data points?\n",
      "  warnings.warn(\n",
      "/Users/lfuhrmann/Library/Python/3.9/lib/python/site-packages/statannotations/_Plotter.py:337: UserWarning: Invalid x-position found. Are the same parameters passed to seaborn and statannotations calls? or are there few data points?\n",
      "  warnings.warn(\n",
      "/Users/lfuhrmann/Library/Python/3.9/lib/python/site-packages/statannotations/_Plotter.py:337: UserWarning: Invalid x-position found. Are the same parameters passed to seaborn and statannotations calls? or are there few data points?\n",
      "  warnings.warn(\n",
      "/Users/lfuhrmann/Library/Python/3.9/lib/python/site-packages/statannotations/_Plotter.py:337: UserWarning: Invalid x-position found. Are the same parameters passed to seaborn and statannotations calls? or are there few data points?\n",
      "  warnings.warn(\n"
     ]
    },
    {
     "name": "stdout",
     "output_type": "stream",
     "text": [
      "p-value annotation legend:\n",
      "      ns: p <= 1.00e+00\n",
      "       *: 1.00e-02 < p <= 5.00e-02\n",
      "      **: 1.00e-03 < p <= 1.00e-02\n",
      "     ***: 1.00e-04 < p <= 1.00e-03\n",
      "    ****: p <= 1.00e-04\n",
      "\n",
      "P10_WT vs. P10_OE: Custom statistical test, P_val:7.192e-01\n",
      "P5_WT vs. P5_OE: Custom statistical test, P_val:7.761e-02\n",
      "P1_WT vs. P1_OE: Custom statistical test, P_val:2.890e-01\n"
     ]
    },
    {
     "name": "stderr",
     "output_type": "stream",
     "text": [
      "/Users/lfuhrmann/Library/Python/3.9/lib/python/site-packages/seaborn/categorical.py:1781: UserWarning: You passed a edgecolor/edgecolors ((0.9490196078431372, 0.7568627450980392, 0.3058823529411765)) for an unfilled marker ('x').  Matplotlib is ignoring the edgecolor in favor of the facecolor.  This behavior may change in the future.\n",
      "  ax.scatter(x, y, label=hue_level,\n",
      "/Users/lfuhrmann/Library/Python/3.9/lib/python/site-packages/seaborn/categorical.py:1781: UserWarning: You passed a edgecolor/edgecolors ((0.9450980392156862, 0.3568627450980392, 0.7098039215686275)) for an unfilled marker ('x').  Matplotlib is ignoring the edgecolor in favor of the facecolor.  This behavior may change in the future.\n",
      "  ax.scatter(x, y, label=hue_level,\n",
      "/Users/lfuhrmann/Library/Python/3.9/lib/python/site-packages/seaborn/categorical.py:1781: UserWarning: You passed a edgecolor/edgecolors ((0.21176470588235294, 0.5607843137254902, 0.5450980392156862)) for an unfilled marker ('x').  Matplotlib is ignoring the edgecolor in favor of the facecolor.  This behavior may change in the future.\n",
      "  ax.scatter(x, y, label=hue_level,\n",
      "/Users/lfuhrmann/Library/Python/3.9/lib/python/site-packages/statannotations/_Plotter.py:337: UserWarning: Invalid x-position found. Are the same parameters passed to seaborn and statannotations calls? or are there few data points?\n",
      "  warnings.warn(\n",
      "/Users/lfuhrmann/Library/Python/3.9/lib/python/site-packages/statannotations/_Plotter.py:337: UserWarning: Invalid x-position found. Are the same parameters passed to seaborn and statannotations calls? or are there few data points?\n",
      "  warnings.warn(\n",
      "/Users/lfuhrmann/Library/Python/3.9/lib/python/site-packages/statannotations/_Plotter.py:337: UserWarning: Invalid x-position found. Are the same parameters passed to seaborn and statannotations calls? or are there few data points?\n",
      "  warnings.warn(\n",
      "/Users/lfuhrmann/Library/Python/3.9/lib/python/site-packages/statannotations/_Plotter.py:337: UserWarning: Invalid x-position found. Are the same parameters passed to seaborn and statannotations calls? or are there few data points?\n",
      "  warnings.warn(\n"
     ]
    },
    {
     "name": "stdout",
     "output_type": "stream",
     "text": [
      "p-value annotation legend:\n",
      "      ns: p <= 1.00e+00\n",
      "       *: 1.00e-02 < p <= 5.00e-02\n",
      "      **: 1.00e-03 < p <= 1.00e-02\n",
      "     ***: 1.00e-04 < p <= 1.00e-03\n",
      "    ****: p <= 1.00e-04\n",
      "\n",
      "P10_WT vs. P10_OE: Custom statistical test, P_val:1.633e-02\n",
      "P5_WT vs. P5_OE: Custom statistical test, P_val:4.184e-03\n",
      "P1_WT vs. P1_OE: Custom statistical test, P_val:1.463e-02\n"
     ]
    },
    {
     "name": "stderr",
     "output_type": "stream",
     "text": [
      "/Users/lfuhrmann/Library/Python/3.9/lib/python/site-packages/seaborn/categorical.py:1781: UserWarning: You passed a edgecolor/edgecolors ((0.9490196078431372, 0.7568627450980392, 0.3058823529411765)) for an unfilled marker ('x').  Matplotlib is ignoring the edgecolor in favor of the facecolor.  This behavior may change in the future.\n",
      "  ax.scatter(x, y, label=hue_level,\n",
      "/Users/lfuhrmann/Library/Python/3.9/lib/python/site-packages/seaborn/categorical.py:1781: UserWarning: You passed a edgecolor/edgecolors ((0.9450980392156862, 0.3568627450980392, 0.7098039215686275)) for an unfilled marker ('x').  Matplotlib is ignoring the edgecolor in favor of the facecolor.  This behavior may change in the future.\n",
      "  ax.scatter(x, y, label=hue_level,\n",
      "/Users/lfuhrmann/Library/Python/3.9/lib/python/site-packages/seaborn/categorical.py:1781: UserWarning: You passed a edgecolor/edgecolors ((0.21176470588235294, 0.5607843137254902, 0.5450980392156862)) for an unfilled marker ('x').  Matplotlib is ignoring the edgecolor in favor of the facecolor.  This behavior may change in the future.\n",
      "  ax.scatter(x, y, label=hue_level,\n",
      "/Users/lfuhrmann/Library/Python/3.9/lib/python/site-packages/statannotations/_Plotter.py:337: UserWarning: Invalid x-position found. Are the same parameters passed to seaborn and statannotations calls? or are there few data points?\n",
      "  warnings.warn(\n",
      "/Users/lfuhrmann/Library/Python/3.9/lib/python/site-packages/statannotations/_Plotter.py:337: UserWarning: Invalid x-position found. Are the same parameters passed to seaborn and statannotations calls? or are there few data points?\n",
      "  warnings.warn(\n",
      "/Users/lfuhrmann/Library/Python/3.9/lib/python/site-packages/statannotations/_Plotter.py:337: UserWarning: Invalid x-position found. Are the same parameters passed to seaborn and statannotations calls? or are there few data points?\n",
      "  warnings.warn(\n",
      "/Users/lfuhrmann/Library/Python/3.9/lib/python/site-packages/statannotations/_Plotter.py:337: UserWarning: Invalid x-position found. Are the same parameters passed to seaborn and statannotations calls? or are there few data points?\n",
      "  warnings.warn(\n"
     ]
    },
    {
     "name": "stdout",
     "output_type": "stream",
     "text": [
      "p-value annotation legend:\n",
      "      ns: p <= 1.00e+00\n",
      "       *: 1.00e-02 < p <= 5.00e-02\n",
      "      **: 1.00e-03 < p <= 1.00e-02\n",
      "     ***: 1.00e-04 < p <= 1.00e-03\n",
      "    ****: p <= 1.00e-04\n",
      "\n",
      "P10_WT vs. P10_OE: Custom statistical test, P_val:5.636e-01\n",
      "P5_WT vs. P5_OE: Custom statistical test, P_val:7.779e-01\n",
      "P1_WT vs. P1_OE: Custom statistical test, P_val:2.388e-02\n"
     ]
    },
    {
     "data": {
      "text/plain": [
       "Text(107.6231859375, 0.5, 'nucleotide diversity')"
      ]
     },
<<<<<<< HEAD
     "execution_count": 8,
=======
     "execution_count": 13,
>>>>>>> main
     "metadata": {},
     "output_type": "execute_result"
    },
    {
     "data": {
<<<<<<< HEAD
      "image/png": "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\n",
=======
      "image/png": "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\n",
>>>>>>> main
      "text/plain": [
       "<Figure size 1152x576 with 11 Axes>"
      ]
     },
     "metadata": {
      "needs_background": "light"
     },
     "output_type": "display_data"
    }
   ],
   "source": [
    "# 1. Take average over the replicates per passage per genotype \n",
    "# 2. Compare protein diversity to baseline diveristy \n",
    "\n",
    "fig, ax = plt.subplots(1,len(protein_order),  sharey=True, figsize=(16,8))\n",
    "\n",
    "annotation_pairs = [((\"P1\", \"WT\"), (\"P1\", \"OE\")),\n",
    "                    ((\"P5\", \"WT\"), (\"P5\", \"OE\")), \n",
    "                    ((\"P10\", \"WT\"), (\"P10\", \"OE\"))]\n",
    "\n",
    "for idx, protein in enumerate(protein_order):\n",
    "\n",
    "    sns.pointplot(\n",
    "            ax= ax[idx], \n",
    "            data=df_pis_protein[df_pis_protein['protein']==protein], \n",
    "            markers='o', \n",
    "            linestyles='',\n",
    "            x=\"passage\", \n",
    "            y='avg_pi', \n",
    "            hue ='genotype', \n",
    "            errorbar=\"se\",\n",
    "            hue_order=genotype_order, \n",
    "            palette=our_color_palette,\n",
    "            order =passage_order,\n",
<<<<<<< HEAD
    "            errwidth=1.1, \n",
    "            capsize=0.1,\n",
    "            dodge=0.5,\n",
=======
    "            errwidth=0.8, \n",
    "            capsize=0.1,\n",
    "            dodge=0.5,\n",
    "            scale = 0.5, \n",
>>>>>>> main
    "            legend=False\n",
    "        )\n",
    "    \n",
    "    sns.pointplot(\n",
    "            ax= ax[idx], \n",
    "            data=df_pop_mean, \n",
    "            markers='x', \n",
    "            linestyles='',\n",
    "            x=\"passage\", \n",
    "            y='pi_coding', \n",
    "            hue ='genotype', \n",
    "            errorbar='se',\n",
    "            hue_order=genotype_order, \n",
    "            order =passage_order,\n",
    "            palette=our_color_palette,\n",
<<<<<<< HEAD
    "            errwidth=1.1, \n",
    "            capsize=0.1,\n",
    "            dodge=0.5,\n",
=======
    "            errwidth=0.8, \n",
    "            capsize=0.1,\n",
    "            dodge=0.5,\n",
    "        scale = 0.5, \n",
>>>>>>> main
    "            legend=False\n",
    "        )\n",
    "    ax[idx].set_yscale('log')\n",
    "    ax[idx].set_ylim((10e-07, 0.009))\n",
    "    \n",
    "    \n",
    "    df_pis_protein_mean = df_pis_protein[(df_pis_protein['protein']==protein)].pivot_table(values ='avg_pi',\n",
    "                                                                                           index=['genotype', 'passage'], \n",
    "                                                                                           aggfunc='mean').reset_index()\n",
    "    \n",
    "    \n",
    "    p_values =[stats.ttest_rel(np.log10(df_pis_protein_mean[df_pis_protein_mean['passage']=='P1']['avg_pi']), \n",
    "                           np.log10(df_pop_mean[df_pop_mean['passage']=='P1']['pi_coding']), \n",
    "                           alternative=\"two-sided\").pvalue,\n",
    "              stats.ttest_rel(np.log10(df_pis_protein_mean[df_pis_protein_mean['passage']=='P5']['avg_pi']), \n",
    "                           np.log10(df_pop_mean[df_pop_mean['passage']=='P5']['pi_coding']), \n",
    "                           alternative=\"two-sided\").pvalue,\n",
    "              stats.ttest_rel(np.log10(df_pis_protein_mean[df_pis_protein_mean['passage']=='P10']['avg_pi']), \n",
    "                           np.log10(df_pop_mean[df_pop_mean['passage']=='P10']['pi_coding']), \n",
    "                           alternative=\"two-sided\").pvalue]\n",
    "\n",
    "    \n",
    "    # subset the table otherwise the stats were calculated on the whole dataset\n",
    "    annot = Annotator(ax[idx],\n",
    "                      annotation_pairs, \n",
    "                      data=df_pis_protein[df_pis_protein['protein']==protein], \n",
    "                      x=\"passage\", \n",
    "                      y='avg_pi', \n",
    "                      hue ='genotype',  \n",
    "                      order=passage_order,\n",
    "                      hue_order=genotype_order) \n",
    "    \n",
    "    annot.configure(test=None,loc='inside', verbose=2).set_pvalues(p_values).annotate()\n",
    "    \n",
    "    ax[idx].set_title(protein, fontsize=20)\n",
    "    ax[idx].set_ylabel(\"\")\n",
    "    ax[idx].set_xlabel(\"\")\n",
    "    ax[idx].get_legend().remove()\n",
    "    \n",
    "\n",
    "ax[0].set_ylabel(\"nucleotide diversity\", fontsize=20)\n"
   ]
  },
  {
   "cell_type": "code",
<<<<<<< HEAD
   "execution_count": 9,
=======
   "execution_count": 14,
>>>>>>> main
   "id": "95155220",
   "metadata": {},
   "outputs": [],
   "source": [
<<<<<<< HEAD
    "fig.savefig(\"./000__Manuscript_figures/Supplement_Figure_3B__nucleotide_diversity_protein.pdf\")\n",
    "fig.savefig(\"./000__Manuscript_figures/Supplement_Figure_3B__nucleotide_diversity_protein.svg\")"
=======
    "fig.savefig(\"./000__Manuscript_figures/Supplement_Figure_3B__nucleotide_diversity_protein_small.pdf\")\n",
    "fig.savefig(\"./000__Manuscript_figures/Supplement_Figure_3B__nucleotide_diversity_protein_small.svg\")"
>>>>>>> main
   ]
  },
  {
   "cell_type": "code",
   "execution_count": null,
   "id": "00ef7d48",
   "metadata": {},
   "outputs": [],
   "source": []
  }
 ],
 "metadata": {
  "kernelspec": {
   "display_name": "Python 3 (ipykernel)",
   "language": "python",
   "name": "python3"
  },
  "language_info": {
   "codemirror_mode": {
    "name": "ipython",
    "version": 3
   },
   "file_extension": ".py",
   "mimetype": "text/x-python",
   "name": "python",
   "nbconvert_exporter": "python",
   "pygments_lexer": "ipython3",
   "version": "3.9.0"
  }
 },
 "nbformat": 4,
 "nbformat_minor": 5
}

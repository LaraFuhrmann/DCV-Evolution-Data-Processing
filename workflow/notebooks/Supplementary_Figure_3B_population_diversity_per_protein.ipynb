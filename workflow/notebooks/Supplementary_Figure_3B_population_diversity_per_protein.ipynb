{
 "cells": [
  {
   "cell_type": "code",
   "execution_count": 1,
   "id": "146b0777",
   "metadata": {},
   "outputs": [],
   "source": [
    "import pandas as pd\n",
    "import seaborn as sns\n",
    "import numpy as np\n",
    "from scipy.stats import normaltest\n",
    "from statannotations.Annotator import Annotator\n",
    "import matplotlib.pyplot as plt\n",
    "import scipy.stats as stats\n",
    "\n",
    "\n",
    "sns.set(rc={'figure.figsize':(25,10)})"
   ]
  },
  {
   "cell_type": "code",
   "execution_count": 2,
   "id": "a26ceaac",
   "metadata": {},
   "outputs": [],
   "source": [
    "our_color_palette ={\"WT\": \"#F2C14E\", \"KO\": \"#F15BB5\", \"OE\": \"#368F8B\"}\n",
    "genotype_dict = {\"dicer_KO\": \"KO\", \"dicer_overexpressed\": \"OE\", \"wild_type\": \"WT\", \"dicer_ko\": \"KO\", \"dicer_over_expressing\": \"OE\"}\n",
    "passage_dict = {\"passage_1\": \"P1\", \"passage_5\": \"P5\", \"passage_10\": \"P10\"}\n",
    "our_color_palette ={\"WT\": \"#F2C14E\", \"KO\": \"#F15BB5\", \"OE\": \"#368F8B\"}\n",
    "\n",
    "genotype_order = [\"WT\", \"KO\", \"OE\"]\n",
    "passage_order = ['P1','P5','P10']"
   ]
  },
  {
   "cell_type": "markdown",
   "id": "a03bd920",
   "metadata": {},
   "source": [
    "### plot nucleotide diversity per protein\n",
    "\n",
    "Values were computed with SNPGenie (https://github.com/chasewnelson/SNPGenie). "
   ]
  },
  {
   "cell_type": "code",
   "execution_count": 3,
   "id": "872a6c55",
   "metadata": {},
   "outputs": [],
   "source": [
    "df_WT= pd.read_csv('../../resources/run_workflow/results_cluster/wild_type/snpgenie_site_results.csv')\n",
    "df_KO = pd.read_csv('../../resources/run_workflow/results_cluster/dicer_KO/snpgenie_site_results.csv')\n",
    "df_OE = pd.read_csv('../../resources/run_workflow/results_cluster/dicer_overexpression/snpgenie_site_results.csv')\n",
    "\n",
    "df_pi = pd.concat([df_WT, df_KO, df_OE])[['site', 'pi', 'genotype', 'replicate', 'passage']]\n",
    "\n",
    "df_pi[\"genotype\"] = df_pi[\"genotype\"].apply(lambda x: genotype_dict[x])\n",
    "df_pi[\"passage\"] = df_pi[\"passage\"].apply(lambda x: passage_dict[x])\n"
   ]
  },
  {
   "cell_type": "code",
   "execution_count": 4,
   "id": "7a769cec",
   "metadata": {},
   "outputs": [],
   "source": [
    "proteins = {\n",
    "    \"1A\": (799, 1089),\n",
    "    \"2A\": (1092, 1161),\n",
    "    \"2B\": (1164, 1587),\n",
    "    \"2C\": (1590, 2901),\n",
    "    \"3A\": (2904, 3501),\n",
    "    \"3C\": (3504, 4422),\n",
    "    \"RdRp\": (4425, 6072),\n",
    "    \"VP2\": (6267, 7110),\n",
    "    \"VP4\": (7113, 7281),\n",
    "    \"VP3\": (7284, 8175),\n",
    "    \"VP1\": (8175, 8970),\n",
    "}\n",
    "\n",
    "protein_order = list(proteins.keys())"
   ]
  },
  {
   "cell_type": "code",
   "execution_count": 5,
   "id": "607d2668",
   "metadata": {},
   "outputs": [],
   "source": [
    "df_pis_protein = pd.DataFrame() \n",
    "\n",
    "for genotype in genotype_order:\n",
    "    for passage in passage_order:\n",
    "        for replicate in ['replicate_d', 'replicate_b', 'replicate_a', 'replicate_e','replicate_c']:\n",
    "            for protein in proteins.items():\n",
    "                protein_id = protein[0]\n",
    "                protein_start = protein[1][0]\n",
    "                protein_end = protein[1][1]\n",
    "                protein_length = protein_end - protein_start\n",
    "\n",
    "                df_temp = df_pi[df_pi['genotype']== genotype]\n",
    "                df_temp = df_temp[df_temp['passage']==passage]\n",
    "                df_temp = df_temp[df_temp['replicate']==replicate]\n",
    "                df_temp = df_temp[df_temp['site'].isin(list(range(protein_start,protein_end+1 )))]\n",
    "                avg_pi = df_temp['pi'].sum()/protein_length\n",
    "\n",
    "                mean_pis = {\n",
    "                            'genotype': [genotype], \n",
    "                            'passage': passage, \n",
    "                            'replicate': replicate,\n",
    "                            'protein': protein_id,\n",
    "                            'avg_pi': avg_pi, \n",
    "                        }\n",
    "\n",
    "                df_pis_protein = pd.concat([pd.DataFrame(mean_pis),df_pis_protein], ignore_index=True)\n"
   ]
  },
  {
   "cell_type": "code",
   "execution_count": 6,
   "id": "47bf1f67",
   "metadata": {},
   "outputs": [
    {
     "name": "stdout",
     "output_type": "stream",
     "text": [
      "1A : p =  0.0742961733380507\n",
      "2A : p =  0.06345354521359337\n",
      "2B : p =  0.044843757819555456\n",
      "2C : p =  0.5562845053818082\n",
      "3A : p =  0.48200342315409395\n",
      "3C : p =  0.6251844915555427\n",
      "RdRp : p =  0.830185806382693\n",
      "VP2 : p =  0.9677060887512499\n",
      "VP4 : p =  0.24323373183863978\n",
      "VP3 : p =  0.5799039043622394\n",
      "VP1 : p =  0.43648289488253955\n"
     ]
    },
    {
     "name": "stderr",
     "output_type": "stream",
     "text": [
      "/Users/lfuhrmann/Library/Python/3.9/lib/python/site-packages/scipy/stats/stats.py:1541: UserWarning: kurtosistest only valid for n>=20 ... continuing anyway, n=9\n",
      "  warnings.warn(\"kurtosistest only valid for n>=20 ... continuing \"\n",
      "/Users/lfuhrmann/Library/Python/3.9/lib/python/site-packages/scipy/stats/stats.py:1541: UserWarning: kurtosistest only valid for n>=20 ... continuing anyway, n=9\n",
      "  warnings.warn(\"kurtosistest only valid for n>=20 ... continuing \"\n",
      "/Users/lfuhrmann/Library/Python/3.9/lib/python/site-packages/scipy/stats/stats.py:1541: UserWarning: kurtosistest only valid for n>=20 ... continuing anyway, n=9\n",
      "  warnings.warn(\"kurtosistest only valid for n>=20 ... continuing \"\n",
      "/Users/lfuhrmann/Library/Python/3.9/lib/python/site-packages/scipy/stats/stats.py:1541: UserWarning: kurtosistest only valid for n>=20 ... continuing anyway, n=9\n",
      "  warnings.warn(\"kurtosistest only valid for n>=20 ... continuing \"\n",
      "/Users/lfuhrmann/Library/Python/3.9/lib/python/site-packages/scipy/stats/stats.py:1541: UserWarning: kurtosistest only valid for n>=20 ... continuing anyway, n=9\n",
      "  warnings.warn(\"kurtosistest only valid for n>=20 ... continuing \"\n",
      "/Users/lfuhrmann/Library/Python/3.9/lib/python/site-packages/scipy/stats/stats.py:1541: UserWarning: kurtosistest only valid for n>=20 ... continuing anyway, n=9\n",
      "  warnings.warn(\"kurtosistest only valid for n>=20 ... continuing \"\n",
      "/Users/lfuhrmann/Library/Python/3.9/lib/python/site-packages/scipy/stats/stats.py:1541: UserWarning: kurtosistest only valid for n>=20 ... continuing anyway, n=9\n",
      "  warnings.warn(\"kurtosistest only valid for n>=20 ... continuing \"\n",
      "/Users/lfuhrmann/Library/Python/3.9/lib/python/site-packages/scipy/stats/stats.py:1541: UserWarning: kurtosistest only valid for n>=20 ... continuing anyway, n=9\n",
      "  warnings.warn(\"kurtosistest only valid for n>=20 ... continuing \"\n",
      "/Users/lfuhrmann/Library/Python/3.9/lib/python/site-packages/scipy/stats/stats.py:1541: UserWarning: kurtosistest only valid for n>=20 ... continuing anyway, n=9\n",
      "  warnings.warn(\"kurtosistest only valid for n>=20 ... continuing \"\n",
      "/Users/lfuhrmann/Library/Python/3.9/lib/python/site-packages/scipy/stats/stats.py:1541: UserWarning: kurtosistest only valid for n>=20 ... continuing anyway, n=9\n",
      "  warnings.warn(\"kurtosistest only valid for n>=20 ... continuing \"\n",
      "/Users/lfuhrmann/Library/Python/3.9/lib/python/site-packages/scipy/stats/stats.py:1541: UserWarning: kurtosistest only valid for n>=20 ... continuing anyway, n=9\n",
      "  warnings.warn(\"kurtosistest only valid for n>=20 ... continuing \"\n"
     ]
    }
   ],
   "source": [
    "# test normalitiy for each group --> H0: samples comes from normal distribution\n",
    "\n",
    "for protein in protein_order:\n",
    "    avg_pi = df_pis_protein[(df_pis_protein['protein']==protein)].pivot_table(values ='avg_pi',\n",
    "                                                                                           index=['genotype', 'passage'], \n",
    "                                                                                           aggfunc='mean').reset_index()['avg_pi']\n",
    "    \n",
    " \n",
    "    print(protein, \": p = \", normaltest(np.log10(avg_pi)).pvalue)"
   ]
  },
  {
   "cell_type": "code",
   "execution_count": 7,
   "id": "de47445e",
   "metadata": {},
   "outputs": [],
   "source": [
    "# compare the baseline diveristy full genome (or coding) diversity to show that one protein is quite diverese\n",
    "\n",
    "# import data\n",
    "\n",
    "df_WT = pd.read_csv('../../resources/run_workflow/results_cluster/wild_type/snpgenie_population_summary.csv')\n",
    "df_KO = pd.read_csv('../../resources/run_workflow/results_cluster/dicer_KO/snpgenie_population_summary.csv')\n",
    "df_OE = pd.read_csv('../../resources/run_workflow/results_cluster/dicer_overexpression/snpgenie_population_summary.csv')\n",
    "\n",
    "\n",
    "df_pop = pd.concat([df_WT, df_KO, df_OE])\n",
    "\n",
    "df_pop[\"genotype\"] = df_pop[\"genotype\"].apply(lambda x: genotype_dict[x])\n",
    "df_pop[\"passage\"] = df_pop[\"passage\"].apply(lambda x: passage_dict[x])\n",
    "df_pop = df_pop[['pi','pi_coding', 'pi_noncoding', 'genotype', 'replicate', 'passage']]\n",
    "\n",
    "df_pop_mean = df_pop.pivot_table(values ='pi_coding',\n",
    "                                 index=['genotype', 'passage'], \n",
    "                                 aggfunc='mean')\n",
    "\n",
    "df_pop_mean = df_pop_mean.reset_index()"
   ]
  },
  {
   "cell_type": "code",
   "execution_count": 8,
   "id": "fa11d952",
   "metadata": {
    "scrolled": false
   },
   "outputs": [
    {
     "name": "stderr",
     "output_type": "stream",
     "text": [
      "/Users/lfuhrmann/Library/Python/3.9/lib/python/site-packages/seaborn/categorical.py:1781: UserWarning: You passed a edgecolor/edgecolors ((0.9490196078431372, 0.7568627450980392, 0.3058823529411765)) for an unfilled marker ('x').  Matplotlib is ignoring the edgecolor in favor of the facecolor.  This behavior may change in the future.\n",
      "  ax.scatter(x, y, label=hue_level,\n",
      "/Users/lfuhrmann/Library/Python/3.9/lib/python/site-packages/seaborn/categorical.py:1781: UserWarning: You passed a edgecolor/edgecolors ((0.9450980392156862, 0.3568627450980392, 0.7098039215686275)) for an unfilled marker ('x').  Matplotlib is ignoring the edgecolor in favor of the facecolor.  This behavior may change in the future.\n",
      "  ax.scatter(x, y, label=hue_level,\n",
      "/Users/lfuhrmann/Library/Python/3.9/lib/python/site-packages/seaborn/categorical.py:1781: UserWarning: You passed a edgecolor/edgecolors ((0.21176470588235294, 0.5607843137254902, 0.5450980392156862)) for an unfilled marker ('x').  Matplotlib is ignoring the edgecolor in favor of the facecolor.  This behavior may change in the future.\n",
      "  ax.scatter(x, y, label=hue_level,\n",
      "/Users/lfuhrmann/Library/Python/3.9/lib/python/site-packages/statannotations/_Plotter.py:337: UserWarning: Invalid x-position found. Are the same parameters passed to seaborn and statannotations calls? or are there few data points?\n",
      "  warnings.warn(\n",
      "/Users/lfuhrmann/Library/Python/3.9/lib/python/site-packages/statannotations/_Plotter.py:337: UserWarning: Invalid x-position found. Are the same parameters passed to seaborn and statannotations calls? or are there few data points?\n",
      "  warnings.warn(\n",
      "/Users/lfuhrmann/Library/Python/3.9/lib/python/site-packages/statannotations/_Plotter.py:337: UserWarning: Invalid x-position found. Are the same parameters passed to seaborn and statannotations calls? or are there few data points?\n",
      "  warnings.warn(\n",
      "/Users/lfuhrmann/Library/Python/3.9/lib/python/site-packages/statannotations/_Plotter.py:337: UserWarning: Invalid x-position found. Are the same parameters passed to seaborn and statannotations calls? or are there few data points?\n",
      "  warnings.warn(\n"
     ]
    },
    {
     "name": "stdout",
     "output_type": "stream",
     "text": [
      "p-value annotation legend:\n",
      "      ns: p <= 1.00e+00\n",
      "       *: 1.00e-02 < p <= 5.00e-02\n",
      "      **: 1.00e-03 < p <= 1.00e-02\n",
      "     ***: 1.00e-04 < p <= 1.00e-03\n",
      "    ****: p <= 1.00e-04\n",
      "\n",
      "P10_WT vs. P10_OE: Custom statistical test, P_val:5.588e-02\n",
      "P5_WT vs. P5_OE: Custom statistical test, P_val:2.430e-02\n",
      "P1_WT vs. P1_OE: Custom statistical test, P_val:7.899e-01\n"
     ]
    },
    {
     "name": "stderr",
     "output_type": "stream",
     "text": [
      "/Users/lfuhrmann/Library/Python/3.9/lib/python/site-packages/seaborn/categorical.py:1781: UserWarning: You passed a edgecolor/edgecolors ((0.9490196078431372, 0.7568627450980392, 0.3058823529411765)) for an unfilled marker ('x').  Matplotlib is ignoring the edgecolor in favor of the facecolor.  This behavior may change in the future.\n",
      "  ax.scatter(x, y, label=hue_level,\n",
      "/Users/lfuhrmann/Library/Python/3.9/lib/python/site-packages/seaborn/categorical.py:1781: UserWarning: You passed a edgecolor/edgecolors ((0.9450980392156862, 0.3568627450980392, 0.7098039215686275)) for an unfilled marker ('x').  Matplotlib is ignoring the edgecolor in favor of the facecolor.  This behavior may change in the future.\n",
      "  ax.scatter(x, y, label=hue_level,\n",
      "/Users/lfuhrmann/Library/Python/3.9/lib/python/site-packages/seaborn/categorical.py:1781: UserWarning: You passed a edgecolor/edgecolors ((0.21176470588235294, 0.5607843137254902, 0.5450980392156862)) for an unfilled marker ('x').  Matplotlib is ignoring the edgecolor in favor of the facecolor.  This behavior may change in the future.\n",
      "  ax.scatter(x, y, label=hue_level,\n",
      "/Users/lfuhrmann/Library/Python/3.9/lib/python/site-packages/statannotations/_Plotter.py:337: UserWarning: Invalid x-position found. Are the same parameters passed to seaborn and statannotations calls? or are there few data points?\n",
      "  warnings.warn(\n",
      "/Users/lfuhrmann/Library/Python/3.9/lib/python/site-packages/statannotations/_Plotter.py:337: UserWarning: Invalid x-position found. Are the same parameters passed to seaborn and statannotations calls? or are there few data points?\n",
      "  warnings.warn(\n",
      "/Users/lfuhrmann/Library/Python/3.9/lib/python/site-packages/statannotations/_Plotter.py:337: UserWarning: Invalid x-position found. Are the same parameters passed to seaborn and statannotations calls? or are there few data points?\n",
      "  warnings.warn(\n",
      "/Users/lfuhrmann/Library/Python/3.9/lib/python/site-packages/statannotations/_Plotter.py:337: UserWarning: Invalid x-position found. Are the same parameters passed to seaborn and statannotations calls? or are there few data points?\n",
      "  warnings.warn(\n"
     ]
    },
    {
     "name": "stdout",
     "output_type": "stream",
     "text": [
      "p-value annotation legend:\n",
      "      ns: p <= 1.00e+00\n",
      "       *: 1.00e-02 < p <= 5.00e-02\n",
      "      **: 1.00e-03 < p <= 1.00e-02\n",
      "     ***: 1.00e-04 < p <= 1.00e-03\n",
      "    ****: p <= 1.00e-04\n",
      "\n",
      "P10_WT vs. P10_OE: Custom statistical test, P_val:1.735e-02\n",
      "P5_WT vs. P5_OE: Custom statistical test, P_val:9.328e-03\n",
      "P1_WT vs. P1_OE: Custom statistical test, P_val:8.949e-01\n"
     ]
    },
    {
     "name": "stderr",
     "output_type": "stream",
     "text": [
      "/Users/lfuhrmann/Library/Python/3.9/lib/python/site-packages/seaborn/categorical.py:1781: UserWarning: You passed a edgecolor/edgecolors ((0.9490196078431372, 0.7568627450980392, 0.3058823529411765)) for an unfilled marker ('x').  Matplotlib is ignoring the edgecolor in favor of the facecolor.  This behavior may change in the future.\n",
      "  ax.scatter(x, y, label=hue_level,\n",
      "/Users/lfuhrmann/Library/Python/3.9/lib/python/site-packages/seaborn/categorical.py:1781: UserWarning: You passed a edgecolor/edgecolors ((0.9450980392156862, 0.3568627450980392, 0.7098039215686275)) for an unfilled marker ('x').  Matplotlib is ignoring the edgecolor in favor of the facecolor.  This behavior may change in the future.\n",
      "  ax.scatter(x, y, label=hue_level,\n",
      "/Users/lfuhrmann/Library/Python/3.9/lib/python/site-packages/seaborn/categorical.py:1781: UserWarning: You passed a edgecolor/edgecolors ((0.21176470588235294, 0.5607843137254902, 0.5450980392156862)) for an unfilled marker ('x').  Matplotlib is ignoring the edgecolor in favor of the facecolor.  This behavior may change in the future.\n",
      "  ax.scatter(x, y, label=hue_level,\n",
      "/Users/lfuhrmann/Library/Python/3.9/lib/python/site-packages/statannotations/_Plotter.py:337: UserWarning: Invalid x-position found. Are the same parameters passed to seaborn and statannotations calls? or are there few data points?\n",
      "  warnings.warn(\n",
      "/Users/lfuhrmann/Library/Python/3.9/lib/python/site-packages/statannotations/_Plotter.py:337: UserWarning: Invalid x-position found. Are the same parameters passed to seaborn and statannotations calls? or are there few data points?\n",
      "  warnings.warn(\n",
      "/Users/lfuhrmann/Library/Python/3.9/lib/python/site-packages/statannotations/_Plotter.py:337: UserWarning: Invalid x-position found. Are the same parameters passed to seaborn and statannotations calls? or are there few data points?\n",
      "  warnings.warn(\n",
      "/Users/lfuhrmann/Library/Python/3.9/lib/python/site-packages/statannotations/_Plotter.py:337: UserWarning: Invalid x-position found. Are the same parameters passed to seaborn and statannotations calls? or are there few data points?\n",
      "  warnings.warn(\n"
     ]
    },
    {
     "name": "stdout",
     "output_type": "stream",
     "text": [
      "p-value annotation legend:\n",
      "      ns: p <= 1.00e+00\n",
      "       *: 1.00e-02 < p <= 5.00e-02\n",
      "      **: 1.00e-03 < p <= 1.00e-02\n",
      "     ***: 1.00e-04 < p <= 1.00e-03\n",
      "    ****: p <= 1.00e-04\n",
      "\n",
      "P10_WT vs. P10_OE: Custom statistical test, P_val:9.466e-02\n",
      "P5_WT vs. P5_OE: Custom statistical test, P_val:1.669e-02\n",
      "P1_WT vs. P1_OE: Custom statistical test, P_val:1.440e-01\n"
     ]
    },
    {
     "name": "stderr",
     "output_type": "stream",
     "text": [
      "/Users/lfuhrmann/Library/Python/3.9/lib/python/site-packages/seaborn/categorical.py:1781: UserWarning: You passed a edgecolor/edgecolors ((0.9490196078431372, 0.7568627450980392, 0.3058823529411765)) for an unfilled marker ('x').  Matplotlib is ignoring the edgecolor in favor of the facecolor.  This behavior may change in the future.\n",
      "  ax.scatter(x, y, label=hue_level,\n",
      "/Users/lfuhrmann/Library/Python/3.9/lib/python/site-packages/seaborn/categorical.py:1781: UserWarning: You passed a edgecolor/edgecolors ((0.9450980392156862, 0.3568627450980392, 0.7098039215686275)) for an unfilled marker ('x').  Matplotlib is ignoring the edgecolor in favor of the facecolor.  This behavior may change in the future.\n",
      "  ax.scatter(x, y, label=hue_level,\n",
      "/Users/lfuhrmann/Library/Python/3.9/lib/python/site-packages/seaborn/categorical.py:1781: UserWarning: You passed a edgecolor/edgecolors ((0.21176470588235294, 0.5607843137254902, 0.5450980392156862)) for an unfilled marker ('x').  Matplotlib is ignoring the edgecolor in favor of the facecolor.  This behavior may change in the future.\n",
      "  ax.scatter(x, y, label=hue_level,\n",
      "/Users/lfuhrmann/Library/Python/3.9/lib/python/site-packages/statannotations/_Plotter.py:337: UserWarning: Invalid x-position found. Are the same parameters passed to seaborn and statannotations calls? or are there few data points?\n",
      "  warnings.warn(\n",
      "/Users/lfuhrmann/Library/Python/3.9/lib/python/site-packages/statannotations/_Plotter.py:337: UserWarning: Invalid x-position found. Are the same parameters passed to seaborn and statannotations calls? or are there few data points?\n",
      "  warnings.warn(\n",
      "/Users/lfuhrmann/Library/Python/3.9/lib/python/site-packages/statannotations/_Plotter.py:337: UserWarning: Invalid x-position found. Are the same parameters passed to seaborn and statannotations calls? or are there few data points?\n",
      "  warnings.warn(\n",
      "/Users/lfuhrmann/Library/Python/3.9/lib/python/site-packages/statannotations/_Plotter.py:337: UserWarning: Invalid x-position found. Are the same parameters passed to seaborn and statannotations calls? or are there few data points?\n",
      "  warnings.warn(\n"
     ]
    },
    {
     "name": "stdout",
     "output_type": "stream",
     "text": [
      "p-value annotation legend:\n",
      "      ns: p <= 1.00e+00\n",
      "       *: 1.00e-02 < p <= 5.00e-02\n",
      "      **: 1.00e-03 < p <= 1.00e-02\n",
      "     ***: 1.00e-04 < p <= 1.00e-03\n",
      "    ****: p <= 1.00e-04\n",
      "\n",
      "P10_WT vs. P10_OE: Custom statistical test, P_val:1.104e-01\n",
      "P5_WT vs. P5_OE: Custom statistical test, P_val:4.473e-02\n",
      "P1_WT vs. P1_OE: Custom statistical test, P_val:3.788e-02\n"
     ]
    },
    {
     "name": "stderr",
     "output_type": "stream",
     "text": [
      "/Users/lfuhrmann/Library/Python/3.9/lib/python/site-packages/seaborn/categorical.py:1781: UserWarning: You passed a edgecolor/edgecolors ((0.9490196078431372, 0.7568627450980392, 0.3058823529411765)) for an unfilled marker ('x').  Matplotlib is ignoring the edgecolor in favor of the facecolor.  This behavior may change in the future.\n",
      "  ax.scatter(x, y, label=hue_level,\n",
      "/Users/lfuhrmann/Library/Python/3.9/lib/python/site-packages/seaborn/categorical.py:1781: UserWarning: You passed a edgecolor/edgecolors ((0.9450980392156862, 0.3568627450980392, 0.7098039215686275)) for an unfilled marker ('x').  Matplotlib is ignoring the edgecolor in favor of the facecolor.  This behavior may change in the future.\n",
      "  ax.scatter(x, y, label=hue_level,\n",
      "/Users/lfuhrmann/Library/Python/3.9/lib/python/site-packages/seaborn/categorical.py:1781: UserWarning: You passed a edgecolor/edgecolors ((0.21176470588235294, 0.5607843137254902, 0.5450980392156862)) for an unfilled marker ('x').  Matplotlib is ignoring the edgecolor in favor of the facecolor.  This behavior may change in the future.\n",
      "  ax.scatter(x, y, label=hue_level,\n",
      "/Users/lfuhrmann/Library/Python/3.9/lib/python/site-packages/statannotations/_Plotter.py:337: UserWarning: Invalid x-position found. Are the same parameters passed to seaborn and statannotations calls? or are there few data points?\n",
      "  warnings.warn(\n",
      "/Users/lfuhrmann/Library/Python/3.9/lib/python/site-packages/statannotations/_Plotter.py:337: UserWarning: Invalid x-position found. Are the same parameters passed to seaborn and statannotations calls? or are there few data points?\n",
      "  warnings.warn(\n",
      "/Users/lfuhrmann/Library/Python/3.9/lib/python/site-packages/statannotations/_Plotter.py:337: UserWarning: Invalid x-position found. Are the same parameters passed to seaborn and statannotations calls? or are there few data points?\n",
      "  warnings.warn(\n",
      "/Users/lfuhrmann/Library/Python/3.9/lib/python/site-packages/statannotations/_Plotter.py:337: UserWarning: Invalid x-position found. Are the same parameters passed to seaborn and statannotations calls? or are there few data points?\n",
      "  warnings.warn(\n"
     ]
    },
    {
     "name": "stdout",
     "output_type": "stream",
     "text": [
      "p-value annotation legend:\n",
      "      ns: p <= 1.00e+00\n",
      "       *: 1.00e-02 < p <= 5.00e-02\n",
      "      **: 1.00e-03 < p <= 1.00e-02\n",
      "     ***: 1.00e-04 < p <= 1.00e-03\n",
      "    ****: p <= 1.00e-04\n",
      "\n",
      "P10_WT vs. P10_OE: Custom statistical test, P_val:1.278e-02\n",
      "P5_WT vs. P5_OE: Custom statistical test, P_val:2.902e-02\n",
      "P1_WT vs. P1_OE: Custom statistical test, P_val:1.522e-02\n"
     ]
    },
    {
     "name": "stderr",
     "output_type": "stream",
     "text": [
      "/Users/lfuhrmann/Library/Python/3.9/lib/python/site-packages/seaborn/categorical.py:1781: UserWarning: You passed a edgecolor/edgecolors ((0.9490196078431372, 0.7568627450980392, 0.3058823529411765)) for an unfilled marker ('x').  Matplotlib is ignoring the edgecolor in favor of the facecolor.  This behavior may change in the future.\n",
      "  ax.scatter(x, y, label=hue_level,\n",
      "/Users/lfuhrmann/Library/Python/3.9/lib/python/site-packages/seaborn/categorical.py:1781: UserWarning: You passed a edgecolor/edgecolors ((0.9450980392156862, 0.3568627450980392, 0.7098039215686275)) for an unfilled marker ('x').  Matplotlib is ignoring the edgecolor in favor of the facecolor.  This behavior may change in the future.\n",
      "  ax.scatter(x, y, label=hue_level,\n",
      "/Users/lfuhrmann/Library/Python/3.9/lib/python/site-packages/seaborn/categorical.py:1781: UserWarning: You passed a edgecolor/edgecolors ((0.21176470588235294, 0.5607843137254902, 0.5450980392156862)) for an unfilled marker ('x').  Matplotlib is ignoring the edgecolor in favor of the facecolor.  This behavior may change in the future.\n",
      "  ax.scatter(x, y, label=hue_level,\n",
      "/Users/lfuhrmann/Library/Python/3.9/lib/python/site-packages/statannotations/_Plotter.py:337: UserWarning: Invalid x-position found. Are the same parameters passed to seaborn and statannotations calls? or are there few data points?\n",
      "  warnings.warn(\n",
      "/Users/lfuhrmann/Library/Python/3.9/lib/python/site-packages/statannotations/_Plotter.py:337: UserWarning: Invalid x-position found. Are the same parameters passed to seaborn and statannotations calls? or are there few data points?\n",
      "  warnings.warn(\n",
      "/Users/lfuhrmann/Library/Python/3.9/lib/python/site-packages/statannotations/_Plotter.py:337: UserWarning: Invalid x-position found. Are the same parameters passed to seaborn and statannotations calls? or are there few data points?\n",
      "  warnings.warn(\n",
      "/Users/lfuhrmann/Library/Python/3.9/lib/python/site-packages/statannotations/_Plotter.py:337: UserWarning: Invalid x-position found. Are the same parameters passed to seaborn and statannotations calls? or are there few data points?\n",
      "  warnings.warn(\n"
     ]
    },
    {
     "name": "stdout",
     "output_type": "stream",
     "text": [
      "p-value annotation legend:\n",
      "      ns: p <= 1.00e+00\n",
      "       *: 1.00e-02 < p <= 5.00e-02\n",
      "      **: 1.00e-03 < p <= 1.00e-02\n",
      "     ***: 1.00e-04 < p <= 1.00e-03\n",
      "    ****: p <= 1.00e-04\n",
      "\n",
      "P10_WT vs. P10_OE: Custom statistical test, P_val:3.746e-02\n",
      "P5_WT vs. P5_OE: Custom statistical test, P_val:1.180e-02\n",
      "P1_WT vs. P1_OE: Custom statistical test, P_val:4.390e-02\n"
     ]
    },
    {
     "name": "stderr",
     "output_type": "stream",
     "text": [
      "/Users/lfuhrmann/Library/Python/3.9/lib/python/site-packages/seaborn/categorical.py:1781: UserWarning: You passed a edgecolor/edgecolors ((0.9490196078431372, 0.7568627450980392, 0.3058823529411765)) for an unfilled marker ('x').  Matplotlib is ignoring the edgecolor in favor of the facecolor.  This behavior may change in the future.\n",
      "  ax.scatter(x, y, label=hue_level,\n",
      "/Users/lfuhrmann/Library/Python/3.9/lib/python/site-packages/seaborn/categorical.py:1781: UserWarning: You passed a edgecolor/edgecolors ((0.9450980392156862, 0.3568627450980392, 0.7098039215686275)) for an unfilled marker ('x').  Matplotlib is ignoring the edgecolor in favor of the facecolor.  This behavior may change in the future.\n",
      "  ax.scatter(x, y, label=hue_level,\n",
      "/Users/lfuhrmann/Library/Python/3.9/lib/python/site-packages/seaborn/categorical.py:1781: UserWarning: You passed a edgecolor/edgecolors ((0.21176470588235294, 0.5607843137254902, 0.5450980392156862)) for an unfilled marker ('x').  Matplotlib is ignoring the edgecolor in favor of the facecolor.  This behavior may change in the future.\n",
      "  ax.scatter(x, y, label=hue_level,\n",
      "/Users/lfuhrmann/Library/Python/3.9/lib/python/site-packages/statannotations/_Plotter.py:337: UserWarning: Invalid x-position found. Are the same parameters passed to seaborn and statannotations calls? or are there few data points?\n",
      "  warnings.warn(\n",
      "/Users/lfuhrmann/Library/Python/3.9/lib/python/site-packages/statannotations/_Plotter.py:337: UserWarning: Invalid x-position found. Are the same parameters passed to seaborn and statannotations calls? or are there few data points?\n",
      "  warnings.warn(\n",
      "/Users/lfuhrmann/Library/Python/3.9/lib/python/site-packages/statannotations/_Plotter.py:337: UserWarning: Invalid x-position found. Are the same parameters passed to seaborn and statannotations calls? or are there few data points?\n",
      "  warnings.warn(\n",
      "/Users/lfuhrmann/Library/Python/3.9/lib/python/site-packages/statannotations/_Plotter.py:337: UserWarning: Invalid x-position found. Are the same parameters passed to seaborn and statannotations calls? or are there few data points?\n",
      "  warnings.warn(\n"
     ]
    },
    {
     "name": "stdout",
     "output_type": "stream",
     "text": [
      "p-value annotation legend:\n",
      "      ns: p <= 1.00e+00\n",
      "       *: 1.00e-02 < p <= 5.00e-02\n",
      "      **: 1.00e-03 < p <= 1.00e-02\n",
      "     ***: 1.00e-04 < p <= 1.00e-03\n",
      "    ****: p <= 1.00e-04\n",
      "\n",
      "P10_WT vs. P10_OE: Custom statistical test, P_val:5.222e-03\n",
      "P5_WT vs. P5_OE: Custom statistical test, P_val:1.965e-02\n",
      "P1_WT vs. P1_OE: Custom statistical test, P_val:3.084e-02\n"
     ]
    },
    {
     "name": "stderr",
     "output_type": "stream",
     "text": [
      "/Users/lfuhrmann/Library/Python/3.9/lib/python/site-packages/seaborn/categorical.py:1781: UserWarning: You passed a edgecolor/edgecolors ((0.9490196078431372, 0.7568627450980392, 0.3058823529411765)) for an unfilled marker ('x').  Matplotlib is ignoring the edgecolor in favor of the facecolor.  This behavior may change in the future.\n",
      "  ax.scatter(x, y, label=hue_level,\n",
      "/Users/lfuhrmann/Library/Python/3.9/lib/python/site-packages/seaborn/categorical.py:1781: UserWarning: You passed a edgecolor/edgecolors ((0.9450980392156862, 0.3568627450980392, 0.7098039215686275)) for an unfilled marker ('x').  Matplotlib is ignoring the edgecolor in favor of the facecolor.  This behavior may change in the future.\n",
      "  ax.scatter(x, y, label=hue_level,\n",
      "/Users/lfuhrmann/Library/Python/3.9/lib/python/site-packages/seaborn/categorical.py:1781: UserWarning: You passed a edgecolor/edgecolors ((0.21176470588235294, 0.5607843137254902, 0.5450980392156862)) for an unfilled marker ('x').  Matplotlib is ignoring the edgecolor in favor of the facecolor.  This behavior may change in the future.\n",
      "  ax.scatter(x, y, label=hue_level,\n",
      "/Users/lfuhrmann/Library/Python/3.9/lib/python/site-packages/statannotations/_Plotter.py:337: UserWarning: Invalid x-position found. Are the same parameters passed to seaborn and statannotations calls? or are there few data points?\n",
      "  warnings.warn(\n",
      "/Users/lfuhrmann/Library/Python/3.9/lib/python/site-packages/statannotations/_Plotter.py:337: UserWarning: Invalid x-position found. Are the same parameters passed to seaborn and statannotations calls? or are there few data points?\n",
      "  warnings.warn(\n",
      "/Users/lfuhrmann/Library/Python/3.9/lib/python/site-packages/statannotations/_Plotter.py:337: UserWarning: Invalid x-position found. Are the same parameters passed to seaborn and statannotations calls? or are there few data points?\n",
      "  warnings.warn(\n",
      "/Users/lfuhrmann/Library/Python/3.9/lib/python/site-packages/statannotations/_Plotter.py:337: UserWarning: Invalid x-position found. Are the same parameters passed to seaborn and statannotations calls? or are there few data points?\n",
      "  warnings.warn(\n"
     ]
    },
    {
     "name": "stdout",
     "output_type": "stream",
     "text": [
      "p-value annotation legend:\n",
      "      ns: p <= 1.00e+00\n",
      "       *: 1.00e-02 < p <= 5.00e-02\n",
      "      **: 1.00e-03 < p <= 1.00e-02\n",
      "     ***: 1.00e-04 < p <= 1.00e-03\n",
      "    ****: p <= 1.00e-04\n",
      "\n",
      "P10_WT vs. P10_OE: Custom statistical test, P_val:8.054e-01\n",
      "P5_WT vs. P5_OE: Custom statistical test, P_val:5.235e-01\n",
      "P1_WT vs. P1_OE: Custom statistical test, P_val:1.577e-01\n"
     ]
    },
    {
     "name": "stderr",
     "output_type": "stream",
     "text": [
      "/Users/lfuhrmann/Library/Python/3.9/lib/python/site-packages/seaborn/categorical.py:1781: UserWarning: You passed a edgecolor/edgecolors ((0.9490196078431372, 0.7568627450980392, 0.3058823529411765)) for an unfilled marker ('x').  Matplotlib is ignoring the edgecolor in favor of the facecolor.  This behavior may change in the future.\n",
      "  ax.scatter(x, y, label=hue_level,\n",
      "/Users/lfuhrmann/Library/Python/3.9/lib/python/site-packages/seaborn/categorical.py:1781: UserWarning: You passed a edgecolor/edgecolors ((0.9450980392156862, 0.3568627450980392, 0.7098039215686275)) for an unfilled marker ('x').  Matplotlib is ignoring the edgecolor in favor of the facecolor.  This behavior may change in the future.\n",
      "  ax.scatter(x, y, label=hue_level,\n",
      "/Users/lfuhrmann/Library/Python/3.9/lib/python/site-packages/seaborn/categorical.py:1781: UserWarning: You passed a edgecolor/edgecolors ((0.21176470588235294, 0.5607843137254902, 0.5450980392156862)) for an unfilled marker ('x').  Matplotlib is ignoring the edgecolor in favor of the facecolor.  This behavior may change in the future.\n",
      "  ax.scatter(x, y, label=hue_level,\n",
      "/Users/lfuhrmann/Library/Python/3.9/lib/python/site-packages/statannotations/_Plotter.py:337: UserWarning: Invalid x-position found. Are the same parameters passed to seaborn and statannotations calls? or are there few data points?\n",
      "  warnings.warn(\n",
      "/Users/lfuhrmann/Library/Python/3.9/lib/python/site-packages/statannotations/_Plotter.py:337: UserWarning: Invalid x-position found. Are the same parameters passed to seaborn and statannotations calls? or are there few data points?\n",
      "  warnings.warn(\n",
      "/Users/lfuhrmann/Library/Python/3.9/lib/python/site-packages/statannotations/_Plotter.py:337: UserWarning: Invalid x-position found. Are the same parameters passed to seaborn and statannotations calls? or are there few data points?\n",
      "  warnings.warn(\n",
      "/Users/lfuhrmann/Library/Python/3.9/lib/python/site-packages/statannotations/_Plotter.py:337: UserWarning: Invalid x-position found. Are the same parameters passed to seaborn and statannotations calls? or are there few data points?\n",
      "  warnings.warn(\n"
     ]
    },
    {
     "name": "stdout",
     "output_type": "stream",
     "text": [
      "p-value annotation legend:\n",
      "      ns: p <= 1.00e+00\n",
      "       *: 1.00e-02 < p <= 5.00e-02\n",
      "      **: 1.00e-03 < p <= 1.00e-02\n",
      "     ***: 1.00e-04 < p <= 1.00e-03\n",
      "    ****: p <= 1.00e-04\n",
      "\n",
      "P10_WT vs. P10_OE: Custom statistical test, P_val:7.192e-01\n",
      "P5_WT vs. P5_OE: Custom statistical test, P_val:7.761e-02\n",
      "P1_WT vs. P1_OE: Custom statistical test, P_val:2.890e-01\n"
     ]
    },
    {
     "name": "stderr",
     "output_type": "stream",
     "text": [
      "/Users/lfuhrmann/Library/Python/3.9/lib/python/site-packages/seaborn/categorical.py:1781: UserWarning: You passed a edgecolor/edgecolors ((0.9490196078431372, 0.7568627450980392, 0.3058823529411765)) for an unfilled marker ('x').  Matplotlib is ignoring the edgecolor in favor of the facecolor.  This behavior may change in the future.\n",
      "  ax.scatter(x, y, label=hue_level,\n",
      "/Users/lfuhrmann/Library/Python/3.9/lib/python/site-packages/seaborn/categorical.py:1781: UserWarning: You passed a edgecolor/edgecolors ((0.9450980392156862, 0.3568627450980392, 0.7098039215686275)) for an unfilled marker ('x').  Matplotlib is ignoring the edgecolor in favor of the facecolor.  This behavior may change in the future.\n",
      "  ax.scatter(x, y, label=hue_level,\n",
      "/Users/lfuhrmann/Library/Python/3.9/lib/python/site-packages/seaborn/categorical.py:1781: UserWarning: You passed a edgecolor/edgecolors ((0.21176470588235294, 0.5607843137254902, 0.5450980392156862)) for an unfilled marker ('x').  Matplotlib is ignoring the edgecolor in favor of the facecolor.  This behavior may change in the future.\n",
      "  ax.scatter(x, y, label=hue_level,\n",
      "/Users/lfuhrmann/Library/Python/3.9/lib/python/site-packages/statannotations/_Plotter.py:337: UserWarning: Invalid x-position found. Are the same parameters passed to seaborn and statannotations calls? or are there few data points?\n",
      "  warnings.warn(\n",
      "/Users/lfuhrmann/Library/Python/3.9/lib/python/site-packages/statannotations/_Plotter.py:337: UserWarning: Invalid x-position found. Are the same parameters passed to seaborn and statannotations calls? or are there few data points?\n",
      "  warnings.warn(\n",
      "/Users/lfuhrmann/Library/Python/3.9/lib/python/site-packages/statannotations/_Plotter.py:337: UserWarning: Invalid x-position found. Are the same parameters passed to seaborn and statannotations calls? or are there few data points?\n",
      "  warnings.warn(\n",
      "/Users/lfuhrmann/Library/Python/3.9/lib/python/site-packages/statannotations/_Plotter.py:337: UserWarning: Invalid x-position found. Are the same parameters passed to seaborn and statannotations calls? or are there few data points?\n",
      "  warnings.warn(\n"
     ]
    },
    {
     "name": "stdout",
     "output_type": "stream",
     "text": [
      "p-value annotation legend:\n",
      "      ns: p <= 1.00e+00\n",
      "       *: 1.00e-02 < p <= 5.00e-02\n",
      "      **: 1.00e-03 < p <= 1.00e-02\n",
      "     ***: 1.00e-04 < p <= 1.00e-03\n",
      "    ****: p <= 1.00e-04\n",
      "\n",
      "P10_WT vs. P10_OE: Custom statistical test, P_val:1.633e-02\n",
      "P5_WT vs. P5_OE: Custom statistical test, P_val:4.184e-03\n",
      "P1_WT vs. P1_OE: Custom statistical test, P_val:1.463e-02\n"
     ]
    },
    {
     "name": "stderr",
     "output_type": "stream",
     "text": [
      "/Users/lfuhrmann/Library/Python/3.9/lib/python/site-packages/seaborn/categorical.py:1781: UserWarning: You passed a edgecolor/edgecolors ((0.9490196078431372, 0.7568627450980392, 0.3058823529411765)) for an unfilled marker ('x').  Matplotlib is ignoring the edgecolor in favor of the facecolor.  This behavior may change in the future.\n",
      "  ax.scatter(x, y, label=hue_level,\n",
      "/Users/lfuhrmann/Library/Python/3.9/lib/python/site-packages/seaborn/categorical.py:1781: UserWarning: You passed a edgecolor/edgecolors ((0.9450980392156862, 0.3568627450980392, 0.7098039215686275)) for an unfilled marker ('x').  Matplotlib is ignoring the edgecolor in favor of the facecolor.  This behavior may change in the future.\n",
      "  ax.scatter(x, y, label=hue_level,\n",
      "/Users/lfuhrmann/Library/Python/3.9/lib/python/site-packages/seaborn/categorical.py:1781: UserWarning: You passed a edgecolor/edgecolors ((0.21176470588235294, 0.5607843137254902, 0.5450980392156862)) for an unfilled marker ('x').  Matplotlib is ignoring the edgecolor in favor of the facecolor.  This behavior may change in the future.\n",
      "  ax.scatter(x, y, label=hue_level,\n",
      "/Users/lfuhrmann/Library/Python/3.9/lib/python/site-packages/statannotations/_Plotter.py:337: UserWarning: Invalid x-position found. Are the same parameters passed to seaborn and statannotations calls? or are there few data points?\n",
      "  warnings.warn(\n",
      "/Users/lfuhrmann/Library/Python/3.9/lib/python/site-packages/statannotations/_Plotter.py:337: UserWarning: Invalid x-position found. Are the same parameters passed to seaborn and statannotations calls? or are there few data points?\n",
      "  warnings.warn(\n",
      "/Users/lfuhrmann/Library/Python/3.9/lib/python/site-packages/statannotations/_Plotter.py:337: UserWarning: Invalid x-position found. Are the same parameters passed to seaborn and statannotations calls? or are there few data points?\n",
      "  warnings.warn(\n",
      "/Users/lfuhrmann/Library/Python/3.9/lib/python/site-packages/statannotations/_Plotter.py:337: UserWarning: Invalid x-position found. Are the same parameters passed to seaborn and statannotations calls? or are there few data points?\n",
      "  warnings.warn(\n"
     ]
    },
    {
     "name": "stdout",
     "output_type": "stream",
     "text": [
      "p-value annotation legend:\n",
      "      ns: p <= 1.00e+00\n",
      "       *: 1.00e-02 < p <= 5.00e-02\n",
      "      **: 1.00e-03 < p <= 1.00e-02\n",
      "     ***: 1.00e-04 < p <= 1.00e-03\n",
      "    ****: p <= 1.00e-04\n",
      "\n",
      "P10_WT vs. P10_OE: Custom statistical test, P_val:5.636e-01\n",
      "P5_WT vs. P5_OE: Custom statistical test, P_val:7.779e-01\n",
      "P1_WT vs. P1_OE: Custom statistical test, P_val:2.388e-02\n"
     ]
    },
    {
     "data": {
      "text/plain": [
       "Text(107.6231859375, 0.5, 'nucleotide diversity')"
      ]
     },
     "execution_count": 8,
     "metadata": {},
     "output_type": "execute_result"
    },
    {
     "data": {
      "image/png": "[encoded data removed]",
      "text/plain": [
       "<Figure size 1152x576 with 11 Axes>"
      ]
     },
     "metadata": {
      "needs_background": "light"
     },
     "output_type": "display_data"
    }
   ],
   "source": [
    "# 1. Take average over the replicates per passage per genotype \n",
    "# 2. Compare protein diversity to baseline diveristy \n",
    "\n",
    "fig, ax = plt.subplots(1,len(protein_order),  sharey=True, figsize=(16,8))\n",
    "\n",
    "annotation_pairs = [((\"P1\", \"WT\"), (\"P1\", \"OE\")),\n",
    "                    ((\"P5\", \"WT\"), (\"P5\", \"OE\")), \n",
    "                    ((\"P10\", \"WT\"), (\"P10\", \"OE\"))]\n",
    "\n",
    "for idx, protein in enumerate(protein_order):\n",
    "\n",
    "    sns.pointplot(\n",
    "            ax= ax[idx], \n",
    "            data=df_pis_protein[df_pis_protein['protein']==protein], \n",
    "            markers='o', \n",
    "            linestyles='',\n",
    "            x=\"passage\", \n",
    "            y='avg_pi', \n",
    "            hue ='genotype', \n",
    "            errorbar=\"se\",\n",
    "            hue_order=genotype_order, \n",
    "            palette=our_color_palette,\n",
    "            order =passage_order,\n",
    "            errwidth=1.1, \n",
    "            capsize=0.1,\n",
    "            dodge=0.5,\n",
    "            legend=False\n",
    "        )\n",
    "    \n",
    "    sns.pointplot(\n",
    "            ax= ax[idx], \n",
    "            data=df_pop_mean, \n",
    "            markers='x', \n",
    "            linestyles='',\n",
    "            x=\"passage\", \n",
    "            y='pi_coding', \n",
    "            hue ='genotype', \n",
    "            errorbar='se',\n",
    "            hue_order=genotype_order, \n",
    "            order =passage_order,\n",
    "            palette=our_color_palette,\n",
    "            errwidth=1.1, \n",
    "            capsize=0.1,\n",
    "            dodge=0.5,\n",
    "            legend=False\n",
    "        )\n",
    "    ax[idx].set_yscale('log')\n",
    "    ax[idx].set_ylim((10e-07, 0.009))\n",
    "    \n",
    "    \n",
    "    df_pis_protein_mean = df_pis_protein[(df_pis_protein['protein']==protein)].pivot_table(values ='avg_pi',\n",
    "                                                                                           index=['genotype', 'passage'], \n",
    "                                                                                           aggfunc='mean').reset_index()\n",
    "    \n",
    "    \n",
    "    p_values =[stats.ttest_rel(np.log10(df_pis_protein_mean[df_pis_protein_mean['passage']=='P1']['avg_pi']), \n",
    "                           np.log10(df_pop_mean[df_pop_mean['passage']=='P1']['pi_coding']), \n",
    "                           alternative=\"two-sided\").pvalue,\n",
    "              stats.ttest_rel(np.log10(df_pis_protein_mean[df_pis_protein_mean['passage']=='P5']['avg_pi']), \n",
    "                           np.log10(df_pop_mean[df_pop_mean['passage']=='P5']['pi_coding']), \n",
    "                           alternative=\"two-sided\").pvalue,\n",
    "              stats.ttest_rel(np.log10(df_pis_protein_mean[df_pis_protein_mean['passage']=='P10']['avg_pi']), \n",
    "                           np.log10(df_pop_mean[df_pop_mean['passage']=='P10']['pi_coding']), \n",
    "                           alternative=\"two-sided\").pvalue]\n",
    "\n",
    "    \n",
    "    # subset the table otherwise the stats were calculated on the whole dataset\n",
    "    annot = Annotator(ax[idx],\n",
    "                      annotation_pairs, \n",
    "                      data=df_pis_protein[df_pis_protein['protein']==protein], \n",
    "                      x=\"passage\", \n",
    "                      y='avg_pi', \n",
    "                      hue ='genotype',  \n",
    "                      order=passage_order,\n",
    "                      hue_order=genotype_order) \n",
    "    \n",
    "    annot.configure(test=None,loc='inside', verbose=2).set_pvalues(p_values).annotate()\n",
    "    \n",
    "    ax[idx].set_title(protein, fontsize=20)\n",
    "    ax[idx].set_ylabel(\"\")\n",
    "    ax[idx].set_xlabel(\"\")\n",
    "    ax[idx].get_legend().remove()\n",
    "    \n",
    "\n",
    "ax[0].set_ylabel(\"nucleotide diversity\", fontsize=20)\n"
   ]
  },
  {
   "cell_type": "code",
   "execution_count": 9,
   "id": "95155220",
   "metadata": {},
   "outputs": [],
   "source": [
    "fig.savefig(\"./000__Manuscript_figures/Supplement_Figure_3B__nucleotide_diversity_protein.pdf\")\n",
    "fig.savefig(\"./000__Manuscript_figures/Supplement_Figure_3B__nucleotide_diversity_protein.svg\")"
   ]
  },
  {
   "cell_type": "code",
   "execution_count": null,
   "id": "00ef7d48",
   "metadata": {},
   "outputs": [],
   "source": []
  }
 ],
 "metadata": {
  "kernelspec": {
   "display_name": "Python 3 (ipykernel)",
   "language": "python",
   "name": "python3"
  },
  "language_info": {
   "codemirror_mode": {
    "name": "ipython",
    "version": 3
   },
   "file_extension": ".py",
   "mimetype": "text/x-python",
   "name": "python",
   "nbconvert_exporter": "python",
   "pygments_lexer": "ipython3",
   "version": "3.9.0"
  }
 },
 "nbformat": 4,
 "nbformat_minor": 5
}

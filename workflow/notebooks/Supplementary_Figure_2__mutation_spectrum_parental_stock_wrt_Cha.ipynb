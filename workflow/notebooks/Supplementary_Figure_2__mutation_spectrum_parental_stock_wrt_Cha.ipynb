{
 "cells": [
  {
   "cell_type": "code",
   "execution_count": 1,
   "id": "0a9c0691",
   "metadata": {},
   "outputs": [],
   "source": [
    "import pandas as pd\n",
    "import numpy as np\n",
    "from scipy.stats import sem\n",
    "import matplotlib.pyplot as plt\n",
    "import sys\n",
    "sys.path.append(\"../scripts\")\n",
    "import compute_diversity_measures\n",
    "import seaborn as sns"
   ]
  },
  {
   "cell_type": "code",
   "execution_count": 2,
   "id": "9653f2c7",
   "metadata": {},
   "outputs": [],
   "source": [
    "genome_length = 9228"
   ]
  },
  {
   "cell_type": "markdown",
   "id": "7d6d2057",
   "metadata": {},
   "source": [
    "### import mutations"
   ]
  },
  {
   "cell_type": "code",
   "execution_count": 3,
   "id": "21c775a0",
   "metadata": {},
   "outputs": [],
   "source": [
    "fname_mutations = '../../resources/run_workflow/results_cluster/parental_stock_ref_Cha/all_mutations.csv'\n",
    "\n",
    "df = pd.read_csv(fname_mutations)\n",
    "df = df.drop(['Unnamed: 0'], axis=1)\n",
    "\n",
    "df['genotype'] = 'parental_stock_Cha'\n",
    "df['passage'] = df['date']\n",
    "df['replicate'] = df['patient']\n",
    "\n",
    "# add information\n",
    "df['Frq1'] = pd.to_numeric(df['Frq1'], errors='coerce')\n",
    "df['Frq2'] = pd.to_numeric(df['Frq2'], errors='coerce')\n",
    "df['Frq3'] = pd.to_numeric(df['Frq3'], errors='coerce')\n",
    "\n",
    "df['n_reads_var'] = df['Rvar'] + df['Fvar']\n",
    "df['coverage'] = df['Rtot'] + df['Ftot']\n",
    "df['frequency'] = df['n_reads_var'] / df['coverage']\n",
    "df['Frq_ave'] = df[['Frq1','Frq2','Frq3']].mean(axis=1)\n",
    "\n",
    "df['position'] = df['Pos']"
   ]
  },
  {
   "cell_type": "code",
   "execution_count": 4,
   "id": "9741ace7",
   "metadata": {},
   "outputs": [
    {
     "data": {
      "text/plain": [
       "(1719, 27)"
      ]
     },
     "execution_count": 4,
     "metadata": {},
     "output_type": "execute_result"
    }
   ],
   "source": [
    "df.shape"
   ]
  },
  {
   "cell_type": "code",
   "execution_count": 5,
   "id": "d45ef7bf",
   "metadata": {},
   "outputs": [
    {
     "data": {
      "text/html": [
       "<div>\n",
       "<style scoped>\n",
       "    .dataframe tbody tr th:only-of-type {\n",
       "        vertical-align: middle;\n",
       "    }\n",
       "\n",
       "    .dataframe tbody tr th {\n",
       "        vertical-align: top;\n",
       "    }\n",
       "\n",
       "    .dataframe thead th {\n",
       "        text-align: right;\n",
       "    }\n",
       "</style>\n",
       "<table border=\"1\" class=\"dataframe\">\n",
       "  <thead>\n",
       "    <tr style=\"text-align: right;\">\n",
       "      <th></th>\n",
       "      <th>Chromosome</th>\n",
       "      <th>Pos</th>\n",
       "      <th>Ref</th>\n",
       "      <th>Var</th>\n",
       "      <th>Frq1</th>\n",
       "      <th>Frq2</th>\n",
       "      <th>Frq3</th>\n",
       "      <th>Pst1</th>\n",
       "      <th>Pst2</th>\n",
       "      <th>Pst3</th>\n",
       "      <th>...</th>\n",
       "      <th>patient</th>\n",
       "      <th>date</th>\n",
       "      <th>genotype</th>\n",
       "      <th>passage</th>\n",
       "      <th>replicate</th>\n",
       "      <th>n_reads_var</th>\n",
       "      <th>coverage</th>\n",
       "      <th>frequency</th>\n",
       "      <th>Frq_ave</th>\n",
       "      <th>position</th>\n",
       "    </tr>\n",
       "  </thead>\n",
       "  <tbody>\n",
       "    <tr>\n",
       "      <th>0</th>\n",
       "      <td>MK645242.1</td>\n",
       "      <td>86</td>\n",
       "      <td>T</td>\n",
       "      <td>-</td>\n",
       "      <td>0.0001</td>\n",
       "      <td>0.0001</td>\n",
       "      <td>0.0001</td>\n",
       "      <td>1.0000</td>\n",
       "      <td>0.9982</td>\n",
       "      <td>0.9939</td>\n",
       "      <td>...</td>\n",
       "      <td>parental_stock</td>\n",
       "      <td>DCV_PO</td>\n",
       "      <td>parental_stock_Cha</td>\n",
       "      <td>DCV_PO</td>\n",
       "      <td>parental_stock</td>\n",
       "      <td>12</td>\n",
       "      <td>132631</td>\n",
       "      <td>0.000090</td>\n",
       "      <td>0.00010</td>\n",
       "      <td>86</td>\n",
       "    </tr>\n",
       "    <tr>\n",
       "      <th>1</th>\n",
       "      <td>MK645242.1</td>\n",
       "      <td>87</td>\n",
       "      <td>A</td>\n",
       "      <td>-</td>\n",
       "      <td>0.0001</td>\n",
       "      <td>0.0001</td>\n",
       "      <td>NaN</td>\n",
       "      <td>1.0000</td>\n",
       "      <td>0.9982</td>\n",
       "      <td>-</td>\n",
       "      <td>...</td>\n",
       "      <td>parental_stock</td>\n",
       "      <td>DCV_PO</td>\n",
       "      <td>parental_stock_Cha</td>\n",
       "      <td>DCV_PO</td>\n",
       "      <td>parental_stock</td>\n",
       "      <td>10</td>\n",
       "      <td>132309</td>\n",
       "      <td>0.000076</td>\n",
       "      <td>0.00010</td>\n",
       "      <td>87</td>\n",
       "    </tr>\n",
       "    <tr>\n",
       "      <th>2</th>\n",
       "      <td>MK645242.1</td>\n",
       "      <td>108</td>\n",
       "      <td>T</td>\n",
       "      <td>C</td>\n",
       "      <td>NaN</td>\n",
       "      <td>0.0004</td>\n",
       "      <td>0.0003</td>\n",
       "      <td>-</td>\n",
       "      <td>0.9286</td>\n",
       "      <td>1.0000</td>\n",
       "      <td>...</td>\n",
       "      <td>parental_stock</td>\n",
       "      <td>DCV_PO</td>\n",
       "      <td>parental_stock_Cha</td>\n",
       "      <td>DCV_PO</td>\n",
       "      <td>parental_stock</td>\n",
       "      <td>66</td>\n",
       "      <td>115669</td>\n",
       "      <td>0.000571</td>\n",
       "      <td>0.00035</td>\n",
       "      <td>108</td>\n",
       "    </tr>\n",
       "    <tr>\n",
       "      <th>3</th>\n",
       "      <td>MK645242.1</td>\n",
       "      <td>109</td>\n",
       "      <td>C</td>\n",
       "      <td>A</td>\n",
       "      <td>0.0021</td>\n",
       "      <td>0.0018</td>\n",
       "      <td>0.0420</td>\n",
       "      <td>0.9875</td>\n",
       "      <td>1.0000</td>\n",
       "      <td>1.0000</td>\n",
       "      <td>...</td>\n",
       "      <td>parental_stock</td>\n",
       "      <td>DCV_PO</td>\n",
       "      <td>parental_stock_Cha</td>\n",
       "      <td>DCV_PO</td>\n",
       "      <td>parental_stock</td>\n",
       "      <td>1219</td>\n",
       "      <td>114659</td>\n",
       "      <td>0.010632</td>\n",
       "      <td>0.01530</td>\n",
       "      <td>109</td>\n",
       "    </tr>\n",
       "    <tr>\n",
       "      <th>4</th>\n",
       "      <td>MK645242.1</td>\n",
       "      <td>130</td>\n",
       "      <td>T</td>\n",
       "      <td>-</td>\n",
       "      <td>0.0005</td>\n",
       "      <td>0.0003</td>\n",
       "      <td>0.0004</td>\n",
       "      <td>1.0000</td>\n",
       "      <td>1.0000</td>\n",
       "      <td>1.0000</td>\n",
       "      <td>...</td>\n",
       "      <td>parental_stock</td>\n",
       "      <td>DCV_PO</td>\n",
       "      <td>parental_stock_Cha</td>\n",
       "      <td>DCV_PO</td>\n",
       "      <td>parental_stock</td>\n",
       "      <td>33</td>\n",
       "      <td>93890</td>\n",
       "      <td>0.000351</td>\n",
       "      <td>0.00040</td>\n",
       "      <td>130</td>\n",
       "    </tr>\n",
       "  </tbody>\n",
       "</table>\n",
       "<p>5 rows × 27 columns</p>\n",
       "</div>"
      ],
      "text/plain": [
       "   Chromosome  Pos Ref Var    Frq1    Frq2    Frq3    Pst1    Pst2    Pst3  \\\n",
       "0  MK645242.1   86   T   -  0.0001  0.0001  0.0001  1.0000  0.9982  0.9939   \n",
       "1  MK645242.1   87   A   -  0.0001  0.0001     NaN  1.0000  0.9982       -   \n",
       "2  MK645242.1  108   T   C     NaN  0.0004  0.0003       -  0.9286  1.0000   \n",
       "3  MK645242.1  109   C   A  0.0021  0.0018  0.0420  0.9875  1.0000  1.0000   \n",
       "4  MK645242.1  130   T   -  0.0005  0.0003  0.0004  1.0000  1.0000  1.0000   \n",
       "\n",
       "   ...         patient    date            genotype  passage       replicate  \\\n",
       "0  ...  parental_stock  DCV_PO  parental_stock_Cha   DCV_PO  parental_stock   \n",
       "1  ...  parental_stock  DCV_PO  parental_stock_Cha   DCV_PO  parental_stock   \n",
       "2  ...  parental_stock  DCV_PO  parental_stock_Cha   DCV_PO  parental_stock   \n",
       "3  ...  parental_stock  DCV_PO  parental_stock_Cha   DCV_PO  parental_stock   \n",
       "4  ...  parental_stock  DCV_PO  parental_stock_Cha   DCV_PO  parental_stock   \n",
       "\n",
       "   n_reads_var coverage frequency  Frq_ave position  \n",
       "0           12   132631  0.000090  0.00010       86  \n",
       "1           10   132309  0.000076  0.00010       87  \n",
       "2           66   115669  0.000571  0.00035      108  \n",
       "3         1219   114659  0.010632  0.01530      109  \n",
       "4           33    93890  0.000351  0.00040      130  \n",
       "\n",
       "[5 rows x 27 columns]"
      ]
     },
     "execution_count": 5,
     "metadata": {},
     "output_type": "execute_result"
    }
   ],
   "source": [
    "df.head(5)"
   ]
  },
  {
   "cell_type": "markdown",
   "id": "0e1450a2",
   "metadata": {},
   "source": [
    "### Filtering"
   ]
  },
  {
   "cell_type": "code",
   "execution_count": 6,
   "id": "fe7b1cf8",
   "metadata": {},
   "outputs": [],
   "source": [
    "# Post-processing filtering of mutation calling\n",
    "\n",
    "# filter out where Frq_ave == 0.0 \n",
    "# that is something unexpected happening in ShoRAH which is due to the super high coverage\n",
    "df = df[df['Frq_ave']!=0]\n",
    "\n",
    "# strand bias test \n",
    "df = df[df['Pval']>=0.05]\n",
    "\n",
    "# minimum read support\n",
    "minimum_read_support = 10 \n",
    "df = df[df['n_reads_var']>=minimum_read_support]"
   ]
  },
  {
   "cell_type": "code",
   "execution_count": 7,
   "id": "d3b10105",
   "metadata": {},
   "outputs": [
    {
     "data": {
      "text/plain": [
       "(317, 27)"
      ]
     },
     "execution_count": 7,
     "metadata": {},
     "output_type": "execute_result"
    }
   ],
   "source": [
    "df.shape"
   ]
  },
  {
   "cell_type": "code",
   "execution_count": 8,
   "id": "d645d4cb",
   "metadata": {},
   "outputs": [],
   "source": [
    "# minimum mutation frequency\n",
    "minimum_frequency_threshold = 0.0001 \n",
    "df = df[df['frequency']>minimum_frequency_threshold]"
   ]
  },
  {
   "cell_type": "code",
   "execution_count": 9,
   "id": "feff4fb9",
   "metadata": {},
   "outputs": [
    {
     "data": {
      "text/plain": [
       "(287, 27)"
      ]
     },
     "execution_count": 9,
     "metadata": {},
     "output_type": "execute_result"
    }
   ],
   "source": [
    "df.shape"
   ]
  },
  {
   "cell_type": "markdown",
   "id": "5febd528",
   "metadata": {},
   "source": [
    "## n_polymorphisms_parental_stock"
   ]
  },
  {
   "cell_type": "code",
   "execution_count": 10,
   "id": "ca418a15",
   "metadata": {},
   "outputs": [
    {
     "data": {
      "text/plain": [
       "265"
      ]
     },
     "execution_count": 10,
     "metadata": {},
     "output_type": "execute_result"
    }
   ],
   "source": [
    "n_polymorphisms_parental_stock = compute_diversity_measures.number_of_polymorphisms(df)\n",
    "n_polymorphisms_parental_stock"
   ]
  },
  {
   "cell_type": "markdown",
   "id": "345c856a",
   "metadata": {},
   "source": [
    "### Mutation frequency spectrum"
   ]
  },
  {
   "cell_type": "code",
   "execution_count": 11,
   "id": "1a54c874",
   "metadata": {},
   "outputs": [],
   "source": [
    "mutation_spectrum_bins = [(0.0001,0.001),(0.001,0.01), (0.01,0.1), (0.1, 0.98), (0.98,1)]\n",
    "mutation_spectrum_bins_labels = [str(curr_bin) for curr_bin in mutation_spectrum_bins]"
   ]
  },
  {
   "cell_type": "code",
   "execution_count": 12,
   "id": "470226da",
   "metadata": {},
   "outputs": [],
   "source": [
    "def mutation_spectrum(df_mutations, bins):\n",
    "    counts = np.zeros(len(bins))\n",
    "    for i, curr_bin in enumerate(bins):\n",
    "        df_temp = df_mutations[df_mutations[\"frequency\"] > curr_bin[0]]\n",
    "        df_temp = df_temp[df_temp[\"frequency\"] <= curr_bin[1]]\n",
    "        #variant_positions = df_temp[\"position\"].unique()\n",
    "        #counts[i] = len(variant_positions)\n",
    "        counts[i] = df_temp.shape[0]\n",
    "    return list(counts)"
   ]
  },
  {
   "cell_type": "code",
   "execution_count": 13,
   "id": "8a44835f",
   "metadata": {},
   "outputs": [
    {
     "name": "stderr",
     "output_type": "stream",
     "text": [
      "/var/folders/dw/8dl4p6h53cgcmk6cf_09v5f40000gr/T/ipykernel_35665/1612995263.py:10: UserWarning: FixedFormatter should only be used together with FixedLocator\n",
      "  ax.set_xticklabels(labels=mutation_spectrum_bins_labels,rotation = 45, size=25)\n"
     ]
    },
    {
     "data": {
      "image/png": "[encoded data removed]",
      "text/plain": [
       "<Figure size 720x720 with 1 Axes>"
      ]
     },
     "metadata": {
      "needs_background": "light"
     },
     "output_type": "display_data"
    }
   ],
   "source": [
    "# parental stock color #B2BEB5\n",
    "\n",
    "mut_spec = mutation_spectrum(df, mutation_spectrum_bins)\n",
    "bins = mutation_spectrum_bins\n",
    "\n",
    "fig, ax = plt.subplots(1,1, figsize=(10, 10),constrained_layout=True, sharey=True, sharex=True)\n",
    "\n",
    "\n",
    "ax.bar(mutation_spectrum_bins_labels, mut_spec, color=\"#B2BEB5\")\n",
    "ax.set_xticklabels(labels=mutation_spectrum_bins_labels,rotation = 45, size=25)\n",
    "\n",
    "for i, v in enumerate(mut_spec):\n",
    "    ax.text( i - 0.1, v + 3, str(v),color = 'black')"
   ]
  },
  {
   "cell_type": "code",
   "execution_count": 15,
   "id": "56f9c062",
   "metadata": {},
   "outputs": [],
   "source": [
    "fig.savefig(\"./000__Manuscript_figures/Supplementary_Figure_2__mutation_spectrum_parental_stock_wrt_Cha.pdf\")\n",
    "fig.savefig(\"./000__Manuscript_figures/Supplementary_Figure_2__mutation_spectrum_parental_stock_wrt_Cha.svg\")"
   ]
  },
  {
   "cell_type": "code",
   "execution_count": null,
   "id": "36406f29",
   "metadata": {},
   "outputs": [],
   "source": []
  }
 ],
 "metadata": {
  "kernelspec": {
   "display_name": "Python 3 (ipykernel)",
   "language": "python",
   "name": "python3"
  },
  "language_info": {
   "codemirror_mode": {
    "name": "ipython",
    "version": 3
   },
   "file_extension": ".py",
   "mimetype": "text/x-python",
   "name": "python",
   "nbconvert_exporter": "python",
   "pygments_lexer": "ipython3",
   "version": "3.9.0"
  }
 },
 "nbformat": 4,
 "nbformat_minor": 5
}

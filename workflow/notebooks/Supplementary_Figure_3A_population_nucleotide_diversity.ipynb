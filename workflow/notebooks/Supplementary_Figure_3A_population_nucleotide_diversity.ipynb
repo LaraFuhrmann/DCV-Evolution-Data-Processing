{
 "cells": [
  {
   "cell_type": "code",
<<<<<<< HEAD
   "execution_count": 1,
=======
   "execution_count": 57,
>>>>>>> main
   "id": "146b0777",
   "metadata": {},
   "outputs": [],
   "source": [
    "import pandas as pd\n",
    "import seaborn as sns\n",
    "import numpy as np\n",
    "from statannotations.Annotator import Annotator\n",
    "from scipy.stats import normaltest\n",
    "import scipy.stats as stats\n",
    "from matplotlib import pyplot as plt\n",
    "import pingouin as pg\n",
    "\n",
    "\n",
    "sns.set(rc={'figure.figsize':(25,10)})"
   ]
  },
  {
   "cell_type": "code",
<<<<<<< HEAD
   "execution_count": 2,
=======
   "execution_count": 58,
>>>>>>> main
   "id": "fe72daf2",
   "metadata": {},
   "outputs": [],
   "source": [
    "our_color_palette ={\"WT\": \"#F2C14E\", \"KO\": \"#F15BB5\", \"OE\": \"#368F8B\"}\n",
    "genotype_dict = {\"dicer_KO\": \"KO\", \"dicer_overexpressed\": \"OE\", \"wild_type\": \"WT\", \"dicer_ko\": \"KO\", \"dicer_over_expressing\": \"OE\"}\n",
    "passage_dict = {\"passage_1\": \"P1\", \"passage_5\": \"P5\", \"passage_10\": \"P10\"}\n",
    "our_color_palette ={\"WT\": \"#F2C14E\", \"KO\": \"#F15BB5\", \"OE\": \"#368F8B\"}\n",
    "\n",
    "genotype_order = [\"WT\", \"KO\", \"OE\"]\n",
    "passage_order = ['P1','P5','P10']"
   ]
  },
  {
   "cell_type": "markdown",
   "id": "9cc339be",
   "metadata": {},
   "source": [
    "### plot nucleotide diversity across genome, for coding and non-coding regions\n",
    "\n",
    "Values were computed with SNPGenie (https://github.com/chasewnelson/SNPGenie). "
   ]
  },
  {
   "cell_type": "code",
<<<<<<< HEAD
   "execution_count": 3,
   "id": "5dc21085",
   "metadata": {},
   "outputs": [],
   "source": [
    "# import data\n",
    "\n",
    "df_WT = pd.read_csv('../../resources/run_workflow/results_cluster/wild_type/snpgenie_population_summary.csv')\n",
    "df_KO = pd.read_csv('../../resources/run_workflow/results_cluster/dicer_KO/snpgenie_population_summary.csv')\n",
    "df_OE = pd.read_csv('../../resources/run_workflow/results_cluster/dicer_overexpression/snpgenie_population_summary.csv')\n",
    "\n",
    "\n",
    "df_pop = pd.concat([df_WT, df_KO, df_OE])\n",
    "\n",
    "df_pop[\"genotype\"] = df_pop[\"genotype\"].apply(lambda x: genotype_dict[x])\n",
    "df_pop[\"passage\"] = df_pop[\"passage\"].apply(lambda x: passage_dict[x])"
=======
   "execution_count": 77,
   "id": "2c814c7a",
   "metadata": {},
   "outputs": [],
   "source": [
    "df_WT= pd.read_csv('../../resources/run_workflow/results_cluster/wild_type/snpgenie_site_results.csv')\n",
    "df_KO = pd.read_csv('../../resources/run_workflow/results_cluster/dicer_KO/snpgenie_site_results.csv')\n",
    "df_OE = pd.read_csv('../../resources/run_workflow/results_cluster/dicer_overexpression/snpgenie_site_results.csv')\n",
    "\n",
    "df_pi = pd.concat([df_WT, df_KO, df_OE])[['site', 'pi', 'genotype', 'replicate', 'passage']]\n",
    "\n",
    "df_pi[\"genotype\"] = df_pi[\"genotype\"].apply(lambda x: genotype_dict[x])\n",
    "df_pi[\"passage\"] = df_pi[\"passage\"].apply(lambda x: passage_dict[x])\n"
>>>>>>> main
   ]
  },
  {
   "cell_type": "code",
<<<<<<< HEAD
   "execution_count": 4,
=======
   "execution_count": 92,
>>>>>>> main
   "id": "f8c5f7a4",
   "metadata": {},
   "outputs": [],
   "source": [
<<<<<<< HEAD
    "# total number of sites: 9264\n",
    "# number of coding sites: 7980\n",
    "# number of non-coding sites: 1284"
=======
    "# total number of sites: 9264"
>>>>>>> main
   ]
  },
  {
   "cell_type": "code",
<<<<<<< HEAD
   "execution_count": 5,
   "id": "2cc03f3f",
   "metadata": {
    "scrolled": false
   },
   "outputs": [],
   "source": [
    "df_pop[\"pi_fullgenome\"] = df_pop['pi']\n",
    "\n",
    "df_pop = df_pop[['pi_fullgenome',\n",
    "                 'pi_coding', \n",
    "                 'pi_noncoding', \n",
    "                 'genotype',\n",
    "                 'replicate', \n",
    "                 'passage']]\n",
    "\n",
    "\n",
    "df_pop_long = pd.wide_to_long(df_pop, stubnames=\"pi\", \n",
    "                              sep=\"_\", \n",
    "                              i = ['genotype','replicate','passage'], \n",
    "                              j='measure',\n",
    "                              suffix=r'\\w+')\n",
    "df_pop_long = df_pop_long.reset_index()"
=======
   "execution_count": 98,
   "id": "01b461cd",
   "metadata": {},
   "outputs": [],
   "source": [
    "# coding position taken from:\n",
    "# resources/references/dcv_eb_ref_annotation_genomic.gbff\n",
    "\n",
    "n_sites_reference = 9264\n",
    "coding_positions = list(range(799, 6078)) +  list(range(6267, 8972))\n",
    "n_coding_sites = len(coding_positions)\n",
    "n_noncoding_sites = n_sites_reference - n_coding_sites\n",
    "\n",
    "df_pi['coding'] = df_pi['site'].isin(coding_positions)"
   ]
  },
  {
   "cell_type": "code",
   "execution_count": 108,
   "id": "5e70abeb",
   "metadata": {},
   "outputs": [],
   "source": [
    "df_pi_coding = pd.pivot_table(data=df_pi[df_pi['coding']==True],\n",
    "                              values='pi', \n",
    "                              index=['genotype', 'replicate', 'passage'], \n",
    "                              aggfunc='sum').reset_index()\n",
    "df_pi_coding['pi'] = df_pi_coding['pi']/n_coding_sites\n",
    "df_pi_coding['measure'] = 'coding'\n",
    "\n",
    "\n",
    "df_pi_noncoding = pd.pivot_table(data=df_pi[df_pi['coding']==False],\n",
    "                              values='pi', \n",
    "                              index=['genotype', 'replicate', 'passage'], \n",
    "                              aggfunc='sum').reset_index()\n",
    "df_pi_noncoding['pi'] = df_pi_noncoding['pi']/n_noncoding_sites\n",
    "df_pi_noncoding['measure'] = 'noncoding'\n",
    "\n",
    "df_pi_fullgenome = pd.pivot_table(data=df_pi,\n",
    "                              values='pi', \n",
    "                              index=['genotype', 'replicate', 'passage'], \n",
    "                              aggfunc='sum').reset_index()\n",
    "df_pi_fullgenome['pi'] = df_pi_fullgenome['pi']/n_sites_reference\n",
    "df_pi_fullgenome['measure'] = 'fullgenome'\n",
    "\n",
    "\n",
    "df_pi_res = pd.concat([df_pi_coding, df_pi_noncoding, df_pi_fullgenome])"
   ]
  },
  {
   "cell_type": "code",
   "execution_count": 109,
   "id": "e69ae2fb",
   "metadata": {},
   "outputs": [
    {
     "data": {
      "text/html": [
       "<div>\n",
       "<style scoped>\n",
       "    .dataframe tbody tr th:only-of-type {\n",
       "        vertical-align: middle;\n",
       "    }\n",
       "\n",
       "    .dataframe tbody tr th {\n",
       "        vertical-align: top;\n",
       "    }\n",
       "\n",
       "    .dataframe thead th {\n",
       "        text-align: right;\n",
       "    }\n",
       "</style>\n",
       "<table border=\"1\" class=\"dataframe\">\n",
       "  <thead>\n",
       "    <tr style=\"text-align: right;\">\n",
       "      <th></th>\n",
       "      <th>genotype</th>\n",
       "      <th>replicate</th>\n",
       "      <th>passage</th>\n",
       "      <th>pi</th>\n",
       "      <th>measure</th>\n",
       "    </tr>\n",
       "  </thead>\n",
       "  <tbody>\n",
       "    <tr>\n",
       "      <th>0</th>\n",
       "      <td>KO</td>\n",
       "      <td>replicate_a</td>\n",
       "      <td>P1</td>\n",
       "      <td>0.000229</td>\n",
       "      <td>coding</td>\n",
       "    </tr>\n",
       "    <tr>\n",
       "      <th>1</th>\n",
       "      <td>KO</td>\n",
       "      <td>replicate_a</td>\n",
       "      <td>P10</td>\n",
       "      <td>0.000312</td>\n",
       "      <td>coding</td>\n",
       "    </tr>\n",
       "    <tr>\n",
       "      <th>2</th>\n",
       "      <td>KO</td>\n",
       "      <td>replicate_a</td>\n",
       "      <td>P5</td>\n",
       "      <td>0.000103</td>\n",
       "      <td>coding</td>\n",
       "    </tr>\n",
       "    <tr>\n",
       "      <th>3</th>\n",
       "      <td>KO</td>\n",
       "      <td>replicate_b</td>\n",
       "      <td>P1</td>\n",
       "      <td>0.000248</td>\n",
       "      <td>coding</td>\n",
       "    </tr>\n",
       "    <tr>\n",
       "      <th>4</th>\n",
       "      <td>KO</td>\n",
       "      <td>replicate_b</td>\n",
       "      <td>P10</td>\n",
       "      <td>0.000248</td>\n",
       "      <td>coding</td>\n",
       "    </tr>\n",
       "    <tr>\n",
       "      <th>...</th>\n",
       "      <td>...</td>\n",
       "      <td>...</td>\n",
       "      <td>...</td>\n",
       "      <td>...</td>\n",
       "      <td>...</td>\n",
       "    </tr>\n",
       "    <tr>\n",
       "      <th>40</th>\n",
       "      <td>WT</td>\n",
       "      <td>replicate_d</td>\n",
       "      <td>P10</td>\n",
       "      <td>0.000253</td>\n",
       "      <td>fullgenome</td>\n",
       "    </tr>\n",
       "    <tr>\n",
       "      <th>41</th>\n",
       "      <td>WT</td>\n",
       "      <td>replicate_d</td>\n",
       "      <td>P5</td>\n",
       "      <td>0.000307</td>\n",
       "      <td>fullgenome</td>\n",
       "    </tr>\n",
       "    <tr>\n",
       "      <th>42</th>\n",
       "      <td>WT</td>\n",
       "      <td>replicate_e</td>\n",
       "      <td>P1</td>\n",
       "      <td>0.000276</td>\n",
       "      <td>fullgenome</td>\n",
       "    </tr>\n",
       "    <tr>\n",
       "      <th>43</th>\n",
       "      <td>WT</td>\n",
       "      <td>replicate_e</td>\n",
       "      <td>P10</td>\n",
       "      <td>0.000399</td>\n",
       "      <td>fullgenome</td>\n",
       "    </tr>\n",
       "    <tr>\n",
       "      <th>44</th>\n",
       "      <td>WT</td>\n",
       "      <td>replicate_e</td>\n",
       "      <td>P5</td>\n",
       "      <td>0.000396</td>\n",
       "      <td>fullgenome</td>\n",
       "    </tr>\n",
       "  </tbody>\n",
       "</table>\n",
       "<p>135 rows × 5 columns</p>\n",
       "</div>"
      ],
      "text/plain": [
       "   genotype    replicate passage        pi     measure\n",
       "0        KO  replicate_a      P1  0.000229      coding\n",
       "1        KO  replicate_a     P10  0.000312      coding\n",
       "2        KO  replicate_a      P5  0.000103      coding\n",
       "3        KO  replicate_b      P1  0.000248      coding\n",
       "4        KO  replicate_b     P10  0.000248      coding\n",
       "..      ...          ...     ...       ...         ...\n",
       "40       WT  replicate_d     P10  0.000253  fullgenome\n",
       "41       WT  replicate_d      P5  0.000307  fullgenome\n",
       "42       WT  replicate_e      P1  0.000276  fullgenome\n",
       "43       WT  replicate_e     P10  0.000399  fullgenome\n",
       "44       WT  replicate_e      P5  0.000396  fullgenome\n",
       "\n",
       "[135 rows x 5 columns]"
      ]
     },
     "execution_count": 109,
     "metadata": {},
     "output_type": "execute_result"
    }
   ],
   "source": [
    "df_pi_res"
>>>>>>> main
   ]
  },
  {
   "cell_type": "code",
<<<<<<< HEAD
   "execution_count": 6,
=======
   "execution_count": 119,
>>>>>>> main
   "id": "6fc630f0",
   "metadata": {},
   "outputs": [
    {
     "name": "stdout",
     "output_type": "stream",
     "text": [
<<<<<<< HEAD
      "0.4324936851732626\n"
=======
      "0.4323681594228982\n"
>>>>>>> main
     ]
    }
   ],
   "source": [
<<<<<<< HEAD
    "print(normaltest(df_pop_long[df_pop_long['measure']==\"fullgenome\"]['pi']).pvalue)"
=======
    "print(normaltest(df_pi_res[df_pi_res['measure']==\"fullgenome\"]['pi']).pvalue)"
>>>>>>> main
   ]
  },
  {
   "cell_type": "code",
<<<<<<< HEAD
   "execution_count": 7,
=======
   "execution_count": 120,
>>>>>>> main
   "id": "ea77186d",
   "metadata": {},
   "outputs": [
    {
     "name": "stdout",
     "output_type": "stream",
     "text": [
<<<<<<< HEAD
      "0.5130561347236352\n"
=======
      "0.172319179344947\n"
>>>>>>> main
     ]
    }
   ],
   "source": [
    "# test normalitiy --> H0: samples comes from normal distribution\n",
<<<<<<< HEAD
    "print(normaltest(df_pop_long[df_pop_long['measure']==\"coding\"]['pi']).pvalue)"
=======
    "print(normaltest(np.log(df_pi_res[df_pi_res['measure']==\"coding\"]['pi'])).pvalue)"
>>>>>>> main
   ]
  },
  {
   "cell_type": "code",
<<<<<<< HEAD
   "execution_count": 8,
=======
   "execution_count": 121,
>>>>>>> main
   "id": "643ba3b0",
   "metadata": {},
   "outputs": [
    {
     "name": "stdout",
     "output_type": "stream",
     "text": [
<<<<<<< HEAD
      "1.239865306767203e-10\n"
=======
      "1.2355141632266185e-10\n"
>>>>>>> main
     ]
    }
   ],
   "source": [
    "# test normalitiy --> H0: samples comes from normal distribution\n",
<<<<<<< HEAD
    "print(normaltest(df_pop_long[df_pop_long['measure']==\"noncoding\"]['pi']).pvalue)"
=======
    "print(normaltest(df_pi_res[df_pi_res['measure']==\"noncoding\"]['pi']).pvalue)"
>>>>>>> main
   ]
  },
  {
   "cell_type": "code",
<<<<<<< HEAD
   "execution_count": 9,
=======
   "execution_count": 124,
>>>>>>> main
   "id": "f783574d",
   "metadata": {
    "scrolled": false
   },
   "outputs": [
    {
     "data": {
      "text/plain": [
       "Text(0.5, 1.0, 'Full genome')"
      ]
     },
<<<<<<< HEAD
     "execution_count": 9,
=======
     "execution_count": 124,
>>>>>>> main
     "metadata": {},
     "output_type": "execute_result"
    },
    {
     "data": {
<<<<<<< HEAD
      "image/png": "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\n",
=======
      "image/png": "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\n",
>>>>>>> main
      "text/plain": [
       "<Figure size 1152x576 with 4 Axes>"
      ]
     },
     "metadata": {
      "needs_background": "light"
     },
     "output_type": "display_data"
    }
   ],
   "source": [
    "fig, ax = plt.subplots(1,4,  sharey=True, figsize=(16,8))\n",
    "\n",
    "sns.pointplot(\n",
    "        ax=ax[0],\n",
<<<<<<< HEAD
    "        data=df_pop_long[df_pop_long['measure']==\"fullgenome\"], \n",
=======
    "        data=df_pi_res[df_pi_res['measure']==\"fullgenome\"], \n",
>>>>>>> main
    "        markers='o', \n",
    "        linestyles='--',\n",
    "        x=\"passage\", \n",
    "        y='pi', \n",
    "        hue ='genotype', \n",
    "        errorbar=\"se\",\n",
    "        hue_order=genotype_order, \n",
    "        errwidth=1.1, \n",
    "        capsize=0.1,\n",
    "        palette=our_color_palette,\n",
    "        order=passage_order, \n",
    "        dodge=0.4,\n",
    "    )\n",
    "\n",
    "for idx, passage in enumerate(passage_order): \n",
    "    sns.pointplot(\n",
    "        ax= ax[idx+1],\n",
<<<<<<< HEAD
    "        data=df_pop_long[(df_pop_long['measure']!=\"fullgenome\") & (df_pop_long['passage']!=passage)], \n",
=======
    "        data=df_pi_res[(df_pi_res['measure']!=\"fullgenome\") & (df_pi_res['passage']!=passage)], \n",
>>>>>>> main
    "        kind='point', \n",
    "        markers='o', \n",
    "        linestyles='',\n",
    "        x=\"measure\", \n",
    "        y='pi', \n",
    "        hue ='genotype',\n",
    "        errorbar=\"se\",\n",
    "        hue_order=genotype_order, \n",
    "        errwidth=1.1, \n",
    "        capsize=0.1,\n",
    "        palette=our_color_palette,\n",
    "        dodge=0.2,\n",
    "    )\n",
    "    ax[idx+1].set_title(passage, fontsize=20)\n",
    "    ax[idx+1].set_ylabel(\"\")\n",
    "    ax[idx+1].set_xlabel(\"\")\n",
    "    ax[idx+1].get_legend().remove()\n",
    "    \n",
    "ax[0].set_ylabel(\"nucleotide diversity\", fontsize=20)\n",
    "ax[0].set_title(\"Full genome\", fontsize=20)\n"
   ]
  },
  {
   "cell_type": "code",
<<<<<<< HEAD
   "execution_count": 10,
=======
   "execution_count": 125,
>>>>>>> main
   "id": "aa5172e4",
   "metadata": {},
   "outputs": [],
   "source": [
    "fig.savefig(\"./000__Manuscript_figures/Supplement_Figure_3A_nucleotide_diversity.pdf\")\n",
    "fig.savefig(\"./000__Manuscript_figures/Supplement_Figure_3A_nucleotide_diversity.svg\")"
   ]
  },
  {
   "cell_type": "markdown",
   "id": "f500fcd3",
   "metadata": {},
   "source": [
    "### mixed ANOVA for nulceotide diversity (full genome)"
   ]
  },
  {
   "cell_type": "code",
<<<<<<< HEAD
   "execution_count": 11,
=======
   "execution_count": 126,
>>>>>>> main
   "id": "72c96978",
   "metadata": {},
   "outputs": [
    {
     "data": {
      "text/plain": [
       "<AxesSubplot: xlabel='passage', ylabel='pi'>"
      ]
     },
<<<<<<< HEAD
     "execution_count": 11,
=======
     "execution_count": 126,
>>>>>>> main
     "metadata": {},
     "output_type": "execute_result"
    },
    {
     "data": {
<<<<<<< HEAD
      "image/png": "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\n",
=======
      "image/png": "iVBORw0KGgoAAAANSUhEUgAAAZwAAAEJCAYAAACg6pHJAAAAOXRFWHRTb2Z0d2FyZQBNYXRwbG90bGliIHZlcnNpb24zLjYuMywgaHR0cHM6Ly9tYXRwbG90bGliLm9yZy/P9b71AAAACXBIWXMAAAsTAAALEwEAmpwYAABBk0lEQVR4nO3dd3gcxf348ffu3qlYki1Zkjvu9riAjXGlg8EUm9AxhJ5QQ0JCQghJwAlJIAkk+fKjBBK6iQOEUGICBgIYjMHgAm64jHtvkixbVr273f39sSfpTjo1S3eSrM/refT4dmbLnE+6z07ZGcN1XYQQQoh4M1u7AEIIIToGCThCCCESQgKOEEKIhJCAI4QQIiEk4AghhEgIX2sXoA1LBsYDuwG7lcsihBDtgQX0BBYDFTUzJeDUbTwwv7ULIYQQ7dDJwGc1EyXg1G03QGFhCY4jzyoJIURDTNMgKysNwt+fNUnAqZsN4DiuBBwhhGiamN0QMmhACCFEQkjAEUIIkRDSpCaEEC3MdV0KC/MIBMqBI7FJ3iApKYWsrFwMw2j0URJwhBCihRUXH8QwDLp374NhHHkNSa7rcOBAPsXFB8nIyGz0cUfe/4QQQrSysrJiMjIyj8hgA2AYJhkZWZSVFTfpuCPzf0MIIVqR49hY1pHdgGRZPhynac/EH9n/I0IkihMAt5F/fIYFZlJ8yyNaXVP6Ntqjw3l/EnCEaAHJG+/ECBU2al/Xl0XFkMfiXCLRJEfIDcOaNat4++3Z3HXXL1u7KDFJwBGiBVQM+kvtLyynnJQNt1M++DEwU6rTDSuxhRMNOlJuGDZv3kRe3r7WLkadJOAI0RLqu+M1U8BKTVxZRJPVumGo62YBDvuG4R//eIF33plNp06dGD36OObP/4SXX36DJ598lGXLvsa2HYYOVdxxx09JS0vn0ku/xbnnnsdXXy1m7949nHHGFG677UcAzJ79Bq+99gqmadG1a1d+/OOfkZyczDPP/I2SkmJ+//vfYFkWmZlZ3HLL9wH43//e5eOPP+Kyy67giSceJTc3l127dpKUlMw999xH//4DCAaDdZanJcigASGEMJO8m4LKn8ogU3mzEJXX9Oa0hQu/4N13/8vTT7/Is8/OorS0BIBZs17Asnw8++wsZs58mZycXJ588vGq48rKynjiiWf429+e47XXXmXXrp189dViXnrpRR599O/MnPkyU6acwy9/+VO6devOjTfeyujRY/jlL3/NxRdfxpw5/yUUCgFekLrwwksAWLduLVdccTUzZ77CtGnf4ne/+1WjytNcUsMRQog4++KLzzn99DPJyMgA4OKLp/PVV4tZsGA+hw4Vs3jxQgBCoSCZmVlVx5188qkA5OZ2Iysri6KiIhYuXMDkyVPIyvL2mzr1WzzyyJ/ZvXtX1DWHDFH06tWLL774jKOO6kd+fh4TJkxi6dKvGDx4CKNHjwFg2rQL+L//e4iDBw80WJ7mkoAjhBBxZlkWrls944Bpeo1Ltu3wox/dyfHHnwhAaWkpgUCgar/k5OSq196oMG8yYatGq57rUlWTiXTRRdN55523OOqofpx//kVVI8usiBO4rovrupim1WB5mkua1IQQIs5OOOEk5s2bS3Gx96DkO+/MxjAMJk48njfeeJVgMIjjODz44P38/e/1N2FNnDiJuXM/oLCwMHyut+jSpQt9+hyFZVlRgef0089g3TrNJ5/MZdq0C6rS169fx4YN6wF46603OOaY0WRkZBxWeZpCajhCCBFnY8eO51vfupBbb/0OyckpDBgwkOTkFK6//gYef/wRvvOdq3AcmyFDhvKDH9xR77nGj5/E9OlX8qMf3YrjuGRmZvLggw9jmiZHHz2Kp556gl/84qf84Q9/xu/3c/rpZ7B//34yMzOrztG1azZPPfUEe/bsIiurKzNm/BbgsMrTFBJwhBAiztauXY1l+Zg1698AvPLKLAKBAMnJKdx5590xj3nttf/WuX3JJdO55JLptY7p3bsPr7/+dtV2WVkZS5d+zZ13/jxqv7S0NB566OFax9dXnpYgAUcIIeLsqKP6MmvWTN56643wpJ49+NnP7onrNRcu/IL77ruHadPOZ+TIo+N6rcYyIjuyRJT+wOaCgmJZ8VMcHruMlHU3UT70aXkOp71p5me3Z89WevToF4eCtS0136dpGmRnpwMMALbU3D+uNRyl1JXAvUAS8LDW+q818o8Fnga6AJ8Ct2qtQ0qpvsAsoBuggau01sVKqUzgn8BAIA+YrrXeo5TqCfwDyAXKwudZppQygD8B5wEOcJPW+vN4vmchhBCxxW2UmlKqN/AAcBIwGrhZKTWixm6zgNu11kMBA7gpnP4E8ITWehiwBJgRTr8fmK+1Ho4XqB4Jp/8eeE1rPRq4L3w8wCXAcGAEcCEwUyklzYhCCNEK4jks+kxgrtZ6v9a6BHgNuLQyUynVD0jVWn8ZTnoBuEwp5QdOCe9flR5+PQ2vhgPwMnBueP8bgKfC6QOAwoj9X9FaO1rrdcBW4ISWfJNCCCEaJ553+72A3RHbu4EJDeT3AXKAIq11qEZ61DHhprciIFdrvQtAKbUWr+/lgpr7xziXEEKIBIpnwIm1WILTiPz6jqv3nFrrYeF+of8ppYY1ogwNCneACdFkbsiieB3k5KRj+Dq1dnFEEzT3s9u3z8TnO/KfqzdNk9zcjEbvH8+AsxM4OWK7J7CrRn6PGPl5QGellKW1tmscV3nMjnBfTGegQCk1DZintS4ODxbYijewoK5rNJqMUhOHzS4jBcjPLwaraSsjilbWzM/OcRxCoSbd24JrYx38DOvAJxjB/bj+rtiZp2F3ORmauVT1HXfcxkUXXcapp54OwOOP/z9mz36dOXPm4vf7AbjggrMpLy+nZ8/e7Ny5na5ds0lN7UTPnr34wx/+XOf7zMs7VLUdMUotpniG4A+BM5RSuUqpTngd+O9VZmqttwLlSqkTw0nXAu9qrYPAfODyyPTw6znhbcL588P7XwfcDBAemNADWBve/yqllKWUGgwMBRbH480KIcRhc238Ox/Hv/tpzLL1GKECzLL1+Hc/jX/nY41fHK4OY8dO4JtvVlRtL1myiBEjjmHFimUA7NixndTUTrz//jxeeOEllBrO3XffywsvvFRnsDkccQs4WuudwD3Ax8Ay4CWt9SKl1Byl1LjwblcBDyul1gBpwKPh9NvwRrWtxqsl3RtOnwFMUkqtCu/z/XD6HcDZSqnlwPPAt7XWxXgDD1YBK4DZwA1a67I4vWUhhDgs1sHPsA4tpmZbigtYhxZjHfysWecfO3YcK1cuByAvb1/VlDcLF34BwPLlSxk3bmKzrtEYcR0irLV+CXipRtrUiNfLiR5IUJm+FTgtRvp+4PwY6buAs2Oku8BPwz+ihQXsECGncc0GPtMkyZIR6ULEYh34BKjd6WxU5c/Dzjz1sM+v1HB27txBRUUFixZ9yYQJk5gwYRK//OVd3HbbD1m+fCknnXT4528s+QYQh+2m2a9QUFbSqH2zU9OYefHVcS6REO2TEdzfQH5Bs85vWRYjRx7N2rVrWLToCy6+eDq9evWmvLycoqIivvlmBT/84Z3NukZjSMARh+3pC66oVcMpCwa57s1ZzLzoalLDnZHg1XCEELG5/q4YobqDiuvPbvY1xo6dwMqVy1i9ejUzZhwDwLhxE/jss3l06dKF9PT4j8iVbwFx2JIsH538SVE/lUEm1e+PSpfmNCHqZmeeBhCzD8fLb35z19ix43jvvTkMGjQIn8/7exw/fiKvvDIrIf03IAFHCCFand3lZOyM8TH7cOyM8d7Q6GYaOHAwRUUHGT9+UlXa2LHj2bp1CxMmTKrnyJYjt51CCNHaDJNg7x/gHPwM68A8jGABrj8bO/PUFnkOp9Jbb70ftZ2ens68eQtr7ff440/VSmsJEnCEEKItMCwvwLRA81lbJQGnIwg6YDfyqWfLBL+0tAohWp4EnA4g6YHFGAcDjdrX7ZJE4L7EdCAKIToWCTgdQOCe8dE1nAqb5PsWUXHfBEi2one2pHYjhIgPCTgdgb+OZrJkC1LkV0AIkRhyOyuEECIhJOAIIcQR7uuvl/CDH9xctV1aWsItt3yHxx57GIBXX32Jq666lGuumc7111/JG2/8Oy7lkPYUIYRoC2wXc8lerC/3YhyowM1Mxp7UHWd8dzBjrSV5eEpLS7nzzts59tjj+N73bufZZ//O8uVLeeyxv9O1azaFhYX88pd3UlR0kOuvv7HFrgtSwxFCiNZnu/heXIP/lfWYW4owDlRgbinC/8p6fDPXgN0yi0CWlZVx110/4rjjxvO9791OeXk5L7/8D37xi1/Rtas3X1tWVhY/+9m9/POfL1JeXt4i160kAUcIIVqZuWQv1oqC2OvhrCjAXLK32deoqCjnZz+7g02bNnL55VcCsHnzRlJSUunZs1fUvgMGDCQpyc/WrVuafd1IEnCEEKKVWV96AaXO9XAWNj/grFmzmrFjx3PGGVP44x/v985vGNh27NVEQ6FQs69ZkwQcIYRoZcaBivrzC+vPb4yRI4/h+utv5Ac/+DGbNm3kP/95jf79BxIKhdi2bUvUvps2bcRxXPr169/s60aSgCOEEK3MzUyuPz+r/vzG8IeXDklJSWHGjN/yxBOPsXv3Lq699rv84Q+/o7DQWwSusHA/Dz30AFdddS0pKSnNvm4kGaUmhBCtzJ7UHXNLES7RzWqV2/bE7i16vZEjj+byy6/kvvt+yVNPzSQjI5077rgNx3EwDIMLLriESy6Z3qLXBAk4QgjR6pzx3bFX78daEb3qpwHYo7K9odHNcNxx4zjuuHFRaTfccAs33HALABdeeCkXXnhps67RGBJwhBCitZkGoWuH4yzZi7VwL0ZhBW5WMvbEln8OpzVJwBFCiLbAMnAm9sCZ2KO1SxI3MmhACCFEQkjAEUIIkRAScIQQQiSE9OG0FU4A3NhP/MZkWGAmxa88Qojmc5o4B9oRMjigLhJw2ojkjXdihAobvb/ry6JiyGNxLJEQormMPSWNn3jTMnB7pce3QK1MAk4bUTHoL7VrOE45KRtup3zwY2DWeOLXqLE0tBCizXF7pNVOdFyM3SW4PdOiajS24/DRxrV8sGEt+aUl5HRKY8rgYZwxYCiW2fzej9LSUp588jEWLfqClJRU0tLS+O53b2bcuAk88MB9fPXVYjp37hJ1zLPP/gPLarnvGgk4bUV9zWNmClipiSuLEKJl1NdEZhpV+bbj8OCCj1iwfXNVdl5pMWvy97Jk5zbuPunMZgUd13W5++4fM2TIUGbN+jd+v59169Zy11138OtfexN53njjrUyd+q3DvkZjyKABIYRoZR9tXhcVbCIt2L6ZuZvXNev8S5d+xZ49e7j99p9Uzak2dOgwrrvuBmbOfLZZ524KqeEIIUQr+2DD2vrzN2qmDBp22Odfu3Y1w4YNxzCia1zHHjuGv/3tcbp1684zz/yNV199uSrvmGNGc+eddx/2NWORgCOEEK0sv7Sk3vy8kuJmXiH2ujfBYPWaN9KkJoQQHUBOpxiDCyLkpjVv9NrIkUezdu3qWouqffPNCoYPH9GsczeFBJyOxHYxF+7B/7dvAPD/7RvMhXua/qyAOCIE7BClwUCjfgJ2y6/+KKpNGVx/c9mUQapZ5x89egwDBgzikUf+UhV01q5dw4svPst1193QrHM3hTSpdRS2i+/FNVHTn5tbD2FuPYS9ej+ha4eDdWQ/dCai3TT7FQrK6m/KqZSdmsbMi6+Oc4k6rjMGDGXJzm0xBw6ccNQAJg8Y2uxr/P73D/HUU09wzTXTsSyLjIzOzJjxO447bhzvvvt2rT4cgF//+n4GDBjY7GtXimvAUUpdCdwLJAEPa63/WiP/WOBpoAvwKXCr1jqklOoLzAK6ARq4SmtdrJTKBP4JDATygOla6z1KqZ7A80APwAF+qrWeq5TyAwXApojLjtVaN+GR/iODuWQv1oqCmAs8WSsKcJbsPaJnqRW1PX3BFYQcp2q7LBjkujdnMfOiq0kNj2Sq5GuB50BE3SzT5O6TzmTu5nV8sFGTV1JMblo6UwYpJrfQczjJySncfvtPuP32n9TKu+ee+5p9/saIW8BRSvUGHgDGAhXAAqXUx1rr1RG7zQJu1Fp/qZR6FrgJeBJ4AnhCa/2KUmoGMAO4G7gfmK+1nqaUugZ4BLgc+BPwttb6caWUAuaFrz8K+EJrfXa83md7YX25F4gONpHb1kIJOB1NkuUjKcYzfal+P538Mm1SolmmyZRBw5o1Gq2ti+dty5nAXK31fq11CfAaULWknFKqH5Cqtf4ynPQCcFm4VnJKeP+q9PDraXg1HICXgXPD+78Rkb4BSAHSgfFArlLqy/DPqS3+LtsJ40BF/fmF9ecLIURzxTPg9AJ2R2zvBvo0Ij8HKNJah2IcV3VMOL8IyNVav6G1rpyI7KfAUq31QbwWo/8AxwPfA/6llMppkXfXzriZyfXvUBby5n0SQog4iWcfTqweaKcR+fUdV+85lVJ3ALcApwJorf8esd9SpdRC4ERgdp2lriE7u/Um03NDFsXrICcnHcPXqVnnCkzpR/nTK+vMNypskv68lKTzB5F8/iAM/+HNn1QSCACQk5NBWlLHbpZpyc8vEeSzq9bcz27fPhPLMmo9aAmA42IDPp/ZrmeHdl0X0zTJzc1o9DHxDDg7gZMjtnsCu2rk94iRnwd0VkpZ4c79yOMqj9mhlPIBnfEGBaCUegivye0UrfWOcNo1wAKt9cbw8QYQbMqbKCgoxmmtYcN2GSlAfn4xWM0c5zCsC75R2VGj1Cq5qT6MshDYLoE3N1C+YCeh6UNwB3aJcaL6lQa9L638/EOUdvR+gJb8/BJAPrsIzfzsTNPHwYMHSEvrXDvoOC4GEAo57TbguK5LSUkRpukjL+9QVbppGvXepMcz4HwI3KeUygVKgEuAmysztdZblVLlSqkTtdafA9cC72qtg0qp+XiDAV6qTA8fNie8/ftw/vzw/ncApwMnaq0PRJRhNF5z2m3hwQRjgPnxesNtmmkQunY4zpK9WF/swdx6CKdfBvbxPXDGdsNasBvrnS0YAQdzbxlJj60gePNInOFdW7vkQrQ7WVm5FBbmUVx8oHamCxyqgL3Jsdts2gmfL4msrNymHROnsqC13qmUugf4GG9Y9DNa60VKqTnAr7TWS4CrgKeVUhnAUuDR8OG3ATOVUvcC24Bvh9NnAC8opVYBB4CrlFIG8Gu8/pxPvLgCwFTgt8BzSqlv8D7ma7XW1eG4o7EMnIk9cEbnkPyLLwjeejSkeL8C9im9sY/OxvfaBqw1hTg9O+EMyWzd8grRTlmWj5ycnrEzy0MkP/QFFX84vurvr6OI67vVWr+EV0uJTJsa8Xo5MCHGcVuB02Kk7wfOj3GprHqKcWk9eSJS1xRCN43EWZaP2zUFfDXGlJQEIc0f+1ghhGiAPM0lohkGzphc3H7RHYHmynyS7l+MuWC3TIUjhDgsEnBEw8pC+F7fiFFu4//3Bvx/XYGxt7S1SyWEaGck4IiGWQb2+O644d8Wc1MR/j99jfW/bRBy6j9WCOGRyXNl8k7RCEkW9rT+OMfm4PvXesztxRi2i+/drZhL8whdPgS3f+fWLqUQbZdMngtIDUc0gds7neAdxxK6YCBukverY+4pxf/ocnyvb4BymcJeiFgiJ8+NVDl5rrlkb2sUK+Ek4IimMQ3s03oTuHsszjBvcKDhgvXZbsw1hQ0cLETH1JjJczsCCTji8HRNIXjzSIJXK9w0H86wLJxjO+Q0dULUzfXqNDJ5rkf6cMThMwycsd0IqCywHYicwsNxMZfl4YzOiU4XoiMoCWLN3YGRV0bouyNwM5PrDTpuVgOT6x4hJOCI5kv3YzsOH21cy/vr1wAwY/Z/OG9dKmd81g93+hDcbm1/8kohmq3Cxpq3E+vjHRjl3hxs9oYD2JO6Y24pirkAogHYE7u3QmETTwKOaDbbcXjwsw+jlsfVwQPoAQdYWFjMPX8qgrP6YZ/ep/bsBUIcCYKONx/hh9sxiqvnB3ZTfRgHAzjju2Ov3l9r8lwDsEdl44yXgCNEo3y0eV3Mtdhx4bOsQ3x44ADnzKF6CHU/GUIt2ijXxjr4GVbhXACStv0RO2sydpeTwYhxs2S7mIv34nt/W1STmZtkevMTnt4bOnnTQdU5ee747u121uimkoAjmu2DDWtjZ4T/ht7rdoBzCjIxd5fif2Q59km9sKf263ATF4o2zrXx73wc69DiqiSzfCPm7o2YxcsI9v4BGNXrRBl7SvA9twYzr6z6FJaBfUJP7ClHQUaNJR7qmTy3o+hY71bERX5p/SuFbu0SomJoZ5LXFWG44Ju/C2tlAcErh+LKjNSijbAOfoZ1aHHMfhbr0GKcg59hZ1avUu9mpWCEnz1zDXDGdyd0dl/ompLQcrcnEnBEs+V0SiOvtLjO/OJQgBt7reLaoYrJH1dgldhe80MHeLJatFGuC04pRrDA+wkV4Mv3FgKu81mZDUuwx1UHHJItQmf1xdxwEPvcfrjdZWBMQyTgiGabMngYa/Lrf3BtT/EhHipewuuTsrnhQG+OS8k9rBVFhWgUJ4gR2o8RLMD1dcFN7l2VZZRvJ2nrbzCc8kadys3LgSXjMbb3xeh6MOr31jmxJ85JvVq8+EcqCTii2c4YMJQlO7fFHDhwXM8+pCcl8+lWb5XvjQcLeCQ9wN+mjSdqZZ3yEL5/b8A+px9ubmpiCi7at2ABZtnGqhpKVW0lWIBhH6zaLdT1HELdr67adn2dGxVs3MJMWDIONg+qSvO9s4XgD0ZVP1smz5g1iQQc0WyWaXL3SWcyd/M63tuwBp2/D5XTjXMGD2fygKFYpsklI47lhWULWbp7B1ePHo/fH/2rZ83ZivV1HubKAuyz+nqjeywZQt0h2WW1A0iogFDWWbipA6t2s0q+wb/76QZPZwSjhyJjZeCkKlx/Fq4vG9fv/RjlW/Dnv4l7KB2+Ggfrh1A1RTrg9nCxzzyqxd5mRyQBR7QIyzSZMmgYJ/YdyPRXn+d3k6fRyV89SmdQ1xx+N3kaq/btZnhuj6hjl+7YxpL8lVzt60Jm0IfvnS3VQ6j7ZtS8lGjP3BBgRdUMrMKPMYu/wgjuxwjmYzix11pyOg3Djgg4rj+79unNtKoA4vqzvYCS0i96J8Mk0H9GjLKNxFoMxvJscKpHo9GlEOfkQoKnXQ2WVfu4VhCwQ4Scxi0N4jNNkqy28VXfNkohOoyR3aLXeXdcl+dWLGJzWgH/G1PAZbu6cunurqTuKsH//5Z5zzKc2w+S28YfuqiH64Jd7AWNcP+JEcwP11C8YELoABVDHgNfZtVhRmAnVvGyBk9fs6biJPcl2OOGqACDeZgjxByXpEdXYhR0q05LO4Q7aTv2CcOws86L/RxOK7lp9isUlNU/OrRSdmoaMy++uuEdE0ACjmhVuw8VsT88rLrMDfFiz338t3sh12zP5tz8LHzzdmKtyCd42WDc4V1bubQdnFNR1cSFU47TeXxUdtLmezArtjV4Gq8jP7Nq2/V7k766vsyIJq6uuP6c8Lb3GqtGbdfXGTvr9Ga/LcCbBf2UXvje3ISb7sc+owe+nF8RGP53sNpen+LTF1xRq4ZTFgxy3ZuzmHnR1aT6q3tIfWbbCZQScESr6t25C09f8G3eXLOCN9cspzwUotAM8mi/PbzeYz/f3dGNkwszSHpqFaHzB3jT44i4Mg8txnIPRPShhGss9qGqfVwrnYoaAcf1dYY65qd0zZRwAOlKzUnq7czTsTPPANMf++CWFnIwv9iD2zcDt191ELNP6AmOi318T/AF8K9ru6vZJlk+kuqo9Kf6/VHN2W2JBBzR6jr5k7hq1DimDhnBKyu/4r0Na7Fdh53JAX43aAfDilO4ZXdPhhxTu81eNELVMyf51f0k4SYvJ7k3ds4FUbsn7XoKv2XXe0rDLganPKoJy0k7GqzO4RqKF1xcfw6uvyuYneoe0WUmaKZk28X8ah++97ZiFFbgDO5C8LZjqsvlM7FPC9/Q1P/2xWGSgCPajKzUTnxvwsmcP2wUs5YvYv62TQCsTS9n64ldGJJTo2kjYFPnbV5H4gQBO+rL3yjfim/fK9X9J3UNA+40vFbAca3OQGHUtuvvGjWiy+uwr1FTyT6vbX5Puy7m8nysd7di7quehsbYXISRVyYzmSeQBJyOIOh469VUqrCj/41kmeBv3Tbf3p27cPfJU7ioYB8vLF3IgfIyTj8juvnG2V9OysPLsE/r7d2VtqVZC5o6AWS953LALqo1RLjmMyfBbldgZ58XeSBWycoGT2+EimqlBXtcQyCpU1WAwWybzTMNcl0MfcAb9bijeiYM1wBnXDdCZ/eDbJmGJpEk4HQASQ8sxjgYqJWefN+iWmlulyQC901MRLEaNDS7Gw+ccR6HAhVYER2fruPwi7ffZFimjyvfLSO9cgj1UW1gCHUTJ4D0njnZXzWay844LmoEl1XwX/x5/27wsjVHcLm+bFwM8GVFDxGuqqGE+1Os9FrnctKPxWmjfQCNZWwpwvf2ZsyN0QHVHpXtTUPTIy0xBal5swd13/C1gZu9eJOA0wEE7hlf+5e+Lm3sYUvDMOicHH0X+vm2zayyiljVA97NOcAVe3K48P8dwn/KUdjntO4Q6oYmgGTrH8FKrq6d1HjmxPVn46RnVm/76h6ZF/XMSXKNwRRWOhXDXogObh2IueVQVLBxVCahqf0T/lxXXTd7UPuGry3d7MWLBJyOwH9k3TkFHJuMpGQOBSoo9Tk812cfs7vt59pvDnLWijycy4biDstq3MlcF9wgOBXgVmA4FeCUYzgVuGYSburgqN2t/P94zVBOBYZb4R3nVHh9JE4FRtCbU67OCSDL1tRbHCOYH128lL7YXU6OUUNp4JkTwwA6ULBx3Kg1ZewTe2LN24GbmUxoWn/cwZmtUqz2fLMXDxJwRPvghv9oDZPJA4cysU8/Xl+5gNnrN1BhOxQkhXi4/25eKyvghn/lM6m3CZPzMFJKsTPG42SMrTqVUb6VpO1/CgeLcgzcmJd0UgYRGPCbqDRf4UcYocKY+zfp7VhdwiO4op+KdyKepAdwU/oR7HVLs693xCos9xY/OxggeMvR1el+k8CPjoUuSa0739kRdrPXXBJw2qKW7HRONNdbH4TgfgzHjq4BuBWAgdM5utnAynsTM7CrOgCEaxveceE0N0DFgAeqpilJS0rmO30Ludj3BS/u7st7BT1wMNieGuC+wTsYUZzKjI8PkXvCF7j+3KiAAyZG6EDD7yXGyC7XTK5Ve3GNJDCTcc0UjNBBDDd2EwqAkzKAQL9fJe6ZkyPVoQDWh9uxPt+NYXs3DMb6A9HrK2UmaLi1aDQJOG1NUzudD+saDrgB7wveTI0ahWQE9mGUra9qIopsOqpOK8dJH4Xd9Zzqc4YOkLz+Rzg2wAmkbLqb5BjPcrhWFypqBpyS5ZhlGxout1PjqUIzmZykAD/pt4FLuu3kuV39+fyg99R6kT9I5pivw8dFBw7X6oST3C8cJJK9pikzGdfwXlemub7ayycE+9wJhoFrpoCR7D1DEnETYB2Yh3/30zH7cAzAzjpTgk1zlIWwPt6BNW8nRqC6qcrNTMKosOuoq4q2QgJOG9PgqoN5/8btNCw6ALiBGkNivb4Gs2RNRD9DuOZQGUDCAn3uxMkYU7Vtlq5p1Ay8tb6MjSQMbBrsN3BrP4ruGskRr/3el7iZEg4AXs3BS4t+DsfpNIJg92vATKankcw9Q1JYXVjBc99s4aLcfthHX4BtJIOViuu6HFizhyzVA/zZBAY+0OB7jFn85J715ttdTsYsXhZ1wwDhYJMx3quliqYL2Fjzd2HN3YFRGqpKdtN82FP6erMESNNVmycBp42xDnwC1N3p7C94GwrernWc3fUcMKo/TrN8O1bpqoYvWCMAuI146tvFwHBrdISaKdhpx2A73vGhLqcSSkqJqkVU1iBqCvb5IUEML68JTYZu6gDs1AFRacMy4MGjwjWoiLb7hUvX8NA387lwfg8uOfsk0vrHaV42wyTY+wc4Bz/zZkEu34CTMhg76/T20STaBhk7i/H//RuMQ8GqNDfFwj69D/YpvSBFvsbaC/mk2hgjuP/wDnQqIGIKctdMrq4tGJVf+pG1BS8AuL7o6WKc1MEEet1W3cxUub8R+dpfuyPWMAn2vZtgMAA8T6jH1YQa+yyH1bLPRBg1ymbbNjNXLCLgc3k1fTfvznudy5cMZuq0E0hKjUM7v2FhZ56KnTGBlHU3Eeh7d5ucALK9cHNTq0aguX4T+6Re2Gf0gTRpmmxv6g04SqmrtdazlFI/iZWvtf6/+BSr43L9XTFCBXXmO/4c7K7TovsewsEkUqjnjYR63dz0AvhzcLrkNP24NswBzhw+gn/r5RSbNod8Ds9UrGP2q5u5evAYTjt+dNSDpaIVuS7GpiLcQRFNtkkWoXP6Ye4oJjTlKOgigwHaq4ZqOEPC/x6D142QjTet3YE4lqlDszNPwyxbX3enc85F2JmnNnwiabqp4rcsLpkwnrOOOZrXPvqctwo3ETRd8nxBHt6yiDe3rOK6SScwbuCAWrWjVhfrSfX6tNen1V0XY114GprtxQS+f0zUszPOpB603bmbRWPVG3C01r8Ov3wQ+AcwBu977zPgmoZOrpS6ErgXSAIe1lr/tUb+scDTQBfgU+BWrXVIKdUXmAV0AzRwlda6WCmVCfwTGAjkAdO11nuUUj2B54EeeDe0P9Vaz1VKGcCfgPPC6TdprT9vqNytSTqd4ycjNZXvnHcm5+3Zz8sffMoHxl5cA7ZQwm++/IAz1/TljvPObe1iRqnvSfVY2uPT6saWIi/QbDhYleZ7ZyvBH3Zp3WdoRItrbB/O83iB4Xm8775bgGeBKXUdoJTqDTwAjMVbJWOBUupjrfXqiN1mATdqrb9USj0L3AQ8CTwBPKG1fkUpNQOYAdwN3A/M11pPU0pdAzwCXI4XVN7WWj+ulFLAvPD1LwKGAyOAwcAcpdQwrXWItko6neMut0dXfnjNhVy4eBMzv17IwnRvCpSxtL0F3mI+qV5hk3zfIirum1B7Gp929LS6sasEa84WrFXR/ZbOUG8aGgk2R57GBpxOWuunIrYfU0rd1MAxZwJztdb7AZRSrwGXAr8Nb/cDUrXWX4b3fwH4jVLqGeAU4MKI9Hl4AWdaOA/gZeCvSik/8AbwcTh9A5ACpIf3f0Vr7QDrlFJbgRPwalNtl3Q6J0Tf8QOZcUxf1vx3KR8d2MaJl4+Lyt9UWEBmSgpdUxM00WMs9T2pnmy1zxFaeWX43tuKuTQPI+LBGadfhjcNTeTDm+KI0tjf1k1KqRO01gsAlFJHA5sbOKYXsDtiezcwoYH8PkAOUBRRC6lMjzom3PRWBORqrd+IOM9PgaVa64NKqbqu0WjZ2bVn000UN2RRvA5yctIxfO1jzY6SgNf8k5OTQVpS+5hxOPe2yZwcsDEi1taxHYcf/usldrllfHvsOK4eO5705KZ1Vsfr83PLQhzC+z82Ulsu4CTis3Mdl+L7F+MWVD+Ma/ZJJ/kyhe+4bm2mD03+9uKjsb+tvfGaqZYDIby+nD1KqRUAWutRMY6J9ZvjNCK/vuPqPadS6g685r5TG7N/YxQUFOM4rfT8sl1GCpCfXwwNrMDYVpQGvV/6/PxDlLbjKe7nzfuaTSFvSeXnF33J68uWcfkxxzF1yAj8ViNneojX51ceIhnv/7glaziJ+uzM03rjf30jbnYKoXP74YzJpcw0IL+44YMTRf72DotpGvXepDf2t/Wuw7j2TiCyh7snsKtGfo8Y+XlAZ6WUpbW2axxXecwOpZQP6AwUACilHiLc5Ka13tHANYSo14mbk8jfm8u/ehRQ6nMoCpTz9FcLeEuv5JpR4zml/2DMNnI33maVh7A+2YkzNBN3YPUwZ2dSD4JJFs7Y3HbV5ySar1EBR2s97zDO/SFwn1IqFygBLgGqHgzRWm9VSpUrpU4Mjxy7FnhXax1USs3HGwzwUmV6+LA54e3fh/Pnh/e/AzgdOFFrfSCiDHOA7yqlXgYGAEOB6OFfQsTgu3Ykl32ZzdQ563klay9vdSskaLrsLT7EnxfM5Y01y7l+zETG9OjTZpqB2oyAjfX5bqyPtmOUhHDWHSB4+6jqQQA+E2dC99Yto2gVcetx1FrvVErdg9eZnwQ8o7VepJSaA/xKa70EuAp4WimVASwFHg0ffhswUyl1L7AN+HY4fQbwglJqFd6zQFeFhz7/GigCPvEGqQEwFXgNmAisCKfdoLWuXtRciLqYBs4JPUkd2ZWb3tjIhd/s5oXeecztehDX8AYU/GruHO477VzG9e7b2qVtG2wHc+FefP/bFjWU29hVAgXlkCMDXzq6uA5x0Vq/hFdLiUybGvF6OdEDCSrTtwKnxUjfD5wf41L1rbb10/CPEE3XJZnQd0aQvaIbd7++kUv3FPFcn70s7lJCf9IY07NJY1COTI6LuTQP37tbMSIGA7g+IzwNzVGQLtPQCJlLTYhGcUblEBiSyYC3N/P7BSkszSjBOLtf1JQ4juvy2qplnDV4GJkpHeNu3lhbiO+tTZi7q5fKdk1wJvYgdFZfWZNGRJGAI0RjpfoIXTYEe2w3jlmWj31C9Oqc8zdv4MXli/j3qqVcNHwUFw4dSj2LQB8RjH2lVcHGNcAZk0vonH6Q2zECrmgaCThCNJE7sAv2wBrrAdkub3+6CPxQFgry0sqvmLNuFdd068kZgx18zVwzr80IOlEPojon9MT9ZCdO7zTsc/vj9mrFh2RFmydjEoVoAdanO/njyt5cuzOXFMf7szpQUc5j2wfzvTmzmb91I67bftejNHaX4Ht2Nf6nvoHI9+EzCfx0DKEbRkqwEQ2SGo4QLcBN9ZHqT+Ka3bmcl5fFrF55vNPtADYuu4sP8eBnH/JG11y+M2Yio3r0bu3iNl5+Gb73tmF+va9qGhpj3QFcFTFOp5MMCBCNIzUcIVqAM6kHgZ+PxT46m6yQj9u39eTZlYM47WD1tCjr9+fx5OLPsJ12MNH+wQp8/15P0h++wvqqOtg43TtVLYYmRFNJDUeIlpKZTOi7w3FWFOB7fQO9D8E96/tzaacynlH7WWYd5LpjJ7b5xd6sOVtJ+nwfRrA6MLpdUwid0xdnbDcJOOKwScARoiUZBs7oHAJDM/HNXo+1MB9VmspDS3uxcnBvhvbpF7X7l9u3sHLfLqaPHEOXVh5KbWzz5o7zfboTw/FGObgZfkJn9cWZ1AN8bTtQirZPAo4Q8ZDqI3RZf6zc53AWXoaRX8GwaaNxI6bBsR2H55d+yc5DB/lgo+bSEaM5f9gxpPhap0/E7Vnd6e928mFP7oN9ci9IOlKG2InWJgFHiDgyeu0m+JORmBvLcft3jsrbsWk3hyq8J/NLgwFeXL6Yt9et4spR45gyUMW36c12MNcU4hydXZ0WHu4cmtyHwOT+0IJLHwgBMmhAiPjzmzgjs6PTykMMmbWDFzYO5/LeI0i2vC/3/WWlPL7wU77/zr9ZsH1zyw+ldlzMr/fhf/Br/M+uxlhXWGsX+6y+EmxEXEjAEaIVWO9uxTgYIGNvgBtnw3PGRM4ZMKxqyYMdRQf4/af/467/zUbn723+BV0Xc1UB/r8sxf8PjZnnzWHre3db888tRCNJwBGiFdin9cEe0bVqu9uXhfzk/RT+NmQKJxw1oCp9bf5e9pU0b2EyY8MB/I+uwP/MasxdJdVlGJND6NtDmnVuIZpC6s1CtIasZEI3jsBZlo/vzY0Yh4IYRQEGvLSDXx3Th28mD+f5dV8TsG1O7Bs9Z5vtNu45HmPbIXxztmBGLREF9oiu2FP74fZuveXTRcckAUeI1mIYOGNyCahMfG9txlroNZ1ZKwsYtf4AD00bT9G4rKiVRW3H4acf/5cxvV0uDlSQXtcS07aD/7nVUevSOIM6E5raP2r1TSESSZrUhGhtnfyErhhK4LZjcHK8+aWNchvfqv1kJEfPNz138zrWF+bzas8CbnjvVV5fvYyKUKj2OS3TWx4AcPqkE7jlaILfHyXBRrQqqeEI0Ua4QzIJ3nUc1gfbsT7bRfDSwdXLMgPYLsamg6Q7FsWmTUkwwPNLF/LfNSu5NtSP0447GnNIdb+QM7E7wc5JOCO7Rp9HiFYiAUeItiTJwp7WH3tyn+ihybaL/5FlTNse4FRrMK/0yOfN7vsJmC755aX8H2t4fcEWrks9hfG9+2EYBlhm9HM2QrQyaVIToi2q8RyMOW8H5nZvtFq6bXHjzu68sHIw5+RlYoYf1dnqK+O3897n5x+8xcHyskSXWIgGScARoh3wzd9VKy036OfOrb34+6qBHF9S3TdTGgrW6vsRoi2QgCNEu1B3H0z/8hR+s3sgD045n+E53bn+2IlRI9sc16WwrDQRhRSiXtKHIw5bwA4RqrG2S1kwGPVvJZ9pkmTJr9vhcjOTMQ5U1J2flczIbj156KwLauXN27KBxxd+ygXDjuGSEaNJS0qOZ1GFqJN8A4jDdtPsVygoK4mZd92bs6K2s1PTmHnx1Yko1hHJntQdc0sRLtF1ncpte2J3AG+wQISgbTNr+WIq7BCvrlrKu+tXc/nRxzFt6Ej8lswCLRJLAo44bE9fcEWtGk5dfG180bG2zhnfHXv1fqwVBVHpBmCPysYZ3z3mcS4uZw8ezmurl1EaDHAoUMEzX3/BW3ol14wez6n9h0Q1vwkRTxJwxGFLsnyyVEqimAaha4fjLNmL9cUezK2HcPplYB/fwws2dazCmWT5mH70GM4ZMpx/ffM176xbRchx2FdSzF8WfMwba1ZwzahxHCgv4/0NawGY8dE7nD1kOGcMGNrmVycV7YsEHCHaC8vAmdgDZ3QOyb/4guCtR0NdU9vU0Dk5hZvGnsD56hhmrVjMJ5vX4wKbCwv47bz3o/bVBfvQBftYsnMbd590pgQd0WIk4AjRgXRPz+DOEyZz0fDRzFy2kK92ba9z3wXbN/PIl58wpmcfUnz+8I+PZJ+fVJ+PFJ+fjORkfKZUc0XjSMARogMamJXNb06fym1vv8q2g7UXYas0d/N65m5eX2f+bydP5bieR1Vtf7J5Pa+uWhoRnLzAlOrzh1/7SPX5UTndGd2jd9VxQdtmU2EBKeH9K/9NsqxaAyFE+yUBR4gOrObw9aZKsfxR2/vLS+sNYJUuHDYqKuDsLyvlzvffrLWfAaSEg1Wqz0+vjC78ZvLUqH1e/eZriioqagWrmv/2zcySofmtTP73hejAcjqlkVda9wJvR3XO5IpjxlIeClIeClER/rcsFKQiFCK7U1rU/imWj25p6ZSHQpSHggRsO+Z5U3zRXz1lodiBzw3nlYWCHKAs5lDuuZvXs6PoQP1vFHjyvOkc1SWravufKxbzlv6G1HBzYbLPR4pVGaRM0kqG4i9ayAn9hkQFx6KKcr7Zt7uqtpYcDmrVtTh/Qkf+2Y7DR5vX8f76NUDbHvQhAUeIDmzK4GGsqWcJ64tHjObU/oMbfb6pQ0cydejIqm3bcaiwQ1UBqzzo/du1U6eo47okp3DVqHHefsEg5XaoKmhVbleEQnRPz6h1zcbW0lJ80bWx4kCAkvBPbN1hv6ZXl+yogLPtwH5+/+n/6r1WsuVjVI9e/Pq0c6PS//z5RziuG1Vrq+wXi6yRje11VFTfWFkwiGkYtZoYbcfhwc8+ZMH2zVVpbXnQhwQcITqwMwYMZcnObVFfWJVOOGoAkwcMbdb5LdOkk5lEJ39SvftlpXbi28eMPaxr/OWciygLBqgIRQS2GP9mJEfPsNAtLYPhOd2ramvV+wdxI/arWRsrj7X+UA0VdgjHcWulf7F9CxV2w8e/dvl3owLOE4vm8/GW9ZiGQbJVHZgCtl3nw9cLtm9m7uZ1TBk0rMHrJYoEHCE6MMs0ufukM5m7eR3vbViDzt+HyunGOYOHM7kNNsnEktMpDUhrcL+aLho+iouGj6qV7rougUAxrv4hB/s9RHpq56j8vplZ3D7xlKgA5TU3etuVAWxAVvTSEI7rNirYGHg1pEiVTY6O61Y1MTbGBxu1BBwhRNthmSZTBg3jxL4Dmf7q8/xu8rQGayRHMsMwvL4Yf5CU9HSwateMzh48vMnnNQ2D2d++iYpw82BZRL9Y5OuAbdcamTc8tzumYdSqxe0uLsJxa9ekKuWV1N0/1xok4AghRIJENjFmNbx7lUtGHBsz/a73/1NvH1xuWnrTChhncQ04SqkrgXuBJOBhrfVfa+QfCzwNdAE+BW7VWoeUUn2BWUA3QANXaa2LlVKZwD+BgUAeMF1rvSfifFOAn2utzwhv+4ECYFPEZcdqrWMPnRFCiHakoUEfUwapBJamYXFroFVK9QYeAE4CRgM3K6VG1NhtFnC71nooXtPlTeH0J4AntNbDgCXAjHD6/cB8rfVwvED1SPhaplLqTuAVIHLc5CjgC631sRE/EmyEEEeEMwYM5YSjBsTMa4lBHy0tnj2CZwJztdb7tdYlwGvApZWZSql+QKrW+stw0gvAZeFaySnh/avSw6+n4dVwAF4Gzg3vPzz8UxmwKo0HcpVSX4Z/Tm3B9yeEEK2qctDHjyadisrpBoDK6caPJp3a5oZEQ3yb1HoBuyO2dwMTGsjvA+QARVrrUI30qGPCTW9FQK7WehVwo1LqtBplcIH/AL8DjgXeVUodrbXOb+ybyM5uvTZQN2RRvA5yctIxfJ0aPkC0KfH6/NyyEIeAnJwMjNSW+xOufB4lJyeDtKSOO2gA2t/f3pXdx3PBcaOZ/MSjPDn9ijb7+cUz4MR61NZpRH59xzV0ziha679HbC5VSi0ETgRm13VMTQUFxTHH07c4JwBujdY+p5wUIH9fPpg11qg3LDDb5i+VCLPLvM8vvxisFmzJLQ+RDOTnH2r0bNGNURr0Ak5+/iFKO/AoNSB+n10ctYXPzzSNem/S4xlwdgInR2z3BHbVyO8RIz8P6KyUssL9LZHHVR6zQynlAzrjDQqISSl1DbBAa70xnGQAzZs8Kk6SN96JEYo9B1XKhttrpbm+LCqGPBbvYgkhRIuJZ8D5ELhPKZULlACXADdXZmqttyqlypVSJ2qtPweuBd7VWgeVUvOBy4GXKtPDh80Jb/8+nD9fa11fABkNHA/cppRSwBhgfku+yZZSMegvtWs49TFkSnghRPsStx4lrfVO4B7gY2AZ8JLWepFSao5Salx4t6uAh5VSa/AeFX40nH4b3qi21Xi1pHvD6TOASUqpVeF9vt9AMX4LdFNKfYM3COFarfWhFnmDLc1MAiu18T/SnCaEaGfi+hyO1volvFpKZNrUiNfLiR5IUJm+FTgtRvp+4Px6rvdJ5HFa6yIiRsYJIURMNftQnfLofyNJ/+lhk5kGhBAdXl19qNJ/2rIk4AghOrwm9aFK/+lhk4AjhBDSRJYQEnCEaMuCDtg1HjWrsKP/jWSZ4G9bT5cLUUkCjhBtWNIDizEOxl6RMvm+RbXS3C5JBO6bGO9iCXFYJOAI0YYF7hlfu4ZTH0tqN6LtkoAjRFvmlyYyceSQ32QhhBAJIQFHCCFEQkjAEUIIkRAScIQQQiSEBBwhhBAJIQFHCCFEQkjAEUIIkRAScIQQQiSEBBwhhBAJIQFHCCFEQkjAEUIIkRAScIQQQiSEBBwhhBAJIQFHCCFEQkjAEUIIkRAScIQQQiSEBBwhhBAJIQFHCCFEQkjAEUIIkRAScIQQQiSEBBwhhBAJ4WvtAgghhGiagB0i5DhRaWXBYNS/lXymSZLVNr7q20YphBBCNNpNs1+hoKwkZt51b86K2s5OTWPmxVcnolgNkoAjREtwAuDaNdLKo/+tZFhgJiWmXOKI9PQFV9Sq4dTFZ7adnhMJOEK0gOSNd2KECmPmpWy4PWrb9WVRMeSxRBRLHKGSLB9JVmuXoukk4AjRAioG/aV2DacuRjv8phCiBUjAEaIlSBOZEA1qO417QgghjmhxreEopa4E7gWSgIe11n+tkX8s8DTQBfgUuFVrHVJK9QVmAd0ADVyltS5WSmUC/wQGAnnAdK31nojzTQF+rrU+I7xtAH8CzgMc4Cat9efxe8dCCCHqErcajlKqN/AAcBIwGrhZKTWixm6zgNu11kMBA7gpnP4E8ITWehiwBJgRTr8fmK+1Ho4XqB4JX8tUSt0JvAJENpBfAgwHRgAXAjOVUtKMKIQQrSCeTWpnAnO11vu11iXAa8CllZlKqX5Aqtb6y3DSC8BlSik/cEp4/6r08OtpeDUcgJeBc8P7Dw//VAYsIvZ/RWvtaK3XAVuBE1rsHQohhGi0eN7t9wJ2R2zvBiY0kN8HyAGKtNahGulRx4Sb3oqAXK31KuBGpdRpjShDH5ogOzu9KbsL0W6VBAIA5ORkkJYkgyBEy4tnwDFipDmNyK/vuIbO2dQyNKigoBjHcZtyiBDtUmnQCzj5+Yco9UvAEU1nmka9N+nxbFLbCfSI2O4J7GpEfh7QWSllxTiu6phwX0xnoKAZZRBCCJEg8Qw4HwJnKKVylVKd8Drw36vM1FpvBcqVUieGk64F3tVaB4H5wOWR6eHXc8LbhPPnh/evyxzgKqWUpZQaDAwFFjf/rQkhhGiquAUcrfVO4B7gY2AZ8JLWepFSao5Salx4t6uAh5VSa4A04NFw+m14o9pWAyfjDa0Gb7TaJKXUqvA+32+gGK8Bq4AVwGzgBq11WUu8PyGEEE1juK70T9ShP7BZ+nBER1EaDDD91ed5dfp36CR9OOIwRPThDAC21MyXZ1KE6KBqrqlS13oq0LbWVBHtl9Rw6tYfqeGII9h1b8yqc02VmtrSmiqi7ZIajhAipva6popovyTgCNFBtdc1VUT7JbctQgghEkICjhBCiISQgCOEECIhJOAIIYRICAk4QgghEkICjhBCiISQYdF1s8B7kEkIIUTDIr4vYw64l4BTt54AWVlprV0OIYRob3oCG2smytQ2dUsGxuOtEmq3clmEEKI9sPCCzWKgomamBBwhhBAJIYMGhBBCJIQEHCGEEAkhAUcIIURCSMARQgiREBJwhBBCJIQEHCGEEAkhAUcIIURCyEwDRzilVH9gHbAacIEkYBfwHa31jvA+vwUcrfV9rVRMUYf6Pj9gMvAgsDe8+zta63taoZgiwuH8zSmlMoF/AgOBPGC61npPossebxJwOoZdWutjKzeUUn8AHlNKXQ/8H/Bt4KHWKZpohJifH7AD+InW+uXWKpioU1P/5u4H5mutpymlrgEeAS5PXHETQ5rUOqZPgaHABcB64C+tWxzRRJWf33jgWqXUcqXULKVUViuXS9Stob+5aXg1HICXgXOVUv7EFS8xJOB0MOFf4suBz7XWL2qt/4jMFdduRH5+ePP83QccC2wHHm+1gok6NfJvrhfe54nWOgQUAbkJLWgCSJNax9BLKbUs/DoZWAT8vPWKI5oo5uentd5fuYNS6iFgUyuUTcTW1L+5WOugOC1dqNYmAadjiGpPFu1Orc9PKdVFKfVjrfXD4SQDCCa8ZKIuTf2b2wn0AHYopXxAZ6AgHgVrTdKkJkT7VAz8TCk1Mbz9A+DNViyPaJ45wLXh15fjDSA44m4gpIYjRDuktbaVUtOBJ5VSqXjDcK9t4DDRds0AXlBKrQIOAFe1bnHiQ9bDEUIIkRDSpCaEECIhJOAIIYRICAk4QgghEkICjhBCiISQgCOEECIhJOAIIYRICAk4QgghEkIe/BQijpRSpwF/wpu6ZCBQBlyPN3njX4F0vIkblwGXa63LlVK/AS4CAnjTm1yvtd5dT/p3gVvw1l3pCvxRa/2kUsoKX/t84CCwEBihtT5NKdUFbwr8YwA/8BFwV3jiSCHiQmo4QsTfccBftNajgOeBfwA3ATO11scDg4EBwDSl1FHAHcB4rfU44H/AxHrS08Pnmqq1HoM3LUrlOis3AmOBo4HjgUERZXoY+EprPRYYA+QAP4nP2xfCIzUcIeJvudZ6fvj1c3g1m7OBcUqpn+Gtk9ILr7azE1gOfK2Uehd4V2v9kVLKjJUOoJQ6Dy9YDcFbqiA9fK2pwIta6/Lwfn8HfhjOOw+YoJS6IbydGp+3LkQ1qeEIEX+RzVRG+Ocl4GZgK15t42vA0Fo7wKl4zW4FwMNKqUfqSldK9cFrjusHfAbcW+O6kdPeR67BYgGXaa2PDc9qPBFvAlAh4kYCjhDxd6xSalT49c14i6dNBH6rtf4X3rr3EwFLKTUa+AZYo7X+A14wGl1XOjAOyAPu11q/j1dzIdx/8w5wtVIqOTzl/fXhawG8D/xYKWUopZKBt5CAI+JMmtSEiL89wANKqf7APuAavOauN5VS+4FSYB4wWGv9rFLqVWCJUqoYb5DBD7XWy2OlAxr4LqCVUiV4C33l4fULvQAoYCnecgabw9cifOwjwEq8QQMfUt33I0RcyGzRQsRReJTa41rro1vh2mcB3bTWs8LbjwDlWuu7E10WIUBqOEIcyVYBdyml7sL7W18OfK91iyQ6MqnhCCGESAgZNCCEECIhJOAIIYRICAk4QgghEkICjhBCiISQgCOEECIhJOAIIYRIiP8P82uVSSl8CLUAAAAASUVORK5CYII=\n",
>>>>>>> main
      "text/plain": [
       "<Figure size 432x288 with 1 Axes>"
      ]
     },
     "metadata": {
      "needs_background": "light"
     },
     "output_type": "display_data"
    }
   ],
   "source": [
    "sns.pointplot(\n",
<<<<<<< HEAD
    "        data=df_pop_long[df_pop_long['measure']==\"fullgenome\"], \n",
=======
    "        data=df_pi_res[df_pi_res['measure']==\"fullgenome\"], \n",
>>>>>>> main
    "        markers='o', \n",
    "        linestyles='--',\n",
    "        x=\"passage\", \n",
    "        y='pi', \n",
    "        hue ='genotype', \n",
    "        errorbar=\"se\",\n",
    "        hue_order=genotype_order, \n",
    "        errwidth=1.1, \n",
    "        capsize=0.1,\n",
    "        palette=our_color_palette,\n",
    "        order=passage_order, \n",
    "        dodge=0.4,\n",
    "    )"
   ]
  },
  {
   "cell_type": "code",
<<<<<<< HEAD
   "execution_count": 12,
=======
   "execution_count": 127,
>>>>>>> main
   "id": "9d240c99",
   "metadata": {},
   "outputs": [
    {
     "name": "stderr",
     "output_type": "stream",
     "text": [
      "/Users/lfuhrmann/Library/Python/3.9/lib/python/site-packages/pingouin/distribution.py:1006: RuntimeWarning: divide by zero encountered in double_scalars\n",
      "  W = np.product(eig) / (eig.sum() / d) ** d\n"
     ]
    },
    {
     "data": {
      "text/html": [
       "<div>\n",
       "<style scoped>\n",
       "    .dataframe tbody tr th:only-of-type {\n",
       "        vertical-align: middle;\n",
       "    }\n",
       "\n",
       "    .dataframe tbody tr th {\n",
       "        vertical-align: top;\n",
       "    }\n",
       "\n",
       "    .dataframe thead th {\n",
       "        text-align: right;\n",
       "    }\n",
       "</style>\n",
       "<table border=\"1\" class=\"dataframe\">\n",
       "  <thead>\n",
       "    <tr style=\"text-align: right;\">\n",
       "      <th></th>\n",
       "      <th>Source</th>\n",
       "      <th>SS</th>\n",
       "      <th>DF1</th>\n",
       "      <th>DF2</th>\n",
       "      <th>MS</th>\n",
       "      <th>F</th>\n",
       "      <th>p-unc</th>\n",
       "      <th>np2</th>\n",
       "      <th>eps</th>\n",
       "    </tr>\n",
       "  </thead>\n",
       "  <tbody>\n",
       "    <tr>\n",
       "      <th>0</th>\n",
       "      <td>genotype</td>\n",
<<<<<<< HEAD
       "      <td>1.215305e-08</td>\n",
       "      <td>2</td>\n",
       "      <td>12</td>\n",
       "      <td>6.076523e-09</td>\n",
       "      <td>0.599485</td>\n",
       "      <td>0.564739</td>\n",
       "      <td>0.090838</td>\n",
=======
       "      <td>1.214901e-08</td>\n",
       "      <td>2</td>\n",
       "      <td>12</td>\n",
       "      <td>6.074506e-09</td>\n",
       "      <td>0.599249</td>\n",
       "      <td>0.564859</td>\n",
       "      <td>0.090806</td>\n",
>>>>>>> main
       "      <td>NaN</td>\n",
       "    </tr>\n",
       "    <tr>\n",
       "      <th>1</th>\n",
       "      <td>passage</td>\n",
<<<<<<< HEAD
       "      <td>1.730538e-08</td>\n",
       "      <td>2</td>\n",
       "      <td>24</td>\n",
       "      <td>8.652692e-09</td>\n",
       "      <td>1.435875</td>\n",
       "      <td>0.257622</td>\n",
       "      <td>0.106869</td>\n",
       "      <td>0.757423</td>\n",
=======
       "      <td>1.730925e-08</td>\n",
       "      <td>2</td>\n",
       "      <td>24</td>\n",
       "      <td>8.654625e-09</td>\n",
       "      <td>1.436023</td>\n",
       "      <td>0.257588</td>\n",
       "      <td>0.106879</td>\n",
       "      <td>0.757424</td>\n",
>>>>>>> main
       "    </tr>\n",
       "    <tr>\n",
       "      <th>2</th>\n",
       "      <td>Interaction</td>\n",
<<<<<<< HEAD
       "      <td>1.960888e-08</td>\n",
       "      <td>4</td>\n",
       "      <td>24</td>\n",
       "      <td>4.902219e-09</td>\n",
       "      <td>0.813501</td>\n",
       "      <td>0.529015</td>\n",
       "      <td>0.119395</td>\n",
=======
       "      <td>1.961274e-08</td>\n",
       "      <td>4</td>\n",
       "      <td>24</td>\n",
       "      <td>4.903185e-09</td>\n",
       "      <td>0.813563</td>\n",
       "      <td>0.528978</td>\n",
       "      <td>0.119403</td>\n",
>>>>>>> main
       "      <td>NaN</td>\n",
       "    </tr>\n",
       "  </tbody>\n",
       "</table>\n",
       "</div>"
      ],
      "text/plain": [
       "        Source            SS  DF1  DF2            MS         F     p-unc  \\\n",
<<<<<<< HEAD
       "0     genotype  1.215305e-08    2   12  6.076523e-09  0.599485  0.564739   \n",
       "1      passage  1.730538e-08    2   24  8.652692e-09  1.435875  0.257622   \n",
       "2  Interaction  1.960888e-08    4   24  4.902219e-09  0.813501  0.529015   \n",
       "\n",
       "        np2       eps  \n",
       "0  0.090838       NaN  \n",
       "1  0.106869  0.757423  \n",
       "2  0.119395       NaN  "
      ]
     },
     "execution_count": 12,
=======
       "0     genotype  1.214901e-08    2   12  6.074506e-09  0.599249  0.564859   \n",
       "1      passage  1.730925e-08    2   24  8.654625e-09  1.436023  0.257588   \n",
       "2  Interaction  1.961274e-08    4   24  4.903185e-09  0.813563  0.528978   \n",
       "\n",
       "        np2       eps  \n",
       "0  0.090806       NaN  \n",
       "1  0.106879  0.757424  \n",
       "2  0.119403       NaN  "
      ]
     },
     "execution_count": 127,
>>>>>>> main
     "metadata": {},
     "output_type": "execute_result"
    }
   ],
   "source": [
<<<<<<< HEAD
    "df_pop_long['id'] = df_pop_long['genotype'] + df_pop_long['replicate']\n",
=======
    "df_pi_res['id'] = df_pi_res['genotype'] + df_pi_res['replicate']\n",
>>>>>>> main
    "\n",
    "res = pg.mixed_anova(dv='pi', \n",
    "                  within='passage', \n",
    "                  between='genotype',\n",
    "                  subject='id', \n",
<<<<<<< HEAD
    "                  data=df_pop_long[(df_pop_long['measure']==\"fullgenome\")], \n",
=======
    "                  data=df_pi_res[(df_pi_res['measure']==\"fullgenome\")], \n",
>>>>>>> main
    "                 )\n",
    "\n",
    "res"
   ]
  },
  {
   "cell_type": "markdown",
   "id": "b0333974",
   "metadata": {},
   "source": [
    "###  compare nulceotide diversity between coding and noncoding"
   ]
  },
  {
   "cell_type": "code",
<<<<<<< HEAD
   "execution_count": 13,
=======
   "execution_count": 128,
>>>>>>> main
   "id": "ae3522e0",
   "metadata": {},
   "outputs": [
    {
     "data": {
      "text/plain": [
<<<<<<< HEAD
       "<seaborn.axisgrid.FacetGrid at 0x7fa0a37903a0>"
      ]
     },
     "execution_count": 13,
=======
       "<seaborn.axisgrid.FacetGrid at 0x7f80a14d46a0>"
      ]
     },
     "execution_count": 128,
>>>>>>> main
     "metadata": {},
     "output_type": "execute_result"
    },
    {
     "data": {
<<<<<<< HEAD
      "image/png": "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\n",
=======
      "image/png": "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\n",
>>>>>>> main
      "text/plain": [
       "<Figure size 1138.17x360 with 3 Axes>"
      ]
     },
     "metadata": {
      "needs_background": "light"
     },
     "output_type": "display_data"
    }
   ],
   "source": [
    "\n",
    "sns.catplot(\n",
<<<<<<< HEAD
    "        data=df_pop_long[df_pop_long['measure']!=\"fullgenome\"], \n",
=======
    "        data=df_pi_res[df_pi_res['measure']!=\"fullgenome\"], \n",
>>>>>>> main
    "        kind='point', \n",
    "        markers='o', \n",
    "        linestyles='',\n",
    "        x=\"measure\", \n",
    "        y='pi', \n",
    "        hue ='genotype',\n",
    "        col='passage',\n",
    "        errorbar=\"se\",\n",
    "        hue_order=genotype_order, \n",
    "        errwidth=1.1, \n",
    "        capsize=0.1,\n",
    "        palette=our_color_palette,\n",
    "        col_order=passage_order, \n",
    "        dodge=0.1,\n",
    "    )"
   ]
  },
  {
   "cell_type": "code",
<<<<<<< HEAD
   "execution_count": 14,
=======
   "execution_count": 129,
>>>>>>> main
   "id": "6965d837",
   "metadata": {},
   "outputs": [],
   "source": [
<<<<<<< HEAD
    "df_pop_long_mean = df_pop_long[(df_pop_long['measure']!=\"fullgenome\")].pivot_table(values='pi', \n",
=======
    "df_pop_long_mean = df_pi_res[(df_pi_res['measure']!=\"fullgenome\")].pivot_table(values='pi', \n",
>>>>>>> main
    "                                           index=['measure', 'genotype', 'passage'],\n",
    "                                           aggfunc='mean').reset_index()\n",
    "\n",
    "df_pop_long_mean['id'] = df_pop_long_mean['genotype'] + df_pop_long_mean['measure']"
   ]
  },
  {
   "cell_type": "code",
<<<<<<< HEAD
   "execution_count": 15,
=======
   "execution_count": 130,
>>>>>>> main
   "id": "00d0bfae",
   "metadata": {},
   "outputs": [
    {
     "name": "stderr",
     "output_type": "stream",
     "text": [
      "/Users/lfuhrmann/Library/Python/3.9/lib/python/site-packages/pingouin/distribution.py:1006: RuntimeWarning: divide by zero encountered in double_scalars\n",
      "  W = np.product(eig) / (eig.sum() / d) ** d\n"
     ]
    },
    {
     "data": {
      "text/html": [
       "<div>\n",
       "<style scoped>\n",
       "    .dataframe tbody tr th:only-of-type {\n",
       "        vertical-align: middle;\n",
       "    }\n",
       "\n",
       "    .dataframe tbody tr th {\n",
       "        vertical-align: top;\n",
       "    }\n",
       "\n",
       "    .dataframe thead th {\n",
       "        text-align: right;\n",
       "    }\n",
       "</style>\n",
       "<table border=\"1\" class=\"dataframe\">\n",
       "  <thead>\n",
       "    <tr style=\"text-align: right;\">\n",
       "      <th></th>\n",
       "      <th>Source</th>\n",
       "      <th>SS</th>\n",
       "      <th>DF1</th>\n",
       "      <th>DF2</th>\n",
       "      <th>MS</th>\n",
       "      <th>F</th>\n",
       "      <th>p-unc</th>\n",
       "      <th>np2</th>\n",
       "      <th>eps</th>\n",
       "    </tr>\n",
       "  </thead>\n",
       "  <tbody>\n",
       "    <tr>\n",
       "      <th>0</th>\n",
       "      <td>measure</td>\n",
<<<<<<< HEAD
       "      <td>3.075592e-08</td>\n",
       "      <td>1</td>\n",
       "      <td>4</td>\n",
       "      <td>3.075592e-08</td>\n",
       "      <td>28.404042</td>\n",
       "      <td>0.005967</td>\n",
       "      <td>0.876559</td>\n",
=======
       "      <td>3.036093e-08</td>\n",
       "      <td>1</td>\n",
       "      <td>4</td>\n",
       "      <td>3.036093e-08</td>\n",
       "      <td>28.017623</td>\n",
       "      <td>0.006115</td>\n",
       "      <td>0.875069</td>\n",
>>>>>>> main
       "      <td>NaN</td>\n",
       "    </tr>\n",
       "    <tr>\n",
       "      <th>1</th>\n",
       "      <td>passage</td>\n",
<<<<<<< HEAD
       "      <td>6.688397e-09</td>\n",
       "      <td>2</td>\n",
       "      <td>8</td>\n",
       "      <td>3.344199e-09</td>\n",
       "      <td>1.859396</td>\n",
       "      <td>0.217184</td>\n",
       "      <td>0.317336</td>\n",
       "      <td>0.803742</td>\n",
=======
       "      <td>6.719174e-09</td>\n",
       "      <td>2</td>\n",
       "      <td>8</td>\n",
       "      <td>3.359587e-09</td>\n",
       "      <td>1.856742</td>\n",
       "      <td>0.217578</td>\n",
       "      <td>0.317026</td>\n",
       "      <td>0.802816</td>\n",
>>>>>>> main
       "    </tr>\n",
       "    <tr>\n",
       "      <th>2</th>\n",
       "      <td>Interaction</td>\n",
<<<<<<< HEAD
       "      <td>1.931041e-09</td>\n",
       "      <td>2</td>\n",
       "      <td>8</td>\n",
       "      <td>9.655204e-10</td>\n",
       "      <td>0.536836</td>\n",
       "      <td>0.604265</td>\n",
       "      <td>0.118328</td>\n",
=======
       "      <td>1.943572e-09</td>\n",
       "      <td>2</td>\n",
       "      <td>8</td>\n",
       "      <td>9.717859e-10</td>\n",
       "      <td>0.537077</td>\n",
       "      <td>0.604137</td>\n",
       "      <td>0.118375</td>\n",
>>>>>>> main
       "      <td>NaN</td>\n",
       "    </tr>\n",
       "  </tbody>\n",
       "</table>\n",
       "</div>"
      ],
      "text/plain": [
       "        Source            SS  DF1  DF2            MS          F     p-unc  \\\n",
<<<<<<< HEAD
       "0      measure  3.075592e-08    1    4  3.075592e-08  28.404042  0.005967   \n",
       "1      passage  6.688397e-09    2    8  3.344199e-09   1.859396  0.217184   \n",
       "2  Interaction  1.931041e-09    2    8  9.655204e-10   0.536836  0.604265   \n",
       "\n",
       "        np2       eps  \n",
       "0  0.876559       NaN  \n",
       "1  0.317336  0.803742  \n",
       "2  0.118328       NaN  "
      ]
     },
     "execution_count": 15,
=======
       "0      measure  3.036093e-08    1    4  3.036093e-08  28.017623  0.006115   \n",
       "1      passage  6.719174e-09    2    8  3.359587e-09   1.856742  0.217578   \n",
       "2  Interaction  1.943572e-09    2    8  9.717859e-10   0.537077  0.604137   \n",
       "\n",
       "        np2       eps  \n",
       "0  0.875069       NaN  \n",
       "1  0.317026  0.802816  \n",
       "2  0.118375       NaN  "
      ]
     },
     "execution_count": 130,
>>>>>>> main
     "metadata": {},
     "output_type": "execute_result"
    }
   ],
   "source": [
    "\n",
    "res = pg.mixed_anova(dv='pi', \n",
    "                     within='passage', \n",
    "                     between='measure',\n",
    "                     subject='id', \n",
    "                     data=df_pop_long_mean, \n",
    "                 )\n",
    "\n",
    "res"
   ]
  },
  {
   "cell_type": "code",
   "execution_count": null,
   "id": "df4f3480",
   "metadata": {},
   "outputs": [],
   "source": []
  },
  {
   "cell_type": "code",
   "execution_count": null,
   "id": "534cb2b6",
   "metadata": {},
   "outputs": [],
   "source": []
  }
 ],
 "metadata": {
  "kernelspec": {
   "display_name": "Python 3 (ipykernel)",
   "language": "python",
   "name": "python3"
  },
  "language_info": {
   "codemirror_mode": {
    "name": "ipython",
    "version": 3
   },
   "file_extension": ".py",
   "mimetype": "text/x-python",
   "name": "python",
   "nbconvert_exporter": "python",
   "pygments_lexer": "ipython3",
   "version": "3.9.0"
  }
 },
 "nbformat": 4,
 "nbformat_minor": 5
}

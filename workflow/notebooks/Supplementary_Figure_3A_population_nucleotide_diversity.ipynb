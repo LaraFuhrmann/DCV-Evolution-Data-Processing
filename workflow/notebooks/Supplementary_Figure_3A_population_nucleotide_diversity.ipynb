{
 "cells": [
  {
   "cell_type": "code",
   "execution_count": 57,
   "id": "146b0777",
   "metadata": {},
   "outputs": [],
   "source": [
    "import pandas as pd\n",
    "import seaborn as sns\n",
    "import numpy as np\n",
    "from statannotations.Annotator import Annotator\n",
    "from scipy.stats import normaltest\n",
    "import scipy.stats as stats\n",
    "from matplotlib import pyplot as plt\n",
    "import pingouin as pg\n",
    "\n",
    "\n",
    "sns.set(rc={'figure.figsize':(25,10)})"
   ]
  },
  {
   "cell_type": "code",
   "execution_count": 58,
   "id": "fe72daf2",
   "metadata": {},
   "outputs": [],
   "source": [
    "our_color_palette ={\"WT\": \"#F2C14E\", \"KO\": \"#F15BB5\", \"OE\": \"#368F8B\"}\n",
    "genotype_dict = {\"dicer_KO\": \"KO\", \"dicer_overexpressed\": \"OE\", \"wild_type\": \"WT\", \"dicer_ko\": \"KO\", \"dicer_over_expressing\": \"OE\"}\n",
    "passage_dict = {\"passage_1\": \"P1\", \"passage_5\": \"P5\", \"passage_10\": \"P10\"}\n",
    "our_color_palette ={\"WT\": \"#F2C14E\", \"KO\": \"#F15BB5\", \"OE\": \"#368F8B\"}\n",
    "\n",
    "genotype_order = [\"WT\", \"KO\", \"OE\"]\n",
    "passage_order = ['P1','P5','P10']"
   ]
  },
  {
   "cell_type": "markdown",
   "id": "9cc339be",
   "metadata": {},
   "source": [
    "### plot nucleotide diversity across genome, for coding and non-coding regions\n",
    "\n",
    "Values were computed with SNPGenie (https://github.com/chasewnelson/SNPGenie). "
   ]
  },
  {
   "cell_type": "code",
   "execution_count": 77,
   "id": "2c814c7a",
   "metadata": {},
   "outputs": [],
   "source": [
    "df_WT= pd.read_csv('../../resources/run_workflow/results_cluster/wild_type/snpgenie_site_results.csv')\n",
    "df_KO = pd.read_csv('../../resources/run_workflow/results_cluster/dicer_KO/snpgenie_site_results.csv')\n",
    "df_OE = pd.read_csv('../../resources/run_workflow/results_cluster/dicer_overexpression/snpgenie_site_results.csv')\n",
    "\n",
    "df_pi = pd.concat([df_WT, df_KO, df_OE])[['site', 'pi', 'genotype', 'replicate', 'passage']]\n",
    "\n",
    "df_pi[\"genotype\"] = df_pi[\"genotype\"].apply(lambda x: genotype_dict[x])\n",
    "df_pi[\"passage\"] = df_pi[\"passage\"].apply(lambda x: passage_dict[x])\n"
   ]
  },
  {
   "cell_type": "code",
   "execution_count": 92,
   "id": "f8c5f7a4",
   "metadata": {},
   "outputs": [],
   "source": [
    "# total number of sites: 9264"
   ]
  },
  {
   "cell_type": "code",
   "execution_count": 98,
   "id": "01b461cd",
   "metadata": {},
   "outputs": [],
   "source": [
    "# coding position taken from:\n",
    "# resources/references/dcv_eb_ref_annotation_genomic.gbff\n",
    "\n",
    "n_sites_reference = 9264\n",
    "coding_positions = list(range(799, 6078)) +  list(range(6267, 8972))\n",
    "n_coding_sites = len(coding_positions)\n",
    "n_noncoding_sites = n_sites_reference - n_coding_sites\n",
    "\n",
    "df_pi['coding'] = df_pi['site'].isin(coding_positions)"
   ]
  },
  {
   "cell_type": "code",
   "execution_count": 108,
   "id": "5e70abeb",
   "metadata": {},
   "outputs": [],
   "source": [
    "df_pi_coding = pd.pivot_table(data=df_pi[df_pi['coding']==True],\n",
    "                              values='pi', \n",
    "                              index=['genotype', 'replicate', 'passage'], \n",
    "                              aggfunc='sum').reset_index()\n",
    "df_pi_coding['pi'] = df_pi_coding['pi']/n_coding_sites\n",
    "df_pi_coding['measure'] = 'coding'\n",
    "\n",
    "\n",
    "df_pi_noncoding = pd.pivot_table(data=df_pi[df_pi['coding']==False],\n",
    "                              values='pi', \n",
    "                              index=['genotype', 'replicate', 'passage'], \n",
    "                              aggfunc='sum').reset_index()\n",
    "df_pi_noncoding['pi'] = df_pi_noncoding['pi']/n_noncoding_sites\n",
    "df_pi_noncoding['measure'] = 'noncoding'\n",
    "\n",
    "df_pi_fullgenome = pd.pivot_table(data=df_pi,\n",
    "                              values='pi', \n",
    "                              index=['genotype', 'replicate', 'passage'], \n",
    "                              aggfunc='sum').reset_index()\n",
    "df_pi_fullgenome['pi'] = df_pi_fullgenome['pi']/n_sites_reference\n",
    "df_pi_fullgenome['measure'] = 'fullgenome'\n",
    "\n",
    "\n",
    "df_pi_res = pd.concat([df_pi_coding, df_pi_noncoding, df_pi_fullgenome])"
   ]
  },
  {
   "cell_type": "code",
   "execution_count": 109,
   "id": "e69ae2fb",
   "metadata": {},
   "outputs": [
    {
     "data": {
      "text/html": [
       "<div>\n",
       "<style scoped>\n",
       "    .dataframe tbody tr th:only-of-type {\n",
       "        vertical-align: middle;\n",
       "    }\n",
       "\n",
       "    .dataframe tbody tr th {\n",
       "        vertical-align: top;\n",
       "    }\n",
       "\n",
       "    .dataframe thead th {\n",
       "        text-align: right;\n",
       "    }\n",
       "</style>\n",
       "<table border=\"1\" class=\"dataframe\">\n",
       "  <thead>\n",
       "    <tr style=\"text-align: right;\">\n",
       "      <th></th>\n",
       "      <th>genotype</th>\n",
       "      <th>replicate</th>\n",
       "      <th>passage</th>\n",
       "      <th>pi</th>\n",
       "      <th>measure</th>\n",
       "    </tr>\n",
       "  </thead>\n",
       "  <tbody>\n",
       "    <tr>\n",
       "      <th>0</th>\n",
       "      <td>KO</td>\n",
       "      <td>replicate_a</td>\n",
       "      <td>P1</td>\n",
       "      <td>0.000229</td>\n",
       "      <td>coding</td>\n",
       "    </tr>\n",
       "    <tr>\n",
       "      <th>1</th>\n",
       "      <td>KO</td>\n",
       "      <td>replicate_a</td>\n",
       "      <td>P10</td>\n",
       "      <td>0.000312</td>\n",
       "      <td>coding</td>\n",
       "    </tr>\n",
       "    <tr>\n",
       "      <th>2</th>\n",
       "      <td>KO</td>\n",
       "      <td>replicate_a</td>\n",
       "      <td>P5</td>\n",
       "      <td>0.000103</td>\n",
       "      <td>coding</td>\n",
       "    </tr>\n",
       "    <tr>\n",
       "      <th>3</th>\n",
       "      <td>KO</td>\n",
       "      <td>replicate_b</td>\n",
       "      <td>P1</td>\n",
       "      <td>0.000248</td>\n",
       "      <td>coding</td>\n",
       "    </tr>\n",
       "    <tr>\n",
       "      <th>4</th>\n",
       "      <td>KO</td>\n",
       "      <td>replicate_b</td>\n",
       "      <td>P10</td>\n",
       "      <td>0.000248</td>\n",
       "      <td>coding</td>\n",
       "    </tr>\n",
       "    <tr>\n",
       "      <th>...</th>\n",
       "      <td>...</td>\n",
       "      <td>...</td>\n",
       "      <td>...</td>\n",
       "      <td>...</td>\n",
       "      <td>...</td>\n",
       "    </tr>\n",
       "    <tr>\n",
       "      <th>40</th>\n",
       "      <td>WT</td>\n",
       "      <td>replicate_d</td>\n",
       "      <td>P10</td>\n",
       "      <td>0.000253</td>\n",
       "      <td>fullgenome</td>\n",
       "    </tr>\n",
       "    <tr>\n",
       "      <th>41</th>\n",
       "      <td>WT</td>\n",
       "      <td>replicate_d</td>\n",
       "      <td>P5</td>\n",
       "      <td>0.000307</td>\n",
       "      <td>fullgenome</td>\n",
       "    </tr>\n",
       "    <tr>\n",
       "      <th>42</th>\n",
       "      <td>WT</td>\n",
       "      <td>replicate_e</td>\n",
       "      <td>P1</td>\n",
       "      <td>0.000276</td>\n",
       "      <td>fullgenome</td>\n",
       "    </tr>\n",
       "    <tr>\n",
       "      <th>43</th>\n",
       "      <td>WT</td>\n",
       "      <td>replicate_e</td>\n",
       "      <td>P10</td>\n",
       "      <td>0.000399</td>\n",
       "      <td>fullgenome</td>\n",
       "    </tr>\n",
       "    <tr>\n",
       "      <th>44</th>\n",
       "      <td>WT</td>\n",
       "      <td>replicate_e</td>\n",
       "      <td>P5</td>\n",
       "      <td>0.000396</td>\n",
       "      <td>fullgenome</td>\n",
       "    </tr>\n",
       "  </tbody>\n",
       "</table>\n",
       "<p>135 rows × 5 columns</p>\n",
       "</div>"
      ],
      "text/plain": [
       "   genotype    replicate passage        pi     measure\n",
       "0        KO  replicate_a      P1  0.000229      coding\n",
       "1        KO  replicate_a     P10  0.000312      coding\n",
       "2        KO  replicate_a      P5  0.000103      coding\n",
       "3        KO  replicate_b      P1  0.000248      coding\n",
       "4        KO  replicate_b     P10  0.000248      coding\n",
       "..      ...          ...     ...       ...         ...\n",
       "40       WT  replicate_d     P10  0.000253  fullgenome\n",
       "41       WT  replicate_d      P5  0.000307  fullgenome\n",
       "42       WT  replicate_e      P1  0.000276  fullgenome\n",
       "43       WT  replicate_e     P10  0.000399  fullgenome\n",
       "44       WT  replicate_e      P5  0.000396  fullgenome\n",
       "\n",
       "[135 rows x 5 columns]"
      ]
     },
     "execution_count": 109,
     "metadata": {},
     "output_type": "execute_result"
    }
   ],
   "source": [
    "df_pi_res"
   ]
  },
  {
   "cell_type": "code",
   "execution_count": 119,
   "id": "6fc630f0",
   "metadata": {},
   "outputs": [
    {
     "name": "stdout",
     "output_type": "stream",
     "text": [
      "0.4323681594228982\n"
     ]
    }
   ],
   "source": [
    "print(normaltest(df_pi_res[df_pi_res['measure']==\"fullgenome\"]['pi']).pvalue)"
   ]
  },
  {
   "cell_type": "code",
   "execution_count": 120,
   "id": "ea77186d",
   "metadata": {},
   "outputs": [
    {
     "name": "stdout",
     "output_type": "stream",
     "text": [
      "0.172319179344947\n"
     ]
    }
   ],
   "source": [
    "# test normalitiy --> H0: samples comes from normal distribution\n",
    "print(normaltest(np.log(df_pi_res[df_pi_res['measure']==\"coding\"]['pi'])).pvalue)"
   ]
  },
  {
   "cell_type": "code",
   "execution_count": 121,
   "id": "643ba3b0",
   "metadata": {},
   "outputs": [
    {
     "name": "stdout",
     "output_type": "stream",
     "text": [
      "1.2355141632266185e-10\n"
     ]
    }
   ],
   "source": [
    "# test normalitiy --> H0: samples comes from normal distribution\n",
    "print(normaltest(df_pi_res[df_pi_res['measure']==\"noncoding\"]['pi']).pvalue)"
   ]
  },
  {
   "cell_type": "code",
   "execution_count": 124,
   "id": "f783574d",
   "metadata": {
    "scrolled": false
   },
   "outputs": [
    {
     "data": {
      "text/plain": [
       "Text(0.5, 1.0, 'Full genome')"
      ]
     },
     "execution_count": 124,
     "metadata": {},
     "output_type": "execute_result"
    },
    {
     "data": {
      "image/png": "[encoded data removed]",
      "text/plain": [
       "<Figure size 1152x576 with 4 Axes>"
      ]
     },
     "metadata": {
      "needs_background": "light"
     },
     "output_type": "display_data"
    }
   ],
   "source": [
    "fig, ax = plt.subplots(1,4,  sharey=True, figsize=(16,8))\n",
    "\n",
    "sns.pointplot(\n",
    "        ax=ax[0],\n",
    "        data=df_pi_res[df_pi_res['measure']==\"fullgenome\"], \n",
    "        markers='o', \n",
    "        linestyles='--',\n",
    "        x=\"passage\", \n",
    "        y='pi', \n",
    "        hue ='genotype', \n",
    "        errorbar=\"se\",\n",
    "        hue_order=genotype_order, \n",
    "        errwidth=1.1, \n",
    "        capsize=0.1,\n",
    "        palette=our_color_palette,\n",
    "        order=passage_order, \n",
    "        dodge=0.4,\n",
    "    )\n",
    "\n",
    "for idx, passage in enumerate(passage_order): \n",
    "    sns.pointplot(\n",
    "        ax= ax[idx+1],\n",
    "        data=df_pi_res[(df_pi_res['measure']!=\"fullgenome\") & (df_pi_res['passage']!=passage)], \n",
    "        kind='point', \n",
    "        markers='o', \n",
    "        linestyles='',\n",
    "        x=\"measure\", \n",
    "        y='pi', \n",
    "        hue ='genotype',\n",
    "        errorbar=\"se\",\n",
    "        hue_order=genotype_order, \n",
    "        errwidth=1.1, \n",
    "        capsize=0.1,\n",
    "        palette=our_color_palette,\n",
    "        dodge=0.2,\n",
    "    )\n",
    "    ax[idx+1].set_title(passage, fontsize=20)\n",
    "    ax[idx+1].set_ylabel(\"\")\n",
    "    ax[idx+1].set_xlabel(\"\")\n",
    "    ax[idx+1].get_legend().remove()\n",
    "    \n",
    "ax[0].set_ylabel(\"nucleotide diversity\", fontsize=20)\n",
    "ax[0].set_title(\"Full genome\", fontsize=20)\n"
   ]
  },
  {
   "cell_type": "code",
   "execution_count": 125,
   "id": "aa5172e4",
   "metadata": {},
   "outputs": [],
   "source": [
    "fig.savefig(\"./000__Manuscript_figures/Supplement_Figure_3A_nucleotide_diversity.pdf\")\n",
    "fig.savefig(\"./000__Manuscript_figures/Supplement_Figure_3A_nucleotide_diversity.svg\")"
   ]
  },
  {
   "cell_type": "markdown",
   "id": "f500fcd3",
   "metadata": {},
   "source": [
    "### mixed ANOVA for nulceotide diversity (full genome)"
   ]
  },
  {
   "cell_type": "code",
   "execution_count": 126,
   "id": "72c96978",
   "metadata": {},
   "outputs": [
    {
     "data": {
      "text/plain": [
       "<AxesSubplot: xlabel='passage', ylabel='pi'>"
      ]
     },
     "execution_count": 126,
     "metadata": {},
     "output_type": "execute_result"
    },
    {
     "data": {
      "image/png": "[encoded data removed]",
      "text/plain": [
       "<Figure size 432x288 with 1 Axes>"
      ]
     },
     "metadata": {
      "needs_background": "light"
     },
     "output_type": "display_data"
    }
   ],
   "source": [
    "sns.pointplot(\n",
    "        data=df_pi_res[df_pi_res['measure']==\"fullgenome\"], \n",
    "        markers='o', \n",
    "        linestyles='--',\n",
    "        x=\"passage\", \n",
    "        y='pi', \n",
    "        hue ='genotype', \n",
    "        errorbar=\"se\",\n",
    "        hue_order=genotype_order, \n",
    "        errwidth=1.1, \n",
    "        capsize=0.1,\n",
    "        palette=our_color_palette,\n",
    "        order=passage_order, \n",
    "        dodge=0.4,\n",
    "    )"
   ]
  },
  {
   "cell_type": "code",
   "execution_count": 127,
   "id": "9d240c99",
   "metadata": {},
   "outputs": [
    {
     "name": "stderr",
     "output_type": "stream",
     "text": [
      "/Users/lfuhrmann/Library/Python/3.9/lib/python/site-packages/pingouin/distribution.py:1006: RuntimeWarning: divide by zero encountered in double_scalars\n",
      "  W = np.product(eig) / (eig.sum() / d) ** d\n"
     ]
    },
    {
     "data": {
      "text/html": [
       "<div>\n",
       "<style scoped>\n",
       "    .dataframe tbody tr th:only-of-type {\n",
       "        vertical-align: middle;\n",
       "    }\n",
       "\n",
       "    .dataframe tbody tr th {\n",
       "        vertical-align: top;\n",
       "    }\n",
       "\n",
       "    .dataframe thead th {\n",
       "        text-align: right;\n",
       "    }\n",
       "</style>\n",
       "<table border=\"1\" class=\"dataframe\">\n",
       "  <thead>\n",
       "    <tr style=\"text-align: right;\">\n",
       "      <th></th>\n",
       "      <th>Source</th>\n",
       "      <th>SS</th>\n",
       "      <th>DF1</th>\n",
       "      <th>DF2</th>\n",
       "      <th>MS</th>\n",
       "      <th>F</th>\n",
       "      <th>p-unc</th>\n",
       "      <th>np2</th>\n",
       "      <th>eps</th>\n",
       "    </tr>\n",
       "  </thead>\n",
       "  <tbody>\n",
       "    <tr>\n",
       "      <th>0</th>\n",
       "      <td>genotype</td>\n",
       "      <td>1.214901e-08</td>\n",
       "      <td>2</td>\n",
       "      <td>12</td>\n",
       "      <td>6.074506e-09</td>\n",
       "      <td>0.599249</td>\n",
       "      <td>0.564859</td>\n",
       "      <td>0.090806</td>\n",
       "      <td>NaN</td>\n",
       "    </tr>\n",
       "    <tr>\n",
       "      <th>1</th>\n",
       "      <td>passage</td>\n",
       "      <td>1.730925e-08</td>\n",
       "      <td>2</td>\n",
       "      <td>24</td>\n",
       "      <td>8.654625e-09</td>\n",
       "      <td>1.436023</td>\n",
       "      <td>0.257588</td>\n",
       "      <td>0.106879</td>\n",
       "      <td>0.757424</td>\n",
       "    </tr>\n",
       "    <tr>\n",
       "      <th>2</th>\n",
       "      <td>Interaction</td>\n",
       "      <td>1.961274e-08</td>\n",
       "      <td>4</td>\n",
       "      <td>24</td>\n",
       "      <td>4.903185e-09</td>\n",
       "      <td>0.813563</td>\n",
       "      <td>0.528978</td>\n",
       "      <td>0.119403</td>\n",
       "      <td>NaN</td>\n",
       "    </tr>\n",
       "  </tbody>\n",
       "</table>\n",
       "</div>"
      ],
      "text/plain": [
       "        Source            SS  DF1  DF2            MS         F     p-unc  \\\n",
       "0     genotype  1.214901e-08    2   12  6.074506e-09  0.599249  0.564859   \n",
       "1      passage  1.730925e-08    2   24  8.654625e-09  1.436023  0.257588   \n",
       "2  Interaction  1.961274e-08    4   24  4.903185e-09  0.813563  0.528978   \n",
       "\n",
       "        np2       eps  \n",
       "0  0.090806       NaN  \n",
       "1  0.106879  0.757424  \n",
       "2  0.119403       NaN  "
      ]
     },
     "execution_count": 127,
     "metadata": {},
     "output_type": "execute_result"
    }
   ],
   "source": [
    "df_pi_res['id'] = df_pi_res['genotype'] + df_pi_res['replicate']\n",
    "\n",
    "res = pg.mixed_anova(dv='pi', \n",
    "                  within='passage', \n",
    "                  between='genotype',\n",
    "                  subject='id', \n",
    "                  data=df_pi_res[(df_pi_res['measure']==\"fullgenome\")], \n",
    "                 )\n",
    "\n",
    "res"
   ]
  },
  {
   "cell_type": "markdown",
   "id": "b0333974",
   "metadata": {},
   "source": [
    "###  compare nulceotide diversity between coding and noncoding"
   ]
  },
  {
   "cell_type": "code",
   "execution_count": 128,
   "id": "ae3522e0",
   "metadata": {},
   "outputs": [
    {
     "data": {
      "text/plain": [
       "<seaborn.axisgrid.FacetGrid at 0x7f80a14d46a0>"
      ]
     },
     "execution_count": 128,
     "metadata": {},
     "output_type": "execute_result"
    },
    {
     "data": {
      "image/png": "[encoded data removed]",
      "text/plain": [
       "<Figure size 1138.17x360 with 3 Axes>"
      ]
     },
     "metadata": {
      "needs_background": "light"
     },
     "output_type": "display_data"
    }
   ],
   "source": [
    "\n",
    "sns.catplot(\n",
    "        data=df_pi_res[df_pi_res['measure']!=\"fullgenome\"], \n",
    "        kind='point', \n",
    "        markers='o', \n",
    "        linestyles='',\n",
    "        x=\"measure\", \n",
    "        y='pi', \n",
    "        hue ='genotype',\n",
    "        col='passage',\n",
    "        errorbar=\"se\",\n",
    "        hue_order=genotype_order, \n",
    "        errwidth=1.1, \n",
    "        capsize=0.1,\n",
    "        palette=our_color_palette,\n",
    "        col_order=passage_order, \n",
    "        dodge=0.1,\n",
    "    )"
   ]
  },
  {
   "cell_type": "code",
   "execution_count": 129,
   "id": "6965d837",
   "metadata": {},
   "outputs": [],
   "source": [
    "df_pop_long_mean = df_pi_res[(df_pi_res['measure']!=\"fullgenome\")].pivot_table(values='pi', \n",
    "                                           index=['measure', 'genotype', 'passage'],\n",
    "                                           aggfunc='mean').reset_index()\n",
    "\n",
    "df_pop_long_mean['id'] = df_pop_long_mean['genotype'] + df_pop_long_mean['measure']"
   ]
  },
  {
   "cell_type": "code",
   "execution_count": 130,
   "id": "00d0bfae",
   "metadata": {},
   "outputs": [
    {
     "name": "stderr",
     "output_type": "stream",
     "text": [
      "/Users/lfuhrmann/Library/Python/3.9/lib/python/site-packages/pingouin/distribution.py:1006: RuntimeWarning: divide by zero encountered in double_scalars\n",
      "  W = np.product(eig) / (eig.sum() / d) ** d\n"
     ]
    },
    {
     "data": {
      "text/html": [
       "<div>\n",
       "<style scoped>\n",
       "    .dataframe tbody tr th:only-of-type {\n",
       "        vertical-align: middle;\n",
       "    }\n",
       "\n",
       "    .dataframe tbody tr th {\n",
       "        vertical-align: top;\n",
       "    }\n",
       "\n",
       "    .dataframe thead th {\n",
       "        text-align: right;\n",
       "    }\n",
       "</style>\n",
       "<table border=\"1\" class=\"dataframe\">\n",
       "  <thead>\n",
       "    <tr style=\"text-align: right;\">\n",
       "      <th></th>\n",
       "      <th>Source</th>\n",
       "      <th>SS</th>\n",
       "      <th>DF1</th>\n",
       "      <th>DF2</th>\n",
       "      <th>MS</th>\n",
       "      <th>F</th>\n",
       "      <th>p-unc</th>\n",
       "      <th>np2</th>\n",
       "      <th>eps</th>\n",
       "    </tr>\n",
       "  </thead>\n",
       "  <tbody>\n",
       "    <tr>\n",
       "      <th>0</th>\n",
       "      <td>measure</td>\n",
       "      <td>3.036093e-08</td>\n",
       "      <td>1</td>\n",
       "      <td>4</td>\n",
       "      <td>3.036093e-08</td>\n",
       "      <td>28.017623</td>\n",
       "      <td>0.006115</td>\n",
       "      <td>0.875069</td>\n",
       "      <td>NaN</td>\n",
       "    </tr>\n",
       "    <tr>\n",
       "      <th>1</th>\n",
       "      <td>passage</td>\n",
       "      <td>6.719174e-09</td>\n",
       "      <td>2</td>\n",
       "      <td>8</td>\n",
       "      <td>3.359587e-09</td>\n",
       "      <td>1.856742</td>\n",
       "      <td>0.217578</td>\n",
       "      <td>0.317026</td>\n",
       "      <td>0.802816</td>\n",
       "    </tr>\n",
       "    <tr>\n",
       "      <th>2</th>\n",
       "      <td>Interaction</td>\n",
       "      <td>1.943572e-09</td>\n",
       "      <td>2</td>\n",
       "      <td>8</td>\n",
       "      <td>9.717859e-10</td>\n",
       "      <td>0.537077</td>\n",
       "      <td>0.604137</td>\n",
       "      <td>0.118375</td>\n",
       "      <td>NaN</td>\n",
       "    </tr>\n",
       "  </tbody>\n",
       "</table>\n",
       "</div>"
      ],
      "text/plain": [
       "        Source            SS  DF1  DF2            MS          F     p-unc  \\\n",
       "0      measure  3.036093e-08    1    4  3.036093e-08  28.017623  0.006115   \n",
       "1      passage  6.719174e-09    2    8  3.359587e-09   1.856742  0.217578   \n",
       "2  Interaction  1.943572e-09    2    8  9.717859e-10   0.537077  0.604137   \n",
       "\n",
       "        np2       eps  \n",
       "0  0.875069       NaN  \n",
       "1  0.317026  0.802816  \n",
       "2  0.118375       NaN  "
      ]
     },
     "execution_count": 130,
     "metadata": {},
     "output_type": "execute_result"
    }
   ],
   "source": [
    "\n",
    "res = pg.mixed_anova(dv='pi', \n",
    "                     within='passage', \n",
    "                     between='measure',\n",
    "                     subject='id', \n",
    "                     data=df_pop_long_mean, \n",
    "                 )\n",
    "\n",
    "res"
   ]
  },
  {
   "cell_type": "code",
   "execution_count": null,
   "id": "df4f3480",
   "metadata": {},
   "outputs": [],
   "source": []
  },
  {
   "cell_type": "code",
   "execution_count": null,
   "id": "534cb2b6",
   "metadata": {},
   "outputs": [],
   "source": []
  }
 ],
 "metadata": {
  "kernelspec": {
   "display_name": "Python 3 (ipykernel)",
   "language": "python",
   "name": "python3"
  },
  "language_info": {
   "codemirror_mode": {
    "name": "ipython",
    "version": 3
   },
   "file_extension": ".py",
   "mimetype": "text/x-python",
   "name": "python",
   "nbconvert_exporter": "python",
   "pygments_lexer": "ipython3",
   "version": "3.9.0"
  }
 },
 "nbformat": 4,
 "nbformat_minor": 5
}
